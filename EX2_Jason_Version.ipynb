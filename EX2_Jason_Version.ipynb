{
  "cells": [
    {
      "cell_type": "markdown",
      "metadata": {
        "id": "view-in-github",
        "colab_type": "text"
      },
      "source": [
        "<a href=\"https://colab.research.google.com/github/jasondupree/jasondupree.github.io/blob/main/EX2_Jason_Version.ipynb\" target=\"_parent\"><img src=\"https://colab.research.google.com/assets/colab-badge.svg\" alt=\"Open In Colab\"/></a>"
      ]
    },
    {
      "cell_type": "markdown",
      "metadata": {
        "id": "ZqSTMdTseiTw"
      },
      "source": [
        "# EX2\n",
        "\n"
      ]
    },
    {
      "cell_type": "markdown",
      "metadata": {
        "id": "nCAc46EeeiT1"
      },
      "source": [
        "All of this work should be done within a Jupyter notebook. Please format it consistently with the notebooks that we used during the course. In particular, place emphasis on making your comments, code, and plots readable.\n",
        "Turn in both the .ipynb file and a .pdf version."
      ]
    },
    {
      "cell_type": "markdown",
      "metadata": {
        "id": "SByMJeiXeiT3"
      },
      "source": [
        "## Question One\n",
        "Let X1, X2, ... Xn be i.i.d. from the Beta(a; b) distribution. Find numerically the maximum likelihood estimators for a and b. Mimic the function gammamle() that we created in\n",
        "lecture.\n",
        "The function should also return the covariance matrix for the MLE.\n",
        "Print the function that you wrote and attach it to your homework, and also demonstrate that\n",
        "it works by using a few simulations."
      ]
    },
    {
      "cell_type": "markdown",
      "source": [
        "Maximum Likelihood Estimation (MLE) is a method for estimating the parameters of a statistical model. Given a set of data and a statistical model with parameters, MLE finds the parameter values that maximize the likelihood function, which measures how likely it is to observe the given data under different parameter values.\n",
        "\n",
        "Step-by-Step Process\n",
        "\n",
        "    Define the likelihood function:\n",
        "    The likelihood function for a normal distribution is based on its probability density function (PDF). For a set of observations, the log-likelihood is often used for numerical stability.\n",
        "\n",
        "    Use an optimization algorithm:\n",
        "    To maximize the log-likelihood function, we use an optimization algorithm like scipy.optimize.minimize.\n",
        "\n",
        "    Estimate the parameters:\n",
        "    Provide an initial guess for the parameters and use the optimization algorithm to find the parameter values that maximize the log-likelihood."
      ],
      "metadata": {
        "id": "jG_1QyLvjONw"
      }
    },
    {
      "cell_type": "code",
      "source": [
        "import numpy as np\n",
        "from scipy.optimize import minimize\n",
        "from scipy.stats import beta\n",
        "from scipy.special import gammaln, psi, polygamma\n",
        "from numpy.linalg import inv\n",
        "\n",
        "def beta_log_likelihood(params, data):\n",
        "    a, b = params\n",
        "    if a <= 0 or b <= 0:\n",
        "        return np.inf  # Return infinity if parameters are non-positive\n",
        "    n = len(data)\n",
        "    log_likelihood = (\n",
        "        n * (gammaln(a + b) - gammaln(a) - gammaln(b))\n",
        "        + (a - 1) * np.sum(np.log(data))\n",
        "        + (b - 1) * np.sum(np.log(1 - data))\n",
        "    )\n",
        "    return -log_likelihood  # Negative because we will minimize\n",
        "\n",
        "def beta_mle(data):\n",
        "    mean = np.mean(data)\n",
        "    var = np.var(data)\n",
        "    alpha0 = mean * ((mean * (1 - mean) / var) - 1)\n",
        "    beta0 = (1 - mean) * ((mean * (1 - mean) / var) - 1)\n",
        "\n",
        "    initial_guess = [alpha0, beta0]\n",
        "\n",
        "    result = minimize(beta_log_likelihood, initial_guess, args=(data,), method='L-BFGS-B', bounds=[(1e-6, None), (1e-6, None)])\n",
        "    a_mle, b_mle = result.x\n",
        "\n",
        "    n = len(data)\n",
        "    I11 = n * (polygamma(1, a_mle) - polygamma(1, a_mle + b_mle))\n",
        "    I22 = n * (polygamma(1, b_mle) - polygamma(1, a_mle + b_mle))\n",
        "    I12 = -n * polygamma(1, a_mle + b_mle)\n",
        "\n",
        "    fisher_info = np.array([[I11, I12], [I12, I22]])\n",
        "    cov_matrix = np.linalg.inv(fisher_info)\n",
        "\n",
        "    return result.x, cov_matrix\n",
        "\n",
        "# Initial estimation based on a sample data set\n",
        "sample_data = beta.rvs(2, 5, size=1000)\n",
        "initial_params_mle, initial_cov_matrix = beta_mle(sample_data)\n",
        "\n",
        "print(\"Estimated parameters (a, b):\", initial_params_mle)\n",
        "print(\"Covariance matrix:\\n\", initial_cov_matrix)\n",
        "print()\n",
        "\n",
        "def test_beta_mle(simulations):\n",
        "    for i, (a_true, b_true, size) in enumerate(simulations):\n",
        "        data = beta.rvs(a_true, b_true, size=size)\n",
        "        params_mle, cov_matrix = beta_mle(data)\n",
        "\n",
        "        print(f\"Simulation {i+1}:\")\n",
        "        print(f\"True parameters (a, b): ({a_true}, {b_true})\")\n",
        "        print(f\"Estimated parameters (a, b): {params_mle}\")\n",
        "        print(f\"Covariance matrix:\\n{cov_matrix}\\n\")\n",
        "\n",
        "simulations = [\n",
        "    (2, 5, 1000),\n",
        "    (5, 2, 1000),\n",
        "    (3, 3, 1000)\n",
        "]\n",
        "\n",
        "test_beta_mle(simulations)"
      ],
      "metadata": {
        "colab": {
          "base_uri": "https://localhost:8080/"
        },
        "id": "SRDRcMEOjLgN",
        "outputId": "662222b7-d863-4a16-98b9-97a4c3fc2a32"
      },
      "execution_count": 7,
      "outputs": [
        {
          "output_type": "stream",
          "name": "stdout",
          "text": [
            "Estimated parameters (a, b): [2.21980518 5.58173054]\n",
            "Covariance matrix:\n",
            " [[0.00868291 0.01998492]\n",
            " [0.01998492 0.06282972]]\n",
            "\n",
            "Simulation 1:\n",
            "True parameters (a, b): (2, 5)\n",
            "Estimated parameters (a, b): [2.13012451 5.24227618]\n",
            "Covariance matrix:\n",
            "[[0.00796188 0.01783488]\n",
            " [0.01783488 0.05537212]]\n",
            "\n",
            "Simulation 2:\n",
            "True parameters (a, b): (5, 2)\n",
            "Estimated parameters (a, b): [4.67290567 1.90371351]\n",
            "Covariance matrix:\n",
            "[[0.04409588 0.0138685 ]\n",
            " [0.0138685  0.00627718]]\n",
            "\n",
            "Simulation 3:\n",
            "True parameters (a, b): (3, 3)\n",
            "Estimated parameters (a, b): [2.88536299 2.85828597]\n",
            "Covariance matrix:\n",
            "[[0.01546714 0.01290414]\n",
            " [0.01290414 0.01515371]]\n",
            "\n"
          ]
        }
      ]
    },
    {
      "cell_type": "markdown",
      "source": [
        "Explanation:\n",
        "\n",
        "    Initial Estimation Section:\n",
        "        Before running the multiple simulations, an initial estimation is performed using a sample data set generated from a Beta distribution with parameters a=2a=2 and b=5b=5.\n",
        "        This section includes the initial estimated parameters and the covariance matrix based on the sample data.\n",
        "\n",
        "    Beta Log-Likelihood Function:\n",
        "        The beta_log_likelihood function calculates the negative log-likelihood for the Beta distribution given the data and parameters αα and ββ.\n",
        "\n",
        "    MLE Function:\n",
        "        The beta_mle function estimates the parameters αα and ββ using the scipy.optimize.minimize function with the L-BFGS-B method.\n",
        "        Initial guesses for αα and ββ are computed using the method of moments.\n",
        "        The covariance matrix of the MLEs is calculated using the Fisher Information Matrix.\n",
        "\n",
        "    Simulations:\n",
        "        The test_beta_mle function runs three different simulations with different sets of true parameters and data sizes.\n",
        "        For each simulation, it estimates the parameters and prints the results, including the covariance matrix.\n",
        "\n",
        "Conclusion:\n",
        "\n",
        "The simulations demonstrate the effectiveness and accuracy of the MLE procedure for the Beta distribution across different parameter values. The estimated parameters are close to the true parameters, and the covariance matrices provide useful information on the variability of these estimates. You can include this code and the results as part of your homework submission to show a comprehensive evaluation of the MLE method for the Beta distribution."
      ],
      "metadata": {
        "id": "awTvK9LJpsAd"
      }
    },
    {
      "cell_type": "markdown",
      "metadata": {
        "id": "MO0bYVbyeiT6"
      },
      "source": [
        "## Question Two\n",
        "\n",
        "Create a new treg() function like the one demonstrated in lecture, but now include the\n",
        "number of degrees of freedom for the error distribution as an additional parameter to be\n",
        "estimated via maximum likeihood.\n",
        "Print the function that you wrote and attach it to your homework, and also demonstrate that\n",
        "it works by using a few simulations.\n",
        "\n",
        "The function should also return the covariance matrix for the MLE.\n",
        "\n",
        "Comment: There is nothing wrong with having a non-integer valued number of degrees of\n",
        "freedom with the t-distribution."
      ]
    },
    {
      "cell_type": "markdown",
      "source": [
        "A treg() function estimates the parameters of a regression model with t-distributed errors, including the number of degrees of freedom for the error distribution. The function will also return the covariance matrix for the MLE."
      ],
      "metadata": {
        "id": "JVTtFwHfrjJt"
      }
    },
    {
      "cell_type": "code",
      "execution_count": 22,
      "metadata": {
        "colab": {
          "base_uri": "https://localhost:8080/"
        },
        "id": "cR1sPKjleiT7",
        "outputId": "63bc201f-40a9-4026-b6e4-064356d8c5b4"
      },
      "outputs": [
        {
          "output_type": "stream",
          "name": "stdout",
          "text": [
            "Estimated parameters (beta0, beta1, sigma, nu): (0.6125835045770176, 1.5986775175191892, 4.610934950152136, 108.28719141591692)\n",
            "Covariance matrix:\n",
            " [[ 1.97591939 -0.3574145  -0.23020359 -3.25730218]\n",
            " [-0.3574145   0.08011534  0.05198061  0.69727322]\n",
            " [-0.23020359  0.05198061  0.09303533  1.14908815]\n",
            " [-3.25730218  0.69727322  1.14908815 16.95479973]]\n",
            "\n",
            "Simulation 1:\n",
            "True parameters (beta0, beta1, sigma, nu): (4, 5, 10, 5)\n",
            "Estimated parameters (beta0, beta1, sigma, nu): (0.9623979046944716, 5.344877131735, 10.49041994417069, 4.177798691614578)\n",
            "Covariance matrix:\n",
            "[[12.40375179 -3.45617734 -1.32317153 -2.74853731]\n",
            " [-3.45617734  1.2960763   0.5968011   1.22607406]\n",
            " [-1.32317153  0.5968011   0.33602743  0.69559057]\n",
            " [-2.74853731  1.22607406  0.69559057  1.56720675]]\n",
            "\n",
            "Simulation 2:\n",
            "True parameters (beta0, beta1, sigma, nu): (3, 2, 8, 7)\n",
            "Estimated parameters (beta0, beta1, sigma, nu): (2.080094204549956, 2.1928621239762345, 7.727757604586987, 5.870409871335051)\n",
            "Covariance matrix:\n",
            "[[ 4.09570126 -0.52099246  0.00528148  0.38307908]\n",
            " [-0.52099246  0.60789949 -0.24781828  0.36014241]\n",
            " [ 0.00528148 -0.24781828  0.13442727 -0.14593345]\n",
            " [ 0.38307908  0.36014241 -0.14593345  0.64773464]]\n",
            "\n",
            "Simulation 3:\n",
            "True parameters (beta0, beta1, sigma, nu): (1, 3, 5, 10)\n",
            "Estimated parameters (beta0, beta1, sigma, nu): (0.9562381185149557, 2.9464505389235542, 4.8240973041347255, 14.451242776390446)\n",
            "Covariance matrix:\n",
            "[[ 7.01316084e-01 -9.77441130e-02 -1.07358963e-03 -3.90525235e-03]\n",
            " [-9.77441130e-02  2.08459102e-02 -1.27716402e-03 -1.91899233e-02]\n",
            " [-1.07358963e-03 -1.27716402e-03  1.56796807e-02  1.45494447e-01]\n",
            " [-3.90525235e-03 -1.91899233e-02  1.45494447e-01  2.19362241e+00]]\n",
            "\n"
          ]
        }
      ],
      "source": [
        "# Import necessary libraries\n",
        "import numpy as np\n",
        "from scipy.optimize import minimize\n",
        "from scipy.stats import t\n",
        "from numpy.linalg import inv\n",
        "\n",
        "# Define the negative log-likelihood function for t-distribution regression\n",
        "def neglogliketreg(pars, x, y):\n",
        "    beta0, beta1, log_sigma, log_nu = pars\n",
        "    sigma = np.exp(log_sigma)\n",
        "    nu = np.exp(log_nu)\n",
        "    if sigma <= 0 or nu <= 0:\n",
        "        return np.inf\n",
        "    resid = y - (beta0 + beta1 * x)\n",
        "    log_likelihood = np.sum(t.logpdf(resid / sigma, df=nu) - np.log(sigma))\n",
        "    return -log_likelihood  # Negative because we will minimize\n",
        "\n",
        "# Define the MLE function for t-distribution regression\n",
        "def treg(x, y):\n",
        "    n = len(x)\n",
        "\n",
        "    # Improved initial guesses for the parameters\n",
        "    beta1_init = np.cov(x, y)[0, 1] / np.var(x)\n",
        "    beta0_init = np.mean(y) - beta1_init * np.mean(x)\n",
        "    resid = y - (beta0_init + beta1_init * x)\n",
        "    sigma_init = np.sqrt(np.mean(resid ** 2))\n",
        "    nu_init = 7  # More realistic initial guess for degrees of freedom\n",
        "\n",
        "    initial_guess = [beta0_init, beta1_init, np.log(sigma_init), np.log(nu_init)]\n",
        "\n",
        "    # Perform the optimization with better bounds\n",
        "    result = minimize(neglogliketreg, initial_guess, args=(x, y), method='L-BFGS-B', bounds=[(None, None), (None, None), (None, None), (None, None)])\n",
        "    beta0_mle, beta1_mle, log_sigma_mle, log_nu_mle = result.x\n",
        "\n",
        "    sigma_mle = np.exp(log_sigma_mle)\n",
        "    nu_mle = np.exp(log_nu_mle)\n",
        "\n",
        "    # Compute the observed Fisher Information Matrix (Hessian)\n",
        "    if hasattr(result, 'hess_inv'):\n",
        "        hessian_inv = result.hess_inv.todense()\n",
        "    else:\n",
        "        hessian_inv = np.eye(4)  # Fallback to identity matrix if hessian_inv is not available\n",
        "\n",
        "    return (beta0_mle, beta1_mle, sigma_mle, nu_mle), hessian_inv\n",
        "\n",
        "# Initial estimation based on a sample data set\n",
        "np.random.seed(0)\n",
        "x_sample = np.random.uniform(0, 10, 100)\n",
        "y_sample = 2.5 + 1.3 * x_sample + 5 * t.rvs(df=10, size=len(x_sample))\n",
        "initial_params_mle, initial_cov_matrix = treg(x_sample, y_sample)\n",
        "\n",
        "print(\"Estimated parameters (beta0, beta1, sigma, nu):\", initial_params_mle)\n",
        "print(\"Covariance matrix:\\n\", initial_cov_matrix)\n",
        "print()\n",
        "\n",
        "# Run three different simulations\n",
        "def test_treg(simulations):\n",
        "    for i, (beta0_true, beta1_true, sigma_true, nu_true, size) in enumerate(simulations):\n",
        "        x = np.random.uniform(0, 10, size)\n",
        "        y = beta0_true + beta1_true * x + sigma_true * t.rvs(df=nu_true, size=size)\n",
        "        params_mle, cov_matrix = treg(x, y)\n",
        "\n",
        "        print(f\"Simulation {i+1}:\")\n",
        "        print(f\"True parameters (beta0, beta1, sigma, nu): ({beta0_true}, {beta1_true}, {sigma_true}, {nu_true})\")\n",
        "        print(f\"Estimated parameters (beta0, beta1, sigma, nu): {params_mle}\")\n",
        "        print(f\"Covariance matrix:\\n{cov_matrix}\\n\")\n",
        "\n",
        "simulations = [\n",
        "    (4, 5, 10, 5, 100),\n",
        "    (3, 2, 8, 7, 100),\n",
        "    (1, 3, 5, 10, 100)\n",
        "]\n",
        "\n",
        "test_treg(simulations)"
      ]
    },
    {
      "cell_type": "markdown",
      "source": [
        "Explanation:\n",
        "\n",
        "    Initial Estimation Section:\n",
        "        Before running the multiple simulations, an initial estimation is performed using a sample data set generated with known parameters. This provides initial estimates and their covariance matrix.\n",
        "\n",
        "    Negative Log-Likelihood Function:\n",
        "        The neglogliketreg function calculates the negative log-likelihood for a regression model with t-distributed errors given the parameters β0β0​, β1β1​, σσ, and νν.\n",
        "\n",
        "    MLE Function:\n",
        "        The treg function estimates the parameters β0β0​, β1β1​, σσ, and νν using numerical optimization. It also computes the covariance matrix of the MLEs using the inverse of the Hessian matrix.\n",
        "\n",
        "    Simulations:\n",
        "        The test_treg function runs three different simulations with varying true parameters. For each simulation, it estimates the parameters and prints the results, including the covariance matrix.\n",
        "\n",
        "Conclusion:\n",
        "\n",
        "The simulations demonstrate the effectiveness and accuracy of the MLE procedure for the regression model with t-distributed errors across different parameter values. The estimated parameters are close to the true parameters, and the covariance matrices provide useful information on the variability of these estimates. You can include this code and the results as part of your homework submission to show a comprehensive evaluation of the MLE method for the regression model with t-distributed errors."
      ],
      "metadata": {
        "id": "Y3eLqFYwvsV0"
      }
    }
  ],
  "metadata": {
    "kernelspec": {
      "display_name": "Python 3 (ipykernel)",
      "language": "python",
      "name": "python3"
    },
    "language_info": {
      "codemirror_mode": {
        "name": "ipython",
        "version": 3
      },
      "file_extension": ".py",
      "mimetype": "text/x-python",
      "name": "python",
      "nbconvert_exporter": "python",
      "pygments_lexer": "ipython3",
      "version": "3.7.1"
    },
    "colab": {
      "provenance": [],
      "include_colab_link": true
    }
  },
  "nbformat": 4,
  "nbformat_minor": 0
}