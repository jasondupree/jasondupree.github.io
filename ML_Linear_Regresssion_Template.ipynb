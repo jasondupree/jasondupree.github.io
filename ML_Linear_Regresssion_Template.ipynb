{
  "nbformat": 4,
  "nbformat_minor": 0,
  "metadata": {
    "colab": {
      "provenance": [],
      "collapsed_sections": [
        "HosI5OY7uGXQ",
        "5SnTuKWluKEN",
        "6bE3R5AXuSdL",
        "FomQes1vuVB-",
        "oaMNYa70zFVz",
        "93Oteidieo83",
        "B5aa8-u75jaK",
        "PDifJQEp5ovT",
        "siYgtQRWnoKX",
        "BW75sQ-1n37A",
        "2nlg2-D2oWHH",
        "ZTrKqZhnoaDp",
        "CbGvdhkmpX1C",
        "8yhQKmwsUdIb",
        "Pg5cdLGzpqse",
        "ps7-wbDmp6n6",
        "5A49fsSIYiim",
        "IZeax7fEfgy7",
        "czLLfTRzqBSz",
        "VuM6VHtNqNim",
        "hgRaT_FCqYbS",
        "yUkXbJJwqaJ5",
        "hVQdmcBtqdXZ",
        "WSXIL3qvrIXL",
        "BuFXkSLUKhiA",
        "Od2JxN4fMbyC",
        "6I-fmw7WrIXR",
        "ij4AUbeMrIXY",
        "4GyObWHJrIXd",
        "avGT3DmurIXl",
        "xJ3_PFE1sMYS"
      ],
      "authorship_tag": "ABX9TyN08XbyzfXd8stQsVobFFvv",
      "include_colab_link": true
    },
    "kernelspec": {
      "name": "python3",
      "display_name": "Python 3"
    },
    "language_info": {
      "name": "python"
    }
  },
  "cells": [
    {
      "cell_type": "markdown",
      "metadata": {
        "id": "view-in-github",
        "colab_type": "text"
      },
      "source": [
        "<a href=\"https://colab.research.google.com/github/jasondupree/jasondupree.github.io/blob/main/ML_Linear_Regresssion_Template.ipynb\" target=\"_parent\"><img src=\"https://colab.research.google.com/assets/colab-badge.svg\" alt=\"Open In Colab\"/></a>"
      ]
    },
    {
      "cell_type": "markdown",
      "source": [
        "# **Notebook Preparation**"
      ],
      "metadata": {
        "id": "HosI5OY7uGXQ"
      }
    },
    {
      "cell_type": "markdown",
      "source": [
        "## Mount Drive and Update Display"
      ],
      "metadata": {
        "id": "5SnTuKWluKEN"
      }
    },
    {
      "cell_type": "code",
      "execution_count": null,
      "metadata": {
        "colab": {
          "base_uri": "https://localhost:8080/"
        },
        "id": "MR3mXm4nY7Ul",
        "outputId": "1e1e6873-0c34-499b-f56f-7f28c4b648fb"
      },
      "outputs": [
        {
          "output_type": "stream",
          "name": "stdout",
          "text": [
            "Drive already mounted at /content/drive; to attempt to forcibly remount, call drive.mount(\"/content/drive\", force_remount=True).\n"
          ]
        }
      ],
      "source": [
        "from google.colab import drive\n",
        "drive.mount('/content/drive')\n",
        "\n",
        "pd.set_option('display.max_columns', None)  # Ensures all columns are displayed\n",
        "pd.set_option('display.width', None)        # Utilizes the maximum width of your display\n",
        "\n",
        "from IPython.display import display, HTML"
      ]
    },
    {
      "cell_type": "markdown",
      "source": [
        "## Import Libraries"
      ],
      "metadata": {
        "id": "6bE3R5AXuSdL"
      }
    },
    {
      "cell_type": "code",
      "source": [
        "import pandas as pd\n",
        "import matplotlib.pyplot as plt\n",
        "import numpy as np\n",
        "from sklearn.model_selection import train_test_split, cross_val_score, KFold\n",
        "from sklearn.linear_model import LinearRegression, Lasso, Ridge, LassoCV, RidgeCV\n",
        "from sklearn.metrics import mean_squared_error, mean_absolute_error, r2_score\n",
        "from sklearn.preprocessing import StandardScaler, OneHotEncoder\n",
        "from sklearn.compose import ColumnTransformer\n",
        "from sklearn.pipeline import Pipeline\n",
        "import warnings\n",
        "from sklearn.exceptions import ConvergenceWarning\n",
        "\n",
        "# Suppress ConvergenceWarning for this context\n",
        "warnings.simplefilter('ignore', ConvergenceWarning)"
      ],
      "metadata": {
        "id": "QnltdWVdbTBW"
      },
      "execution_count": null,
      "outputs": []
    },
    {
      "cell_type": "markdown",
      "source": [
        "## Import Data"
      ],
      "metadata": {
        "id": "FomQes1vuVB-"
      }
    },
    {
      "cell_type": "code",
      "source": [
        "# Adjust the path to the location of your CSV file\n",
        "file_path = '/content/drive/My Drive/Colab Notebooks/Machine Learning/Projects/HW1/climate_change.csv'\n",
        "climate_df = pd.read_csv(file_path)\n",
        "\n",
        "# Display the first few rows of the DataFrame\n",
        "climate_df.head(3)"
      ],
      "metadata": {
        "colab": {
          "base_uri": "https://localhost:8080/",
          "height": 143
        },
        "id": "IVmDq8X9ubCs",
        "outputId": "8da91cbc-9d5e-49b5-9416-f02ba523de4c"
      },
      "execution_count": null,
      "outputs": [
        {
          "output_type": "execute_result",
          "data": {
            "text/plain": [
              "   Year  Month    MEI     CO2      CH4      N2O   CFC-11   CFC-12        TSI  Aerosols   Temp\n",
              "0  1983      5  2.556  345.96  1638.59  303.677  191.324  350.113  1366.1024    0.0863  0.109\n",
              "1  1983      6  2.167  345.52  1633.71  303.746  192.057  351.848  1366.1208    0.0794  0.118\n",
              "2  1983      7  1.741  344.15  1633.22  303.795  192.818  353.725  1366.2850    0.0731  0.137"
            ],
            "text/html": [
              "\n",
              "  <div id=\"df-e34c96fa-681b-4129-9191-d5014997a21d\" class=\"colab-df-container\">\n",
              "    <div>\n",
              "<style scoped>\n",
              "    .dataframe tbody tr th:only-of-type {\n",
              "        vertical-align: middle;\n",
              "    }\n",
              "\n",
              "    .dataframe tbody tr th {\n",
              "        vertical-align: top;\n",
              "    }\n",
              "\n",
              "    .dataframe thead th {\n",
              "        text-align: right;\n",
              "    }\n",
              "</style>\n",
              "<table border=\"1\" class=\"dataframe\">\n",
              "  <thead>\n",
              "    <tr style=\"text-align: right;\">\n",
              "      <th></th>\n",
              "      <th>Year</th>\n",
              "      <th>Month</th>\n",
              "      <th>MEI</th>\n",
              "      <th>CO2</th>\n",
              "      <th>CH4</th>\n",
              "      <th>N2O</th>\n",
              "      <th>CFC-11</th>\n",
              "      <th>CFC-12</th>\n",
              "      <th>TSI</th>\n",
              "      <th>Aerosols</th>\n",
              "      <th>Temp</th>\n",
              "    </tr>\n",
              "  </thead>\n",
              "  <tbody>\n",
              "    <tr>\n",
              "      <th>0</th>\n",
              "      <td>1983</td>\n",
              "      <td>5</td>\n",
              "      <td>2.556</td>\n",
              "      <td>345.96</td>\n",
              "      <td>1638.59</td>\n",
              "      <td>303.677</td>\n",
              "      <td>191.324</td>\n",
              "      <td>350.113</td>\n",
              "      <td>1366.1024</td>\n",
              "      <td>0.0863</td>\n",
              "      <td>0.109</td>\n",
              "    </tr>\n",
              "    <tr>\n",
              "      <th>1</th>\n",
              "      <td>1983</td>\n",
              "      <td>6</td>\n",
              "      <td>2.167</td>\n",
              "      <td>345.52</td>\n",
              "      <td>1633.71</td>\n",
              "      <td>303.746</td>\n",
              "      <td>192.057</td>\n",
              "      <td>351.848</td>\n",
              "      <td>1366.1208</td>\n",
              "      <td>0.0794</td>\n",
              "      <td>0.118</td>\n",
              "    </tr>\n",
              "    <tr>\n",
              "      <th>2</th>\n",
              "      <td>1983</td>\n",
              "      <td>7</td>\n",
              "      <td>1.741</td>\n",
              "      <td>344.15</td>\n",
              "      <td>1633.22</td>\n",
              "      <td>303.795</td>\n",
              "      <td>192.818</td>\n",
              "      <td>353.725</td>\n",
              "      <td>1366.2850</td>\n",
              "      <td>0.0731</td>\n",
              "      <td>0.137</td>\n",
              "    </tr>\n",
              "  </tbody>\n",
              "</table>\n",
              "</div>\n",
              "    <div class=\"colab-df-buttons\">\n",
              "\n",
              "  <div class=\"colab-df-container\">\n",
              "    <button class=\"colab-df-convert\" onclick=\"convertToInteractive('df-e34c96fa-681b-4129-9191-d5014997a21d')\"\n",
              "            title=\"Convert this dataframe to an interactive table.\"\n",
              "            style=\"display:none;\">\n",
              "\n",
              "  <svg xmlns=\"http://www.w3.org/2000/svg\" height=\"24px\" viewBox=\"0 -960 960 960\">\n",
              "    <path d=\"M120-120v-720h720v720H120Zm60-500h600v-160H180v160Zm220 220h160v-160H400v160Zm0 220h160v-160H400v160ZM180-400h160v-160H180v160Zm440 0h160v-160H620v160ZM180-180h160v-160H180v160Zm440 0h160v-160H620v160Z\"/>\n",
              "  </svg>\n",
              "    </button>\n",
              "\n",
              "  <style>\n",
              "    .colab-df-container {\n",
              "      display:flex;\n",
              "      gap: 12px;\n",
              "    }\n",
              "\n",
              "    .colab-df-convert {\n",
              "      background-color: #E8F0FE;\n",
              "      border: none;\n",
              "      border-radius: 50%;\n",
              "      cursor: pointer;\n",
              "      display: none;\n",
              "      fill: #1967D2;\n",
              "      height: 32px;\n",
              "      padding: 0 0 0 0;\n",
              "      width: 32px;\n",
              "    }\n",
              "\n",
              "    .colab-df-convert:hover {\n",
              "      background-color: #E2EBFA;\n",
              "      box-shadow: 0px 1px 2px rgba(60, 64, 67, 0.3), 0px 1px 3px 1px rgba(60, 64, 67, 0.15);\n",
              "      fill: #174EA6;\n",
              "    }\n",
              "\n",
              "    .colab-df-buttons div {\n",
              "      margin-bottom: 4px;\n",
              "    }\n",
              "\n",
              "    [theme=dark] .colab-df-convert {\n",
              "      background-color: #3B4455;\n",
              "      fill: #D2E3FC;\n",
              "    }\n",
              "\n",
              "    [theme=dark] .colab-df-convert:hover {\n",
              "      background-color: #434B5C;\n",
              "      box-shadow: 0px 1px 3px 1px rgba(0, 0, 0, 0.15);\n",
              "      filter: drop-shadow(0px 1px 2px rgba(0, 0, 0, 0.3));\n",
              "      fill: #FFFFFF;\n",
              "    }\n",
              "  </style>\n",
              "\n",
              "    <script>\n",
              "      const buttonEl =\n",
              "        document.querySelector('#df-e34c96fa-681b-4129-9191-d5014997a21d button.colab-df-convert');\n",
              "      buttonEl.style.display =\n",
              "        google.colab.kernel.accessAllowed ? 'block' : 'none';\n",
              "\n",
              "      async function convertToInteractive(key) {\n",
              "        const element = document.querySelector('#df-e34c96fa-681b-4129-9191-d5014997a21d');\n",
              "        const dataTable =\n",
              "          await google.colab.kernel.invokeFunction('convertToInteractive',\n",
              "                                                    [key], {});\n",
              "        if (!dataTable) return;\n",
              "\n",
              "        const docLinkHtml = 'Like what you see? Visit the ' +\n",
              "          '<a target=\"_blank\" href=https://colab.research.google.com/notebooks/data_table.ipynb>data table notebook</a>'\n",
              "          + ' to learn more about interactive tables.';\n",
              "        element.innerHTML = '';\n",
              "        dataTable['output_type'] = 'display_data';\n",
              "        await google.colab.output.renderOutput(dataTable, element);\n",
              "        const docLink = document.createElement('div');\n",
              "        docLink.innerHTML = docLinkHtml;\n",
              "        element.appendChild(docLink);\n",
              "      }\n",
              "    </script>\n",
              "  </div>\n",
              "\n",
              "\n",
              "<div id=\"df-db78be01-4a00-496e-a5a1-5ce8bf895054\">\n",
              "  <button class=\"colab-df-quickchart\" onclick=\"quickchart('df-db78be01-4a00-496e-a5a1-5ce8bf895054')\"\n",
              "            title=\"Suggest charts\"\n",
              "            style=\"display:none;\">\n",
              "\n",
              "<svg xmlns=\"http://www.w3.org/2000/svg\" height=\"24px\"viewBox=\"0 0 24 24\"\n",
              "     width=\"24px\">\n",
              "    <g>\n",
              "        <path d=\"M19 3H5c-1.1 0-2 .9-2 2v14c0 1.1.9 2 2 2h14c1.1 0 2-.9 2-2V5c0-1.1-.9-2-2-2zM9 17H7v-7h2v7zm4 0h-2V7h2v10zm4 0h-2v-4h2v4z\"/>\n",
              "    </g>\n",
              "</svg>\n",
              "  </button>\n",
              "\n",
              "<style>\n",
              "  .colab-df-quickchart {\n",
              "      --bg-color: #E8F0FE;\n",
              "      --fill-color: #1967D2;\n",
              "      --hover-bg-color: #E2EBFA;\n",
              "      --hover-fill-color: #174EA6;\n",
              "      --disabled-fill-color: #AAA;\n",
              "      --disabled-bg-color: #DDD;\n",
              "  }\n",
              "\n",
              "  [theme=dark] .colab-df-quickchart {\n",
              "      --bg-color: #3B4455;\n",
              "      --fill-color: #D2E3FC;\n",
              "      --hover-bg-color: #434B5C;\n",
              "      --hover-fill-color: #FFFFFF;\n",
              "      --disabled-bg-color: #3B4455;\n",
              "      --disabled-fill-color: #666;\n",
              "  }\n",
              "\n",
              "  .colab-df-quickchart {\n",
              "    background-color: var(--bg-color);\n",
              "    border: none;\n",
              "    border-radius: 50%;\n",
              "    cursor: pointer;\n",
              "    display: none;\n",
              "    fill: var(--fill-color);\n",
              "    height: 32px;\n",
              "    padding: 0;\n",
              "    width: 32px;\n",
              "  }\n",
              "\n",
              "  .colab-df-quickchart:hover {\n",
              "    background-color: var(--hover-bg-color);\n",
              "    box-shadow: 0 1px 2px rgba(60, 64, 67, 0.3), 0 1px 3px 1px rgba(60, 64, 67, 0.15);\n",
              "    fill: var(--button-hover-fill-color);\n",
              "  }\n",
              "\n",
              "  .colab-df-quickchart-complete:disabled,\n",
              "  .colab-df-quickchart-complete:disabled:hover {\n",
              "    background-color: var(--disabled-bg-color);\n",
              "    fill: var(--disabled-fill-color);\n",
              "    box-shadow: none;\n",
              "  }\n",
              "\n",
              "  .colab-df-spinner {\n",
              "    border: 2px solid var(--fill-color);\n",
              "    border-color: transparent;\n",
              "    border-bottom-color: var(--fill-color);\n",
              "    animation:\n",
              "      spin 1s steps(1) infinite;\n",
              "  }\n",
              "\n",
              "  @keyframes spin {\n",
              "    0% {\n",
              "      border-color: transparent;\n",
              "      border-bottom-color: var(--fill-color);\n",
              "      border-left-color: var(--fill-color);\n",
              "    }\n",
              "    20% {\n",
              "      border-color: transparent;\n",
              "      border-left-color: var(--fill-color);\n",
              "      border-top-color: var(--fill-color);\n",
              "    }\n",
              "    30% {\n",
              "      border-color: transparent;\n",
              "      border-left-color: var(--fill-color);\n",
              "      border-top-color: var(--fill-color);\n",
              "      border-right-color: var(--fill-color);\n",
              "    }\n",
              "    40% {\n",
              "      border-color: transparent;\n",
              "      border-right-color: var(--fill-color);\n",
              "      border-top-color: var(--fill-color);\n",
              "    }\n",
              "    60% {\n",
              "      border-color: transparent;\n",
              "      border-right-color: var(--fill-color);\n",
              "    }\n",
              "    80% {\n",
              "      border-color: transparent;\n",
              "      border-right-color: var(--fill-color);\n",
              "      border-bottom-color: var(--fill-color);\n",
              "    }\n",
              "    90% {\n",
              "      border-color: transparent;\n",
              "      border-bottom-color: var(--fill-color);\n",
              "    }\n",
              "  }\n",
              "</style>\n",
              "\n",
              "  <script>\n",
              "    async function quickchart(key) {\n",
              "      const quickchartButtonEl =\n",
              "        document.querySelector('#' + key + ' button');\n",
              "      quickchartButtonEl.disabled = true;  // To prevent multiple clicks.\n",
              "      quickchartButtonEl.classList.add('colab-df-spinner');\n",
              "      try {\n",
              "        const charts = await google.colab.kernel.invokeFunction(\n",
              "            'suggestCharts', [key], {});\n",
              "      } catch (error) {\n",
              "        console.error('Error during call to suggestCharts:', error);\n",
              "      }\n",
              "      quickchartButtonEl.classList.remove('colab-df-spinner');\n",
              "      quickchartButtonEl.classList.add('colab-df-quickchart-complete');\n",
              "    }\n",
              "    (() => {\n",
              "      let quickchartButtonEl =\n",
              "        document.querySelector('#df-db78be01-4a00-496e-a5a1-5ce8bf895054 button');\n",
              "      quickchartButtonEl.style.display =\n",
              "        google.colab.kernel.accessAllowed ? 'block' : 'none';\n",
              "    })();\n",
              "  </script>\n",
              "</div>\n",
              "    </div>\n",
              "  </div>\n"
            ],
            "application/vnd.google.colaboratory.intrinsic+json": {
              "type": "dataframe",
              "variable_name": "climate_df",
              "summary": "{\n  \"name\": \"climate_df\",\n  \"rows\": 308,\n  \"fields\": [\n    {\n      \"column\": \"Year\",\n      \"properties\": {\n        \"dtype\": \"number\",\n        \"std\": 7,\n        \"min\": 1983,\n        \"max\": 2008,\n        \"num_unique_values\": 26,\n        \"samples\": [\n          1991,\n          1999,\n          1983\n        ],\n        \"semantic_type\": \"\",\n        \"description\": \"\"\n      }\n    },\n    {\n      \"column\": \"Month\",\n      \"properties\": {\n        \"dtype\": \"number\",\n        \"std\": 3,\n        \"min\": 1,\n        \"max\": 12,\n        \"num_unique_values\": 12,\n        \"samples\": [\n          3,\n          2,\n          5\n        ],\n        \"semantic_type\": \"\",\n        \"description\": \"\"\n      }\n    },\n    {\n      \"column\": \"MEI\",\n      \"properties\": {\n        \"dtype\": \"number\",\n        \"std\": 0.9379184591591947,\n        \"min\": -1.635,\n        \"max\": 3.001,\n        \"num_unique_values\": 294,\n        \"samples\": [\n          0.033,\n          0.131,\n          -0.468\n        ],\n        \"semantic_type\": \"\",\n        \"description\": \"\"\n      }\n    },\n    {\n      \"column\": \"CO2\",\n      \"properties\": {\n        \"dtype\": \"number\",\n        \"std\": 12.647124861976316,\n        \"min\": 340.17,\n        \"max\": 388.5,\n        \"num_unique_values\": 298,\n        \"samples\": [\n          364.09,\n          382.16,\n          379.76\n        ],\n        \"semantic_type\": \"\",\n        \"description\": \"\"\n      }\n    },\n    {\n      \"column\": \"CH4\",\n      \"properties\": {\n        \"dtype\": \"number\",\n        \"std\": 46.05167823751581,\n        \"min\": 1629.89,\n        \"max\": 1814.18,\n        \"num_unique_values\": 303,\n        \"samples\": [\n          1779.0,\n          1766.58,\n          1729.78\n        ],\n        \"semantic_type\": \"\",\n        \"description\": \"\"\n      }\n    },\n    {\n      \"column\": \"N2O\",\n      \"properties\": {\n        \"dtype\": \"number\",\n        \"std\": 5.225130729644339,\n        \"min\": 303.677,\n        \"max\": 322.182,\n        \"num_unique_values\": 304,\n        \"samples\": [\n          313.542,\n          311.533,\n          309.985\n        ],\n        \"semantic_type\": \"\",\n        \"description\": \"\"\n      }\n    },\n    {\n      \"column\": \"CFC-11\",\n      \"properties\": {\n        \"dtype\": \"number\",\n        \"std\": 20.231783175034032,\n        \"min\": 191.324,\n        \"max\": 271.494,\n        \"num_unique_values\": 307,\n        \"samples\": [\n          265.911,\n          246.043,\n          270.685\n        ],\n        \"semantic_type\": \"\",\n        \"description\": \"\"\n      }\n    },\n    {\n      \"column\": \"CFC-12\",\n      \"properties\": {\n        \"dtype\": \"number\",\n        \"std\": 57.826898833994946,\n        \"min\": 350.113,\n        \"max\": 543.813,\n        \"num_unique_values\": 307,\n        \"samples\": [\n          536.489,\n          444.729,\n          513.455\n        ],\n        \"semantic_type\": \"\",\n        \"description\": \"\"\n      }\n    },\n    {\n      \"column\": \"TSI\",\n      \"properties\": {\n        \"dtype\": \"number\",\n        \"std\": 0.3996095493561552,\n        \"min\": 1365.4261,\n        \"max\": 1367.3162,\n        \"num_unique_values\": 302,\n        \"samples\": [\n          1365.9614,\n          1366.3053,\n          1366.1615\n        ],\n        \"semantic_type\": \"\",\n        \"description\": \"\"\n      }\n    },\n    {\n      \"column\": \"Aerosols\",\n      \"properties\": {\n        \"dtype\": \"number\",\n        \"std\": 0.0290495698043303,\n        \"min\": 0.0016,\n        \"max\": 0.1494,\n        \"num_unique_values\": 155,\n        \"samples\": [\n          0.1494,\n          0.0028,\n          0.0122\n        ],\n        \"semantic_type\": \"\",\n        \"description\": \"\"\n      }\n    },\n    {\n      \"column\": \"Temp\",\n      \"properties\": {\n        \"dtype\": \"number\",\n        \"std\": 0.1790897682410269,\n        \"min\": -0.282,\n        \"max\": 0.739,\n        \"num_unique_values\": 242,\n        \"samples\": [\n          0.001,\n          0.232,\n          0.366\n        ],\n        \"semantic_type\": \"\",\n        \"description\": \"\"\n      }\n    }\n  ]\n}"
            }
          },
          "metadata": {},
          "execution_count": 174
        }
      ]
    },
    {
      "cell_type": "code",
      "source": [
        "file_path = '/content/drive/My Drive/Colab Notebooks/Machine Learning/Projects/HW1/baseball.csv'\n",
        "baseball_df = pd.read_csv(file_path)\n",
        "\n",
        "# Display the first few rows of the DataFrame\n",
        "print(baseball_df.head())"
      ],
      "metadata": {
        "colab": {
          "base_uri": "https://localhost:8080/"
        },
        "id": "Ylxg8baRvDAQ",
        "outputId": "5e0ea7fa-567d-4d1c-a912-2f9c354b59a1"
      },
      "execution_count": null,
      "outputs": [
        {
          "output_type": "stream",
          "name": "stdout",
          "text": [
            "   Salary  AtBats  Hits  HmRuns  Runs  RBIs  Walks  Years  CareerAtBats  CareerHits  CareerHmRuns  \\\n",
            "0    7125     315    81       7    24    38     39     14          3449         835            69   \n",
            "1    7200     479   130      18    66    72     76      3          1624         457            63   \n",
            "2    7500     496   141      20    65    78     37     11          5628        1575           225   \n",
            "3    1373     321    87      10    39    42     30      2           396         101            12   \n",
            "4   11250     594   169       4    74    51     35     11          4408        1133            19   \n",
            "\n",
            "   CareerRuns  CareerRBIs  CareerWalks  PutOuts  Assists  Errors League Division NewLeague  \n",
            "0         321         414          375      632       43      10      N        W         N  \n",
            "1         224         266          263      880       82      14      A        W         A  \n",
            "2         828         838          354      200       11       3      N        C         N  \n",
            "3          48          46           33      805       40       4      N        E         N  \n",
            "4         501         336          194      282      421      25      A        C         A  \n"
          ]
        }
      ]
    },
    {
      "cell_type": "markdown",
      "source": [
        "# **Definitions**"
      ],
      "metadata": {
        "id": "oaMNYa70zFVz"
      }
    },
    {
      "cell_type": "markdown",
      "source": [
        "## Definitions of Evaluation Metrics\n",
        "\n",
        "R² (Coefficient of Determination)\n",
        "- **R²** measures the proportion of the variance in the dependent variable that is predictable from the independent variables. It provides an indication of the goodness of fit of a model. An R² value of 1 indicates perfect prediction, while an R² value of 0 indicates that the model predicts as well as the mean of the target variable.\n",
        "\n",
        "In-Sample R²\n",
        "- **In-Sample R²** refers to the R² score calculated on the same dataset that was used to train the model. It measures how well the model fits the training data.\n",
        "  - *Example*: If a model trained on 2000-2010 weather data has an in-sample R² of 0.9, it means 90% of the variance in temperature during 2000-2010 is explained by the model.\n",
        "\n",
        "Out-of-Sample R²\n",
        "- **Out-of-Sample R²** is the R² score calculated on a separate dataset not used during training, often called the test set. It measures the model's predictive performance on new, unseen data.\n",
        "  - *Example*: If the same model is tested on 2011-2015 weather data and has an out-of-sample R² of 0.75, it means 75% of the variance in temperature during 2011-2015 is explained by the model.\n",
        "\n",
        "MSE (Mean Squared Error)\n",
        "- **MSE** is the average of the squares of the errors between the predicted and actual values. It provides a measure of the quality of an estimator; the smaller the MSE, the closer the predicted values are to the actual values.\n",
        "\n",
        "In-Sample MSE\n",
        "- **In-Sample MSE** is calculated by comparing the model's predictions on the training set to the actual values in the training set. It measures the average squared difference between estimated values and actual value in the training dataset.\n",
        "  - *Example*: If the in-sample MSE of our weather prediction model is 2, it means that, on average, the squared difference between the model’s temperature predictions and the actual temperatures during the training period is 2 degrees squared.\n",
        "\n",
        "Out-of-Sample MSE\n",
        "- **Out-of-Sample MSE** involves calculating the MSE for predictions made on data not included in the training set, typically the test set. It assesses how well the model predicts new, unseen data.\n",
        "  - *Example*: An out-of-sample MSE of 3 for the weather prediction model indicates that, on average, the squared difference between the model’s predictions and the actual temperatures during the test period is 3 degrees squared.\n",
        "\n",
        "MAE (Mean Absolute Error)\n",
        "- **MAE** is the average of the absolute errors between the predicted and actual values. It provides a linear score that represents the average magnitude of the errors in a set of predictions, without considering their direction.\n",
        "\n",
        "In-Sample MAE\n",
        "- **In-Sample MAE** measures the average magnitude of the errors between the predictions and actual values within the training dataset. It quantifies how close the predictions are to the outcomes.\n",
        "  - *Example*: An in-sample MAE of 1 degree means that, on average, the model’s temperature predictions during the training period are off by 1 degree from the actual temperatures.\n",
        "\n",
        "Out-of-Sample MAE\n",
        "- **Out-of-Sample MAE** is calculated by comparing the model’s predictions on the test set (or any other out-of-sample data) to the actual values of the test set. It indicates the average absolute error of predictions made on new, unseen data.\n",
        "  - *Example*: An out-of-sample MAE of 1.5 degrees for the weather prediction model suggests that, on average, the model’s predictions during the test period are 1.5 degrees away from the actual temperatures.\n"
      ],
      "metadata": {
        "id": "WkX5ioMyzJ0L"
      }
    },
    {
      "cell_type": "markdown",
      "source": [
        "# **Part A: Climate Change**\n",
        "\n"
      ],
      "metadata": {
        "id": "93Oteidieo83"
      }
    },
    {
      "cell_type": "markdown",
      "source": [
        "### **Problem A.1**"
      ],
      "metadata": {
        "id": "YCb9x_xVeQmm"
      }
    },
    {
      "cell_type": "markdown",
      "source": [
        "In this problem, we will attempt to study the relationship between average global tempera-\n",
        "ture and several other environmental factors that affect the climate. The file (available on\n",
        "Canvas) climate change.csv contains monthly climate data from May 1983 to December\n",
        "2008. You can (and should) familiarize yourself with the data in Excel. A brief description\n",
        "of all the variables can be found below.\n",
        "Variable Description\n",
        "Year Observation year\n",
        "Month Observation month, given as a numerical value (1 = January, 2 =\n",
        "February, 3 = March, etc.)\n",
        "Temp Difference in degrees Celsius between the average global temperature\n",
        "in that period, and a reference value\n",
        "CO2, N2O, CH4,\n",
        "CFC-11, CFC-12\n",
        "Atmospheric concentrations of carbon dioxide (CO2), nitrous ox-\n",
        "ide (N2O), methane (CH4), trichlorofluoromethane (CFC-11) and\n",
        "dichlorodifluoromethane (CFC-12), respectively. CO2, N2O and CH4\n",
        "are expressed in ppmv (parts per million by volume). CFC-11 and\n",
        "CFC-12 are expressed in ppbv (parts per billion by volume).\n",
        "Aerosols Mean stratospheric aerosol optical depth at 550 nm. This variable is\n",
        "linked to volcanoes, as volcanic eruptions result in new particles being\n",
        "added to the atmosphere, which affect how much of the sun’s energy is\n",
        "reflected back into space.\n",
        "TSI Total Solar Irradiance (TSI) in W/m2 (the rate at which the sun’s\n",
        "energy is deposited per unit area). Due to sunspots and other solar\n",
        "phenomena, the amount of energy that is given off by the sun varies\n",
        "substantially with time.\n",
        "MEI Multivariate El Nino Southern Oscillation index (MEI) – a measure of\n",
        "the strength of the El Nino/La Nina-Southern Oscillation (a weather\n",
        "effect in the Pacific Ocean that affects global temperatures).\n",
        "We are interested in studying whether and how changes in environmental factors predict\n",
        "future temperatures. To do this, first read the dataset climate change.csv into Python\n",
        "(do not forget to place this file in the same folder, usually /current, on Colab as your\n",
        "Python notebook). Then split the data into a training set, consisting of all the observations\n",
        "up to and including 2002, and a test set consisting of the remaining years."
      ],
      "metadata": {
        "id": "h1jR-jM4n_no"
      }
    },
    {
      "cell_type": "markdown",
      "source": [
        "#### **Problem A.1(a)**"
      ],
      "metadata": {
        "id": "fjKbLxA9nzmm"
      }
    },
    {
      "cell_type": "markdown",
      "source": [
        "Build a linear regression model to predict the dependent variable Temp, using CO2, CH4, N2O, CFC-11, CFC-12, Aerosols, TSI and MEI as features (Year and Month\n",
        "should NOT be used as features in the model). As always, use only the training set to train your model. What are the in-sample and out-of-sample R2, MSE, and MAE?"
      ],
      "metadata": {
        "id": "MjkncNEooJK_"
      }
    },
    {
      "cell_type": "markdown",
      "source": [
        "##### Functions"
      ],
      "metadata": {
        "id": "B5aa8-u75jaK"
      }
    },
    {
      "cell_type": "code",
      "source": [
        "# Resources\n",
        "# https://www.geeksforgeeks.org/how-to-do-train-test-split-using-sklearn-in-python/\n",
        "# https://stackoverflow.com/questions/64021917/splitting-test-training-data-for-scikit\n",
        "# https://scikit-learn.org/stable/modules/generated/sklearn.model_selection.train_test_split.html\n",
        "# https://365datascience.com/resources-center/templates/train-and-test-split-with-sklearn-in-python/\n",
        "\n",
        "# Base Functions\n",
        "\n",
        "def split_data(df, target, split_year):\n",
        "    \"\"\"Split the data into training and test sets based on a specified year.\"\"\"\n",
        "    train_df = df[df['Year'] <= split_year]\n",
        "    test_df = df[df['Year'] > split_year]\n",
        "    return train_df, test_df\n",
        "\n",
        "def prepare_features(df, features, target):\n",
        "    \"\"\"Prepare feature matrices and target vectors.\"\"\"\n",
        "    X = df[features]\n",
        "    y = df[target]\n",
        "    return X, y\n",
        "\n",
        "def build_and_train_model(X_train, y_train):\n",
        "    \"\"\"Build and train a linear regression model.\"\"\"\n",
        "    model = LinearRegression()\n",
        "    model.fit(X_train, y_train)\n",
        "    return model\n",
        "\n",
        "def make_predictions(model, X):\n",
        "    \"\"\"Use model to make predictions on given data.\"\"\"\n",
        "    predictions = model.predict(X)\n",
        "    return predictions\n",
        "\n",
        "def evaluate_model(y_true, predictions):\n",
        "    \"\"\"Evaluate the model's performance using R^2, MSE, and MAE.\"\"\"\n",
        "    r2 = r2_score(y_true, predictions)\n",
        "    mse = mean_squared_error(y_true, predictions)\n",
        "    mae = mean_absolute_error(y_true, predictions)\n",
        "    return r2, mse, mae\n",
        "\n",
        "def get_regression_coefficients(model, features):\n",
        "    \"\"\"Retrieve the regression coefficients from the model and match them to the features.\"\"\"\n",
        "    coefficients = model.coef_\n",
        "    feature_coefficients = dict(zip(features, coefficients))\n",
        "    return feature_coefficients\n",
        "\n",
        "def run_full_workflow(df, features, target, split_year):\n",
        "    \"\"\"Run the full workflow from splitting the data to evaluating the model.\"\"\"\n",
        "    train_df, test_df = split_data(df, target, split_year)\n",
        "    X_train, y_train = prepare_features(train_df, features, target)\n",
        "    X_test, y_test = prepare_features(test_df, features, target)\n",
        "\n",
        "    model = build_and_train_model(X_train, y_train)\n",
        "\n",
        "    coefficients = get_regression_coefficients(model, features)\n",
        "    print(\"Model Coefficients:\")\n",
        "    for feature, coef in coefficients.items():\n",
        "        print(f\"{feature}: {coef}\")\n",
        "\n",
        "    train_predictions = make_predictions(model, X_train)\n",
        "    test_predictions = make_predictions(model, X_test)\n",
        "\n",
        "    in_sample_eval = evaluate_model(y_train, train_predictions)\n",
        "    out_of_sample_eval = evaluate_model(y_test, test_predictions)\n",
        "\n",
        "    # Print Results\n",
        "    print('')\n",
        "    print('In-Sample Evaluation:')\n",
        "    print(f'R^2: {in_sample_eval[0]}')\n",
        "    print(f'MSE: {in_sample_eval[1]}')\n",
        "    print(f'MAE: {in_sample_eval[2]}\\n')\n",
        "\n",
        "    print('Out-of-Sample Evaluation:')\n",
        "    print(f'R^2: {out_of_sample_eval[0]}')\n",
        "    print(f'MSE: {out_of_sample_eval[1]}')\n",
        "    print(f'MAE: {out_of_sample_eval[2]}')"
      ],
      "metadata": {
        "id": "FivJeI524byk"
      },
      "execution_count": null,
      "outputs": []
    },
    {
      "cell_type": "markdown",
      "source": [
        "##### Execution"
      ],
      "metadata": {
        "id": "PDifJQEp5ovT"
      }
    },
    {
      "cell_type": "code",
      "source": [
        "# Parameters\n",
        "df = climate_df\n",
        "features = ['CO2', 'CH4', 'N2O', 'CFC-11', 'CFC-12', 'Aerosols', 'TSI', 'MEI']\n",
        "target = 'Temp'\n",
        "split_year = 2002\n",
        "\n",
        "# Run Composite Function\n",
        "run_full_workflow(df, features, target, split_year)"
      ],
      "metadata": {
        "colab": {
          "base_uri": "https://localhost:8080/"
        },
        "id": "LGg4nhqZ51Ci",
        "outputId": "08dd123f-a644-4b6d-b357-bfe4b1716f86"
      },
      "execution_count": null,
      "outputs": [
        {
          "output_type": "stream",
          "name": "stdout",
          "text": [
            "Model Coefficients:\n",
            "CO2: 0.006240775675446775\n",
            "CH4: 0.0002621893537342572\n",
            "N2O: -0.0348478074557769\n",
            "CFC-11: -0.008871949503481122\n",
            "CFC-12: 0.005484413031781651\n",
            "Aerosols: -1.6503652223299037\n",
            "TSI: 0.11939488977680172\n",
            "MEI: 0.06590087644525276\n",
            "\n",
            "In-Sample Evaluation:\n",
            "R^2: 0.6920595959984922\n",
            "MSE: 0.008731426409910665\n",
            "MAE: 0.0726091861293869\n",
            "\n",
            "Out-of-Sample Evaluation:\n",
            "R^2: -0.5413255834025499\n",
            "MSE: 0.01220697483513918\n",
            "MAE: 0.09312747891277101\n"
          ]
        }
      ]
    },
    {
      "cell_type": "markdown",
      "source": [
        "#### **Problem A.1(b)**"
      ],
      "metadata": {
        "id": "siYgtQRWnoKX"
      }
    },
    {
      "cell_type": "markdown",
      "source": [
        "Build another linear regression model, this time with only N2O, Aerosols, TSI, and MEI as features. What are the in-sample and out-of-sample R2, MSE, and MAE?"
      ],
      "metadata": {
        "id": "oF5oC78SoN_V"
      }
    },
    {
      "cell_type": "code",
      "source": [
        "# Parameters\n",
        "df = climate_df\n",
        "features = ['N2O', 'Aerosols', 'TSI', 'MEI']\n",
        "target = 'Temp'\n",
        "split_year = 2002\n",
        "\n",
        "# Run Composite Function\n",
        "run_full_workflow(df, features, target, split_year)"
      ],
      "metadata": {
        "colab": {
          "base_uri": "https://localhost:8080/"
        },
        "id": "c2dOIdVjoPCV",
        "outputId": "a36a702b-1770-41ec-a85a-ca4f91b1027a"
      },
      "execution_count": null,
      "outputs": [
        {
          "output_type": "stream",
          "name": "stdout",
          "text": [
            "Model Coefficients:\n",
            "N2O: 0.024276120902004268\n",
            "Aerosols: -1.724659707804915\n",
            "TSI: 0.0857704601846565\n",
            "MEI: 0.06549567580730808\n",
            "\n",
            "In-Sample Evaluation:\n",
            "R^2: 0.6490120806760422\n",
            "MSE: 0.009952007429105646\n",
            "MAE: 0.07666650280233138\n",
            "\n",
            "Out-of-Sample Evaluation:\n",
            "R^2: 0.20031861104556403\n",
            "MSE: 0.006333308611894022\n",
            "MAE: 0.06154027269393324\n"
          ]
        }
      ]
    },
    {
      "cell_type": "markdown",
      "source": [
        "#### **Problem A.1(c)**"
      ],
      "metadata": {
        "id": "BW75sQ-1n37A"
      }
    },
    {
      "cell_type": "markdown",
      "source": [
        "Between the two models built in parts (a) and (b), which performs better in-sample? Which performs better out-of-sample?"
      ],
      "metadata": {
        "id": "IajOmR5SoW4c"
      }
    },
    {
      "cell_type": "markdown",
      "source": [
        "**Better Performance In-Sample**\n",
        "*   Model 1 Performed Better\n",
        "*   Rationale: Model 1 performed better on the training data with a higher R^2 (0.692) and lower MSE and MAE (0.00996 and 0.0726, respectively).\n",
        "*   Note that Model 1 may be overfitting the training data, shown by the poor generalization to the test data - indicated by the negative R^2.\n",
        "\n",
        "**Better Performance Out-of-Sample**\n",
        "*   Model 2 Performed Better\n",
        "*   Rationale: Model 2 performed better on the testing data with a less negative R^2 (-0.208) and lower MSE and MAE (0.00633 and 0.0615, respectively)."
      ],
      "metadata": {
        "id": "Wp7Dc_vA2rDD"
      }
    },
    {
      "cell_type": "markdown",
      "source": [
        "#### **Problem A.1(d)**"
      ],
      "metadata": {
        "id": "2nlg2-D2oWHH"
      }
    },
    {
      "cell_type": "markdown",
      "source": [
        "For each of the two models built in parts (a) and (b), what was the regression coefficient for the N2O feature, and how should this coefficient be interpreted?"
      ],
      "metadata": {
        "id": "rfhFAeJGoY7r"
      }
    },
    {
      "cell_type": "markdown",
      "source": [
        "**Model A.1(a) N20 Regression Coefficient**\n",
        "\n",
        "*   **N2O:** -0.0348478074557769\n",
        "*   **Interpretation:** Holding all other variables constant, a one-unit increase in N20 (atmospheric concentration of nitrous oxide) is associated with a decrease of 0.349 degress Celsius in the average global temperature. The negative sign suggests an inverse relationship between N20 concentration and temperature in this model.\n",
        "\n",
        "**Model A.1(b) N20 Regression Coefficient**\n",
        "\n",
        "*   **N2O:** 0.024276120902004268\n",
        "*   **Interpretation:** Holding all other variables constant, a one-unit increase in N20 (atmospheric concentration of nitrous oxide) is associated with an increase of 0.024 degress Celsius in the average global temperature. The model suggests an direct relationship between N20 concentration and temperature in this model."
      ],
      "metadata": {
        "id": "u9gR1LtQAQvS"
      }
    },
    {
      "cell_type": "markdown",
      "source": [
        "#### **Problem A.1(e)**"
      ],
      "metadata": {
        "id": "ZTrKqZhnoaDp"
      }
    },
    {
      "cell_type": "markdown",
      "source": [
        "Given your responses to parts (c) and (d), which of the two models should you prefer to use moving forward?\n",
        "\n",
        "Hint: The current scientific opinion is that N2O is a greenhouse gas – a higher concentration traps more heat from the sun, and thus contributes to the heating of the Earth."
      ],
      "metadata": {
        "id": "H5W79y4VobtK"
      }
    },
    {
      "cell_type": "markdown",
      "source": [
        "Based on the above, **Model A.1(b) appears to be the better model**. Specifically, Model A.1(b) had a better out-of-sample R², which suggests it generalizes better to unseen data compared to Model A.1(a). Additionally, the inverse relationship for Model A.1(a) conflicts with our current scientific understanding that a higher concentration traps more heat from the sun, and thus contributes to the heating of the Earth."
      ],
      "metadata": {
        "id": "CZLVU8-4CoQ4"
      }
    },
    {
      "cell_type": "markdown",
      "source": [
        "# **Part B: Baseball Analytics**\n"
      ],
      "metadata": {
        "id": "CbGvdhkmpX1C"
      }
    },
    {
      "cell_type": "markdown",
      "source": [
        "Sport Analytics started with – and was popularized by – the data-driven approach to player assessment and team formation of the Oakland Athletics. In the 1990s, the “A’s” were one of the financially-poorest teams in Major League Baseball (MLB). Player selection was primarily done through scouting: baseball experts would watch high school and college games to identify future talent. Under the leadership of Billy Beane and Paul DePodesta, the A’s started to use data to identify undervalued players. Quickly, they met success on the field,\n",
        "reaching the playoffs in 2002 and 2003 despite a much lower payroll than their competitors. This started a revolution in sports: analytics is now a central component of every team’s strategy.\n",
        "\n",
        "In this problem, you will predict the salary of baseball players. The dataset in the included baseball.csv file contains information on 263 players. Each row represents a single player. The first column reports the players’ annual salaries (in $1,000s), which we aim to predict. The other columns contain four sets of variables: offensive statistics during the last season, offensive statistics over each player’s career, defensive statistics during the last season, and team information. These are described in the table below.\n",
        "\n",
        "Read the baseball.csv file into Python. Note that three of the features are categorical (League, Division, and NewLeague) and thus need to be one-hot encoded. Do that before proceeding to the questions below."
      ],
      "metadata": {
        "id": "b_Kk_LJ9pcZT"
      }
    },
    {
      "cell_type": "markdown",
      "source": [
        "## One-Hot Encode"
      ],
      "metadata": {
        "id": "8yhQKmwsUdIb"
      }
    },
    {
      "cell_type": "code",
      "source": [
        "# One-hot encode the 'League', 'Division', and 'NewLeague' fields\n",
        "baseball_df_encoded = pd.get_dummies(baseball_df, columns=['League', 'Division', 'NewLeague'], drop_first=False)\n",
        "\n",
        "# Display the first few rows of the DataFrame\n",
        "print(baseball_df.head(3))"
      ],
      "metadata": {
        "colab": {
          "base_uri": "https://localhost:8080/"
        },
        "id": "2x8yvCKiUjFX",
        "outputId": "00bc1643-1255-4448-c3e3-30db70fe9f95"
      },
      "execution_count": null,
      "outputs": [
        {
          "output_type": "stream",
          "name": "stdout",
          "text": [
            "   Salary  AtBats  Hits  HmRuns  Runs  RBIs  Walks  Years  CareerAtBats  CareerHits  CareerHmRuns  \\\n",
            "0    7125     315    81       7    24    38     39     14          3449         835            69   \n",
            "1    7200     479   130      18    66    72     76      3          1624         457            63   \n",
            "2    7500     496   141      20    65    78     37     11          5628        1575           225   \n",
            "\n",
            "   CareerRuns  CareerRBIs  CareerWalks  PutOuts  Assists  Errors League Division NewLeague  \n",
            "0         321         414          375      632       43      10      N        W         N  \n",
            "1         224         266          263      880       82      14      A        W         A  \n",
            "2         828         838          354      200       11       3      N        C         N  \n"
          ]
        }
      ]
    },
    {
      "cell_type": "markdown",
      "source": [
        "## Problem B.1"
      ],
      "metadata": {
        "id": "Pg5cdLGzpqse"
      }
    },
    {
      "cell_type": "markdown",
      "source": [
        "Before building any machine learning models, explore the dataset: try plotting Salary against some features, one at a time. When you have identified a feature that you feel may be useful for predicting Salary, include that plot in your writeup, and comment on what you have observed in the plot (one sentence will suffice)."
      ],
      "metadata": {
        "id": "APL8CGmop2db"
      }
    },
    {
      "cell_type": "code",
      "source": [
        "# Selecting 'RBIs' and 'Salary' for the scatter plot\n",
        "X = baseball_df_encoded[['RBIs']]  # Predictor\n",
        "y = baseball_df_encoded['Salary']  # Response\n",
        "\n",
        "# Fitting a linear regression model\n",
        "model = LinearRegression()\n",
        "model.fit(X, y)\n",
        "\n",
        "# Calculate the y-values of the regression line for the original X values\n",
        "y_pred = model.predict(X)\n",
        "\n",
        "# Creating the scatter plot\n",
        "plt.figure(figsize=(10, 6))\n",
        "plt.scatter(X, y, color='blue', alpha=0.5, label='Actual salaries')\n",
        "plt.plot(X, y_pred, color='red', linewidth=2, label='Fitted line')\n",
        "\n",
        "# Adding title and labels\n",
        "plt.title('Salary vs RBIs')\n",
        "plt.xlabel('RBIs')\n",
        "plt.ylabel('Salary (in $1,000s)')\n",
        "plt.legend()\n",
        "\n",
        "# Display the plot\n",
        "plt.show()"
      ],
      "metadata": {
        "colab": {
          "base_uri": "https://localhost:8080/",
          "height": 564
        },
        "id": "BNoqa4dip6QS",
        "outputId": "144e4abc-37b5-4e0b-faaf-0f2966eeb78b"
      },
      "execution_count": null,
      "outputs": [
        {
          "output_type": "display_data",
          "data": {
            "text/plain": [
              "<Figure size 1000x600 with 1 Axes>"
            ],
            "image/png": "[encoded data removed]"
          },
          "metadata": {}
        }
      ]
    },
    {
      "cell_type": "markdown",
      "source": [
        "There is a distinct, direct correlation between RBIs and Salary. As one goes up, so does the other. While this only shows correlation and not causation, conventional wisdom would suggest that more RBIs result in a higher Salary."
      ],
      "metadata": {
        "id": "UXVNQzvJV4-z"
      }
    },
    {
      "cell_type": "markdown",
      "source": [
        "## Problem B.2"
      ],
      "metadata": {
        "id": "ps7-wbDmp6n6"
      }
    },
    {
      "cell_type": "markdown",
      "source": [
        "Split the data into a training set (70%) and test set (30%). Train an “ordinary” linear regression model (i.e. no regularization), and report the following:"
      ],
      "metadata": {
        "id": "KzHMKMBAp_Yc"
      }
    },
    {
      "cell_type": "markdown",
      "source": [
        "### Functions"
      ],
      "metadata": {
        "id": "5A49fsSIYiim"
      }
    },
    {
      "cell_type": "code",
      "source": [
        "def split_data(df, test_size):\n",
        "    \"\"\"Split the data into training and test sets based on a specified proportion.\"\"\"\n",
        "    # Assuming that the target variable 'Salary' is the last column\n",
        "    X = df.drop('Salary', axis=1)\n",
        "    y = df['Salary']\n",
        "    X_train, X_test, y_train, y_test = train_test_split(X, y, test_size=test_size, random_state=42)\n",
        "    return X_train, X_test, y_train, y_test\n",
        "\n",
        "def build_and_train_model(X_train, y_train):\n",
        "    \"\"\"Build and train a linear regression model.\"\"\"\n",
        "    model = LinearRegression()\n",
        "    model.fit(X_train, y_train)\n",
        "    return model\n",
        "\n",
        "def evaluate_model(model, features, X_train, y_train, X_test, y_test):\n",
        "    \"\"\"Evaluate the model's performance and print metrics for both training and test sets.\"\"\"\n",
        "    train_predictions = model.predict(X_train)\n",
        "    test_predictions = model.predict(X_test)\n",
        "\n",
        "    # Evaluation metrics\n",
        "    in_sample_r2 = r2_score(y_train, train_predictions)\n",
        "    out_of_sample_r2 = r2_score(y_test, test_predictions)\n",
        "    in_sample_mse = mean_squared_error(y_train, train_predictions)\n",
        "    out_of_sample_mse = mean_squared_error(y_test, test_predictions)\n",
        "    in_sample_mae = mean_absolute_error(y_train, train_predictions)\n",
        "    out_of_sample_mae = mean_absolute_error(y_test, test_predictions)\n",
        "\n",
        "    # Print Results\n",
        "    print('In-Sample Evaluation:')\n",
        "    print(f'R^2: {in_sample_r2}')\n",
        "    print(f'MSE: {in_sample_mse}')\n",
        "    print(f'MAE: {in_sample_mae}\\n')\n",
        "\n",
        "    print('Out-of-Sample Evaluation:')\n",
        "    print(f'R^2: {out_of_sample_r2}')\n",
        "    print(f'MSE: {out_of_sample_mse}')\n",
        "    print(f'MAE: {out_of_sample_mae}')\n",
        "\n",
        "    # RBIs Feature Check\n",
        "    if 'RBIs' in features:\n",
        "        feature_index = features.index('RBIs')\n",
        "        rbi_coefficient = model.coef_[feature_index]\n",
        "        print(f\"\\nCoefficient for 'RBIs': {rbi_coefficient}\")\n",
        "        print(\"Interpretation: An increase of one RBI is associated with a change in salary by approximately\",\n",
        "              f\"{rbi_coefficient:.2f} thousand dollars.\")\n",
        "    else:\n",
        "        print(\"RBIs feature not used in the model.\")\n",
        "\n",
        "    # Isolated Interpretations\n",
        "    print(\"\\nIsolated Interpretations (based on original division codes):\")\n",
        "\n",
        "    # Calculating coefficients for 'Division_W', 'Division_E', and 'Division_C'\n",
        "    division_w_index = features.index('Division_W') if 'Division_W' in features else None\n",
        "    division_e_index = features.index('Division_E') if 'Division_E' in features else None\n",
        "    division_c_index = features.index('Division_C') if 'Division_C' in features else None\n",
        "\n",
        "    if division_w_index is not None and division_e_index is not None:\n",
        "        east_to_west_effect = model.coef_[division_w_index] - model.coef_[division_e_index]\n",
        "        print(f\"\\n(a) Moving from East to West is approximated by a salary change of approximately {east_to_west_effect:.2f} thousand dollars.\")\n",
        "\n",
        "    if division_w_index is not None and division_c_index is not None:\n",
        "        west_to_central_effect = model.coef_[division_c_index] - model.coef_[division_w_index]\n",
        "        print(f\"\\n(b) Moving from West to Central is approximated by a salary change of approximately {west_to_central_effect:.2f} thousand dollars.\")\n",
        "\n",
        "    if division_e_index is not None and division_c_index is not None:\n",
        "        central_to_east_effect = model.coef_[division_e_index] - model.coef_[division_c_index]\n",
        "        print(f\"\\n(c) Moving from Central to East is approximated by a salary change of approximately {central_to_east_effect:.2f} thousand dollars.\")"
      ],
      "metadata": {
        "id": "Nprsr2SWXjIh"
      },
      "execution_count": null,
      "outputs": []
    },
    {
      "cell_type": "markdown",
      "source": [
        "### Execution"
      ],
      "metadata": {
        "id": "IZeax7fEfgy7"
      }
    },
    {
      "cell_type": "code",
      "source": [
        "# Parameters\n",
        "\n",
        "# Remove Salary from Features since this is the Target Variable\n",
        "features = baseball_df_encoded.drop(columns=['Salary']).columns.tolist()\n",
        "\n",
        "# Splitting the data into training and test sets\n",
        "X_train, X_test, y_train, y_test = split_data(baseball_df_encoded, test_size=0.3)\n",
        "\n",
        "# Building and training the model\n",
        "model = build_and_train_model(X_train, y_train)\n",
        "\n",
        "# Pass 'features' to 'evaluate_model'\n",
        "evaluate_model(model, features, X_train, y_train, X_test, y_test)"
      ],
      "metadata": {
        "colab": {
          "base_uri": "https://localhost:8080/"
        },
        "id": "7i4nkU3gYqwm",
        "outputId": "eb999b25-8802-46c1-fc31-0b88c932c2ad"
      },
      "execution_count": null,
      "outputs": [
        {
          "output_type": "stream",
          "name": "stdout",
          "text": [
            "In-Sample Evaluation:\n",
            "R^2: 0.6148476067742332\n",
            "MSE: 16076750.768579276\n",
            "MAE: 3071.813939986548\n",
            "\n",
            "Out-of-Sample Evaluation:\n",
            "R^2: 0.39290682076036654\n",
            "MSE: 33170501.784535673\n",
            "MAE: 3645.968501154961\n",
            "\n",
            "Coefficient for 'RBIs': -43.839079206611736\n",
            "Interpretation: An increase of one RBI is associated with a change in salary by approximately -43.84 thousand dollars.\n",
            "\n",
            "Isolated Interpretations (based on original division codes):\n",
            "\n",
            "(a) Moving from East to West is approximated by a salary change of approximately -2544.08 thousand dollars.\n",
            "\n",
            "(b) Moving from West to Central is approximated by a salary change of approximately 1138.14 thousand dollars.\n",
            "\n",
            "(c) Moving from Central to East is approximated by a salary change of approximately 1405.94 thousand dollars.\n"
          ]
        }
      ]
    },
    {
      "cell_type": "markdown",
      "source": [
        "### Problem B.2(a)"
      ],
      "metadata": {
        "id": "czLLfTRzqBSz"
      }
    },
    {
      "cell_type": "markdown",
      "source": [
        "The in-sample and out-of-sample R2:"
      ],
      "metadata": {
        "id": "g_gE10FeqFDz"
      }
    },
    {
      "cell_type": "markdown",
      "source": [
        "**In-Sample R^2:** 0.6148476067742331\n",
        "\n",
        "**Out-of-Sample R^2:** 0.3929068207603682"
      ],
      "metadata": {
        "id": "4iGN6DNcZskp"
      }
    },
    {
      "cell_type": "markdown",
      "source": [
        "### Problem B.2(b)"
      ],
      "metadata": {
        "id": "VuM6VHtNqNim"
      }
    },
    {
      "cell_type": "markdown",
      "source": [
        "The value of the coefficient for the feature you identified in question B.1, and an interpretation of that value."
      ],
      "metadata": {
        "id": "KRMJkZndqW3e"
      }
    },
    {
      "cell_type": "markdown",
      "source": [
        "**Coefficient for 'RBIs':** -43.83907920661159\n",
        "\n",
        "**Direct Interpretation:** An increase of one RBI is associated with a change in salary by approximately -43.84 thousand dollars.\n",
        "\n",
        "**Indirect Interpretation:** Based on the initial chart I created, showing a positive relationship between RBIs and Salary, my hypothesis is that there is some feature interaction that's skewing the results. Additionally, I reran the data, limiting the Features to only 'RBIs' and I got a Coefficient of 123.479, which makes much more sense."
      ],
      "metadata": {
        "id": "3bpNhTg9f_2a"
      }
    },
    {
      "cell_type": "markdown",
      "source": [
        "### Problem B.2(c)"
      ],
      "metadata": {
        "id": "hgRaT_FCqYbS"
      }
    },
    {
      "cell_type": "markdown",
      "source": [
        "The effect on salary that your model predicts for a player that switches divisions from East to West."
      ],
      "metadata": {
        "id": "QIN4cByPqZyf"
      }
    },
    {
      "cell_type": "markdown",
      "source": [
        "**Coefficient:** -2544.08\n",
        "\n",
        "**Interpretation:** Moving from East to West is approximated by a salary change of approximately -2544.08 thousand dollars."
      ],
      "metadata": {
        "id": "0YvcIjSllJ8_"
      }
    },
    {
      "cell_type": "markdown",
      "source": [
        "### Problem B.2(d)"
      ],
      "metadata": {
        "id": "yUkXbJJwqaJ5"
      }
    },
    {
      "cell_type": "markdown",
      "source": [
        "The effect on salary that your model predicts for a player that switches divisions from West to Central."
      ],
      "metadata": {
        "id": "1Tfb8xF9qc0k"
      }
    },
    {
      "cell_type": "markdown",
      "source": [
        "**Coefficient:** 1138.14\n",
        "\n",
        "**Interpretation:** Moving from West to Central is approximated by a salary change of approximately 1138.14 thousand dollars."
      ],
      "metadata": {
        "id": "9VTpg7tNxc3G"
      }
    },
    {
      "cell_type": "markdown",
      "source": [
        "### Problem B.2(e)"
      ],
      "metadata": {
        "id": "hVQdmcBtqdXZ"
      }
    },
    {
      "cell_type": "markdown",
      "source": [
        "The effect on salary that your model predicts for a player that switches divisions from Central to East."
      ],
      "metadata": {
        "id": "A0Mfxc3XqswR"
      }
    },
    {
      "cell_type": "markdown",
      "source": [
        "**Coefficient:** 1405.94\n",
        "\n",
        "**Interpretation:** Moving from Central to East is approximated by a salary change of approximately 1405.94 thousand dollars."
      ],
      "metadata": {
        "id": "-aQaWgUnxM4P"
      }
    },
    {
      "cell_type": "markdown",
      "source": [
        "## Problem B.3"
      ],
      "metadata": {
        "id": "WSXIL3qvrIXL"
      }
    },
    {
      "cell_type": "markdown",
      "source": [
        "Train a model using ridge regression with 10-fold cross-validation to select the tuning parameter. The choice of which tuning parameters to try is up to you (this does not mean there is not a wrong answer). Report the following:\n",
        "\n",
        "| Variable      | Description                                         |\n",
        "|---------------|-----------------------------------------------------|\n",
        "| Salary        | The player’s annual salary (in $1,000s)             |\n",
        "| AtBats        | Number of at bats this season                       |\n",
        "| Hits          | Number of hits this season                          |\n",
        "| HmRuns        | Number of home runs this season                     |\n",
        "| Runs          | Number of runs this season                          |\n",
        "| RBIs          | Number of runs batted in this season                |\n",
        "| Walks         | Number of walks this season                         |\n",
        "| Years         | Number of years in MLB                              |\n",
        "| CareerAtBats  | Number of at bats over career                       |\n",
        "| CareerHits    | Number of hits over career                          |\n",
        "| CareerHmRuns  | Number of home runs over career                     |\n",
        "| CareerRuns    | Number of runs over career                          |\n",
        "| CareerRBIs    | Number of runs batted in over career                |\n",
        "| CareerWalks   | Number of walks over career                         |\n",
        "| PutOuts       | Number of putouts this season                       |\n",
        "| Assists       | Number of assists this season                       |\n",
        "| Errors        | Number of errors this season                        |\n",
        "| League        | League in which player plays (N=National, A=American)|\n",
        "| Division      | Division in which player plays (E=East, C=Central, W=West)|\n",
        "| NewLeague     | League in which player plays next year (N=National, A=American)|\n"
      ],
      "metadata": {
        "id": "iwLcWAKJrIXO"
      }
    },
    {
      "cell_type": "markdown",
      "source": [
        "### Attempt 1 to identify optimal alpha value using a range of values to test."
      ],
      "metadata": {
        "id": "BuFXkSLUKhiA"
      }
    },
    {
      "cell_type": "code",
      "source": [
        "# Splitting the data into training and testing sets\n",
        "X = baseball_df_encoded.drop(columns=['Salary'])\n",
        "y = baseball_df_encoded['Salary']\n",
        "X_train, X_test, y_train, y_test = train_test_split(X, y, test_size=0.3, random_state=42)\n",
        "\n",
        "# Normalizing features\n",
        "ss = StandardScaler()\n",
        "X_train_scaled = ss.fit_transform(X_train)\n",
        "X_test_scaled = ss.transform(X_test)\n",
        "\n",
        "# Specify a range of alpha values for Ridge and Lasso\n",
        "alphas_ridge = np.logspace(-4, 4, 50)\n",
        "alphas_lasso = np.logspace(-10, 10, 100)\n",
        "\n",
        "# Ridge regression with cross-validation\n",
        "ridge_cv = RidgeCV(alphas=alphas_ridge, cv=5)\n",
        "ridge_cv.fit(X_train_scaled, y_train)\n",
        "\n",
        "# Predict and evaluate for Ridge\n",
        "y_test_pred_ridge = ridge_cv.predict(X_test_scaled)\n",
        "ridge_r2 = r2_score(y_test, y_test_pred_ridge)\n",
        "ridge_mse = mean_squared_error(y_test, y_test_pred_ridge)\n",
        "ridge_mae = mean_absolute_error(y_test, y_test_pred_ridge)\n",
        "\n",
        "print(\"Ridge - Out-of-sample R2:\", ridge_r2)\n",
        "print(\"Ridge - MSE:\", ridge_mse)\n",
        "print(\"Ridge - MAE:\", ridge_mae)\n",
        "print(\"Ridge - Optimal value of alpha:\", ridge_cv.alpha_)\n",
        "\n",
        "# Lasso regression with cross-validation\n",
        "lasso_cv = LassoCV(alphas=alphas_lasso, cv=5, max_iter=10000)\n",
        "lasso_cv.fit(X_train_scaled, y_train)\n",
        "\n",
        "# Predict and evaluate for Lasso\n",
        "y_test_pred_lasso = lasso_cv.predict(X_test_scaled)\n",
        "lasso_r2 = r2_score(y_test, y_test_pred_lasso)\n",
        "lasso_mse = mean_squared_error(y_test, y_test_pred_lasso)\n",
        "lasso_mae = mean_absolute_error(y_test, y_test_pred_lasso)\n",
        "\n",
        "print(\"Lasso - Out-of-sample R2:\", lasso_r2)\n",
        "print(\"Lasso - MSE:\", lasso_mse)\n",
        "print(\"Lasso - MAE:\", lasso_mae)\n",
        "print(\"Lasso - Optimal value of alpha:\", lasso_cv.alpha_)"
      ],
      "metadata": {
        "colab": {
          "base_uri": "https://localhost:8080/"
        },
        "id": "OWHuplchinD0",
        "outputId": "614224b6-d9c2-4037-d615-5286482a0870"
      },
      "execution_count": null,
      "outputs": [
        {
          "output_type": "stream",
          "name": "stdout",
          "text": [
            "Ridge - Out-of-sample R2: 0.36151902541723724\n",
            "Ridge - MSE: 34885475.62552977\n",
            "Ridge - MAE: 3743.699406608389\n",
            "Ridge - Optimal value of alpha: 159.98587196060572\n",
            "Lasso - Out-of-sample R2: 0.38462612809432906\n",
            "Lasso - MSE: 33622944.2435335\n",
            "Lasso - MAE: 3670.077584833071\n",
            "Lasso - Optimal value of alpha: 83.02175681319736\n"
          ]
        }
      ]
    },
    {
      "cell_type": "markdown",
      "source": [
        "### Attempt 2 to identify optimal alpha value using for loop."
      ],
      "metadata": {
        "id": "Od2JxN4fMbyC"
      }
    },
    {
      "cell_type": "code",
      "source": [
        "# Resources\n",
        "# https://medium.com/nerd-for-tech/lasso-and-ridge-regularization-simply-explained-d551ee1e47b7\n",
        "# https://www.geeksforgeeks.org/prediction-using-columntransformer-onehotencoder-and-pipeline/\n",
        "# https://www.analyticsvidhya.com/blog/2017/06/a-comprehensive-guide-for-linear-ridge-and-lasso-regression/\n",
        "\n",
        "# Separate features and target variable for 'baseball_df_encoded'\n",
        "X_encoded = baseball_df_encoded.drop(columns=['Salary'])\n",
        "y_encoded = baseball_df_encoded['Salary']\n",
        "\n",
        "# Splitting the dataset into training and testing sets\n",
        "X_train, X_test, y_train, y_test = train_test_split(X_encoded, y_encoded, test_size=0.3, random_state=42)\n",
        "\n",
        "# Identify categorical and numerical columns in 'X_train'\n",
        "categorical_cols_encoded = X_train.select_dtypes(include=['object']).columns.tolist()\n",
        "numerical_cols_encoded = X_train.select_dtypes(exclude=['object']).columns.tolist()\n",
        "\n",
        "# Preprocessing for numerical and categorical data\n",
        "preprocessor_encoded = ColumnTransformer(\n",
        "    transformers=[\n",
        "        ('num', StandardScaler(), numerical_cols_encoded),\n",
        "        ('cat', OneHotEncoder(), categorical_cols_encoded)\n",
        "    ])\n",
        "\n",
        "# Define the models with the preprocessor in a Pipeline\n",
        "ridge_pipeline = Pipeline([\n",
        "    ('preprocessor', preprocessor_encoded),\n",
        "    ('regressor', Ridge())\n",
        "])\n",
        "\n",
        "lasso_pipeline = Pipeline([\n",
        "    ('preprocessor', preprocessor_encoded),\n",
        "    ('regressor', Lasso(max_iter=10000))  # Increased max_iter for convergence\n",
        "])\n",
        "\n",
        "# Cross-validation setup\n",
        "kf_encoded = KFold(n_splits=10, shuffle=True, random_state=42)\n",
        "alpha_values_ridge = np.logspace(-4, 4, 50)\n",
        "alpha_values_lasso = np.logspace(-4, 4, 50)  # Adjusted range for practicality\n",
        "\n",
        "# Find the best alpha for Ridge\n",
        "best_score_ridge = -np.inf\n",
        "best_alpha_ridge = None\n",
        "\n",
        "# Needed to use OpenAI for this section\n",
        "for alpha in alpha_values_ridge:\n",
        "    ridge_pipeline.set_params(regressor__alpha=alpha)\n",
        "    scores_ridge = cross_val_score(ridge_pipeline, X_train, y_train, cv=kf_encoded, scoring='r2')\n",
        "    mean_score_ridge = scores_ridge.mean()\n",
        "    if mean_score_ridge > best_score_ridge:\n",
        "        best_score_ridge = mean_score_ridge\n",
        "        best_alpha_ridge = alpha\n",
        "\n",
        "# Retrain Ridge on the entire training set with the best alpha\n",
        "ridge_pipeline.set_params(regressor__alpha=best_alpha_ridge)\n",
        "ridge_pipeline.fit(X_train, y_train)\n",
        "\n",
        "# In-sample R^2 score for Ridge\n",
        "in_sample_r2_ridge = ridge_pipeline.score(X_train, y_train)\n",
        "\n",
        "# Evaluate Ridge on the test set\n",
        "y_pred_ridge_test = ridge_pipeline.predict(X_test)\n",
        "out_of_sample_r2_ridge = r2_score(y_test, y_pred_ridge_test)\n",
        "\n",
        "# Number of features with non-zero coefficients in Ridge\n",
        "non_zero_coef_ridge = np.sum(ridge_pipeline.named_steps['regressor'].coef_ != 0)\n",
        "\n",
        "# Ridge Evaluation on the Test Set\n",
        "y_pred_ridge_test = ridge_pipeline.predict(X_test)\n",
        "out_of_sample_r2_ridge = r2_score(y_test, y_pred_ridge_test)\n",
        "mse_ridge = mean_squared_error(y_test, y_pred_ridge_test)\n",
        "mae_ridge = mean_absolute_error(y_test, y_pred_ridge_test)\n",
        "\n",
        "# Print Ridge results\n",
        "print(\"Ridge Regression Results (Test Set):\")\n",
        "print(\"In-sample R^2:\", in_sample_r2_ridge)\n",
        "print(\"Out-of-sample R^2:\", out_of_sample_r2_ridge)\n",
        "print(\"MSE:\", mse_ridge)\n",
        "print(\"MAE:\", mae_ridge)\n",
        "print(\"Best alpha:\", best_alpha_ridge)\n",
        "print(\"Number of features with non-zero coefficients:\", non_zero_coef_ridge)\n",
        "\n",
        "# Find the best alpha for LASSO\n",
        "best_score_lasso = -np.inf\n",
        "best_alpha_lasso = None\n",
        "\n",
        "# Used OpenAI for this for loop\n",
        "for alpha in alpha_values_lasso:\n",
        "    lasso_pipeline.set_params(regressor__alpha=alpha)\n",
        "    scores_lasso = cross_val_score(lasso_pipeline, X_train, y_train, cv=kf_encoded, scoring='r2')\n",
        "    mean_score_lasso = scores_lasso.mean()\n",
        "    if mean_score_lasso > best_score_lasso:\n",
        "        best_score_lasso = mean_score_lasso\n",
        "        best_alpha_lasso = alpha\n",
        "\n",
        "# Retrain LASSO on the entire training set with the best alpha\n",
        "lasso_pipeline.set_params(regressor__alpha=best_alpha_lasso)\n",
        "lasso_pipeline.fit(X_train, y_train)\n",
        "\n",
        "# In-sample R^2 score for LASSO\n",
        "in_sample_r2_lasso = lasso_pipeline.score(X_train, y_train)\n",
        "\n",
        "# Evaluate LASSO on the test set\n",
        "y_pred_lasso_test = lasso_pipeline.predict(X_test)\n",
        "out_of_sample_r2_lasso = r2_score(y_test, y_pred_lasso_test)\n",
        "\n",
        "# Number of features with non-zero coefficients in LASSO\n",
        "non_zero_coef_lasso = np.sum(lasso_pipeline.named_steps['regressor'].coef_ != 0)\n",
        "\n",
        "# LASSO Evaluation on the Test Set\n",
        "y_pred_lasso_test = lasso_pipeline.predict(X_test)\n",
        "out_of_sample_r2_lasso = r2_score(y_test, y_pred_lasso_test)\n",
        "mse_lasso = mean_squared_error(y_test, y_pred_lasso_test)\n",
        "mae_lasso = mean_absolute_error(y_test, y_pred_lasso_test)\n",
        "\n",
        "# Print LASSO results\n",
        "print(\"\\nLASSO Regression Results (Test Set):\")\n",
        "print(\"In-sample R^2:\", in_sample_r2_lasso)\n",
        "print(\"Out-of-sample R^2:\", out_of_sample_r2_lasso)\n",
        "print(\"MSE:\", mse_lasso)\n",
        "print(\"MAE:\", mae_lasso)\n",
        "print(\"Best alpha:\", best_alpha_lasso)\n",
        "print(\"Number of features with non-zero coefficients:\", non_zero_coef_lasso)"
      ],
      "metadata": {
        "colab": {
          "base_uri": "https://localhost:8080/"
        },
        "id": "fwugV-q6Y9CU",
        "outputId": "90c1fb56-eefc-47b4-dba5-79d38309e926"
      },
      "execution_count": null,
      "outputs": [
        {
          "output_type": "stream",
          "name": "stdout",
          "text": [
            "Ridge Regression Results (Test Set):\n",
            "In-sample R^2: 0.5275529036892869\n",
            "Out-of-sample R^2: 0.36151902541723724\n",
            "MSE: 34885475.62552977\n",
            "MAE: 3743.699406608389\n",
            "Best alpha: 159.98587196060572\n",
            "Number of features with non-zero coefficients: 23\n",
            "\n",
            "LASSO Regression Results (Test Set):\n",
            "In-sample R^2: 0.5506246232220245\n",
            "Out-of-sample R^2: 0.37425083032262474\n",
            "MSE: 34189832.235394076\n",
            "MAE: 3681.865196942623\n",
            "Best alpha: 232.99518105153672\n",
            "Number of features with non-zero coefficients: 11\n"
          ]
        }
      ]
    },
    {
      "cell_type": "markdown",
      "source": [
        "### Problem B.3(a)"
      ],
      "metadata": {
        "id": "6I-fmw7WrIXR"
      }
    },
    {
      "cell_type": "markdown",
      "source": [
        "The in-sample and out-of-sample R2"
      ],
      "metadata": {
        "id": "IE-GruUHrIXU"
      }
    },
    {
      "cell_type": "markdown",
      "source": [
        "**Ridge In-Sample R^2:** 0.5275529036892869\n",
        "\n",
        "**Ridge Out-of-Sample R^2:** 0.36151902541723724"
      ],
      "metadata": {
        "id": "IPPzHojiX3s6"
      }
    },
    {
      "cell_type": "markdown",
      "source": [
        "### Problem B.3(b)"
      ],
      "metadata": {
        "id": "ij4AUbeMrIXY"
      }
    },
    {
      "cell_type": "markdown",
      "source": [
        "The final value of the tuning parameter (i.e. after cross-validation)"
      ],
      "metadata": {
        "id": "yj8k-fIBrIXa"
      }
    },
    {
      "cell_type": "markdown",
      "source": [
        "**Ridge Best Alpha:** 232.99518105153672"
      ],
      "metadata": {
        "id": "BmgkHQVOdTUS"
      }
    },
    {
      "cell_type": "markdown",
      "source": [
        "### Problem B.3(c)"
      ],
      "metadata": {
        "id": "4GyObWHJrIXd"
      }
    },
    {
      "cell_type": "markdown",
      "source": [
        "The value of the coefficient for the feature you identified in question 1, and an interpretation of that value. Compared to your model from question 2, has this feature become more or less “important”?"
      ],
      "metadata": {
        "id": "uOYAOhs4rIXf"
      }
    },
    {
      "cell_type": "code",
      "source": [
        "# Find the index of 'RBIs' in the preprocessed features\n",
        "rbi_index = numerical_cols_encoded.index('RBIs')\n",
        "\n",
        "# For Ridge\n",
        "# Coefficient for RBIs in the Ridge model\n",
        "ridge_rbi_coef = ridge_pipeline.named_steps['regressor'].coef_[rbi_index]\n",
        "print(\"Ridge Regression RBI Coefficient:\", ridge_rbi_coef)\n",
        "\n",
        "# For LASSO\n",
        "# Coefficient for RBIs in the LASSO model\n",
        "lasso_rbi_coef = lasso_pipeline.named_steps['regressor'].coef_[rbi_index]\n",
        "# print(\"LASSO Regression RBI Coefficient:\", lasso_rbi_coef)"
      ],
      "metadata": {
        "colab": {
          "base_uri": "https://localhost:8080/"
        },
        "id": "3Dcv5ThwrIXk",
        "outputId": "04ee9086-6a08-41ad-b41a-b1c362c7b7ee"
      },
      "execution_count": null,
      "outputs": [
        {
          "output_type": "stream",
          "name": "stdout",
          "text": [
            "Ridge Regression RBI Coefficient: 310.63425673560783\n"
          ]
        }
      ]
    },
    {
      "cell_type": "markdown",
      "source": [
        "Holding all other variables constant, a single unit increase in RBIs is associated with an increases of approximately 310.63 units in player's salary."
      ],
      "metadata": {
        "id": "k1G4xuqSe98d"
      }
    },
    {
      "cell_type": "markdown",
      "source": [
        "### Problem B.3(d)"
      ],
      "metadata": {
        "id": "avGT3DmurIXl"
      }
    },
    {
      "cell_type": "markdown",
      "source": [
        "Of the two models so far, which one should be used moving forward?"
      ],
      "metadata": {
        "id": "QwMS_uI7rIXm"
      }
    },
    {
      "cell_type": "markdown",
      "source": [
        "So far, the first Model (B.2) is actually performing better than the second Model (B.3) in terms of both In-Sample R^2 and Out-of-Sample R^2. In both in-sample and out-of-sample, R^2 is higher, indicating it explains the training data variance better than the second model. Note that Model 1 had an out-of-sample R^2 of 0.393 while Model 2 had an out-of-sample R^2 of 0.362. In-Sample for Model 1 also had a 9 point advantage."
      ],
      "metadata": {
        "id": "Ivh_cCX-jl04"
      }
    },
    {
      "cell_type": "markdown",
      "source": [
        "## Problem B.4"
      ],
      "metadata": {
        "id": "xJ3_PFE1sMYS"
      }
    },
    {
      "cell_type": "markdown",
      "source": [
        "Train a model using LASSO with 10-fold cross-validation to select the tuning parameter. The choice of which tuning parameters to try is up to you (this does not mean there is not a wrong answer). Report the following:"
      ],
      "metadata": {
        "id": "CxuVUi8YsMYV"
      }
    },
    {
      "cell_type": "markdown",
      "source": [
        "### Problem B.4(a)"
      ],
      "metadata": {
        "id": "gNZS55DZsMYY"
      }
    },
    {
      "cell_type": "markdown",
      "source": [
        "The in-sample and out-of-sample R2"
      ],
      "metadata": {
        "id": "iMedxTqFsMYZ"
      }
    },
    {
      "cell_type": "markdown",
      "source": [
        "**Lasso In-Sample R^2:** 0.5506246232220245\n",
        "\n",
        "**Lasso Out-of-Sample R^2:** 0.37425083032262474"
      ],
      "metadata": {
        "id": "-n_WMC6jlY6g"
      }
    },
    {
      "cell_type": "markdown",
      "source": [
        "### Problem B.4(b)"
      ],
      "metadata": {
        "id": "cCNx8iFXsMYc"
      }
    },
    {
      "cell_type": "markdown",
      "source": [
        "The final value of the tuning parameter (i.e. after cross-validation)"
      ],
      "metadata": {
        "id": "6CZZ17d4sMYf"
      }
    },
    {
      "cell_type": "markdown",
      "source": [
        "**Lasso Best Alpha:** 232.99518105153672"
      ],
      "metadata": {
        "id": "iwARUAV9l3Y2"
      }
    },
    {
      "cell_type": "markdown",
      "source": [
        "### Problem B.4(c)"
      ],
      "metadata": {
        "id": "xVlMXvYosMYi"
      }
    },
    {
      "cell_type": "markdown",
      "source": [
        "The number of features with non-zero coefficients (Hint: there should be at least one feature with coefficient equal to 0)"
      ],
      "metadata": {
        "id": "6fdNYDUasMYj"
      }
    },
    {
      "cell_type": "markdown",
      "source": [
        "**Number of features with non-zero coefficients:** 11"
      ],
      "metadata": {
        "id": "yBSUqQG1mCqY"
      }
    },
    {
      "cell_type": "markdown",
      "source": [
        "### Problem B.4(d)"
      ],
      "metadata": {
        "id": "MB_ML_5BsMYo"
      }
    },
    {
      "cell_type": "markdown",
      "source": [
        "Of the three models so far, which one should be used moving forward?"
      ],
      "metadata": {
        "id": "QGrEvbDqsMYp"
      }
    },
    {
      "cell_type": "markdown",
      "source": [
        "Based on the results, the first Model (B.2) is actually performing better than the second (B.3 - Ridge) and third (B.4 - Lasso) in terms of both In-Sample R^2 and Out-of-Sample R^2. In both in-sample and out-of-sample, R^2 is higher for Model 1, indicating it explains the training data variance better than the second model. Note that Model 1 had an out-of-sample R^2 of 0.393 while Models 2 and 3 had an out-of-sample R^2 of 0.362 and 0.374, respectively."
      ],
      "metadata": {
        "id": "ckd9iHpqsMYr"
      }
    }
  ]
}