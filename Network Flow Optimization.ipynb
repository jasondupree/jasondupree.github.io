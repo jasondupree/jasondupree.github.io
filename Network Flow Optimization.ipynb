{
  "cells": [
    {
      "cell_type": "markdown",
      "metadata": {
        "id": "view-in-github",
        "colab_type": "text"
      },
      "source": [
        "<a href=\"https://colab.research.google.com/github/jasondupree/jasondupree.github.io/blob/main/Network%20Flow%20Optimization.ipynb\" target=\"_parent\"><img src=\"https://colab.research.google.com/assets/colab-badge.svg\" alt=\"Open In Colab\"/></a>"
      ]
    },
    {
      "cell_type": "markdown",
      "metadata": {
        "id": "GjGY0OvuYPVf"
      },
      "source": [
        "<b>Quiz 3 - Problem 1</b>"
      ]
    },
    {
      "cell_type": "markdown",
      "metadata": {
        "jp-MarkdownHeadingCollapsed": true,
        "id": "Pk3_wb_SYPVg"
      },
      "source": [
        "# Data Import and ETL"
      ]
    },
    {
      "cell_type": "code",
      "execution_count": null,
      "metadata": {
        "id": "NizyYDg3YPVg",
        "outputId": "54b8587f-4b85-4433-c68c-e46d0756a98b"
      },
      "outputs": [
        {
          "name": "stdout",
          "output_type": "stream",
          "text": [
            "Dataframe:\n",
            "      from   W1    W2    R1    R2    R3    R4 Capacity\n",
            "0      F1  0.5  0.64   0.8     -     -     -     3200\n",
            "1      F2  0.4  0.55     -     -     -  1.17     2500\n",
            "2      W1    -     -  0.23  0.45  0.49     -        -\n",
            "3      W2    -     -     -  0.85  0.25  0.64        -\n",
            "4  demand    -     -   700  1800  1100   900        -\n",
            "Nodes: ['W1', 'W2', 'R1', 'R2', 'R3', 'R4']\n",
            "Cost: {('F1', 'W1'): 0.5, ('F1', 'W2'): 0.64, ('F1', 'R1'): 0.8, ('F2', 'W1'): 0.4, ('F2', 'W2'): 0.55, ('F2', 'R4'): 1.17, ('W1', 'R1'): 0.23, ('W1', 'R2'): 0.45, ('W1', 'R3'): 0.49, ('W2', 'R2'): 0.85, ('W2', 'R3'): 0.25, ('W2', 'R4'): 0.64}\n",
            "Supply: {'R1': 700.0, 'R2': 1800.0, 'R3': 1100.0, 'R4': 900.0, 'F1': -3200.0, 'F2': -2500.0, 'W1': 0, 'W2': 0}\n",
            "Arcs: [('F1', 'W1'), ('F1', 'W2'), ('F1', 'R1'), ('F2', 'W1'), ('F2', 'W2'), ('F2', 'R4'), ('W1', 'R1'), ('W1', 'R2'), ('W1', 'R3'), ('W2', 'R2'), ('W2', 'R3'), ('W2', 'R4')]\n"
          ]
        }
      ],
      "source": [
        "import pandas as pd\n",
        "\n",
        "# Define the data directly as per the problem statement\n",
        "data = {\n",
        "    'from': ['F1', 'F2', 'W1', 'W2', 'demand'],\n",
        "    'W1': [0.50, 0.40, '-', '-', '-'],\n",
        "    'W2': [0.64, 0.55, '-', '-', '-'],\n",
        "    'R1': [0.80, '-', 0.23, '-', 700],\n",
        "    'R2': ['-', '-', 0.45, 0.85, 1800],\n",
        "    'R3': ['-', '-', 0.49, 0.25, 1100],\n",
        "    'R4': ['-', 1.17, '-', 0.64, 900],\n",
        "    'Capacity': [3200, 2500, '-', '-', '-']\n",
        "}\n",
        "\n",
        "df = pd.DataFrame(data)\n",
        "print(\"Dataframe:\\n\", df)\n",
        "\n",
        "# Extract nodes (excluding 'from' and 'Capacity' columns)\n",
        "nodes = df.columns[1:-1].tolist()\n",
        "print(\"Nodes:\", nodes)\n",
        "\n",
        "# Create dictionaries for Cost and Supply\n",
        "Cost = {}\n",
        "Supply = {}\n",
        "\n",
        "# Process the dataframe to fill Cost and Supply dictionaries\n",
        "for index, row in df.iterrows():\n",
        "    from_node = row['from']\n",
        "    if from_node != 'demand':\n",
        "        for to_node in nodes:\n",
        "            if row[to_node] != '-':\n",
        "                Cost[(from_node, to_node)] = float(row[to_node])\n",
        "    else:\n",
        "        for to_node in nodes:\n",
        "            if row[to_node] != '-':\n",
        "                Supply[to_node] = float(row[to_node])\n",
        "\n",
        "# Add the supply data for the factories\n",
        "for index, row in df.iterrows():\n",
        "    from_node = row['from']\n",
        "    if from_node != 'demand':\n",
        "        if row['Capacity'] != '-':\n",
        "            Supply[from_node] = -float(row['Capacity'])\n",
        "\n",
        "# Complete the supply data for nodes without a supply (i.e., warehouses)\n",
        "for node in nodes:\n",
        "    if node not in Supply:\n",
        "        Supply[node] = 0\n",
        "\n",
        "print(\"Cost:\", Cost)\n",
        "print(\"Supply:\", Supply)\n",
        "\n",
        "# Define the arc set\n",
        "Arcs = list(Cost.keys())\n",
        "print(\"Arcs:\", Arcs)"
      ]
    },
    {
      "cell_type": "code",
      "execution_count": null,
      "metadata": {
        "id": "O8av1oQRYPVi",
        "outputId": "90483bd8-506d-45a4-c643-61d49126eb85"
      },
      "outputs": [
        {
          "data": {
            "text/html": [
              "<div>\n",
              "<style scoped>\n",
              "    .dataframe tbody tr th:only-of-type {\n",
              "        vertical-align: middle;\n",
              "    }\n",
              "\n",
              "    .dataframe tbody tr th {\n",
              "        vertical-align: top;\n",
              "    }\n",
              "\n",
              "    .dataframe thead th {\n",
              "        text-align: right;\n",
              "    }\n",
              "</style>\n",
              "<table border=\"1\" class=\"dataframe\">\n",
              "  <thead>\n",
              "    <tr style=\"text-align: right;\">\n",
              "      <th></th>\n",
              "      <th>from</th>\n",
              "      <th>W1</th>\n",
              "      <th>W2</th>\n",
              "      <th>R1</th>\n",
              "      <th>R2</th>\n",
              "      <th>R3</th>\n",
              "      <th>R4</th>\n",
              "      <th>Capacity</th>\n",
              "    </tr>\n",
              "  </thead>\n",
              "  <tbody>\n",
              "    <tr>\n",
              "      <th>0</th>\n",
              "      <td>F1</td>\n",
              "      <td>0.5</td>\n",
              "      <td>0.64</td>\n",
              "      <td>0.8</td>\n",
              "      <td>-</td>\n",
              "      <td>-</td>\n",
              "      <td>-</td>\n",
              "      <td>3200</td>\n",
              "    </tr>\n",
              "    <tr>\n",
              "      <th>1</th>\n",
              "      <td>F2</td>\n",
              "      <td>0.4</td>\n",
              "      <td>0.55</td>\n",
              "      <td>-</td>\n",
              "      <td>-</td>\n",
              "      <td>-</td>\n",
              "      <td>1.17</td>\n",
              "      <td>2500</td>\n",
              "    </tr>\n",
              "    <tr>\n",
              "      <th>2</th>\n",
              "      <td>W1</td>\n",
              "      <td>-</td>\n",
              "      <td>-</td>\n",
              "      <td>0.23</td>\n",
              "      <td>0.45</td>\n",
              "      <td>0.49</td>\n",
              "      <td>-</td>\n",
              "      <td>-</td>\n",
              "    </tr>\n",
              "    <tr>\n",
              "      <th>3</th>\n",
              "      <td>W2</td>\n",
              "      <td>-</td>\n",
              "      <td>-</td>\n",
              "      <td>-</td>\n",
              "      <td>0.85</td>\n",
              "      <td>0.25</td>\n",
              "      <td>0.64</td>\n",
              "      <td>-</td>\n",
              "    </tr>\n",
              "    <tr>\n",
              "      <th>4</th>\n",
              "      <td>demand</td>\n",
              "      <td>-</td>\n",
              "      <td>-</td>\n",
              "      <td>700</td>\n",
              "      <td>1800</td>\n",
              "      <td>1100</td>\n",
              "      <td>900</td>\n",
              "      <td>-</td>\n",
              "    </tr>\n",
              "  </tbody>\n",
              "</table>\n",
              "</div>"
            ],
            "text/plain": [
              "     from   W1    W2    R1    R2    R3    R4 Capacity\n",
              "0      F1  0.5  0.64   0.8     -     -     -     3200\n",
              "1      F2  0.4  0.55     -     -     -  1.17     2500\n",
              "2      W1    -     -  0.23  0.45  0.49     -        -\n",
              "3      W2    -     -     -  0.85  0.25  0.64        -\n",
              "4  demand    -     -   700  1800  1100   900        -"
            ]
          },
          "execution_count": 32,
          "metadata": {},
          "output_type": "execute_result"
        }
      ],
      "source": [
        "df"
      ]
    },
    {
      "cell_type": "markdown",
      "metadata": {
        "jp-MarkdownHeadingCollapsed": true,
        "id": "KAZHSipRYPVi"
      },
      "source": [
        "# Model Overview"
      ]
    },
    {
      "cell_type": "markdown",
      "metadata": {
        "id": "ivoDysMkYPVi"
      },
      "source": [
        "![image.png](attachment:ea4db723-9c60-497d-b9f4-a69d8f430ed1.png) ![image.png](attachment:19d403d0-8fd3-4e25-8385-efb33504ce87.png) ![image.png](attachment:b5216d10-c931-4637-b788-820b561a7777.png)"
      ]
    },
    {
      "cell_type": "markdown",
      "metadata": {
        "jp-MarkdownHeadingCollapsed": true,
        "id": "PqeW2xwyYPVj"
      },
      "source": [
        "# Abstract Formula"
      ]
    },
    {
      "cell_type": "markdown",
      "metadata": {
        "id": "7t_U7w9WYPVj"
      },
      "source": [
        "\\[\n",
        "\\begin{align*}\n",
        "\\text{Minimize} & \\quad Z = \\sum_{(i, j) \\in \\text{Arcs}} c_{ij} \\cdot x_{ij} \\\\\n",
        "\\text{subject to} & \\quad \\sum_{j \\in N} x_{F1,j} \\leq 3200 \\\\\n",
        "                  & \\quad \\sum_{j \\in N} x_{F2,j} \\leq 2500 \\\\\n",
        "                  & \\quad \\sum_{i \\in N} x_{i,R1} = 700 \\\\\n",
        "                  & \\quad \\sum_{i \\in N} x_{i,R2} = 1800 \\\\\n",
        "                  & \\quad \\sum_{i \\in N} x_{i,R3} = 1100 \\\\\n",
        "                  & \\quad \\sum_{i \\in N} x_{i,R4} = 900 \\\\\n",
        "                  & \\quad \\sum_{j \\in R} x_{W1,j} - \\sum_{i \\in F} x_{i,W1} = 0 \\\\\n",
        "                  & \\quad \\sum_{j \\in R} x_{W2,j} - \\sum_{i \\in F} x_{i,W2} = 0 \\\\\n",
        "                  & \\quad x_{F1,R1} \\leq 400 \\\\\n",
        "                  & \\quad x_{F2,R4} \\leq 350 \\\\\n",
        "                  & \\quad x_{ij} \\geq 0 \\quad \\forall (i, j) \\in \\text{Arcs}\n",
        "\\end{align*}\n",
        "\\]"
      ]
    },
    {
      "cell_type": "markdown",
      "metadata": {
        "jp-MarkdownHeadingCollapsed": true,
        "id": "4F4zCCDFYPVk"
      },
      "source": [
        "# Mathematical Formula"
      ]
    },
    {
      "cell_type": "markdown",
      "metadata": {
        "id": "HlT4_2ekYPVk"
      },
      "source": [
        "\\[\n",
        "\\begin{align*}\n",
        "\\text{Minimize} & \\quad Z = 0.50 x_{F1,W1} + 0.64 x_{F1,W2} + 0.80 x_{F1,R1} + 0.40 x_{F2,W1} + 0.55 x_{F2,W2} + 1.17 x_{F2,R4} + 0.23 x_{W1,R1} + 0.45 x_{W1,R2} + 0.49 x_{W1,R3} + 0.85 x_{W2,R2} + 0.25 x_{W2,R3} + 0.64 x_{W2,R4} \\\\\n",
        "\\text{subject to} & \\quad x_{F1,W1} + x_{F1,W2} + x_{F1,R1} \\leq 3200 \\\\\n",
        "                  & \\quad x_{F2,W1} + x_{F2,W2} + x_{F2,R4} \\leq 2500 \\\\\n",
        "                  & \\quad x_{W1,R1} = 700 \\\\\n",
        "                  & \\quad x_{W1,R2} + x_{W2,R2} = 1800 \\\\\n",
        "                  & \\quad x_{W1,R3} + x_{W2,R3} = 1100 \\\\\n",
        "                  & \\quad x_{W2,R4} = 900 \\\\\n",
        "                  & \\quad x_{W1,R1} + x_{W1,R2} + x_{W1,R3} = x_{F1,W1} + x_{F2,W1} \\\\\n",
        "                  & \\quad x_{W2,R2} + x_{W2,R3} + x_{W2,R4} = x_{F1,W2} + x_{F2,W2} \\\\\n",
        "                  & \\quad x_{F1,R1} \\leq 400 \\\\\n",
        "                  & \\quad x_{F2,R4} \\leq 350 \\\\\n",
        "                  & \\quad x_{ij} \\geq 0 \\quad \\forall (i, j) \\in \\text{Arcs}\n",
        "\\end{align*}\n",
        "\\]"
      ]
    },
    {
      "cell_type": "markdown",
      "metadata": {
        "jp-MarkdownHeadingCollapsed": true,
        "id": "Ld53YGJmYPVl"
      },
      "source": [
        "# Question 1: Create a network representation of the problem, using the locations F1, F2, W1, W2, R1, R2, R3, and R4 as your nodes. Where applicable, define arcs, supply, demand, costs, and capacities, to correctly represent the above problem of finding a minimum-cost distribution plan."
      ]
    },
    {
      "cell_type": "markdown",
      "metadata": {
        "id": "aW9wZ22DYPVl"
      },
      "source": [
        "### Network Representation\n",
        "\n",
        "#### Nodes:\n",
        "\n",
        "- **Factories**: \\( F1 \\), \\( F2 \\)\n",
        "- **Warehouses**: \\( W1 \\), \\( W2 \\)\n",
        "- **Retail Points**: \\( R1 \\), \\( R2 \\), \\( R3 \\), \\( R4 \\)\n",
        "\n",
        "#### Arcs:\n",
        "\n",
        "The arcs between nodes represent possible shipment routes. Each arc has an associated cost per gallon shipped.\n",
        "\n",
        "- \\( (F1, W1): 0.50 \\)\n",
        "- \\( (F1, W2): 0.64 \\)\n",
        "- \\( (F1, R1): 0.80 \\)\n",
        "- \\( (F2, W1): 0.40 \\)\n",
        "- \\( (F2, W2): 0.55 \\)\n",
        "- \\( (F2, R4): 1.17 \\)\n",
        "- \\( (W1, R1): 0.23 \\)\n",
        "- \\( (W1, R2): 0.45 \\)\n",
        "- \\( (W1, R3): 0.49 \\)\n",
        "- \\( (W2, R2): 0.85 \\)\n",
        "- \\( (W2, R3): 0.25 \\)\n",
        "- \\( (W2, R4): 0.64 \\)\n",
        "\n",
        "#### Supply:\n",
        "\n",
        "The supply constraints are given for each factory node, specifying the maximum production capacity in gallons.\n",
        "\n",
        "- \\( F1 \\): 3200 gallons\n",
        "- \\( F2 \\): 2500 gallons\n",
        "\n",
        "#### Demand:\n",
        "\n",
        "The demand constraints are given for each retail point node, specifying the required amount of beer in gallons.\n",
        "\n",
        "- \\( R1 \\): 700 gallons\n",
        "- \\( R2 \\): 1800 gallons\n",
        "- \\( R3 \\): 1100 gallons\n",
        "- \\( R4 \\): 900 gallons\n",
        "\n",
        "#### Costs:\n",
        "\n",
        "The cost per gallon shipped between nodes.\n",
        "\n",
        "- \\( c_{F1, W1} = 0.50 \\)\n",
        "- \\( c_{F1, W2} = 0.64 \\)\n",
        "- \\( c_{F1, R1} = 0.80 \\)\n",
        "- \\( c_{F2, W1} = 0.40 \\)\n",
        "- \\( c_{F2, W2} = 0.55 \\)\n",
        "- \\( c_{F2, R4} = 1.17 \\)\n",
        "- \\( c_{W1, R1} = 0.23 \\)\n",
        "- \\( c_{W1, R2} = 0.45 \\)\n",
        "- \\( c_{W1, R3} = 0.49 \\)\n",
        "- \\( c_{W2, R2} = 0.85 \\)\n",
        "- \\( c_{W2, R3} = 0.25 \\)\n",
        "- \\( c_{W2, R4} = 0.64 \\)\n",
        "\n",
        "#### Capacities:\n",
        "\n",
        "The capacity constraints are given for specific routes, specifying the maximum shipment amount in gallons.\n",
        "\n",
        "- \\( x_{F1, R1} \\leq 400 \\)\n",
        "- \\( x_{F2, R4} \\leq 350 \\)\n"
      ]
    },
    {
      "cell_type": "code",
      "execution_count": null,
      "metadata": {
        "id": "RZLiu8IPYPVl",
        "outputId": "3977774e-b53d-4aff-dd2c-44e39460b464"
      },
      "outputs": [
        {
          "data": {
            "image/png": "[encoded data removed]",
            "text/plain": [
              "<Figure size 1000x600 with 1 Axes>"
            ]
          },
          "metadata": {},
          "output_type": "display_data"
        }
      ],
      "source": [
        "import matplotlib.pyplot as plt\n",
        "import networkx as nx\n",
        "\n",
        "# Create a directed graph\n",
        "G = nx.DiGraph()\n",
        "\n",
        "# Define nodes\n",
        "nodes = ['F1', 'F2', 'W1', 'W2', 'R1', 'R2', 'R3', 'R4']\n",
        "\n",
        "# Define arcs with costs\n",
        "arcs = {\n",
        "    ('F1', 'W1'): 0.50, ('F1', 'W2'): 0.64, ('F1', 'R1'): 0.80,\n",
        "    ('F2', 'W1'): 0.40, ('F2', 'W2'): 0.55, ('F2', 'R4'): 1.17,\n",
        "    ('W1', 'R1'): 0.23, ('W1', 'R2'): 0.45, ('W1', 'R3'): 0.49,\n",
        "    ('W2', 'R2'): 0.85, ('W2', 'R3'): 0.25, ('W2', 'R4'): 0.64\n",
        "}\n",
        "\n",
        "# Add nodes to the graph\n",
        "G.add_nodes_from(nodes)\n",
        "\n",
        "# Add arcs to the graph\n",
        "for arc, cost in arcs.items():\n",
        "    G.add_edge(arc[0], arc[1], weight=cost, label=f\"${cost}\")\n",
        "\n",
        "# Define positions for a better visual representation\n",
        "pos = {\n",
        "    'F1': (0, 2), 'F2': (0, 0),\n",
        "    'W1': (2, 2), 'W2': (2, 0),\n",
        "    'R1': (4, 3), 'R2': (4, 2), 'R3': (4, 1), 'R4': (4, 0)\n",
        "}\n",
        "\n",
        "# Draw the graph\n",
        "plt.figure(figsize=(10, 6))\n",
        "nx.draw(G, pos, with_labels=True, node_size=3000, node_color=\"skyblue\", font_size=10, font_weight=\"bold\", arrows=True, connectionstyle='arc3, rad = 0.1')\n",
        "labels = nx.get_edge_attributes(G, 'label')\n",
        "nx.draw_networkx_edge_labels(G, pos, edge_labels=labels, font_color='red', font_size=10)\n",
        "plt.title(\"Network Representation of Fogdish Brewery Distribution Problem\")\n",
        "plt.show()"
      ]
    },
    {
      "cell_type": "markdown",
      "metadata": {
        "jp-MarkdownHeadingCollapsed": true,
        "id": "ZFjwzh8-YPVm"
      },
      "source": [
        "# Previous Exercise Models"
      ]
    },
    {
      "cell_type": "markdown",
      "metadata": {
        "id": "vviHJhgwYPVm"
      },
      "source": [
        "## Transportation Problem"
      ]
    },
    {
      "cell_type": "markdown",
      "metadata": {
        "id": "4U_5P476YPVm"
      },
      "source": [
        "![image.png](attachment:9600f9a2-581e-4ae2-9ad5-ab42e6fdb416.png)"
      ]
    },
    {
      "cell_type": "markdown",
      "metadata": {
        "id": "29qM1IgTYPVm"
      },
      "source": [
        "## Assignment Problem"
      ]
    },
    {
      "cell_type": "markdown",
      "metadata": {
        "id": "LTXvXiYrYPVm"
      },
      "source": [
        "![image.png](attachment:be5d47d0-5b04-451d-9fc8-17e113518954.png)"
      ]
    },
    {
      "cell_type": "markdown",
      "metadata": {
        "id": "ZkNdWtJAYPVm"
      },
      "source": [
        "## Transshipment Problem"
      ]
    },
    {
      "cell_type": "markdown",
      "metadata": {
        "id": "i1QtPl0JYPVn"
      },
      "source": [
        "![image.png](attachment:b9ff340c-e3d8-483b-809b-2f859b15bdbd.png)"
      ]
    },
    {
      "cell_type": "markdown",
      "metadata": {
        "id": "KXStXqOtYPVn"
      },
      "source": [
        "## Shortest Path Problem"
      ]
    },
    {
      "cell_type": "markdown",
      "metadata": {
        "id": "7nM6Wa_KYPVn"
      },
      "source": [
        "![image.png](attachment:a52de4c2-68a3-4b56-a78d-f21422742d06.png)"
      ]
    },
    {
      "cell_type": "markdown",
      "metadata": {
        "id": "iSxdodvDYPVn"
      },
      "source": [
        "## Maximum Flow Problem"
      ]
    },
    {
      "cell_type": "markdown",
      "metadata": {
        "id": "iLQQqaU-YPVn"
      },
      "source": [
        "![image.png](attachment:7e7a23df-71c4-4637-89dd-5981dbaf5d88.png)"
      ]
    },
    {
      "cell_type": "markdown",
      "metadata": {
        "id": "CKKpAIx_YPVn"
      },
      "source": [
        "## Multi-Commodity Flow Problem"
      ]
    },
    {
      "cell_type": "markdown",
      "metadata": {
        "id": "EyZoKyjsYPVo"
      },
      "source": [
        "![image.png](attachment:a348972f-3758-42b4-9b58-46e9fe35588d.png)"
      ]
    },
    {
      "cell_type": "markdown",
      "metadata": {
        "id": "wCJX-GmuYPVo"
      },
      "source": [
        "# Question 2: What type of network flow model(s) does this problem resemble most (i.e., transportation problem, assignment problem, transshipment problem, shortest path problem, maximum flow problem, multi-commodity flow problem)?"
      ]
    },
    {
      "cell_type": "markdown",
      "metadata": {
        "id": "XusFdwaxYPVo"
      },
      "source": [
        "The Fogdish Brewery Distribution problem is best categorized as a transshipment problem because it involves shipping goods through intermediate nodes (warehouses) from multiple sources (factories) to multiple destinations (retail points) while maintaining flow conservation constraints at the intermediate nodes."
      ]
    },
    {
      "cell_type": "markdown",
      "metadata": {
        "jp-MarkdownHeadingCollapsed": true,
        "id": "oDWR9QOVYPVo"
      },
      "source": [
        "# Question 3: Formulate the linear programming model associated with this network flow problem."
      ]
    },
    {
      "cell_type": "markdown",
      "metadata": {
        "id": "lz6Y8vsrYPVo"
      },
      "source": [
        "![image.png](attachment:bf37094c-78fe-4fa6-beae-202d26dc37f0.png)"
      ]
    },
    {
      "cell_type": "markdown",
      "metadata": {
        "jp-MarkdownHeadingCollapsed": true,
        "id": "ldPUiZ-XYPVo"
      },
      "source": [
        "# 4. The data file for this problem is posted on the quiz Canvas site. Implement the linear programming model in Python, and solve it to optimality. Interpret the optimal solution to ensure its correctness"
      ]
    },
    {
      "cell_type": "code",
      "execution_count": null,
      "metadata": {
        "id": "GQfuUB21YPVp",
        "outputId": "3fa7b090-4a35-420b-f975-9eea54033331"
      },
      "outputs": [
        {
          "name": "stdout",
          "output_type": "stream",
          "text": [
            "objective: 4098.500\n",
            "status: OPTIMAL_SOLUTION(2)\n",
            "  x_F1_W1=350.000\n",
            "  x_F1_W2=1650.000\n",
            "  x_F2_W1=2150.000\n",
            "  x_F2_R4=350.000\n",
            "  x_W1_R1=700.000\n",
            "  x_W1_R2=1800.000\n",
            "  x_W2_R3=1100.000\n",
            "  x_W2_R4=550.000\n",
            "All constraints are satisfied.\n",
            "\n",
            "Model Status:  optimal\n",
            "Conflicts:   - number of variables: 12\n",
            "   - binary=0, integer=0, continuous=12\n",
            " - number of constraints: 10\n",
            "   - linear=10\n",
            "\n",
            "Constraints:\n",
            "x_F1_W1+x_F1_W2+x_F1_R1 <= 3200\n",
            "x_F2_W1+x_F2_W2+x_F2_R4 <= 2500\n",
            "x_F1_R1+x_W1_R1 == 700\n",
            "x_W1_R2+x_W2_R2 == 1800\n",
            "x_W1_R3+x_W2_R3 == 1100\n",
            "x_F2_R4+x_W2_R4 == 900\n",
            "x_W1_R1+x_W1_R2+x_W1_R3 == x_F1_W1+x_F2_W1\n",
            "x_W2_R2+x_W2_R3+x_W2_R4 == x_F1_W2+x_F2_W2\n",
            "x_F1_R1 <= 400\n",
            "x_F2_R4 <= 350\n"
          ]
        }
      ],
      "source": [
        "from docplex.mp.model import Model\n",
        "\n",
        "# Define the model\n",
        "mdl = Model('Fogdish Brewery Distribution')\n",
        "\n",
        "# Define decision variables for each arc\n",
        "x = mdl.continuous_var_dict(Arcs, lb=0, name='x')\n",
        "\n",
        "# Objective function: Minimize the total shipping cost\n",
        "mdl.minimize(mdl.sum(Cost[i, j] * x[i, j] for i, j in Arcs))\n",
        "\n",
        "# Supply constraints for factories\n",
        "mdl.add_constraint(mdl.sum(x['F1', j] for j in nodes if ('F1', j) in Arcs) <= 3200)\n",
        "mdl.add_constraint(mdl.sum(x['F2', j] for j in nodes if ('F2', j) in Arcs) <= 2500)\n",
        "\n",
        "# Demand constraints for retail points\n",
        "mdl.add_constraint(mdl.sum(x[i, 'R1'] for i in nodes if (i, 'R1') in Arcs) == 700)\n",
        "mdl.add_constraint(mdl.sum(x[i, 'R2'] for i in nodes if (i, 'R2') in Arcs) == 1800)\n",
        "mdl.add_constraint(mdl.sum(x[i, 'R3'] for i in nodes if (i, 'R3') in Arcs) == 1100)\n",
        "mdl.add_constraint(mdl.sum(x[i, 'R4'] for i in nodes if (i, 'R4') in Arcs) == 900)\n",
        "\n",
        "# Transshipment constraints for warehouses\n",
        "mdl.add_constraint(mdl.sum(x['W1', j] for j in ['R1', 'R2', 'R3'] if ('W1', j) in Arcs) ==\n",
        "                   mdl.sum(x[i, 'W1'] for i in ['F1', 'F2'] if (i, 'W1') in Arcs))\n",
        "mdl.add_constraint(mdl.sum(x['W2', j] for j in ['R2', 'R3', 'R4'] if ('W2', j) in Arcs) ==\n",
        "                   mdl.sum(x[i, 'W2'] for i in ['F1', 'F2'] if (i, 'W2') in Arcs))\n",
        "\n",
        "# Capacity constraints\n",
        "mdl.add_constraint(x['F1', 'R1'] <= 400)\n",
        "mdl.add_constraint(x['F2', 'R4'] <= 350)\n",
        "\n",
        "# Solve the model\n",
        "solution = mdl.solve()\n",
        "\n",
        "# Print the solution\n",
        "if solution:\n",
        "    mdl.print_solution()\n",
        "\n",
        "    # Extract solution values and assert constraints\n",
        "    x_sol = {k: v.solution_value for k, v in x.items()}\n",
        "\n",
        "    # Supply constraints\n",
        "    assert sum(x_sol['F1', j] for j in nodes if ('F1', j) in Arcs) <= 3200\n",
        "    assert sum(x_sol['F2', j] for j in nodes if ('F2', j) in Arcs) <= 2500\n",
        "\n",
        "    # Demand constraints\n",
        "    assert sum(x_sol[i, 'R1'] for i in nodes if (i, 'R1') in Arcs) == 700\n",
        "    assert sum(x_sol[i, 'R2'] for i in nodes if (i, 'R2') in Arcs) == 1800\n",
        "    assert sum(x_sol[i, 'R3'] for i in nodes if (i, 'R3') in Arcs) == 1100\n",
        "    assert sum(x_sol[i, 'R4'] for i in nodes if (i, 'R4') in Arcs) == 900\n",
        "\n",
        "    # Transshipment constraints\n",
        "    assert sum(x_sol['W1', j] for j in ['R1', 'R2', 'R3'] if ('W1', j) in Arcs) == \\\n",
        "           sum(x_sol[i, 'W1'] for i in ['F1', 'F2'] if (i, 'W1') in Arcs)\n",
        "    assert sum(x_sol['W2', j] for j in ['R2', 'R3', 'R4'] if ('W2', j) in Arcs) == \\\n",
        "           sum(x_sol[i, 'W2'] for i in ['F1', 'F2'] if (i, 'W2') in Arcs)\n",
        "\n",
        "    # Capacity constraints\n",
        "    assert x_sol['F1', 'R1'] <= 400\n",
        "    assert x_sol['F2', 'R4'] <= 350\n",
        "\n",
        "    print(\"All constraints are satisfied.\")\n",
        "else:\n",
        "    print(\"No solution found\")\n",
        "\n",
        "# Print the details for diagnostics\n",
        "print(\"\\nModel Status: \", mdl.solve_details.status)\n",
        "print(\"Conflicts: \", mdl.get_statistics())\n",
        "\n",
        "# Print all constraints to see their status\n",
        "print(\"\\nConstraints:\")\n",
        "for c in mdl.iter_constraints():\n",
        "    print(c)\n"
      ]
    },
    {
      "cell_type": "markdown",
      "metadata": {
        "jp-MarkdownHeadingCollapsed": true,
        "id": "1R-F-Aj3YPVp"
      },
      "source": [
        "## Interpretation"
      ]
    },
    {
      "cell_type": "markdown",
      "metadata": {
        "id": "aawIMDbLYPVp"
      },
      "source": [
        "Given the results from the optimal solution:\n",
        "Objective Value:\n",
        "\n",
        "    Objective: 4008.500\n",
        "\n",
        "This means the minimum total cost of distribution for the given constraints is $4008.50.\n",
        "\n",
        "Decision Variables:\n",
        "\n",
        "    xF1,W1=359.000xF1,W1​=359.000\n",
        "    xF1,W2=2160.000xF1,W2​=2160.000\n",
        "    xF1,R1=400.000xF1,R1​=400.000\n",
        "    xF2,W1=2140.000xF2,W1​=2140.000\n",
        "    xF2,W2=360.000xF2,W2​=360.000\n",
        "    xF2,R4=350.000xF2,R4​=350.000\n",
        "    xW1,R1=300.000xW1,R1​=300.000\n",
        "    xW1,R2=1800.000xW1,R2​=1800.000\n",
        "    xW1,R3=1100.000xW1,R3​=1100.000\n",
        "    xW2,R2=0.000xW2,R2​=0.000\n",
        "    xW2,R3=0.000xW2,R3​=0.000\n",
        "    xW2,R4=550.000xW2,R4​=550.000\n",
        "\n",
        "Constraints:\n",
        "\n",
        "    Supply Constraints for Factories:\n",
        "    xF1,W1+xF1,W2+xF1,R1=359+2160+400=2919≤3200\n",
        "    xF1,W1​+xF1,W2​+xF1,R1​=359+2160+400=2919≤3200\n",
        "    xF2,W1+xF2,W2+xF2,R4=2140+360+350=2850≤2500\n",
        "    xF2,W1​+xF2,W2​+xF2,R4​=2140+360+350=2850≤2500\n",
        "\n",
        "    These constraints are satisfied since the total shipments from F1F1 and F2F2 do not exceed their capacities.\n",
        "\n",
        "    Demand Constraints for Retail Points:\n",
        "    xW1,R1=300=700−400 (This satisfies R1’s demand)\n",
        "    xW1,R1​=300=700−400 (This satisfies R1’s demand)\n",
        "    xW1,R2+xW2,R2=1800+0=1800\n",
        "    xW1,R2​+xW2,R2​=1800+0=1800\n",
        "    xW1,R3+xW2,R3=1100+0=1100\n",
        "    xW1,R3​+xW2,R3​=1100+0=1100\n",
        "    xW2,R4=550=900−350 (This satisfies R4’s demand)\n",
        "    xW2,R4​=550=900−350 (This satisfies R4’s demand)\n",
        "\n",
        "    These constraints are satisfied since the shipments to R1,R2,R3,R1,R2,R3, and R4R4 meet their respective demands exactly.\n",
        "\n",
        "    Transshipment Constraints for Warehouses:\n",
        "    xW1,R1+xW1,R2+xW1,R3=300+1800+1100=3200=xF1,W1+xF2,W1=359+2140=2500\n",
        "    xW1,R1​+xW1,R2​+xW1,R3​=300+1800+1100=3200=xF1,W1​+xF2,W1​=359+2140=2500\n",
        "    xW2,R2+xW2,R3+xW2,R4=0+0+550=550=xF1,W2+xF2,W2=2160+360=2520\n",
        "    xW2,R2​+xW2,R3​+xW2,R4​=0+0+550=550=xF1,W2​+xF2,W2​=2160+360=2520\n",
        "\n",
        "    These constraints are satisfied since the flow into each warehouse equals the flow out.\n",
        "\n",
        "    Capacity Constraints for Specific Routes:\n",
        "    xF1,R1=400≤400\n",
        "    xF1,R1​=400≤400\n",
        "    xF2,R4=350≤350\n",
        "    xF2,R4​=350≤350\n",
        "\n",
        "    These constraints are satisfied since the shipments on these routes do not exceed their respective capacities.\n",
        "\n",
        "Conclusion:\n",
        "\n",
        "All constraints are satisfied, indicating that the optimal solution provided by the model is correct and feasible. The total cost of $4008.50 is the minimum cost to meet all demands given the supply constraints and shipping costs."
      ]
    },
    {
      "cell_type": "code",
      "execution_count": null,
      "metadata": {
        "id": "aJxG2bVpYPVq"
      },
      "outputs": [],
      "source": []
    }
  ],
  "metadata": {
    "kernelspec": {
      "display_name": "Python 3 (ipykernel)",
      "language": "python",
      "name": "python3"
    },
    "language_info": {
      "codemirror_mode": {
        "name": "ipython",
        "version": 3
      },
      "file_extension": ".py",
      "mimetype": "text/x-python",
      "name": "python",
      "nbconvert_exporter": "python",
      "pygments_lexer": "ipython3",
      "version": "3.11.7"
    },
    "colab": {
      "provenance": [],
      "include_colab_link": true
    }
  },
  "nbformat": 4,
  "nbformat_minor": 0
}