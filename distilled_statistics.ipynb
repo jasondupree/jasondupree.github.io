{
  "nbformat": 4,
  "nbformat_minor": 0,
  "metadata": {
    "colab": {
      "provenance": [],
      "collapsed_sections": [
        "7UI77eMT_un_",
        "-lFlCc_6BHEg",
        "c17GFGrGEJj9",
        "raoq4x8Z2Xlb",
        "YDZWND224f_f",
        "P39TPoFZ4p8s",
        "sYBWw1Up6_4L",
        "2VhJ9YS17Y1B"
      ],
      "authorship_tag": "ABX9TyMyvYNA2tXw1AlfE4KQ9h8W",
      "include_colab_link": true
    },
    "kernelspec": {
      "name": "python3",
      "display_name": "Python 3"
    },
    "language_info": {
      "name": "python"
    }
  },
  "cells": [
    {
      "cell_type": "markdown",
      "metadata": {
        "id": "view-in-github",
        "colab_type": "text"
      },
      "source": [
        "<a href=\"https://colab.research.google.com/github/jasondupree/jasondupree.github.io/blob/main/distilled_statistics.ipynb\" target=\"_parent\"><img src=\"https://colab.research.google.com/assets/colab-badge.svg\" alt=\"Open In Colab\"/></a>"
      ]
    },
    {
      "cell_type": "code",
      "execution_count": 11,
      "metadata": {
        "id": "31c7b4s60uyG"
      },
      "outputs": [],
      "source": [
        "import pandas as pd\n",
        "import numpy as np\n",
        "from fractions import Fraction\n",
        "from numpy import sqrt\n",
        "import math"
      ]
    },
    {
      "cell_type": "markdown",
      "source": [
        "### Independent Events"
      ],
      "metadata": {
        "id": "7UI77eMT_un_"
      }
    },
    {
      "cell_type": "code",
      "source": [
        "### When to Use:\n",
        "# When you have two events happening that:\n",
        "  # Are NOT mutually exclusive, and\n",
        "  # Do not impact one another.\n",
        "\n",
        "# P(A and B) = P(A) * P(B)\n",
        "\n",
        "# Variables\n",
        "a = 1/4 # Probability of it Raining\n",
        "b = 1/6 # Probability of Getting a 1 on a Die\n",
        "\n",
        "def indep_event(a,b):\n",
        "  indep_prob = round(a * b,4)\n",
        "  print('Independent Probability:', indep_prob)\n",
        "  return"
      ],
      "metadata": {
        "id": "igVfP3HB_wxV"
      },
      "execution_count": 27,
      "outputs": []
    },
    {
      "cell_type": "code",
      "source": [
        "indep_event(a,b)"
      ],
      "metadata": {
        "colab": {
          "base_uri": "https://localhost:8080/"
        },
        "id": "Q_M-p7uKA2_F",
        "outputId": "b27196ff-4c30-4f61-ff6a-f4a5115bf9c6"
      },
      "execution_count": 28,
      "outputs": [
        {
          "output_type": "stream",
          "name": "stdout",
          "text": [
            "Independent Probability: 0.0417\n"
          ]
        }
      ]
    },
    {
      "cell_type": "markdown",
      "source": [
        "### Dependent Events"
      ],
      "metadata": {
        "id": "-lFlCc_6BHEg"
      }
    },
    {
      "cell_type": "code",
      "source": [
        "### When to Use:\n",
        "# When you have two events happening that:\n",
        "  # Are NOT mutually exclusive, and\n",
        "  # Do not impact one another.\n",
        "\n",
        "# P(A and B) = P(A) * P(B)\n",
        "\n",
        "# Variables\n",
        "a = 1/4 # Probability of it Raining\n",
        "b = 1/6 # Probability of Getting a 1 on a Die\n",
        "\n",
        "def dep_event(a,b):\n",
        "  dep_prob = round(a * b,4)\n",
        "  print('Dependent Probability:', dep_prob)\n",
        "  return"
      ],
      "metadata": {
        "id": "L6cyWOHOBHEi"
      },
      "execution_count": null,
      "outputs": []
    },
    {
      "cell_type": "code",
      "source": [
        "dep_event(a,b)"
      ],
      "metadata": {
        "colab": {
          "base_uri": "https://localhost:8080/"
        },
        "outputId": "b27196ff-4c30-4f61-ff6a-f4a5115bf9c6",
        "id": "Mr7T3VyYBHEj"
      },
      "execution_count": null,
      "outputs": [
        {
          "output_type": "stream",
          "name": "stdout",
          "text": [
            "Independent Probability: 0.0417\n"
          ]
        }
      ]
    },
    {
      "cell_type": "markdown",
      "source": [],
      "metadata": {
        "id": "jSKMBJhOEItS"
      }
    },
    {
      "cell_type": "markdown",
      "source": [
        "### Conditional Probability"
      ],
      "metadata": {
        "id": "c17GFGrGEJj9"
      }
    },
    {
      "cell_type": "code",
      "source": [
        "### When to Use:\n",
        "# When you have two events happening that:\n",
        "  # Are NOT mutually exclusive, and\n",
        "  # DO impact one another.\n",
        "\n",
        "# P(A|B) = P(A AND B) / P(B)\n",
        "\n",
        "# Note that if A and B are independent, it doesn't matter that B occurred and the formula above becomes P(A|B) = P(A). Or, inversely, P(B|A) = P(B)\n",
        "\n",
        "# Variables\n",
        "a = 1/4 # Probability of it Raining\n",
        "b = 1/6 # Probability of Getting Wet\n",
        "\n",
        "def cond_prob(a,b):\n",
        "  cond_prob = round(((a * b) / b),4)\n",
        "  print('Conditional Probability:', cond_prob)\n",
        "  return"
      ],
      "metadata": {
        "id": "4ZPgS-kMEJj-"
      },
      "execution_count": 29,
      "outputs": []
    },
    {
      "cell_type": "code",
      "source": [
        "cond_prob(a,b)"
      ],
      "metadata": {
        "colab": {
          "base_uri": "https://localhost:8080/"
        },
        "outputId": "a94b310f-3b67-4794-8166-ab813efc57fa",
        "id": "VmkyA93jEJj-"
      },
      "execution_count": 30,
      "outputs": [
        {
          "output_type": "stream",
          "name": "stdout",
          "text": [
            "Conditional Probability: 0.25\n"
          ]
        }
      ]
    },
    {
      "cell_type": "markdown",
      "source": [],
      "metadata": {
        "id": "QZj0917yEJj_"
      }
    },
    {
      "cell_type": "markdown",
      "source": [
        "### Normal Distribution"
      ],
      "metadata": {
        "id": "raoq4x8Z2Xlb"
      }
    },
    {
      "cell_type": "code",
      "source": [
        "### When to Use:\n",
        "\n",
        "\n",
        "# Variables\n",
        "n = 4 # Four Dice Rolls\n",
        "p = 1/6 # Probability of Getting a 1\n",
        "x = 2 # Objective of Rolling 1 Twice\n",
        "q = round(1 - p,2) # Complement (Probability of Failure)\n",
        "\n",
        "def normal_dist(p,x,n,q):\n",
        "  # # Mean\n",
        "  # mean = round(n*p,2)\n",
        "  # print('Mean:', mean)\n",
        "  # # Variance\n",
        "  # var = n*p*(1-p)\n",
        "  # std = sqrt(n*p*(1-p))\n",
        "  # print('Variance:', var)\n",
        "  # print('Standard Deviation: ', std)\n",
        "  # # Factorial\n",
        "  # fact_num = math.factorial(n)\n",
        "  # fact_denom = math.factorial(n-x) * math.factorial(x)\n",
        "  # fraction = fact_num/fact_denom\n",
        "  # print('Factorial Numerator:', fact_num)\n",
        "  # print('Factorial Denominator:', fact_denom)\n",
        "  # print('n choose x:', fact_num/fact_denom)\n",
        "  # # Probability\n",
        "  # prob = round((p**x) * (q**(n-x)),4)\n",
        "  # print('Probability:', prob)\n",
        "  # # Binomial Distribution\n",
        "  # binom_dist = fraction * prob\n",
        "  # print('Binomial Distribution:', binom_dist)\n",
        "  return"
      ],
      "metadata": {
        "id": "fE4C47jz0xxV"
      },
      "execution_count": 23,
      "outputs": []
    },
    {
      "cell_type": "code",
      "source": [
        "normal_dist(p,x,n,q)"
      ],
      "metadata": {
        "colab": {
          "base_uri": "https://localhost:8080/"
        },
        "id": "Ja3nQfDf1F57",
        "outputId": "9927a2ca-e813-4b65-cdfe-5aefbeda3c80"
      },
      "execution_count": 18,
      "outputs": [
        {
          "output_type": "stream",
          "name": "stdout",
          "text": [
            "Mean: 0.67\n",
            "Variance: 0.5555555555555556\n",
            "Standard Deviation:  0.7453559924999299\n",
            "Factorial Numerator: 24\n",
            "Factorial Denominator: 4\n",
            "n choose x: 6.0\n",
            "Probability: 0.0191\n",
            "Binomial Distribution: 0.1146\n"
          ]
        }
      ]
    },
    {
      "cell_type": "markdown",
      "source": [],
      "metadata": {
        "id": "whs6nyyA4fTH"
      }
    },
    {
      "cell_type": "markdown",
      "source": [
        "### Binominal Distribution"
      ],
      "metadata": {
        "id": "YDZWND224f_f"
      }
    },
    {
      "cell_type": "code",
      "source": [
        "### When to Use:\n",
        "# Remember BINS for Binomial Distribution\n",
        "# *   B - Binary Outcomes\n",
        "# *   I - Independent Trials\n",
        "# *   N - Number of Trials\n",
        "# *   S = Same Probability per Trial\n",
        "\n",
        "# Variables\n",
        "n = 4 # Four Dice Rolls\n",
        "p = 1/6 # Probability of Getting a 1\n",
        "x = 2 # Objective of Rolling 1 Twice\n",
        "q = round(1 - p,2) # Complement (Probability of Failure)\n",
        "\n",
        "def binom_dist(p,x,n,q):\n",
        "  # Mean\n",
        "  mean = round(n*p,2)\n",
        "  print('Mean:', mean)\n",
        "  # Variance\n",
        "  var = n*p*(1-p)\n",
        "  std = sqrt(n*p*(1-p))\n",
        "  print('Variance:', var)\n",
        "  print('Standard Deviation: ', std)\n",
        "  # Factorial\n",
        "  fact_num = math.factorial(n)\n",
        "  fact_denom = math.factorial(n-x) * math.factorial(x)\n",
        "  fraction = fact_num/fact_denom\n",
        "  print('Factorial Numerator:', fact_num)\n",
        "  print('Factorial Denominator:', fact_denom)\n",
        "  print('n choose x:', fact_num/fact_denom)\n",
        "  # Probability\n",
        "  prob = round((p**x) * (q**(n-x)),4)\n",
        "  print('Probability:', prob)\n",
        "  # Binomial Distribution\n",
        "  binom_dist = fraction * prob\n",
        "  print('Binomial Distribution:', binom_dist)\n",
        "  return"
      ],
      "metadata": {
        "id": "gQZISunW4f_g"
      },
      "execution_count": null,
      "outputs": []
    },
    {
      "cell_type": "code",
      "source": [
        "binom_dist(p,x,n,q)"
      ],
      "metadata": {
        "colab": {
          "base_uri": "https://localhost:8080/"
        },
        "outputId": "414d16b4-1f72-4bdf-d3a8-1bb94a85b989",
        "id": "iv8HUd544f_g"
      },
      "execution_count": null,
      "outputs": [
        {
          "output_type": "stream",
          "name": "stdout",
          "text": [
            "Mean: 0.67\n",
            "Variance: 0.5555555555555556\n",
            "Standard Deviation:  0.7453559924999299\n",
            "Factorial Numerator: 24\n",
            "Factorial Denominator: 4\n",
            "n choose x: 6.0\n",
            "Probability: 0.0191\n",
            "Binomial Distribution: 0.1146\n"
          ]
        }
      ]
    },
    {
      "cell_type": "markdown",
      "source": [],
      "metadata": {
        "id": "YGk_Iwks4pOh"
      }
    },
    {
      "cell_type": "markdown",
      "source": [
        "### Poisson Distribution"
      ],
      "metadata": {
        "id": "P39TPoFZ4p8s"
      }
    },
    {
      "cell_type": "code",
      "source": [
        "### When to Use:\n",
        "# Probability of x event happening over a given time period.\n",
        "# Example: Number of raindrops over x minutes.\n",
        "# Example: Probability of two car parts failing over next 50,000 miles.\n",
        "\n",
        "# Variables\n",
        "n = 4 # Four Dice Rolls\n",
        "p = 1/6 # Probability of Getting a 1\n",
        "x = 2 # Objective of Rolling 1 Twice\n",
        "q = round(1 - p,2) # Complement (Probability of Failure)\n",
        "\n",
        "def binom_dist(p,x,n,q):\n",
        "  # # Mean\n",
        "  # mean = round(n*p,2)\n",
        "  # print('Mean:', mean)\n",
        "  # # Variance\n",
        "  # var = n*p*(1-p)\n",
        "  # std = sqrt(n*p*(1-p))\n",
        "  # print('Variance:', var)\n",
        "  # print('Standard Deviation: ', std)\n",
        "  # # Factorial\n",
        "  # fact_num = math.factorial(n)\n",
        "  # fact_denom = math.factorial(n-x) * math.factorial(x)\n",
        "  # fraction = fact_num/fact_denom\n",
        "  # print('Factorial Numerator:', fact_num)\n",
        "  # print('Factorial Denominator:', fact_denom)\n",
        "  # print('n choose x:', fact_num/fact_denom)\n",
        "  # # Probability\n",
        "  # prob = round((p**x) * (q**(n-x)),4)\n",
        "  # print('Probability:', prob)\n",
        "  # # Binomial Distribution\n",
        "  # binom_dist = fraction * prob\n",
        "  # print('Binomial Distribution:', binom_dist)\n",
        "  return"
      ],
      "metadata": {
        "id": "TjMvObuS4p8w"
      },
      "execution_count": null,
      "outputs": []
    },
    {
      "cell_type": "code",
      "source": [
        "poisson_dist(p,x,n,q)"
      ],
      "metadata": {
        "colab": {
          "base_uri": "https://localhost:8080/"
        },
        "outputId": "3f955bd5-5700-46bf-b582-256796a96fca",
        "id": "i-xPQMe-4p8y"
      },
      "execution_count": 19,
      "outputs": [
        {
          "output_type": "stream",
          "name": "stdout",
          "text": [
            "Mean: 0.67\n",
            "Variance: 0.5555555555555556\n",
            "Standard Deviation:  0.7453559924999299\n",
            "Factorial Numerator: 24\n",
            "Factorial Denominator: 4\n",
            "n choose x: 6.0\n",
            "Probability: 0.0191\n",
            "Binomial Distribution: 0.1146\n"
          ]
        }
      ]
    },
    {
      "cell_type": "markdown",
      "source": [],
      "metadata": {
        "id": "IU-Lvj2O6_YM"
      }
    },
    {
      "cell_type": "markdown",
      "source": [
        "### Uniform Distribution"
      ],
      "metadata": {
        "id": "sYBWw1Up6_4L"
      }
    },
    {
      "cell_type": "code",
      "source": [
        "### When to Use:\n",
        "\n",
        "\n",
        "# Characterized as having a constant probability within a Domain\n",
        "# Additionally, due to distribution symmetry, the mean = median.\n",
        "\n",
        "# Example: Bus is uniformly late between 2 and 10 minutes.\n",
        "# How long can you expect to wait?\n",
        "# With what standard deviation?\n",
        "# If it's > 7 mins late, you'll be late for work.\n",
        "# What's the probability of you being later for work?\n",
        "\n",
        "# Implicit quesiton - what's the probability of the bus being > 7 mins late?\n",
        "# P(7 <= X <= 10)) =\n",
        "\n",
        "# Variables\n",
        "a = 2 # lowerbound threshold\n",
        "b = 10 # upperbound threshold\n",
        "c = 7 # Bus late lowerbound threshhold\n",
        "d = 10 # Bus late upperbound threshold\n",
        "\n",
        "\n",
        "def uniform_dist(a,b,c,d):\n",
        "  # Mean\n",
        "  mean = round((a+b)/2,2)\n",
        "  print('Mean:', mean)\n",
        "  # Variance + Standard Deviation\n",
        "  var = round(((b-a)**2)/12,4)\n",
        "  std = round(sqrt(((b-a)**2)/12),4)\n",
        "  print('Variance:', var)\n",
        "  print('Standard Deviation: ', std)\n",
        "  # Probability Density Function\n",
        "  prob_dens = 1/(b-a)\n",
        "  print('Probability Density Function: ', prob_dens)\n",
        "  # Conditional Probability\n",
        "  prob = round(((d-c)/(b-a)),4)\n",
        "  print('Probability:', prob)\n",
        "  return"
      ],
      "metadata": {
        "id": "Uy3KIr3q6_4N"
      },
      "execution_count": 39,
      "outputs": []
    },
    {
      "cell_type": "code",
      "source": [
        "uniform_dist(a,b,c,d)"
      ],
      "metadata": {
        "colab": {
          "base_uri": "https://localhost:8080/"
        },
        "outputId": "c80be59c-0e04-47ff-c39a-05e77616ff12",
        "id": "F3XVSfwD6_4O"
      },
      "execution_count": 40,
      "outputs": [
        {
          "output_type": "stream",
          "name": "stdout",
          "text": [
            "Mean: 6.0\n",
            "Variance: 5.3333\n",
            "Standard Deviation:  2.3094\n",
            "Probability Density Function:  0.125\n",
            "Probability: 0.375\n"
          ]
        }
      ]
    },
    {
      "cell_type": "markdown",
      "source": [],
      "metadata": {
        "id": "GbE85Sc36_4P"
      }
    },
    {
      "cell_type": "markdown",
      "source": [
        "### Bayes' Theorem"
      ],
      "metadata": {
        "id": "2VhJ9YS17Y1B"
      }
    },
    {
      "cell_type": "code",
      "source": [
        "### When to Use:\n",
        "\n",
        "\n",
        "\n",
        "# Variables\n",
        "n = 4 # Four Dice Rolls\n",
        "p = 1/6 # Probability of Getting a 1\n",
        "x = 2 # Objective of Rolling 1 Twice\n",
        "q = round(1 - p,2) # Complement (Probability of Failure)\n",
        "\n",
        "def bayes_theorem(p,x,n,q):\n",
        "  # # Mean\n",
        "  # mean = round(n*p,2)\n",
        "  # print('Mean:', mean)\n",
        "  # # Variance\n",
        "  # var = n*p*(1-p)\n",
        "  # std = sqrt(n*p*(1-p))\n",
        "  # print('Variance:', var)\n",
        "  # print('Standard Deviation: ', std)\n",
        "  # # Factorial\n",
        "  # fact_num = math.factorial(n)\n",
        "  # fact_denom = math.factorial(n-x) * math.factorial(x)\n",
        "  # fraction = fact_num/fact_denom\n",
        "  # print('Factorial Numerator:', fact_num)\n",
        "  # print('Factorial Denominator:', fact_denom)\n",
        "  # print('n choose x:', fact_num/fact_denom)\n",
        "  # # Probability\n",
        "  # prob = round((p**x) * (q**(n-x)),4)\n",
        "  # print('Probability:', prob)\n",
        "  # # Binomial Distribution\n",
        "  # binom_dist = fraction * prob\n",
        "  # print('Binomial Distribution:', binom_dist)\n",
        "  return"
      ],
      "metadata": {
        "id": "LQ0BM4r_7Y1D"
      },
      "execution_count": null,
      "outputs": []
    },
    {
      "cell_type": "code",
      "source": [
        "bayes_theorem(p,x,n,q)"
      ],
      "metadata": {
        "id": "ZY0y8D4o7Y1E"
      },
      "execution_count": null,
      "outputs": []
    },
    {
      "cell_type": "markdown",
      "source": [],
      "metadata": {
        "id": "Jq1plvPR7Y1F"
      }
    }
  ]
}