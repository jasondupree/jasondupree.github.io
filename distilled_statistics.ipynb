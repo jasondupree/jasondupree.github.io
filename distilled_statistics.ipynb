{
  "nbformat": 4,
  "nbformat_minor": 0,
  "metadata": {
    "colab": {
      "provenance": [],
      "collapsed_sections": [
        "7UI77eMT_un_",
        "-lFlCc_6BHEg",
        "c17GFGrGEJj9",
        "UN--DuN9aNhW",
        "raoq4x8Z2Xlb",
        "XQzJJOHshbRH",
        "kkriOL4Ng_Pk",
        "uuOqKRVEgUIQ",
        "YDZWND224f_f",
        "Dd6z3c2W87De",
        "IU-Lvj2O6_YM",
        "_fP9QhuU_eWm",
        "RFDZmQPDAOEV",
        "sYBWw1Up6_4L",
        "wsk7_6b8Om_m",
        "2VhJ9YS17Y1B"
      ],
      "authorship_tag": "ABX9TyN43IgH2KflVB7ktoiwITH9",
      "include_colab_link": true
    },
    "kernelspec": {
      "name": "python3",
      "display_name": "Python 3"
    },
    "language_info": {
      "name": "python"
    }
  },
  "cells": [
    {
      "cell_type": "markdown",
      "metadata": {
        "id": "view-in-github",
        "colab_type": "text"
      },
      "source": [
        "<a href=\"https://colab.research.google.com/github/jasondupree/jasondupree.github.io/blob/main/distilled_statistics.ipynb\" target=\"_parent\"><img src=\"https://colab.research.google.com/assets/colab-badge.svg\" alt=\"Open In Colab\"/></a>"
      ]
    },
    {
      "cell_type": "code",
      "execution_count": 27,
      "metadata": {
        "id": "31c7b4s60uyG"
      },
      "outputs": [],
      "source": [
        "import pandas as pd\n",
        "import numpy as np\n",
        "from fractions import Fraction\n",
        "from numpy import sqrt\n",
        "from numpy import random\n",
        "import math\n",
        "import scipy as sp\n",
        "from scipy.stats import poisson\n",
        "import matplotlib.pyplot as plt"
      ]
    },
    {
      "cell_type": "markdown",
      "source": [
        "### Independent Events"
      ],
      "metadata": {
        "id": "7UI77eMT_un_"
      }
    },
    {
      "cell_type": "code",
      "source": [
        "### When to Use:\n",
        "# When you have two events happening that:\n",
        "  # Are NOT mutually exclusive, and\n",
        "  # Do not impact one another.\n",
        "\n",
        "# P(A and B) = P(A) * P(B)\n",
        "\n",
        "# Variables\n",
        "a = 1/4 # Probability of it Raining\n",
        "b = 1/6 # Probability of Getting a 1 on a Die\n",
        "\n",
        "def indep_event(a,b):\n",
        "  indep_prob = round(a * b,4)\n",
        "  print('Independent Probability:', indep_prob)\n",
        "  return"
      ],
      "metadata": {
        "id": "igVfP3HB_wxV"
      },
      "execution_count": null,
      "outputs": []
    },
    {
      "cell_type": "code",
      "source": [
        "indep_event(a,b)"
      ],
      "metadata": {
        "colab": {
          "base_uri": "https://localhost:8080/"
        },
        "id": "Q_M-p7uKA2_F",
        "outputId": "67f33559-a967-47ca-fb70-2477d7371f85"
      },
      "execution_count": null,
      "outputs": [
        {
          "output_type": "stream",
          "name": "stdout",
          "text": [
            "Independent Probability: 0.0417\n"
          ]
        }
      ]
    },
    {
      "cell_type": "markdown",
      "source": [
        "### Dependent Events"
      ],
      "metadata": {
        "id": "-lFlCc_6BHEg"
      }
    },
    {
      "cell_type": "code",
      "source": [
        "### When to Use:\n",
        "# When you have two events happening that:\n",
        "  # Are NOT mutually exclusive, and\n",
        "  # Do not impact one another.\n",
        "\n",
        "# P(A and B) = P(A) * P(B)\n",
        "\n",
        "# Variables\n",
        "a = 1/4 # Probability of it Raining\n",
        "b = 1/6 # Probability of Getting a 1 on a Die\n",
        "\n",
        "def dep_event(a,b):\n",
        "  dep_prob = round(a * b,4)\n",
        "  print('Dependent Probability:', dep_prob)\n",
        "  return"
      ],
      "metadata": {
        "id": "L6cyWOHOBHEi"
      },
      "execution_count": null,
      "outputs": []
    },
    {
      "cell_type": "code",
      "source": [
        "dep_event(a,b)"
      ],
      "metadata": {
        "colab": {
          "base_uri": "https://localhost:8080/"
        },
        "outputId": "b27196ff-4c30-4f61-ff6a-f4a5115bf9c6",
        "id": "Mr7T3VyYBHEj"
      },
      "execution_count": null,
      "outputs": [
        {
          "output_type": "stream",
          "name": "stdout",
          "text": [
            "Independent Probability: 0.0417\n"
          ]
        }
      ]
    },
    {
      "cell_type": "markdown",
      "source": [],
      "metadata": {
        "id": "jSKMBJhOEItS"
      }
    },
    {
      "cell_type": "markdown",
      "source": [
        "### Conditional Probability"
      ],
      "metadata": {
        "id": "c17GFGrGEJj9"
      }
    },
    {
      "cell_type": "code",
      "source": [
        "### When to Use:\n",
        "# When you have two events happening that:\n",
        "  # Are NOT mutually exclusive, and\n",
        "  # DO impact one another.\n",
        "\n",
        "# P(A|B) = P(A AND B) / P(B)\n",
        "\n",
        "# Note that if A and B are independent, it doesn't matter that B occurred and the formula above becomes P(A|B) = P(A). Or, inversely, P(B|A) = P(B)\n",
        "\n",
        "# Variables\n",
        "a = 1/4 # Probability of it Raining\n",
        "b = 1/6 # Probability of Getting Wet\n",
        "\n",
        "def cond_prob(a,b):\n",
        "  cond_prob = round(((a * b) / b),4)\n",
        "  print('Conditional Probability:', cond_prob)\n",
        "  return"
      ],
      "metadata": {
        "id": "4ZPgS-kMEJj-"
      },
      "execution_count": null,
      "outputs": []
    },
    {
      "cell_type": "code",
      "source": [
        "cond_prob(a,b)"
      ],
      "metadata": {
        "colab": {
          "base_uri": "https://localhost:8080/"
        },
        "outputId": "a94b310f-3b67-4794-8166-ab813efc57fa",
        "id": "VmkyA93jEJj-"
      },
      "execution_count": null,
      "outputs": [
        {
          "output_type": "stream",
          "name": "stdout",
          "text": [
            "Conditional Probability: 0.25\n"
          ]
        }
      ]
    },
    {
      "cell_type": "markdown",
      "source": [],
      "metadata": {
        "id": "jZuKIQapaNP_"
      }
    },
    {
      "cell_type": "markdown",
      "source": [
        "### Standardized Data\n",
        "Standardize for Normal Distribution"
      ],
      "metadata": {
        "id": "UN--DuN9aNhW"
      }
    },
    {
      "cell_type": "code",
      "source": [
        "# Variables\n",
        "x = 67 #\n",
        "μ = 66 #\n",
        "σ = 2 #\n",
        "\n",
        "def standardize(x,μ,σ):\n",
        "  # mean = 0\n",
        "  # std = 1\n",
        "  # Z-score = (x - μ) / σ // data point x minus mean divided by sigma\n",
        "  # Z-score tells you have many standard deviations the data point is away from the mean\n",
        "  z_score = (x - μ) / σ\n",
        "  print('Z-score:', z_score)\n",
        "  p_value = sp.special.ndtr(z_score)\n",
        "  print('P-value:', p_value) # Means there is a 69.15% chance of having a z-score less than 0.5.\n",
        "  return"
      ],
      "metadata": {
        "id": "vIoe8FycaXvN"
      },
      "execution_count": null,
      "outputs": []
    },
    {
      "cell_type": "code",
      "source": [
        "standardize(x,μ,σ)"
      ],
      "metadata": {
        "colab": {
          "base_uri": "https://localhost:8080/"
        },
        "id": "aoqrZF4BacUL",
        "outputId": "15b9e6a2-f26e-4bba-a565-e5e31a517467"
      },
      "execution_count": null,
      "outputs": [
        {
          "output_type": "stream",
          "name": "stdout",
          "text": [
            "Z-score: 0.5\n",
            "P-value: 0.6914624612740131\n"
          ]
        }
      ]
    },
    {
      "cell_type": "code",
      "source": [
        "### When to Use:\n",
        "# When you have two events happening that:\n",
        "  # Are NOT mutually exclusive, and\n",
        "  # DO impact one another.\n",
        "\n",
        "# P(A|B) = P(A AND B) / P(B)\n",
        "\n",
        "# Note that if A and B are independent, it doesn't matter that B occurred and the formula above becomes P(A|B) = P(A). Or, inversely, P(B|A) = P(B)\n",
        "\n",
        "# Variables\n",
        "a = 1/4 # Probability of it Raining\n",
        "b = 1/6 # Probability of Getting Wet\n",
        "\n",
        "def cond_prob(a,b):\n",
        "  cond_prob = round(((a * b) / b),4)\n",
        "  print('Conditional Probability:', cond_prob)\n",
        "  return"
      ],
      "metadata": {
        "id": "cyzy6sVVaNhX"
      },
      "execution_count": null,
      "outputs": []
    },
    {
      "cell_type": "code",
      "source": [
        "cond_prob(a,b)"
      ],
      "metadata": {
        "colab": {
          "base_uri": "https://localhost:8080/"
        },
        "outputId": "a94b310f-3b67-4794-8166-ab813efc57fa",
        "id": "Sh0Z7onyaNhY"
      },
      "execution_count": null,
      "outputs": [
        {
          "output_type": "stream",
          "name": "stdout",
          "text": [
            "Conditional Probability: 0.25\n"
          ]
        }
      ]
    },
    {
      "cell_type": "markdown",
      "source": [
        "### Normal Distribution"
      ],
      "metadata": {
        "id": "raoq4x8Z2Xlb"
      }
    },
    {
      "cell_type": "markdown",
      "source": [
        "#### What's the prob. of getting free pizza?"
      ],
      "metadata": {
        "id": "XQzJJOHshbRH"
      }
    },
    {
      "cell_type": "code",
      "source": [
        "### When to Use:\n",
        "# Heights, weights, etc.\n",
        "\n",
        "\n",
        "# Example:\n",
        "\n",
        "# Your local pizza shop claims their large is at least 16 in. or it's free.\n",
        "# Their pizza is normally distributed with μ = 16.3 in. and σ = 0.2 in.\n",
        "\n",
        "\n",
        "# Variables\n",
        "x = 16 #\n",
        "μ = 16.3 #\n",
        "σ = 0.2 #\n",
        "\n",
        "def standardize(x,μ,σ):\n",
        "  # mean = 0\n",
        "  # std = 1\n",
        "  # Z-score = (x - μ) / σ // data point x minus mean divided by sigma\n",
        "  # Z-score tells you have many standard deviations the data point is away from the mean\n",
        "  z_score = (x - μ) / σ\n",
        "  print('Z-score:', z_score)\n",
        "  p_value = sp.special.ndtr(z_score) # Means there's a z-score chance of getting a pizza smaller than 16 in. of -1.5\n",
        "  print('P-value:', p_value) # Means there is a 6.68% chance of hgetting a free pizza.\n",
        "  return"
      ],
      "metadata": {
        "id": "fE4C47jz0xxV"
      },
      "execution_count": null,
      "outputs": []
    },
    {
      "cell_type": "code",
      "source": [
        "standardize(x,μ,σ)"
      ],
      "metadata": {
        "colab": {
          "base_uri": "https://localhost:8080/"
        },
        "id": "Ja3nQfDf1F57",
        "outputId": "4f9589aa-ddb4-4235-d37b-27ad8111551a"
      },
      "execution_count": null,
      "outputs": [
        {
          "output_type": "stream",
          "name": "stdout",
          "text": [
            "Z-score: -1.5000000000000036\n",
            "P-value: 0.0668072012688576\n"
          ]
        }
      ]
    },
    {
      "cell_type": "markdown",
      "source": [
        "#### What's the prob. of getting a pizza over 16.5 in?"
      ],
      "metadata": {
        "id": "kkriOL4Ng_Pk"
      }
    },
    {
      "cell_type": "code",
      "source": [
        "# Example:\n",
        "\n",
        "# Your local pizza shop claims their large is at least 16 in. or it's free.\n",
        "# Their pizza is normally distributed with μ = 16.3 in. and σ = 0.2 in.\n",
        "\n",
        "\n",
        "# Variables\n",
        "x = 16.5 # Since \"over\": Final Solution = 1 - p_value\n",
        "μ = 16.3 #\n",
        "σ = 0.2 #\n",
        "\n",
        "def standardize(x,μ,σ):\n",
        "  z_score = (x - μ) / σ\n",
        "  print('Z-score:', z_score)\n",
        "  p_value = sp.special.ndtr(z_score)\n",
        "  p_value = 1-p_value # Subtracting here because we want area to the right of z-score.\n",
        "  print('P-value:', p_value)\n",
        "  return"
      ],
      "metadata": {
        "id": "2mryJdnShDnC"
      },
      "execution_count": null,
      "outputs": []
    },
    {
      "cell_type": "code",
      "source": [
        "standardize(x,μ,σ)"
      ],
      "metadata": {
        "colab": {
          "base_uri": "https://localhost:8080/"
        },
        "id": "hYwXQBCqhH2g",
        "outputId": "5ba607e4-6474-41b5-8c14-d7894b53400d"
      },
      "execution_count": null,
      "outputs": [
        {
          "output_type": "stream",
          "name": "stdout",
          "text": [
            "Z-score: 0.9999999999999964\n",
            "P-value: 0.15865525393145785\n"
          ]
        }
      ]
    },
    {
      "cell_type": "markdown",
      "source": [
        "#### What's the prob. of getting pizza between 15.95 and 16.63?"
      ],
      "metadata": {
        "id": "uuOqKRVEgUIQ"
      }
    },
    {
      "cell_type": "code",
      "source": [
        "# Example:\n",
        "\n",
        "# Your local pizza shop claims their large is at least 16 in. or it's free.\n",
        "# Their pizza is normally distributed with μ = 16.3 in. and σ = 0.2 in.\n",
        "\n",
        "\n",
        "# Variables\n",
        "x1 = 15.95 #\n",
        "x2 = 16.63 #\n",
        "μ = 16.3 #\n",
        "σ = 0.2 #\n",
        "\n",
        "def standardize(x1,x2,μ,σ):\n",
        "  # x1 Section\n",
        "  z_score_1 = (x1 - μ) / σ\n",
        "  print('Z-score_1:', z_score_1)\n",
        "  p_value_1 = sp.special.ndtr(z_score_1)\n",
        "  print('P-value_1:', p_value_1)\n",
        "  # x2 Section\n",
        "  z_score_2 = (x2 - μ) / σ\n",
        "  print('Z-score_2:', z_score_2)\n",
        "  p_value_2 = sp.special.ndtr(z_score_2)\n",
        "  print('P-value_2:', p_value_2)\n",
        "  p_value = round(p_value_2 - p_value_1,4)\n",
        "  print('Range:', p_value)\n",
        "  return"
      ],
      "metadata": {
        "id": "cmDv68kCgZkK"
      },
      "execution_count": null,
      "outputs": []
    },
    {
      "cell_type": "code",
      "source": [
        "standardize(x1,x2,μ,σ)"
      ],
      "metadata": {
        "colab": {
          "base_uri": "https://localhost:8080/"
        },
        "id": "j261yiMGg1Sn",
        "outputId": "2f387c1f-f539-492b-99f5-860ba8e5c2e1"
      },
      "execution_count": null,
      "outputs": [
        {
          "output_type": "stream",
          "name": "stdout",
          "text": [
            "Z-score_1: -1.750000000000007\n",
            "P-value_1: 0.040059156863816475\n",
            "Z-score_2: 1.6499999999999915\n",
            "P-value_2: 0.950528531966351\n",
            "Range: 0.9105\n"
          ]
        }
      ]
    },
    {
      "cell_type": "markdown",
      "source": [],
      "metadata": {
        "id": "whs6nyyA4fTH"
      }
    },
    {
      "cell_type": "markdown",
      "source": [
        "### Binominal Distribution"
      ],
      "metadata": {
        "id": "YDZWND224f_f"
      }
    },
    {
      "cell_type": "code",
      "source": [
        "### When to Use:\n",
        "# Remember BINS for Binomial Distribution\n",
        "# *   B - Binary Outcomes\n",
        "# *   I - Independent Trials\n",
        "# *   N - Number of Trials\n",
        "# *   S = Same Probability per Trial\n",
        "\n",
        "# Variables\n",
        "n = 4 # Four Dice Rolls\n",
        "p = 1/6 # Probability of Getting a 1\n",
        "x = 2 # Objective of Rolling 1 Twice\n",
        "q = round(1 - p,2) # Complement (Probability of Failure)\n",
        "\n",
        "def binom_dist(p,x,n,q):\n",
        "  # Mean\n",
        "  mean = round(n*p,2)\n",
        "  print('Mean:', mean)\n",
        "  # Variance\n",
        "  var = n*p*(1-p)\n",
        "  std = sqrt(n*p*(1-p))\n",
        "  print('Variance:', var)\n",
        "  print('Standard Deviation: ', std)\n",
        "  # Factorial\n",
        "  fact_num = math.factorial(n)\n",
        "  fact_denom = math.factorial(n-x) * math.factorial(x)\n",
        "  fraction = fact_num/fact_denom\n",
        "  print('Factorial Numerator:', fact_num)\n",
        "  print('Factorial Denominator:', fact_denom)\n",
        "  print('n choose x:', fact_num/fact_denom)\n",
        "  # Probability\n",
        "  prob = round((p**x) * (q**(n-x)),4)\n",
        "  print('Probability:', prob)\n",
        "  # Binomial Distribution\n",
        "  binom_dist = fraction * prob\n",
        "  print('Binomial Distribution:', binom_dist)\n",
        "  return"
      ],
      "metadata": {
        "id": "gQZISunW4f_g"
      },
      "execution_count": null,
      "outputs": []
    },
    {
      "cell_type": "code",
      "source": [
        "binom_dist(p,x,n,q)"
      ],
      "metadata": {
        "colab": {
          "base_uri": "https://localhost:8080/"
        },
        "outputId": "414d16b4-1f72-4bdf-d3a8-1bb94a85b989",
        "id": "iv8HUd544f_g"
      },
      "execution_count": null,
      "outputs": [
        {
          "output_type": "stream",
          "name": "stdout",
          "text": [
            "Mean: 0.67\n",
            "Variance: 0.5555555555555556\n",
            "Standard Deviation:  0.7453559924999299\n",
            "Factorial Numerator: 24\n",
            "Factorial Denominator: 4\n",
            "n choose x: 6.0\n",
            "Probability: 0.0191\n",
            "Binomial Distribution: 0.1146\n"
          ]
        }
      ]
    },
    {
      "cell_type": "markdown",
      "source": [
        "### Poisson Distribution"
      ],
      "metadata": {
        "id": "P39TPoFZ4p8s"
      }
    },
    {
      "cell_type": "markdown",
      "source": [
        "#### Summary\n",
        "\n",
        "https://www.youtube.com/watch?v=cPOChr_kuQs <-- Zed Statistics\n",
        "\n",
        "Definition:\n",
        "*   The Poisson distribution is used to describe the distribution of rare events # in a large population. For example, at any particular time, there is a certain # probability that a particular cell within a large population of cells will acquire a mutation. Mutation acquisition is a rare event.\n",
        "*   Discrete distribution describing the number of events occuring in a fixed time interval or region of opportunity.\n",
        "*   Requires only one parameter - Lambda λ = Expected Mean\n",
        "*   Bounded by 0 and ∞ (infinity).\n",
        "\n",
        "Conditions for Poisson Distribution:\n",
        "*   An event can occur any number of times during a time period.\n",
        "*   Events occur independently. In other words, if an event occurs, it does not affect the probability of another event occurring in the same time period.\n",
        "*   The rate of occurrence is constant; that is, the rate does not change based on time period. For example, it should be twice as likely for an event to occur in a 2 hour time period than it is for an event to occur in a 1 hour period.\n",
        "\n",
        "When to Use:\n",
        "*   Probability of x event happening over a given time period.\n",
        "*   Example: Number of raindrops over x minutes.\n",
        "*   Example: Probability of two car parts failing over next 50,000 miles.\n",
        "*   E(X) = λ     (Expected Value of Random Variable X = Lambda)\n",
        "*   n = number of trials\n",
        "*   List item\n",
        "\n",
        "Formula: f(x) = P(X=x) = (e-λ λx )/x!"
      ],
      "metadata": {
        "id": "Dd6z3c2W87De"
      }
    },
    {
      "cell_type": "markdown",
      "source": [
        "#### Probability Equal to Some Value"
      ],
      "metadata": {
        "id": "IU-Lvj2O6_YM"
      }
    },
    {
      "cell_type": "code",
      "source": [
        "# Example: X = Number of cars that pass in an hour. λ = 3\n",
        "# --- E(X) = λ = (n * p)\n",
        "\n",
        "# Variables\n",
        "mu = 3 # Lambda = Expected Mean\n",
        "k = 5 # Probability of 5 cars in an hour.\n",
        "\n",
        "def poisson_dist(mu,k): # Excel = POISSON.DIST(Target,Mean,False) (5,3,FALSE)\n",
        "  # Poisson Distribution\n",
        "  poisson_dist = round(poisson.pmf(k=5, mu=3),4)\n",
        "  print('Poisson Distribution:', poisson_dist)\n",
        "  return"
      ],
      "metadata": {
        "id": "TjMvObuS4p8w"
      },
      "execution_count": 18,
      "outputs": []
    },
    {
      "cell_type": "code",
      "source": [
        "poisson_dist(mu,k)"
      ],
      "metadata": {
        "colab": {
          "base_uri": "https://localhost:8080/"
        },
        "outputId": "aeadcf90-d361-43f4-912b-ae13814bd14f",
        "id": "i-xPQMe-4p8y"
      },
      "execution_count": 19,
      "outputs": [
        {
          "output_type": "stream",
          "name": "stdout",
          "text": [
            "Poisson Distribution: 0.1008\n"
          ]
        }
      ]
    },
    {
      "cell_type": "markdown",
      "source": [
        "#### Probability Less than Some Value"
      ],
      "metadata": {
        "id": "_fP9QhuU_eWm"
      }
    },
    {
      "cell_type": "code",
      "source": [
        "# Example: A certain store sells seven footballs per day on average.\n",
        "# What is the probability that this store sells four or less footballs in a\n",
        "# given day?\n",
        "\n",
        "# Variables\n",
        "mu = 7 # Lambda = Expected Mean\n",
        "k = 4 # Probability of 5 cars in an hour.\n",
        "\n",
        "def poisson_dist(mu,k): # Excel = POISSON.DIST(Target,Mean,False) (5,3,FALSE)\n",
        "  # Poisson Distribution\n",
        "  poisson_dist = round(poisson.cdf(k=4, mu=7),4)\n",
        "  print('Poisson Distribution:', poisson_dist)\n",
        "  return"
      ],
      "metadata": {
        "id": "GgwxmIrZ_eWn"
      },
      "execution_count": 29,
      "outputs": []
    },
    {
      "cell_type": "code",
      "source": [
        "poisson_dist(mu,k)"
      ],
      "metadata": {
        "colab": {
          "base_uri": "https://localhost:8080/"
        },
        "outputId": "c862ad66-514b-42e9-947f-637354f5f36d",
        "id": "i62EmAjj_eWo"
      },
      "execution_count": 30,
      "outputs": [
        {
          "output_type": "stream",
          "name": "stdout",
          "text": [
            "Poisson Distribution: 0.9989\n"
          ]
        }
      ]
    },
    {
      "cell_type": "markdown",
      "source": [
        "#### Probability Greater than Some Value (at least)"
      ],
      "metadata": {
        "id": "RFDZmQPDAOEV"
      }
    },
    {
      "cell_type": "code",
      "source": [
        "# Example: A certain store sells 15 cans of tuna per day on average.\n",
        "# What is the probability that this store sells more than 20 cans of tuna\n",
        "# in a given day?\n",
        "\n",
        "# Variables\n",
        "mu = 15 # Lambda = Expected Mean\n",
        "k = 20 # Probability of 5 cars in an hour.\n",
        "\n",
        "def poisson_dist(mu,k): # Excel = POISSON.DIST(Target,Mean,False) (5,3,FALSE)\n",
        "  # Poisson Distribution\n",
        "  poisson_dist = round(1-poisson.cdf(k=20, mu=15),4)\n",
        "  print('Poisson Distribution:', poisson_dist)\n",
        "  return"
      ],
      "metadata": {
        "id": "zc1m67u-AOEW"
      },
      "execution_count": 31,
      "outputs": []
    },
    {
      "cell_type": "code",
      "source": [
        "poisson_dist(mu,k)"
      ],
      "metadata": {
        "colab": {
          "base_uri": "https://localhost:8080/"
        },
        "outputId": "d50d2af0-cc30-46a2-90c5-e4ffd77b2201",
        "id": "H7c6LZJDAOEX"
      },
      "execution_count": 32,
      "outputs": [
        {
          "output_type": "stream",
          "name": "stdout",
          "text": [
            "Poisson Distribution: 0.083\n"
          ]
        }
      ]
    },
    {
      "cell_type": "markdown",
      "source": [
        "#### Complex Poisson Probability Distribution Target"
      ],
      "metadata": {
        "id": "joNPur1_D87r"
      }
    },
    {
      "cell_type": "code",
      "source": [
        "# Example: 3 in every 1,000 H-mobile phones are discovered to have fault.\n",
        "# Find the probability that out of 5,000 H-mobile phones, exactly 8 will have fault.\n",
        "\n",
        "# Variables\n",
        "p = 3/1000 # Probability of Fault\n",
        "n = 5000 # Number of Trials\n",
        "λ = 15 # Lambda = Expected Mean == p * n == 0.003 * 5000 = 15\n",
        "e = 2.718 # Appears to be a Constant for e\n",
        "x = 8\n",
        "\n",
        "# Formula: P(x) = ((λ**x)*(e**-λ))/x!\n",
        "\n",
        "def poisson_dist(p,n,λ,e,x):\n",
        "  # Poisson Distribution\n",
        "  poisson_dist = ((λ**x)*(e**-λ))/math.factorial(x)\n",
        "  print('Poisson Distribution:', poisson_dist)\n",
        "  return"
      ],
      "metadata": {
        "id": "MoX0CCbZD87t"
      },
      "execution_count": 39,
      "outputs": []
    },
    {
      "cell_type": "code",
      "source": [
        "poisson_dist(p,n,λ,e,x)"
      ],
      "metadata": {
        "colab": {
          "base_uri": "https://localhost:8080/"
        },
        "outputId": "f8271746-3edc-426d-df9e-337b7dc65f36",
        "id": "hTeuibgxD87u"
      },
      "execution_count": 40,
      "outputs": [
        {
          "output_type": "stream",
          "name": "stdout",
          "text": [
            "Poisson Distribution: 0.01947456488201455\n"
          ]
        }
      ]
    },
    {
      "cell_type": "markdown",
      "source": [
        "#### Complex Poisson Probability Distribution Target - Multiple"
      ],
      "metadata": {
        "id": "ZJhC9J_DKdPW"
      }
    },
    {
      "cell_type": "code",
      "source": [
        "# Example: https://www.youtube.com/watch?v=-hN8XOaGCfk\n",
        "\n",
        "# The probability that a person reacts to the newly manufactured vaccine\n",
        "# against the current pandemic is 0.002.\n",
        "# If 4,000 people are treated with the vaccine, find the probability that:\n",
        "  # (a) No one will react to the vaccine.\n",
        "  # (b) Exactly 1 person will react to the vaccine.\n",
        "  # (c) Exactly 2 people will react to the vaccine.\n",
        "  # (d) At least 3 people will react to the vaccine.\n",
        "  # (e) At most 2 people will react to the vaccine.\n",
        "\n",
        "# Variables\n",
        "p = 0.002 # Probability of Reaction to Vaccine\n",
        "n = 4000 # Number of Trials\n",
        "λ = 8 # Lambda = Expected Mean == p * n == 0.002 * 4000 = 8\n",
        "e = 2.718 # Appears to be a Constant for e\n",
        "x_a = 0\n",
        "x_b = 1\n",
        "x_c = 2\n",
        "x_d = 3\n",
        "x_e = 2\n",
        "\n",
        "# Formula: P(x) = ((λ**x)*(e**-λ))/x!\n",
        "\n",
        "# a - 0 people\n",
        "def poisson_dist_a(p,n,λ,e,x_a):\n",
        "  # Poisson Distribution\n",
        "  poisson_dist_a = round(((λ**x_a)*(e**-λ))/math.factorial(x_a),4)\n",
        "  print('Poisson Distribution_a:', poisson_dist_a)\n",
        "  return\n",
        "\n",
        "# b - exactly 1 person\n",
        "def poisson_dist_b(p,n,λ,e,x_b):\n",
        "  # Poisson Distribution\n",
        "  poisson_dist_b = round(((λ**x_b)*(e**-λ))/math.factorial(x_b),4)\n",
        "  print('Poisson Distribution_b:', poisson_dist_b)\n",
        "  return\n",
        "\n",
        "# c - exactly 2 people\n",
        "def poisson_dist_c(p,n,λ,e,x_c):\n",
        "  # Poisson Distribution\n",
        "  poisson_dist_c = round(((λ**x_c)*(e**-λ))/math.factorial(x_c),4)\n",
        "  print('Poisson Distribution_c:', poisson_dist_c)\n",
        "  return\n",
        "\n",
        "# d - at least 3 people: subtract from 1 here.\n",
        "def poisson_dist_d(p,n,λ,e,x_d):\n",
        "  # Poisson Distribution x_d Split\n",
        "  i = 0 # Setting base for while loop\n",
        "  total = 1 # Setting total to deduct during loop\n",
        "  while i < x_d:\n",
        "      poisson_dist_d = round(((λ**i)*(e**-λ))/math.factorial(i),6)\n",
        "      print('i',':',i,'poisson_dist_d',':',poisson_dist_d)\n",
        "      i += 1\n",
        "      total -= poisson_dist_d\n",
        "      print('Total:', total)\n",
        "  return\n",
        "\n",
        "\n",
        "# e - at most 2 people\n",
        "def poisson_dist_e(p,n,λ,e,x_e):\n",
        "  # Poisson Distribution\n",
        "  poisson_dist_e = round(((λ**x_e)*(e**-λ))/math.factorial(x_e),4)\n",
        "  print('Poisson Distribution_e:', poisson_dist_e)\n",
        "  return"
      ],
      "metadata": {
        "id": "yo1Tlz_tKdPX"
      },
      "execution_count": 119,
      "outputs": []
    },
    {
      "cell_type": "code",
      "source": [
        "poisson_dist_a(p,n,λ,e,x_a)\n",
        "poisson_dist_b(p,n,λ,e,x_b)\n",
        "poisson_dist_c(p,n,λ,e,x_c)\n",
        "poisson_dist_d(p,n,λ,e,x_d)\n",
        "poisson_dist_e(p,n,λ,e,x_e)"
      ],
      "metadata": {
        "colab": {
          "base_uri": "https://localhost:8080/"
        },
        "outputId": "6cee6900-7e9b-47a4-d86a-f6728e89b1a2",
        "id": "pygXEYsWKdPY"
      },
      "execution_count": 120,
      "outputs": [
        {
          "output_type": "stream",
          "name": "stdout",
          "text": [
            "Poisson Distribution_a: 0.0003\n",
            "Poisson Distribution_b: 0.0027\n",
            "Poisson Distribution_c: 0.0107\n",
            "i : 0 poisson_dist_d : 0.000336\n",
            "Total: 0.999664\n",
            "i : 1 poisson_dist_d : 0.002686\n",
            "Total: 0.996978\n",
            "i : 2 poisson_dist_d : 0.010744\n",
            "Total: 0.986234\n",
            "Poisson Distribution_e: 0.0107\n"
          ]
        }
      ]
    },
    {
      "cell_type": "markdown",
      "source": [
        "#### Plot a Poisson Distribution"
      ],
      "metadata": {
        "id": "rtD5g3FeApmz"
      }
    },
    {
      "cell_type": "code",
      "source": [
        "#generate Poisson distribution with sample size 10000\n",
        "x = poisson.rvs(mu=3, size=10000)\n",
        "\n",
        "#create plot of Poisson distribution\n",
        "plt.hist(x, density=True, edgecolor='black')"
      ],
      "metadata": {
        "colab": {
          "base_uri": "https://localhost:8080/",
          "height": 499
        },
        "id": "5UzbbIj0Apm1",
        "outputId": "83d2b440-b31a-429d-fabd-600ed0cb4eb7"
      },
      "execution_count": 28,
      "outputs": [
        {
          "output_type": "execute_result",
          "data": {
            "text/plain": [
              "(array([0.16616667, 0.18316667, 0.18658333, 0.14358333, 0.08325   ,\n",
              "        0.06025   , 0.00658333, 0.0025    , 0.00075   , 0.0005    ]),\n",
              " array([ 0. ,  1.2,  2.4,  3.6,  4.8,  6. ,  7.2,  8.4,  9.6, 10.8, 12. ]),\n",
              " <BarContainer object of 10 artists>)"
            ]
          },
          "metadata": {},
          "execution_count": 28
        },
        {
          "output_type": "display_data",
          "data": {
            "text/plain": [
              "<Figure size 640x480 with 1 Axes>"
            ],
            "image/png": "[encoded data removed]"
          },
          "metadata": {}
        }
      ]
    },
    {
      "cell_type": "markdown",
      "source": [
        "### Uniform Distribution"
      ],
      "metadata": {
        "id": "sYBWw1Up6_4L"
      }
    },
    {
      "cell_type": "code",
      "source": [
        "### When to Use:\n",
        "\n",
        "\n",
        "# Characterized as having a constant probability within a Domain\n",
        "# Additionally, due to distribution symmetry, the mean = median.\n",
        "\n",
        "# Example: Bus is uniformly late between 2 and 10 minutes.\n",
        "# How long can you expect to wait?\n",
        "# With what standard deviation?\n",
        "# If it's > 7 mins late, you'll be late for work.\n",
        "# What's the probability of you being later for work?\n",
        "\n",
        "# Implicit quesiton - what's the probability of the bus being > 7 mins late?\n",
        "# P(7 <= X <= 10)) =\n",
        "\n",
        "# Variables\n",
        "a = 2 # lowerbound threshold\n",
        "b = 10 # upperbound threshold\n",
        "c = 7 # Bus late lowerbound threshhold\n",
        "d = 10 # Bus late upperbound threshold\n",
        "\n",
        "\n",
        "def uniform_dist(a,b,c,d):\n",
        "  # Mean\n",
        "  mean = round((a+b)/2,2)\n",
        "  print('Mean:', mean)\n",
        "  # Variance + Standard Deviation\n",
        "  var = round(((b-a)**2)/12,4)\n",
        "  std = round(sqrt(((b-a)**2)/12),4)\n",
        "  print('Variance:', var)\n",
        "  print('Standard Deviation: ', std)\n",
        "  # Probability Density Function\n",
        "  prob_dens = 1/(b-a)\n",
        "  print('Probability Density Function: ', prob_dens)\n",
        "  # Conditional Probability\n",
        "  prob = round(((d-c)/(b-a)),4)\n",
        "  print('Probability:', prob)\n",
        "  return"
      ],
      "metadata": {
        "id": "Uy3KIr3q6_4N"
      },
      "execution_count": null,
      "outputs": []
    },
    {
      "cell_type": "code",
      "source": [
        "uniform_dist(a,b,c,d)"
      ],
      "metadata": {
        "colab": {
          "base_uri": "https://localhost:8080/"
        },
        "outputId": "c80be59c-0e04-47ff-c39a-05e77616ff12",
        "id": "F3XVSfwD6_4O"
      },
      "execution_count": null,
      "outputs": [
        {
          "output_type": "stream",
          "name": "stdout",
          "text": [
            "Mean: 6.0\n",
            "Variance: 5.3333\n",
            "Standard Deviation:  2.3094\n",
            "Probability Density Function:  0.125\n",
            "Probability: 0.375\n"
          ]
        }
      ]
    },
    {
      "cell_type": "markdown",
      "source": [],
      "metadata": {
        "id": "wyYOknBCOmd7"
      }
    },
    {
      "cell_type": "markdown",
      "source": [
        "### Geometric Distribution"
      ],
      "metadata": {
        "id": "wsk7_6b8Om_m"
      }
    },
    {
      "cell_type": "code",
      "source": [
        "### When to Use:\n",
        "\n",
        "\n",
        "# Example: Coming home from work, you always seem to hit every light.\n",
        "# You calculate the odds of making it through a light to be 0.2.\n",
        "# How many lights can you expect to hit before making it through one?\n",
        "# With what standard deviation?\n",
        "# What's the probability of the 3rd light being the first one that's green?\n",
        "\n",
        "# Variables\n",
        "p = 0.2 # Probability of Green Light\n",
        "q = round(1 - p,2) # Complement (Probability of Red Light)\n",
        "x = 3 # Probability of first Green Light on Third Light\n",
        "\n",
        "def geo_dist(p,q,x):\n",
        "  # Mean\n",
        "  mean = round(1/p,2)\n",
        "  print('Mean:', mean)\n",
        "  # Variance\n",
        "  var = round((1-p)/p,4)\n",
        "  std = round((sqrt(1-p))/p,4)\n",
        "  print('Variance:', var)\n",
        "  print('Standard Deviation: ', std)\n",
        "  # Probability\n",
        "  prob = round(q**(x-1) * p,4)\n",
        "  print('Probability:', prob)\n",
        "  return"
      ],
      "metadata": {
        "id": "kxsS3MyCOm_n"
      },
      "execution_count": null,
      "outputs": []
    },
    {
      "cell_type": "code",
      "source": [
        "geo_dist(p,q,x)"
      ],
      "metadata": {
        "colab": {
          "base_uri": "https://localhost:8080/"
        },
        "outputId": "e7ba808a-bb94-4e31-c0c0-f1ff03d52068",
        "id": "ocUnSpG7Om_n"
      },
      "execution_count": null,
      "outputs": [
        {
          "output_type": "stream",
          "name": "stdout",
          "text": [
            "Mean: 5.0\n",
            "Variance: 4.0\n",
            "Standard Deviation:  4.4721\n",
            "Probability: 0.128\n"
          ]
        }
      ]
    },
    {
      "cell_type": "markdown",
      "source": [],
      "metadata": {
        "id": "GbE85Sc36_4P"
      }
    },
    {
      "cell_type": "code",
      "source": [],
      "metadata": {
        "id": "WIGQ6CefWs-e"
      },
      "execution_count": null,
      "outputs": []
    },
    {
      "cell_type": "markdown",
      "source": [
        "### Bayes' Theorem"
      ],
      "metadata": {
        "id": "2VhJ9YS17Y1B"
      }
    },
    {
      "cell_type": "code",
      "source": [
        "### Equation: P(A|B) = (P(B|A) * P(A)) / P(B)\n",
        "\n",
        "# When to Use: When you have some additional information and you'd like to refine your assessment.\n",
        "# Look for fact patterns where you have the inverse given to you -i.e., you're given P(B|A) and you need P(A|B)\n",
        "\n",
        "# Example:\n",
        "\n",
        "# You've been planning a family picnic. You're trying to decide whether to postpone due to rain.\n",
        "# The chance of rain on any day is 15%.\n",
        "# The morning of the picnic, it's cloudy.\n",
        "# The prob. of it being cloudy is 25% and on days where it rains, it's cloudy in the morning 80% of the time.\n",
        "# Should you postpone the picnic?\n",
        "\n",
        "\n",
        "# Variables\n",
        "a = 0.15 # P(rain)\n",
        "b = 0.25 # P(cloudy)\n",
        "c = 0.80 # P(cloudy|rain)\n",
        "\n",
        "# P(rain|cloudy) = (P(cloudy|rain) * P(rain)) / P(cloudy)\n",
        "\n",
        "\n",
        "def bayes_theorem(a,b,c):\n",
        "  # bayes\n",
        "  bayes_theorem = round((c * a) / b,4)\n",
        "  print('Bayes Theorem:', bayes_theorem)\n",
        "  return"
      ],
      "metadata": {
        "id": "LQ0BM4r_7Y1D"
      },
      "execution_count": null,
      "outputs": []
    },
    {
      "cell_type": "code",
      "source": [
        "bayes_theorem(a,b,c)"
      ],
      "metadata": {
        "colab": {
          "base_uri": "https://localhost:8080/"
        },
        "id": "ZY0y8D4o7Y1E",
        "outputId": "93deee61-22d3-4a59-cc49-1a9d2cae0835"
      },
      "execution_count": null,
      "outputs": [
        {
          "output_type": "stream",
          "name": "stdout",
          "text": [
            "Bayes Theorem: 0.48\n"
          ]
        }
      ]
    }
  ]
}