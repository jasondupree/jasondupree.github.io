{
  "nbformat": 4,
  "nbformat_minor": 0,
  "metadata": {
    "colab": {
      "provenance": [],
      "authorship_tag": "ABX9TyPuZSMot6ggrdL197vjJdrm",
      "include_colab_link": true
    },
    "kernelspec": {
      "name": "python3",
      "display_name": "Python 3"
    },
    "language_info": {
      "name": "python"
    }
  },
  "cells": [
    {
      "cell_type": "markdown",
      "metadata": {
        "id": "view-in-github",
        "colab_type": "text"
      },
      "source": [
        "<a href=\"https://colab.research.google.com/github/jasondupree/jasondupree.github.io/blob/main/distilled_statistics.ipynb\" target=\"_parent\"><img src=\"https://colab.research.google.com/assets/colab-badge.svg\" alt=\"Open In Colab\"/></a>"
      ]
    },
    {
      "cell_type": "code",
      "execution_count": 11,
      "metadata": {
        "id": "31c7b4s60uyG"
      },
      "outputs": [],
      "source": [
        "import pandas as pd\n",
        "import numpy as np\n",
        "from fractions import Fraction\n",
        "from numpy import sqrt\n",
        "import math"
      ]
    },
    {
      "cell_type": "markdown",
      "source": [
        "### Binominal Distribution"
      ],
      "metadata": {
        "id": "raoq4x8Z2Xlb"
      }
    },
    {
      "cell_type": "code",
      "source": [
        "# Remember BINS for Binomial Distribution\n",
        "# *   B - Binary Outcomes\n",
        "# *   I - Independent Trials\n",
        "# *   N - Number of Trials\n",
        "# *   S = Same Probability per Trial\n",
        "\n",
        "# Probabilities\n",
        "n = 4 # Four Dice Rolls\n",
        "p = 1/6 # Probability of Getting a 1\n",
        "x = 2 # Objective of Rolling 1 Twice\n",
        "\n",
        "# Complements (Probability of Failure)\n",
        "q = round(1 - p,2)\n",
        "\n",
        "def binom_dist(p,x,n,q):\n",
        "  # Mean\n",
        "  mean = round(n*p,2)\n",
        "  print('Mean:', mean)\n",
        "  # Variance\n",
        "  var = n*p*(1-p)\n",
        "  std = sqrt(n*p*(1-p))\n",
        "  print('Variance:', var)\n",
        "  print('Standard Deviation: ', std)\n",
        "  # Factorial\n",
        "  fact_num = math.factorial(n)\n",
        "  fact_denom = math.factorial(n-x) * math.factorial(x)\n",
        "  fraction = fact_num/fact_denom\n",
        "  print('Factorial Numerator:', fact_num)\n",
        "  print('Factorial Denominator:', fact_denom)\n",
        "  print('n choose x:', fact_num/fact_denom)\n",
        "  # Probability\n",
        "  prob = round((p**x) * (q**(n-x)),4)\n",
        "  print('Probability:', prob)\n",
        "  # Binomial Distribution\n",
        "  binom_dist = fraction * prob\n",
        "  print('Binomial Distribution:', binom_dist)\n",
        "  return"
      ],
      "metadata": {
        "id": "fE4C47jz0xxV"
      },
      "execution_count": 16,
      "outputs": []
    },
    {
      "cell_type": "code",
      "source": [
        "binom_dist(p,x,n,q)"
      ],
      "metadata": {
        "colab": {
          "base_uri": "https://localhost:8080/"
        },
        "id": "Ja3nQfDf1F57",
        "outputId": "414d16b4-1f72-4bdf-d3a8-1bb94a85b989"
      },
      "execution_count": 17,
      "outputs": [
        {
          "output_type": "stream",
          "name": "stdout",
          "text": [
            "Mean: 0.67\n",
            "Variance: 0.5555555555555556\n",
            "Standard Deviation:  0.7453559924999299\n",
            "Factorial Numerator: 24\n",
            "Factorial Denominator: 4\n",
            "n choose x: 6.0\n",
            "Probability: 0.0191\n",
            "Binomial Distribution: 0.1146\n"
          ]
        }
      ]
    }
  ]
}