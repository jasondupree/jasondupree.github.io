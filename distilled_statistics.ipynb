{
  "nbformat": 4,
  "nbformat_minor": 0,
  "metadata": {
    "colab": {
      "provenance": [],
      "collapsed_sections": [
        "7UI77eMT_un_",
        "-lFlCc_6BHEg",
        "c17GFGrGEJj9",
        "UN--DuN9aNhW",
        "raoq4x8Z2Xlb",
        "XQzJJOHshbRH",
        "kkriOL4Ng_Pk",
        "uuOqKRVEgUIQ",
        "YDZWND224f_f",
        "P39TPoFZ4p8s",
        "sYBWw1Up6_4L",
        "wsk7_6b8Om_m",
        "2VhJ9YS17Y1B"
      ],
      "authorship_tag": "ABX9TyMAawe0DYsuLI0KcRRmHkHS",
      "include_colab_link": true
    },
    "kernelspec": {
      "name": "python3",
      "display_name": "Python 3"
    },
    "language_info": {
      "name": "python"
    }
  },
  "cells": [
    {
      "cell_type": "markdown",
      "metadata": {
        "id": "view-in-github",
        "colab_type": "text"
      },
      "source": [
        "<a href=\"https://colab.research.google.com/github/jasondupree/jasondupree.github.io/blob/main/distilled_statistics.ipynb\" target=\"_parent\"><img src=\"https://colab.research.google.com/assets/colab-badge.svg\" alt=\"Open In Colab\"/></a>"
      ]
    },
    {
      "cell_type": "code",
      "execution_count": 71,
      "metadata": {
        "id": "31c7b4s60uyG"
      },
      "outputs": [],
      "source": [
        "import pandas as pd\n",
        "import numpy as np\n",
        "from fractions import Fraction\n",
        "from numpy import sqrt\n",
        "import math\n",
        "import scipy as sp"
      ]
    },
    {
      "cell_type": "markdown",
      "source": [
        "### Independent Events"
      ],
      "metadata": {
        "id": "7UI77eMT_un_"
      }
    },
    {
      "cell_type": "code",
      "source": [
        "### When to Use:\n",
        "# When you have two events happening that:\n",
        "  # Are NOT mutually exclusive, and\n",
        "  # Do not impact one another.\n",
        "\n",
        "# P(A and B) = P(A) * P(B)\n",
        "\n",
        "# Variables\n",
        "a = 1/4 # Probability of it Raining\n",
        "b = 1/6 # Probability of Getting a 1 on a Die\n",
        "\n",
        "def indep_event(a,b):\n",
        "  indep_prob = round(a * b,4)\n",
        "  print('Independent Probability:', indep_prob)\n",
        "  return"
      ],
      "metadata": {
        "id": "igVfP3HB_wxV"
      },
      "execution_count": 72,
      "outputs": []
    },
    {
      "cell_type": "code",
      "source": [
        "indep_event(a,b)"
      ],
      "metadata": {
        "colab": {
          "base_uri": "https://localhost:8080/"
        },
        "id": "Q_M-p7uKA2_F",
        "outputId": "67f33559-a967-47ca-fb70-2477d7371f85"
      },
      "execution_count": 73,
      "outputs": [
        {
          "output_type": "stream",
          "name": "stdout",
          "text": [
            "Independent Probability: 0.0417\n"
          ]
        }
      ]
    },
    {
      "cell_type": "markdown",
      "source": [
        "### Dependent Events"
      ],
      "metadata": {
        "id": "-lFlCc_6BHEg"
      }
    },
    {
      "cell_type": "code",
      "source": [
        "### When to Use:\n",
        "# When you have two events happening that:\n",
        "  # Are NOT mutually exclusive, and\n",
        "  # Do not impact one another.\n",
        "\n",
        "# P(A and B) = P(A) * P(B)\n",
        "\n",
        "# Variables\n",
        "a = 1/4 # Probability of it Raining\n",
        "b = 1/6 # Probability of Getting a 1 on a Die\n",
        "\n",
        "def dep_event(a,b):\n",
        "  dep_prob = round(a * b,4)\n",
        "  print('Dependent Probability:', dep_prob)\n",
        "  return"
      ],
      "metadata": {
        "id": "L6cyWOHOBHEi"
      },
      "execution_count": null,
      "outputs": []
    },
    {
      "cell_type": "code",
      "source": [
        "dep_event(a,b)"
      ],
      "metadata": {
        "colab": {
          "base_uri": "https://localhost:8080/"
        },
        "outputId": "b27196ff-4c30-4f61-ff6a-f4a5115bf9c6",
        "id": "Mr7T3VyYBHEj"
      },
      "execution_count": null,
      "outputs": [
        {
          "output_type": "stream",
          "name": "stdout",
          "text": [
            "Independent Probability: 0.0417\n"
          ]
        }
      ]
    },
    {
      "cell_type": "markdown",
      "source": [],
      "metadata": {
        "id": "jSKMBJhOEItS"
      }
    },
    {
      "cell_type": "markdown",
      "source": [
        "### Conditional Probability"
      ],
      "metadata": {
        "id": "c17GFGrGEJj9"
      }
    },
    {
      "cell_type": "code",
      "source": [
        "### When to Use:\n",
        "# When you have two events happening that:\n",
        "  # Are NOT mutually exclusive, and\n",
        "  # DO impact one another.\n",
        "\n",
        "# P(A|B) = P(A AND B) / P(B)\n",
        "\n",
        "# Note that if A and B are independent, it doesn't matter that B occurred and the formula above becomes P(A|B) = P(A). Or, inversely, P(B|A) = P(B)\n",
        "\n",
        "# Variables\n",
        "a = 1/4 # Probability of it Raining\n",
        "b = 1/6 # Probability of Getting Wet\n",
        "\n",
        "def cond_prob(a,b):\n",
        "  cond_prob = round(((a * b) / b),4)\n",
        "  print('Conditional Probability:', cond_prob)\n",
        "  return"
      ],
      "metadata": {
        "id": "4ZPgS-kMEJj-"
      },
      "execution_count": 29,
      "outputs": []
    },
    {
      "cell_type": "code",
      "source": [
        "cond_prob(a,b)"
      ],
      "metadata": {
        "colab": {
          "base_uri": "https://localhost:8080/"
        },
        "outputId": "a94b310f-3b67-4794-8166-ab813efc57fa",
        "id": "VmkyA93jEJj-"
      },
      "execution_count": 30,
      "outputs": [
        {
          "output_type": "stream",
          "name": "stdout",
          "text": [
            "Conditional Probability: 0.25\n"
          ]
        }
      ]
    },
    {
      "cell_type": "markdown",
      "source": [],
      "metadata": {
        "id": "jZuKIQapaNP_"
      }
    },
    {
      "cell_type": "markdown",
      "source": [
        "### Standardized Data\n",
        "Standardize for Normal Distribution"
      ],
      "metadata": {
        "id": "UN--DuN9aNhW"
      }
    },
    {
      "cell_type": "code",
      "source": [
        "# Variables\n",
        "x = 67 #\n",
        "μ = 66 #\n",
        "σ = 2 #\n",
        "\n",
        "def standardize(x,μ,σ):\n",
        "  # mean = 0\n",
        "  # std = 1\n",
        "  # Z-score = (x - μ) / σ // data point x minus mean divided by sigma\n",
        "  # Z-score tells you have many standard deviations the data point is away from the mean\n",
        "  z_score = (x - μ) / σ\n",
        "  print('Z-score:', z_score)\n",
        "  p_value = sp.special.ndtr(z_score)\n",
        "  print('P-value:', p_value) # Means there is a 69.15% chance of having a z-score less than 0.5.\n",
        "  return"
      ],
      "metadata": {
        "id": "vIoe8FycaXvN"
      },
      "execution_count": 77,
      "outputs": []
    },
    {
      "cell_type": "code",
      "source": [
        "standardize(x,μ,σ)"
      ],
      "metadata": {
        "colab": {
          "base_uri": "https://localhost:8080/"
        },
        "id": "aoqrZF4BacUL",
        "outputId": "15b9e6a2-f26e-4bba-a565-e5e31a517467"
      },
      "execution_count": 78,
      "outputs": [
        {
          "output_type": "stream",
          "name": "stdout",
          "text": [
            "Z-score: 0.5\n",
            "P-value: 0.6914624612740131\n"
          ]
        }
      ]
    },
    {
      "cell_type": "code",
      "source": [
        "### When to Use:\n",
        "# When you have two events happening that:\n",
        "  # Are NOT mutually exclusive, and\n",
        "  # DO impact one another.\n",
        "\n",
        "# P(A|B) = P(A AND B) / P(B)\n",
        "\n",
        "# Note that if A and B are independent, it doesn't matter that B occurred and the formula above becomes P(A|B) = P(A). Or, inversely, P(B|A) = P(B)\n",
        "\n",
        "# Variables\n",
        "a = 1/4 # Probability of it Raining\n",
        "b = 1/6 # Probability of Getting Wet\n",
        "\n",
        "def cond_prob(a,b):\n",
        "  cond_prob = round(((a * b) / b),4)\n",
        "  print('Conditional Probability:', cond_prob)\n",
        "  return"
      ],
      "metadata": {
        "id": "cyzy6sVVaNhX"
      },
      "execution_count": null,
      "outputs": []
    },
    {
      "cell_type": "code",
      "source": [
        "cond_prob(a,b)"
      ],
      "metadata": {
        "colab": {
          "base_uri": "https://localhost:8080/"
        },
        "outputId": "a94b310f-3b67-4794-8166-ab813efc57fa",
        "id": "Sh0Z7onyaNhY"
      },
      "execution_count": null,
      "outputs": [
        {
          "output_type": "stream",
          "name": "stdout",
          "text": [
            "Conditional Probability: 0.25\n"
          ]
        }
      ]
    },
    {
      "cell_type": "markdown",
      "source": [
        "### Normal Distribution"
      ],
      "metadata": {
        "id": "raoq4x8Z2Xlb"
      }
    },
    {
      "cell_type": "markdown",
      "source": [
        "#### What's the prob. of getting free pizza?"
      ],
      "metadata": {
        "id": "XQzJJOHshbRH"
      }
    },
    {
      "cell_type": "code",
      "source": [
        "### When to Use:\n",
        "# Heights, weights, etc.\n",
        "\n",
        "\n",
        "# Example:\n",
        "\n",
        "# Your local pizza shop claims their large is at least 16 in. or it's free.\n",
        "# Their pizza is normally distributed with μ = 16.3 in. and σ = 0.2 in.\n",
        "\n",
        "\n",
        "# Variables\n",
        "x = 16 #\n",
        "μ = 16.3 #\n",
        "σ = 0.2 #\n",
        "\n",
        "def standardize(x,μ,σ):\n",
        "  # mean = 0\n",
        "  # std = 1\n",
        "  # Z-score = (x - μ) / σ // data point x minus mean divided by sigma\n",
        "  # Z-score tells you have many standard deviations the data point is away from the mean\n",
        "  z_score = (x - μ) / σ\n",
        "  print('Z-score:', z_score)\n",
        "  p_value = sp.special.ndtr(z_score) # Means there's a z-score chance of getting a pizza smaller than 16 in. of -1.5\n",
        "  print('P-value:', p_value) # Means there is a 6.68% chance of hgetting a free pizza.\n",
        "  return"
      ],
      "metadata": {
        "id": "fE4C47jz0xxV"
      },
      "execution_count": 104,
      "outputs": []
    },
    {
      "cell_type": "code",
      "source": [
        "standardize(x,μ,σ)"
      ],
      "metadata": {
        "colab": {
          "base_uri": "https://localhost:8080/"
        },
        "id": "Ja3nQfDf1F57",
        "outputId": "4f9589aa-ddb4-4235-d37b-27ad8111551a"
      },
      "execution_count": 105,
      "outputs": [
        {
          "output_type": "stream",
          "name": "stdout",
          "text": [
            "Z-score: -1.5000000000000036\n",
            "P-value: 0.0668072012688576\n"
          ]
        }
      ]
    },
    {
      "cell_type": "markdown",
      "source": [
        "#### What's the prob. of getting a pizza over 16.5 in?"
      ],
      "metadata": {
        "id": "kkriOL4Ng_Pk"
      }
    },
    {
      "cell_type": "code",
      "source": [
        "# Example:\n",
        "\n",
        "# Your local pizza shop claims their large is at least 16 in. or it's free.\n",
        "# Their pizza is normally distributed with μ = 16.3 in. and σ = 0.2 in.\n",
        "\n",
        "\n",
        "# Variables\n",
        "x = 16.5 # Since \"over\": Final Solution = 1 - p_value\n",
        "μ = 16.3 #\n",
        "σ = 0.2 #\n",
        "\n",
        "def standardize(x,μ,σ):\n",
        "  z_score = (x - μ) / σ\n",
        "  print('Z-score:', z_score)\n",
        "  p_value = sp.special.ndtr(z_score)\n",
        "  p_value = 1-p_value # Subtracting here because we want area to the right of z-score.\n",
        "  print('P-value:', p_value)\n",
        "  return"
      ],
      "metadata": {
        "id": "2mryJdnShDnC"
      },
      "execution_count": 106,
      "outputs": []
    },
    {
      "cell_type": "code",
      "source": [
        "standardize(x,μ,σ)"
      ],
      "metadata": {
        "colab": {
          "base_uri": "https://localhost:8080/"
        },
        "id": "hYwXQBCqhH2g",
        "outputId": "5ba607e4-6474-41b5-8c14-d7894b53400d"
      },
      "execution_count": 107,
      "outputs": [
        {
          "output_type": "stream",
          "name": "stdout",
          "text": [
            "Z-score: 0.9999999999999964\n",
            "P-value: 0.15865525393145785\n"
          ]
        }
      ]
    },
    {
      "cell_type": "markdown",
      "source": [
        "#### What's the prob. of getting pizza between 15.95 and 16.63?"
      ],
      "metadata": {
        "id": "uuOqKRVEgUIQ"
      }
    },
    {
      "cell_type": "code",
      "source": [
        "# Example:\n",
        "\n",
        "# Your local pizza shop claims their large is at least 16 in. or it's free.\n",
        "# Their pizza is normally distributed with μ = 16.3 in. and σ = 0.2 in.\n",
        "\n",
        "\n",
        "# Variables\n",
        "x1 = 15.95 #\n",
        "x2 = 16.63 #\n",
        "μ = 16.3 #\n",
        "σ = 0.2 #\n",
        "\n",
        "def standardize(x1,x2,μ,σ):\n",
        "  # x1 Section\n",
        "  z_score_1 = (x1 - μ) / σ\n",
        "  print('Z-score_1:', z_score_1)\n",
        "  p_value_1 = sp.special.ndtr(z_score_1)\n",
        "  print('P-value_1:', p_value_1)\n",
        "  # x2 Section\n",
        "  z_score_2 = (x2 - μ) / σ\n",
        "  print('Z-score_2:', z_score_2)\n",
        "  p_value_2 = sp.special.ndtr(z_score_2)\n",
        "  print('P-value_2:', p_value_2)\n",
        "  p_value = round(p_value_2 - p_value_1,4)\n",
        "  print('Range:', p_value)\n",
        "  return"
      ],
      "metadata": {
        "id": "cmDv68kCgZkK"
      },
      "execution_count": 108,
      "outputs": []
    },
    {
      "cell_type": "code",
      "source": [
        "standardize(x1,x2,μ,σ)"
      ],
      "metadata": {
        "colab": {
          "base_uri": "https://localhost:8080/"
        },
        "id": "j261yiMGg1Sn",
        "outputId": "2f387c1f-f539-492b-99f5-860ba8e5c2e1"
      },
      "execution_count": 109,
      "outputs": [
        {
          "output_type": "stream",
          "name": "stdout",
          "text": [
            "Z-score_1: -1.750000000000007\n",
            "P-value_1: 0.040059156863816475\n",
            "Z-score_2: 1.6499999999999915\n",
            "P-value_2: 0.950528531966351\n",
            "Range: 0.9105\n"
          ]
        }
      ]
    },
    {
      "cell_type": "markdown",
      "source": [],
      "metadata": {
        "id": "whs6nyyA4fTH"
      }
    },
    {
      "cell_type": "markdown",
      "source": [
        "### Binominal Distribution"
      ],
      "metadata": {
        "id": "YDZWND224f_f"
      }
    },
    {
      "cell_type": "code",
      "source": [
        "### When to Use:\n",
        "# Remember BINS for Binomial Distribution\n",
        "# *   B - Binary Outcomes\n",
        "# *   I - Independent Trials\n",
        "# *   N - Number of Trials\n",
        "# *   S = Same Probability per Trial\n",
        "\n",
        "# Variables\n",
        "n = 4 # Four Dice Rolls\n",
        "p = 1/6 # Probability of Getting a 1\n",
        "x = 2 # Objective of Rolling 1 Twice\n",
        "q = round(1 - p,2) # Complement (Probability of Failure)\n",
        "\n",
        "def binom_dist(p,x,n,q):\n",
        "  # Mean\n",
        "  mean = round(n*p,2)\n",
        "  print('Mean:', mean)\n",
        "  # Variance\n",
        "  var = n*p*(1-p)\n",
        "  std = sqrt(n*p*(1-p))\n",
        "  print('Variance:', var)\n",
        "  print('Standard Deviation: ', std)\n",
        "  # Factorial\n",
        "  fact_num = math.factorial(n)\n",
        "  fact_denom = math.factorial(n-x) * math.factorial(x)\n",
        "  fraction = fact_num/fact_denom\n",
        "  print('Factorial Numerator:', fact_num)\n",
        "  print('Factorial Denominator:', fact_denom)\n",
        "  print('n choose x:', fact_num/fact_denom)\n",
        "  # Probability\n",
        "  prob = round((p**x) * (q**(n-x)),4)\n",
        "  print('Probability:', prob)\n",
        "  # Binomial Distribution\n",
        "  binom_dist = fraction * prob\n",
        "  print('Binomial Distribution:', binom_dist)\n",
        "  return"
      ],
      "metadata": {
        "id": "gQZISunW4f_g"
      },
      "execution_count": null,
      "outputs": []
    },
    {
      "cell_type": "code",
      "source": [
        "binom_dist(p,x,n,q)"
      ],
      "metadata": {
        "colab": {
          "base_uri": "https://localhost:8080/"
        },
        "outputId": "414d16b4-1f72-4bdf-d3a8-1bb94a85b989",
        "id": "iv8HUd544f_g"
      },
      "execution_count": null,
      "outputs": [
        {
          "output_type": "stream",
          "name": "stdout",
          "text": [
            "Mean: 0.67\n",
            "Variance: 0.5555555555555556\n",
            "Standard Deviation:  0.7453559924999299\n",
            "Factorial Numerator: 24\n",
            "Factorial Denominator: 4\n",
            "n choose x: 6.0\n",
            "Probability: 0.0191\n",
            "Binomial Distribution: 0.1146\n"
          ]
        }
      ]
    },
    {
      "cell_type": "markdown",
      "source": [],
      "metadata": {
        "id": "YGk_Iwks4pOh"
      }
    },
    {
      "cell_type": "markdown",
      "source": [
        "### Poisson Distribution"
      ],
      "metadata": {
        "id": "P39TPoFZ4p8s"
      }
    },
    {
      "cell_type": "code",
      "source": [
        "### When to Use:\n",
        "# Probability of x event happening over a given time period.\n",
        "# Example: Number of raindrops over x minutes.\n",
        "# Example: Probability of two car parts failing over next 50,000 miles.\n",
        "\n",
        "# Variables\n",
        "n = 4 # Four Dice Rolls\n",
        "p = 1/6 # Probability of Getting a 1\n",
        "x = 2 # Objective of Rolling 1 Twice\n",
        "q = round(1 - p,2) # Complement (Probability of Failure)\n",
        "\n",
        "def binom_dist(p,x,n,q):\n",
        "  # # Mean\n",
        "  # mean = round(n*p,2)\n",
        "  # print('Mean:', mean)\n",
        "  # # Variance\n",
        "  # var = n*p*(1-p)\n",
        "  # std = sqrt(n*p*(1-p))\n",
        "  # print('Variance:', var)\n",
        "  # print('Standard Deviation: ', std)\n",
        "  # # Factorial\n",
        "  # fact_num = math.factorial(n)\n",
        "  # fact_denom = math.factorial(n-x) * math.factorial(x)\n",
        "  # fraction = fact_num/fact_denom\n",
        "  # print('Factorial Numerator:', fact_num)\n",
        "  # print('Factorial Denominator:', fact_denom)\n",
        "  # print('n choose x:', fact_num/fact_denom)\n",
        "  # # Probability\n",
        "  # prob = round((p**x) * (q**(n-x)),4)\n",
        "  # print('Probability:', prob)\n",
        "  # # Binomial Distribution\n",
        "  # binom_dist = fraction * prob\n",
        "  # print('Binomial Distribution:', binom_dist)\n",
        "  return"
      ],
      "metadata": {
        "id": "TjMvObuS4p8w"
      },
      "execution_count": null,
      "outputs": []
    },
    {
      "cell_type": "code",
      "source": [
        "poisson_dist(p,x,n,q)"
      ],
      "metadata": {
        "colab": {
          "base_uri": "https://localhost:8080/"
        },
        "outputId": "3f955bd5-5700-46bf-b582-256796a96fca",
        "id": "i-xPQMe-4p8y"
      },
      "execution_count": 19,
      "outputs": [
        {
          "output_type": "stream",
          "name": "stdout",
          "text": [
            "Mean: 0.67\n",
            "Variance: 0.5555555555555556\n",
            "Standard Deviation:  0.7453559924999299\n",
            "Factorial Numerator: 24\n",
            "Factorial Denominator: 4\n",
            "n choose x: 6.0\n",
            "Probability: 0.0191\n",
            "Binomial Distribution: 0.1146\n"
          ]
        }
      ]
    },
    {
      "cell_type": "markdown",
      "source": [],
      "metadata": {
        "id": "IU-Lvj2O6_YM"
      }
    },
    {
      "cell_type": "markdown",
      "source": [
        "### Uniform Distribution"
      ],
      "metadata": {
        "id": "sYBWw1Up6_4L"
      }
    },
    {
      "cell_type": "code",
      "source": [
        "### When to Use:\n",
        "\n",
        "\n",
        "# Characterized as having a constant probability within a Domain\n",
        "# Additionally, due to distribution symmetry, the mean = median.\n",
        "\n",
        "# Example: Bus is uniformly late between 2 and 10 minutes.\n",
        "# How long can you expect to wait?\n",
        "# With what standard deviation?\n",
        "# If it's > 7 mins late, you'll be late for work.\n",
        "# What's the probability of you being later for work?\n",
        "\n",
        "# Implicit quesiton - what's the probability of the bus being > 7 mins late?\n",
        "# P(7 <= X <= 10)) =\n",
        "\n",
        "# Variables\n",
        "a = 2 # lowerbound threshold\n",
        "b = 10 # upperbound threshold\n",
        "c = 7 # Bus late lowerbound threshhold\n",
        "d = 10 # Bus late upperbound threshold\n",
        "\n",
        "\n",
        "def uniform_dist(a,b,c,d):\n",
        "  # Mean\n",
        "  mean = round((a+b)/2,2)\n",
        "  print('Mean:', mean)\n",
        "  # Variance + Standard Deviation\n",
        "  var = round(((b-a)**2)/12,4)\n",
        "  std = round(sqrt(((b-a)**2)/12),4)\n",
        "  print('Variance:', var)\n",
        "  print('Standard Deviation: ', std)\n",
        "  # Probability Density Function\n",
        "  prob_dens = 1/(b-a)\n",
        "  print('Probability Density Function: ', prob_dens)\n",
        "  # Conditional Probability\n",
        "  prob = round(((d-c)/(b-a)),4)\n",
        "  print('Probability:', prob)\n",
        "  return"
      ],
      "metadata": {
        "id": "Uy3KIr3q6_4N"
      },
      "execution_count": 39,
      "outputs": []
    },
    {
      "cell_type": "code",
      "source": [
        "uniform_dist(a,b,c,d)"
      ],
      "metadata": {
        "colab": {
          "base_uri": "https://localhost:8080/"
        },
        "outputId": "c80be59c-0e04-47ff-c39a-05e77616ff12",
        "id": "F3XVSfwD6_4O"
      },
      "execution_count": 40,
      "outputs": [
        {
          "output_type": "stream",
          "name": "stdout",
          "text": [
            "Mean: 6.0\n",
            "Variance: 5.3333\n",
            "Standard Deviation:  2.3094\n",
            "Probability Density Function:  0.125\n",
            "Probability: 0.375\n"
          ]
        }
      ]
    },
    {
      "cell_type": "markdown",
      "source": [],
      "metadata": {
        "id": "wyYOknBCOmd7"
      }
    },
    {
      "cell_type": "markdown",
      "source": [
        "### Geometric Distribution"
      ],
      "metadata": {
        "id": "wsk7_6b8Om_m"
      }
    },
    {
      "cell_type": "code",
      "source": [
        "### When to Use:\n",
        "\n",
        "\n",
        "# Example: Coming home from work, you always seem to hit every light.\n",
        "# You calculate the odds of making it through a light to be 0.2.\n",
        "# How many lights can you expect to hit before making it through one?\n",
        "# With what standard deviation?\n",
        "# What's the probability of the 3rd light being the first one that's green?\n",
        "\n",
        "# Variables\n",
        "p = 0.2 # Probability of Green Light\n",
        "q = round(1 - p,2) # Complement (Probability of Red Light)\n",
        "x = 3 # Probability of first Green Light on Third Light\n",
        "\n",
        "def geo_dist(p,q,x):\n",
        "  # Mean\n",
        "  mean = round(1/p,2)\n",
        "  print('Mean:', mean)\n",
        "  # Variance\n",
        "  var = round((1-p)/p,4)\n",
        "  std = round((sqrt(1-p))/p,4)\n",
        "  print('Variance:', var)\n",
        "  print('Standard Deviation: ', std)\n",
        "  # Probability\n",
        "  prob = round(q**(x-1) * p,4)\n",
        "  print('Probability:', prob)\n",
        "  return"
      ],
      "metadata": {
        "id": "kxsS3MyCOm_n"
      },
      "execution_count": 52,
      "outputs": []
    },
    {
      "cell_type": "code",
      "source": [
        "geo_dist(p,q,x)"
      ],
      "metadata": {
        "colab": {
          "base_uri": "https://localhost:8080/"
        },
        "outputId": "e7ba808a-bb94-4e31-c0c0-f1ff03d52068",
        "id": "ocUnSpG7Om_n"
      },
      "execution_count": 53,
      "outputs": [
        {
          "output_type": "stream",
          "name": "stdout",
          "text": [
            "Mean: 5.0\n",
            "Variance: 4.0\n",
            "Standard Deviation:  4.4721\n",
            "Probability: 0.128\n"
          ]
        }
      ]
    },
    {
      "cell_type": "markdown",
      "source": [],
      "metadata": {
        "id": "GbE85Sc36_4P"
      }
    },
    {
      "cell_type": "code",
      "source": [],
      "metadata": {
        "id": "WIGQ6CefWs-e"
      },
      "execution_count": null,
      "outputs": []
    },
    {
      "cell_type": "markdown",
      "source": [
        "### Bayes' Theorem"
      ],
      "metadata": {
        "id": "2VhJ9YS17Y1B"
      }
    },
    {
      "cell_type": "code",
      "source": [
        "### Equation: P(A|B) = (P(B|A) * P(A)) / P(B)\n",
        "\n",
        "# When to Use: When you have some additional information and you'd like to refine your assessment.\n",
        "# Look for fact patterns where you have the inverse given to you -i.e., you're given P(B|A) and you need P(A|B)\n",
        "\n",
        "# Example:\n",
        "\n",
        "# You've been planning a family picnic. You're trying to decide whether to postpone due to rain.\n",
        "# The chance of rain on any day is 15%.\n",
        "# The morning of the picnic, it's cloudy.\n",
        "# The prob. of it being cloudy is 25% and on days where it rains, it's cloudy in the morning 80% of the time.\n",
        "# Should you postpone the picnic?\n",
        "\n",
        "\n",
        "# Variables\n",
        "a = 0.15 # P(rain)\n",
        "b = 0.25 # P(cloudy)\n",
        "c = 0.80 # P(cloudy|rain)\n",
        "\n",
        "# P(rain|cloudy) = (P(cloudy|rain) * P(rain)) / P(cloudy)\n",
        "\n",
        "\n",
        "def bayes_theorem(a,b,c):\n",
        "  # bayes\n",
        "  bayes_theorem = round((c * a) / b,4)\n",
        "  print('Bayes Theorem:', bayes_theorem)\n",
        "  return"
      ],
      "metadata": {
        "id": "LQ0BM4r_7Y1D"
      },
      "execution_count": 111,
      "outputs": []
    },
    {
      "cell_type": "code",
      "source": [
        "bayes_theorem(a,b,c)"
      ],
      "metadata": {
        "colab": {
          "base_uri": "https://localhost:8080/"
        },
        "id": "ZY0y8D4o7Y1E",
        "outputId": "93deee61-22d3-4a59-cc49-1a9d2cae0835"
      },
      "execution_count": 112,
      "outputs": [
        {
          "output_type": "stream",
          "name": "stdout",
          "text": [
            "Bayes Theorem: 0.48\n"
          ]
        }
      ]
    }
  ]
}