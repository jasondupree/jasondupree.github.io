{
  "cells": [
    {
      "cell_type": "markdown",
      "metadata": {
        "id": "view-in-github",
        "colab_type": "text"
      },
      "source": [
        "<a href=\"https://colab.research.google.com/github/jasondupree/jasondupree.github.io/blob/main/power_transformation.ipynb\" target=\"_parent\"><img src=\"https://colab.research.google.com/assets/colab-badge.svg\" alt=\"Open In Colab\"/></a>"
      ]
    },
    {
      "cell_type": "markdown",
      "source": [
        "# **Notebook Preparation**"
      ],
      "metadata": {
        "id": "HosI5OY7uGXQ"
      }
    },
    {
      "cell_type": "markdown",
      "source": [
        "## Mount Drive and Update Display"
      ],
      "metadata": {
        "id": "5SnTuKWluKEN"
      }
    },
    {
      "cell_type": "code",
      "execution_count": 6,
      "metadata": {
        "colab": {
          "base_uri": "https://localhost:8080/"
        },
        "id": "MR3mXm4nY7Ul",
        "outputId": "c2696e0a-701a-41e6-ce47-a34c5ee90d56"
      },
      "outputs": [
        {
          "output_type": "stream",
          "name": "stdout",
          "text": [
            "Drive already mounted at /content/drive; to attempt to forcibly remount, call drive.mount(\"/content/drive\", force_remount=True).\n"
          ]
        }
      ],
      "source": [
        "from google.colab import drive\n",
        "drive.mount('/content/drive')\n",
        "\n",
        "pd.set_option('display.max_columns', None)  # Ensures all columns are displayed\n",
        "pd.set_option('display.width', None)        # Utilizes the maximum width of your display\n",
        "\n",
        "from IPython.display import display, HTML"
      ]
    },
    {
      "cell_type": "markdown",
      "source": [
        "## Import Libraries"
      ],
      "metadata": {
        "id": "6bE3R5AXuSdL"
      }
    },
    {
      "cell_type": "code",
      "source": [
        "import pandas as pd\n",
        "import matplotlib.pyplot as plt\n",
        "import numpy as np\n",
        "import statsmodels.api as sm\n",
        "from scipy.stats import yeojohnson, boxcox\n",
        "from scipy.optimize import minimize_scalar\n",
        "\n",
        "import warnings\n",
        "from sklearn.exceptions import ConvergenceWarning\n",
        "warnings.filterwarnings('ignore')\n",
        "\n",
        "# Suppress ConvergenceWarning for this context\n",
        "warnings.simplefilter('ignore', ConvergenceWarning)"
      ],
      "metadata": {
        "id": "QnltdWVdbTBW"
      },
      "execution_count": 27,
      "outputs": []
    },
    {
      "cell_type": "markdown",
      "source": [
        "## Import Data"
      ],
      "metadata": {
        "id": "FomQes1vuVB-"
      }
    },
    {
      "cell_type": "code",
      "source": [
        "# Adjust the path to the location of your CSV file\n",
        "file_path = '/content/drive/My Drive/Business Courses/Analytics in Finance/Power Transformations/Exercise 1/bonddata.txt'\n",
        "\n",
        "data = pd.read_csv(file_path)\n",
        "\n",
        "# Display the first few rows of the DataFrame\n",
        "data.head(3)"
      ],
      "metadata": {
        "colab": {
          "base_uri": "https://localhost:8080/",
          "height": 164
        },
        "id": "IVmDq8X9ubCs",
        "outputId": "a7682340-b6e0-409c-bf8f-866ff8259a16"
      },
      "execution_count": 8,
      "outputs": [
        {
          "output_type": "execute_result",
          "data": {
            "text/plain": [
              "    id  bond_id  trade_price    weight  current_coupon  time_to_maturity  is_callable  \\\n",
              "0   10        1      126.268  7.616851            5.95         25.940349            0   \n",
              "1   38        2      101.009  0.018373            3.55          0.326392            0   \n",
              "2  336        3      108.144  3.537380            4.20          2.340601            0   \n",
              "\n",
              "   reporting_delay  trade_size  trade_type  curve_based_price  received_time_diff_last1  \\\n",
              "0           12.540    150000.0           3         126.017363                    343747   \n",
              "1            9.327    450000.0           3         101.068546                         1   \n",
              "2            0.102    160000.0           4         107.927659                     74139   \n",
              "\n",
              "   trade_price_last1  trade_size_last1  trade_type_last1  curve_based_price_last1  \\\n",
              "0            125.101          400000.0                 3               124.717608   \n",
              "1            101.009          450000.0                 2               101.068546   \n",
              "2            107.990            6000.0                 2               107.922875   \n",
              "\n",
              "   received_time_diff_last2  trade_price_last2  trade_size_last2  trade_type_last2  \\\n",
              "0                    345050            124.757         1000000.0                 3   \n",
              "1                      3694            100.850           25000.0                 2   \n",
              "2                     74659            107.990            6000.0                 4   \n",
              "\n",
              "   curve_based_price_last2  received_time_diff_last3  trade_price_last3  trade_size_last3  \\\n",
              "0               124.721953                    684386            126.061          220000.0   \n",
              "1               101.066038                      8018            100.995         3000000.0   \n",
              "2               107.920620                     83993            108.414           75000.0   \n",
              "\n",
              "   trade_type_last3  curve_based_price_last3  received_time_diff_last4  trade_price_last4  \\\n",
              "0                 3               126.180334                   1295498           128.8910   \n",
              "1                 2               101.066114                      9168           101.0184   \n",
              "2                 3               107.963427                     84037           108.1400   \n",
              "\n",
              "   trade_size_last4  trade_type_last4  curve_based_price_last4  received_time_diff_last5  \\\n",
              "0           29000.0                 4               126.636079                   1308464   \n",
              "1         3000000.0                 3               101.067077                     18344   \n",
              "2           75000.0                 4               107.938385                     84729   \n",
              "\n",
              "   trade_price_last5  trade_size_last5  trade_type_last5  curve_based_price_last5  \\\n",
              "0            124.918           10000.0                 2               125.736081   \n",
              "1            100.963           50000.0                 2               101.063294   \n",
              "2            107.965            2000.0                 4               107.934646   \n",
              "\n",
              "   received_time_diff_last6  trade_price_last6  trade_size_last6  trade_type_last6  \\\n",
              "0                   2152948            126.362         5000001.0                 2   \n",
              "1                    348445            100.966           15000.0                 2   \n",
              "2                     84729            107.965            2000.0                 2   \n",
              "\n",
              "   curve_based_price_last6  received_time_diff_last7  trade_price_last7  trade_size_last7  \\\n",
              "0               127.025765                   2157390           126.8800         4200000.0   \n",
              "1               101.062981                    448618           100.9777           25000.0   \n",
              "2               107.934646                     85567           108.4290            5000.0   \n",
              "\n",
              "   trade_type_last7  curve_based_price_last7  received_time_diff_last8  trade_price_last8  \\\n",
              "0                 3               126.761433                   2407701            126.673   \n",
              "1                 2               101.077405                    523506            101.033   \n",
              "2                 3               107.932542                     92007            108.246   \n",
              "\n",
              "   trade_size_last8  trade_type_last8  curve_based_price_last8  received_time_diff_last9  \\\n",
              "0           85000.0                 4               126.323528                   2862729   \n",
              "1           25000.0                 2               101.101928                    532644   \n",
              "2           38000.0                 2               107.900618                     96293   \n",
              "\n",
              "   trade_price_last9  trade_size_last9  trade_type_last9  curve_based_price_last9  \\\n",
              "0            128.596          120000.0                 2               127.561201   \n",
              "1            101.086          500000.0                 2               101.103180   \n",
              "2            107.917          400000.0                 2               107.874965   \n",
              "\n",
              "   received_time_diff_last10  trade_price_last10  trade_size_last10  trade_type_last10  \\\n",
              "0                    3621492             129.089           200000.0                  2   \n",
              "1                     538510             101.070            25000.0                  2   \n",
              "2                      96293             107.917           400000.0                  4   \n",
              "\n",
              "   curve_based_price_last10  \n",
              "0                129.435587  \n",
              "1                101.102243  \n",
              "2                107.874965  "
            ],
            "text/html": [
              "\n",
              "  <div id=\"df-bdfef8fc-df72-4a0b-8889-9bf42a1514e3\" class=\"colab-df-container\">\n",
              "    <div>\n",
              "<style scoped>\n",
              "    .dataframe tbody tr th:only-of-type {\n",
              "        vertical-align: middle;\n",
              "    }\n",
              "\n",
              "    .dataframe tbody tr th {\n",
              "        vertical-align: top;\n",
              "    }\n",
              "\n",
              "    .dataframe thead th {\n",
              "        text-align: right;\n",
              "    }\n",
              "</style>\n",
              "<table border=\"1\" class=\"dataframe\">\n",
              "  <thead>\n",
              "    <tr style=\"text-align: right;\">\n",
              "      <th></th>\n",
              "      <th>id</th>\n",
              "      <th>bond_id</th>\n",
              "      <th>trade_price</th>\n",
              "      <th>weight</th>\n",
              "      <th>current_coupon</th>\n",
              "      <th>time_to_maturity</th>\n",
              "      <th>is_callable</th>\n",
              "      <th>reporting_delay</th>\n",
              "      <th>trade_size</th>\n",
              "      <th>trade_type</th>\n",
              "      <th>curve_based_price</th>\n",
              "      <th>received_time_diff_last1</th>\n",
              "      <th>trade_price_last1</th>\n",
              "      <th>trade_size_last1</th>\n",
              "      <th>trade_type_last1</th>\n",
              "      <th>curve_based_price_last1</th>\n",
              "      <th>received_time_diff_last2</th>\n",
              "      <th>trade_price_last2</th>\n",
              "      <th>trade_size_last2</th>\n",
              "      <th>trade_type_last2</th>\n",
              "      <th>curve_based_price_last2</th>\n",
              "      <th>received_time_diff_last3</th>\n",
              "      <th>trade_price_last3</th>\n",
              "      <th>trade_size_last3</th>\n",
              "      <th>trade_type_last3</th>\n",
              "      <th>curve_based_price_last3</th>\n",
              "      <th>received_time_diff_last4</th>\n",
              "      <th>trade_price_last4</th>\n",
              "      <th>trade_size_last4</th>\n",
              "      <th>trade_type_last4</th>\n",
              "      <th>curve_based_price_last4</th>\n",
              "      <th>received_time_diff_last5</th>\n",
              "      <th>trade_price_last5</th>\n",
              "      <th>trade_size_last5</th>\n",
              "      <th>trade_type_last5</th>\n",
              "      <th>curve_based_price_last5</th>\n",
              "      <th>received_time_diff_last6</th>\n",
              "      <th>trade_price_last6</th>\n",
              "      <th>trade_size_last6</th>\n",
              "      <th>trade_type_last6</th>\n",
              "      <th>curve_based_price_last6</th>\n",
              "      <th>received_time_diff_last7</th>\n",
              "      <th>trade_price_last7</th>\n",
              "      <th>trade_size_last7</th>\n",
              "      <th>trade_type_last7</th>\n",
              "      <th>curve_based_price_last7</th>\n",
              "      <th>received_time_diff_last8</th>\n",
              "      <th>trade_price_last8</th>\n",
              "      <th>trade_size_last8</th>\n",
              "      <th>trade_type_last8</th>\n",
              "      <th>curve_based_price_last8</th>\n",
              "      <th>received_time_diff_last9</th>\n",
              "      <th>trade_price_last9</th>\n",
              "      <th>trade_size_last9</th>\n",
              "      <th>trade_type_last9</th>\n",
              "      <th>curve_based_price_last9</th>\n",
              "      <th>received_time_diff_last10</th>\n",
              "      <th>trade_price_last10</th>\n",
              "      <th>trade_size_last10</th>\n",
              "      <th>trade_type_last10</th>\n",
              "      <th>curve_based_price_last10</th>\n",
              "    </tr>\n",
              "  </thead>\n",
              "  <tbody>\n",
              "    <tr>\n",
              "      <th>0</th>\n",
              "      <td>10</td>\n",
              "      <td>1</td>\n",
              "      <td>126.268</td>\n",
              "      <td>7.616851</td>\n",
              "      <td>5.95</td>\n",
              "      <td>25.940349</td>\n",
              "      <td>0</td>\n",
              "      <td>12.540</td>\n",
              "      <td>150000.0</td>\n",
              "      <td>3</td>\n",
              "      <td>126.017363</td>\n",
              "      <td>343747</td>\n",
              "      <td>125.101</td>\n",
              "      <td>400000.0</td>\n",
              "      <td>3</td>\n",
              "      <td>124.717608</td>\n",
              "      <td>345050</td>\n",
              "      <td>124.757</td>\n",
              "      <td>1000000.0</td>\n",
              "      <td>3</td>\n",
              "      <td>124.721953</td>\n",
              "      <td>684386</td>\n",
              "      <td>126.061</td>\n",
              "      <td>220000.0</td>\n",
              "      <td>3</td>\n",
              "      <td>126.180334</td>\n",
              "      <td>1295498</td>\n",
              "      <td>128.8910</td>\n",
              "      <td>29000.0</td>\n",
              "      <td>4</td>\n",
              "      <td>126.636079</td>\n",
              "      <td>1308464</td>\n",
              "      <td>124.918</td>\n",
              "      <td>10000.0</td>\n",
              "      <td>2</td>\n",
              "      <td>125.736081</td>\n",
              "      <td>2152948</td>\n",
              "      <td>126.362</td>\n",
              "      <td>5000001.0</td>\n",
              "      <td>2</td>\n",
              "      <td>127.025765</td>\n",
              "      <td>2157390</td>\n",
              "      <td>126.8800</td>\n",
              "      <td>4200000.0</td>\n",
              "      <td>3</td>\n",
              "      <td>126.761433</td>\n",
              "      <td>2407701</td>\n",
              "      <td>126.673</td>\n",
              "      <td>85000.0</td>\n",
              "      <td>4</td>\n",
              "      <td>126.323528</td>\n",
              "      <td>2862729</td>\n",
              "      <td>128.596</td>\n",
              "      <td>120000.0</td>\n",
              "      <td>2</td>\n",
              "      <td>127.561201</td>\n",
              "      <td>3621492</td>\n",
              "      <td>129.089</td>\n",
              "      <td>200000.0</td>\n",
              "      <td>2</td>\n",
              "      <td>129.435587</td>\n",
              "    </tr>\n",
              "    <tr>\n",
              "      <th>1</th>\n",
              "      <td>38</td>\n",
              "      <td>2</td>\n",
              "      <td>101.009</td>\n",
              "      <td>0.018373</td>\n",
              "      <td>3.55</td>\n",
              "      <td>0.326392</td>\n",
              "      <td>0</td>\n",
              "      <td>9.327</td>\n",
              "      <td>450000.0</td>\n",
              "      <td>3</td>\n",
              "      <td>101.068546</td>\n",
              "      <td>1</td>\n",
              "      <td>101.009</td>\n",
              "      <td>450000.0</td>\n",
              "      <td>2</td>\n",
              "      <td>101.068546</td>\n",
              "      <td>3694</td>\n",
              "      <td>100.850</td>\n",
              "      <td>25000.0</td>\n",
              "      <td>2</td>\n",
              "      <td>101.066038</td>\n",
              "      <td>8018</td>\n",
              "      <td>100.995</td>\n",
              "      <td>3000000.0</td>\n",
              "      <td>2</td>\n",
              "      <td>101.066114</td>\n",
              "      <td>9168</td>\n",
              "      <td>101.0184</td>\n",
              "      <td>3000000.0</td>\n",
              "      <td>3</td>\n",
              "      <td>101.067077</td>\n",
              "      <td>18344</td>\n",
              "      <td>100.963</td>\n",
              "      <td>50000.0</td>\n",
              "      <td>2</td>\n",
              "      <td>101.063294</td>\n",
              "      <td>348445</td>\n",
              "      <td>100.966</td>\n",
              "      <td>15000.0</td>\n",
              "      <td>2</td>\n",
              "      <td>101.062981</td>\n",
              "      <td>448618</td>\n",
              "      <td>100.9777</td>\n",
              "      <td>25000.0</td>\n",
              "      <td>2</td>\n",
              "      <td>101.077405</td>\n",
              "      <td>523506</td>\n",
              "      <td>101.033</td>\n",
              "      <td>25000.0</td>\n",
              "      <td>2</td>\n",
              "      <td>101.101928</td>\n",
              "      <td>532644</td>\n",
              "      <td>101.086</td>\n",
              "      <td>500000.0</td>\n",
              "      <td>2</td>\n",
              "      <td>101.103180</td>\n",
              "      <td>538510</td>\n",
              "      <td>101.070</td>\n",
              "      <td>25000.0</td>\n",
              "      <td>2</td>\n",
              "      <td>101.102243</td>\n",
              "    </tr>\n",
              "    <tr>\n",
              "      <th>2</th>\n",
              "      <td>336</td>\n",
              "      <td>3</td>\n",
              "      <td>108.144</td>\n",
              "      <td>3.537380</td>\n",
              "      <td>4.20</td>\n",
              "      <td>2.340601</td>\n",
              "      <td>0</td>\n",
              "      <td>0.102</td>\n",
              "      <td>160000.0</td>\n",
              "      <td>4</td>\n",
              "      <td>107.927659</td>\n",
              "      <td>74139</td>\n",
              "      <td>107.990</td>\n",
              "      <td>6000.0</td>\n",
              "      <td>2</td>\n",
              "      <td>107.922875</td>\n",
              "      <td>74659</td>\n",
              "      <td>107.990</td>\n",
              "      <td>6000.0</td>\n",
              "      <td>4</td>\n",
              "      <td>107.920620</td>\n",
              "      <td>83993</td>\n",
              "      <td>108.414</td>\n",
              "      <td>75000.0</td>\n",
              "      <td>3</td>\n",
              "      <td>107.963427</td>\n",
              "      <td>84037</td>\n",
              "      <td>108.1400</td>\n",
              "      <td>75000.0</td>\n",
              "      <td>4</td>\n",
              "      <td>107.938385</td>\n",
              "      <td>84729</td>\n",
              "      <td>107.965</td>\n",
              "      <td>2000.0</td>\n",
              "      <td>4</td>\n",
              "      <td>107.934646</td>\n",
              "      <td>84729</td>\n",
              "      <td>107.965</td>\n",
              "      <td>2000.0</td>\n",
              "      <td>2</td>\n",
              "      <td>107.934646</td>\n",
              "      <td>85567</td>\n",
              "      <td>108.4290</td>\n",
              "      <td>5000.0</td>\n",
              "      <td>3</td>\n",
              "      <td>107.932542</td>\n",
              "      <td>92007</td>\n",
              "      <td>108.246</td>\n",
              "      <td>38000.0</td>\n",
              "      <td>2</td>\n",
              "      <td>107.900618</td>\n",
              "      <td>96293</td>\n",
              "      <td>107.917</td>\n",
              "      <td>400000.0</td>\n",
              "      <td>2</td>\n",
              "      <td>107.874965</td>\n",
              "      <td>96293</td>\n",
              "      <td>107.917</td>\n",
              "      <td>400000.0</td>\n",
              "      <td>4</td>\n",
              "      <td>107.874965</td>\n",
              "    </tr>\n",
              "  </tbody>\n",
              "</table>\n",
              "</div>\n",
              "    <div class=\"colab-df-buttons\">\n",
              "\n",
              "  <div class=\"colab-df-container\">\n",
              "    <button class=\"colab-df-convert\" onclick=\"convertToInteractive('df-bdfef8fc-df72-4a0b-8889-9bf42a1514e3')\"\n",
              "            title=\"Convert this dataframe to an interactive table.\"\n",
              "            style=\"display:none;\">\n",
              "\n",
              "  <svg xmlns=\"http://www.w3.org/2000/svg\" height=\"24px\" viewBox=\"0 -960 960 960\">\n",
              "    <path d=\"M120-120v-720h720v720H120Zm60-500h600v-160H180v160Zm220 220h160v-160H400v160Zm0 220h160v-160H400v160ZM180-400h160v-160H180v160Zm440 0h160v-160H620v160ZM180-180h160v-160H180v160Zm440 0h160v-160H620v160Z\"/>\n",
              "  </svg>\n",
              "    </button>\n",
              "\n",
              "  <style>\n",
              "    .colab-df-container {\n",
              "      display:flex;\n",
              "      gap: 12px;\n",
              "    }\n",
              "\n",
              "    .colab-df-convert {\n",
              "      background-color: #E8F0FE;\n",
              "      border: none;\n",
              "      border-radius: 50%;\n",
              "      cursor: pointer;\n",
              "      display: none;\n",
              "      fill: #1967D2;\n",
              "      height: 32px;\n",
              "      padding: 0 0 0 0;\n",
              "      width: 32px;\n",
              "    }\n",
              "\n",
              "    .colab-df-convert:hover {\n",
              "      background-color: #E2EBFA;\n",
              "      box-shadow: 0px 1px 2px rgba(60, 64, 67, 0.3), 0px 1px 3px 1px rgba(60, 64, 67, 0.15);\n",
              "      fill: #174EA6;\n",
              "    }\n",
              "\n",
              "    .colab-df-buttons div {\n",
              "      margin-bottom: 4px;\n",
              "    }\n",
              "\n",
              "    [theme=dark] .colab-df-convert {\n",
              "      background-color: #3B4455;\n",
              "      fill: #D2E3FC;\n",
              "    }\n",
              "\n",
              "    [theme=dark] .colab-df-convert:hover {\n",
              "      background-color: #434B5C;\n",
              "      box-shadow: 0px 1px 3px 1px rgba(0, 0, 0, 0.15);\n",
              "      filter: drop-shadow(0px 1px 2px rgba(0, 0, 0, 0.3));\n",
              "      fill: #FFFFFF;\n",
              "    }\n",
              "  </style>\n",
              "\n",
              "    <script>\n",
              "      const buttonEl =\n",
              "        document.querySelector('#df-bdfef8fc-df72-4a0b-8889-9bf42a1514e3 button.colab-df-convert');\n",
              "      buttonEl.style.display =\n",
              "        google.colab.kernel.accessAllowed ? 'block' : 'none';\n",
              "\n",
              "      async function convertToInteractive(key) {\n",
              "        const element = document.querySelector('#df-bdfef8fc-df72-4a0b-8889-9bf42a1514e3');\n",
              "        const dataTable =\n",
              "          await google.colab.kernel.invokeFunction('convertToInteractive',\n",
              "                                                    [key], {});\n",
              "        if (!dataTable) return;\n",
              "\n",
              "        const docLinkHtml = 'Like what you see? Visit the ' +\n",
              "          '<a target=\"_blank\" href=https://colab.research.google.com/notebooks/data_table.ipynb>data table notebook</a>'\n",
              "          + ' to learn more about interactive tables.';\n",
              "        element.innerHTML = '';\n",
              "        dataTable['output_type'] = 'display_data';\n",
              "        await google.colab.output.renderOutput(dataTable, element);\n",
              "        const docLink = document.createElement('div');\n",
              "        docLink.innerHTML = docLinkHtml;\n",
              "        element.appendChild(docLink);\n",
              "      }\n",
              "    </script>\n",
              "  </div>\n",
              "\n",
              "\n",
              "<div id=\"df-b244c23a-83d9-4a8b-b606-e63a7527629a\">\n",
              "  <button class=\"colab-df-quickchart\" onclick=\"quickchart('df-b244c23a-83d9-4a8b-b606-e63a7527629a')\"\n",
              "            title=\"Suggest charts\"\n",
              "            style=\"display:none;\">\n",
              "\n",
              "<svg xmlns=\"http://www.w3.org/2000/svg\" height=\"24px\"viewBox=\"0 0 24 24\"\n",
              "     width=\"24px\">\n",
              "    <g>\n",
              "        <path d=\"M19 3H5c-1.1 0-2 .9-2 2v14c0 1.1.9 2 2 2h14c1.1 0 2-.9 2-2V5c0-1.1-.9-2-2-2zM9 17H7v-7h2v7zm4 0h-2V7h2v10zm4 0h-2v-4h2v4z\"/>\n",
              "    </g>\n",
              "</svg>\n",
              "  </button>\n",
              "\n",
              "<style>\n",
              "  .colab-df-quickchart {\n",
              "      --bg-color: #E8F0FE;\n",
              "      --fill-color: #1967D2;\n",
              "      --hover-bg-color: #E2EBFA;\n",
              "      --hover-fill-color: #174EA6;\n",
              "      --disabled-fill-color: #AAA;\n",
              "      --disabled-bg-color: #DDD;\n",
              "  }\n",
              "\n",
              "  [theme=dark] .colab-df-quickchart {\n",
              "      --bg-color: #3B4455;\n",
              "      --fill-color: #D2E3FC;\n",
              "      --hover-bg-color: #434B5C;\n",
              "      --hover-fill-color: #FFFFFF;\n",
              "      --disabled-bg-color: #3B4455;\n",
              "      --disabled-fill-color: #666;\n",
              "  }\n",
              "\n",
              "  .colab-df-quickchart {\n",
              "    background-color: var(--bg-color);\n",
              "    border: none;\n",
              "    border-radius: 50%;\n",
              "    cursor: pointer;\n",
              "    display: none;\n",
              "    fill: var(--fill-color);\n",
              "    height: 32px;\n",
              "    padding: 0;\n",
              "    width: 32px;\n",
              "  }\n",
              "\n",
              "  .colab-df-quickchart:hover {\n",
              "    background-color: var(--hover-bg-color);\n",
              "    box-shadow: 0 1px 2px rgba(60, 64, 67, 0.3), 0 1px 3px 1px rgba(60, 64, 67, 0.15);\n",
              "    fill: var(--button-hover-fill-color);\n",
              "  }\n",
              "\n",
              "  .colab-df-quickchart-complete:disabled,\n",
              "  .colab-df-quickchart-complete:disabled:hover {\n",
              "    background-color: var(--disabled-bg-color);\n",
              "    fill: var(--disabled-fill-color);\n",
              "    box-shadow: none;\n",
              "  }\n",
              "\n",
              "  .colab-df-spinner {\n",
              "    border: 2px solid var(--fill-color);\n",
              "    border-color: transparent;\n",
              "    border-bottom-color: var(--fill-color);\n",
              "    animation:\n",
              "      spin 1s steps(1) infinite;\n",
              "  }\n",
              "\n",
              "  @keyframes spin {\n",
              "    0% {\n",
              "      border-color: transparent;\n",
              "      border-bottom-color: var(--fill-color);\n",
              "      border-left-color: var(--fill-color);\n",
              "    }\n",
              "    20% {\n",
              "      border-color: transparent;\n",
              "      border-left-color: var(--fill-color);\n",
              "      border-top-color: var(--fill-color);\n",
              "    }\n",
              "    30% {\n",
              "      border-color: transparent;\n",
              "      border-left-color: var(--fill-color);\n",
              "      border-top-color: var(--fill-color);\n",
              "      border-right-color: var(--fill-color);\n",
              "    }\n",
              "    40% {\n",
              "      border-color: transparent;\n",
              "      border-right-color: var(--fill-color);\n",
              "      border-top-color: var(--fill-color);\n",
              "    }\n",
              "    60% {\n",
              "      border-color: transparent;\n",
              "      border-right-color: var(--fill-color);\n",
              "    }\n",
              "    80% {\n",
              "      border-color: transparent;\n",
              "      border-right-color: var(--fill-color);\n",
              "      border-bottom-color: var(--fill-color);\n",
              "    }\n",
              "    90% {\n",
              "      border-color: transparent;\n",
              "      border-bottom-color: var(--fill-color);\n",
              "    }\n",
              "  }\n",
              "</style>\n",
              "\n",
              "  <script>\n",
              "    async function quickchart(key) {\n",
              "      const quickchartButtonEl =\n",
              "        document.querySelector('#' + key + ' button');\n",
              "      quickchartButtonEl.disabled = true;  // To prevent multiple clicks.\n",
              "      quickchartButtonEl.classList.add('colab-df-spinner');\n",
              "      try {\n",
              "        const charts = await google.colab.kernel.invokeFunction(\n",
              "            'suggestCharts', [key], {});\n",
              "      } catch (error) {\n",
              "        console.error('Error during call to suggestCharts:', error);\n",
              "      }\n",
              "      quickchartButtonEl.classList.remove('colab-df-spinner');\n",
              "      quickchartButtonEl.classList.add('colab-df-quickchart-complete');\n",
              "    }\n",
              "    (() => {\n",
              "      let quickchartButtonEl =\n",
              "        document.querySelector('#df-b244c23a-83d9-4a8b-b606-e63a7527629a button');\n",
              "      quickchartButtonEl.style.display =\n",
              "        google.colab.kernel.accessAllowed ? 'block' : 'none';\n",
              "    })();\n",
              "  </script>\n",
              "</div>\n",
              "    </div>\n",
              "  </div>\n"
            ],
            "application/vnd.google.colaboratory.intrinsic+json": {
              "type": "dataframe",
              "variable_name": "data"
            }
          },
          "metadata": {},
          "execution_count": 8
        }
      ]
    },
    {
      "cell_type": "markdown",
      "source": [
        "# EX1"
      ],
      "metadata": {
        "id": "RA17zISJ1sY_"
      }
    },
    {
      "cell_type": "markdown",
      "metadata": {
        "id": "4fTBLBxN_grK"
      },
      "source": [
        "## Question One\n",
        "This exercise is based on the \"Benchmark Bond Trade Price Challenge\" which\n",
        "was conducted on the web site Kaggle.com.\n",
        "You can see the full details of this challenge at\n",
        "[http://www.kaggle.com/c/benchmark-bond-trade-price-challenge](http://www.kaggle.com/c/benchmark-bond-trade-price-challenge),\n",
        "but you may have to register (it is free).\n",
        "This is reproduced from the \"Background\" section:"
      ]
    },
    {
      "cell_type": "markdown",
      "metadata": {
        "id": "Jwwg74y2_grL"
      },
      "source": [
        "<blockquote>\n",
        "As far as price transparency is concerned, there has historically been a huge gap between the amount of reference information available to those trading equities versus those trading corporate bonds.  Stock exchanges report trades, bids and offers at all times.  Free access is available online with a 15 minute delay while traders who demand more information can pay for ultra efficient real time data and information about size of current bids and offers. By contrast, bond trades are required to be reported within 15 minutes and only those who pay for the TRACE feed can access this information.  No quotes are publicly available and the best way to get a quote is to solicit multiple brokers and wait for a reply.  Alternatively there are data companies that provide end of day prices, published after the market has closed and with no guarantee that the specific information sought will be included.  Accurate bond pricing is also hindered by lack of liquidity.  Only a fraction of TRACE eligible bonds trade on a given day, so the most recent trade price is often multiple days old.  Pricing bonds based on other more liquid bonds that have similar features is common, but again limited by the presence of such bonds.\n",
        "\n",
        "Benchmark Solutions is the first provider of realtime corporate bond prices. Every 10 seconds we provide accurate prices that incorporate interest rate data, trades or quotes of the bond in question, trades or quotes of other bonds or CDS of the issuer of the bond in question as well as other input sources.  Pricing bonds accurately requires an exacting knowledge of payment schedules, trading calenders and reference data for each bond.  This, as well as synthesizing all of the bonds and CDS quotes and trades of a given issuer into implied hazard and funding curves, is something that we feel is beyond the scope of this challenge.  Rather, we provide you with a reference price which is an intermediate result of our calculations and is labeled 'curve\\_based\\_price'  in the dataset. Thus the competition focuses on trading dynamics and microstructure of individual bonds, rather than all bonds from a given issuer.\n",
        "</blockquote>"
      ]
    },
    {
      "cell_type": "markdown",
      "metadata": {
        "id": "nfNhJCw-_grM"
      },
      "source": [
        "We created a reduced data set in order to make this challenge\n",
        "something we could manage during this exercise. This data file (bonddata.txt) is available on CANVAS.\n",
        "\n",
        "We will fit regression models which attempt to model `trade_price`"
      ]
    },
    {
      "cell_type": "markdown",
      "metadata": {
        "id": "EZdCO00r_grO"
      },
      "source": [
        "## Setup\n",
        "\n",
        "This initial portion of code reads in the data set."
      ]
    },
    {
      "cell_type": "markdown",
      "metadata": {
        "id": "J39MrUXo_grU"
      },
      "source": [
        "The size of the data set."
      ]
    },
    {
      "cell_type": "code",
      "execution_count": 9,
      "metadata": {
        "id": "HvOFwidZ_grV",
        "outputId": "ee616064-bc97-4ff3-bbee-0d5430bcabc3",
        "colab": {
          "base_uri": "https://localhost:8080/"
        }
      },
      "outputs": [
        {
          "output_type": "execute_result",
          "data": {
            "text/plain": [
              "(1620, 61)"
            ]
          },
          "metadata": {},
          "execution_count": 9
        }
      ],
      "source": [
        "data.shape"
      ]
    },
    {
      "cell_type": "markdown",
      "metadata": {
        "id": "hn35QI_s_grX"
      },
      "source": [
        "These next commands remove some variables which are not useful predictors, and define some variables to be categorical."
      ]
    },
    {
      "cell_type": "code",
      "execution_count": 10,
      "metadata": {
        "id": "DEkqm4ca_grY"
      },
      "outputs": [],
      "source": [
        "data = data.drop(['id', 'bond_id'], axis=1)"
      ]
    },
    {
      "cell_type": "code",
      "execution_count": 31,
      "metadata": {
        "id": "5tozaGsP_grZ"
      },
      "outputs": [],
      "source": [
        "data['is_callable'] = data['is_callable'].astype('category').cat.as_unordered()\n",
        "data['trade_type'] = data['trade_type'].astype('category').cat.as_unordered()\n",
        "data['trade_type_last1'] = data['trade_type_last1'].astype('category').cat.as_unordered()\n",
        "data['trade_type_last2'] = data['trade_type_last2'].astype('category').cat.as_unordered()\n",
        "data['trade_type_last3'] = data['trade_type_last3'].astype('category').cat.as_unordered()\n",
        "data['trade_type_last4'] = data['trade_type_last4'].astype('category').cat.as_unordered()\n",
        "data['trade_type_last5'] = data['trade_type_last5'].astype('category').cat.as_unordered()\n",
        "data['trade_type_last6'] = data['trade_type_last6'].astype('category').cat.as_unordered()\n",
        "data['trade_type_last7'] = data['trade_type_last7'].astype('category').cat.as_unordered()\n",
        "data['trade_type_last8'] = data['trade_type_last8'].astype('category').cat.as_unordered()\n",
        "data['trade_type_last9'] = data['trade_type_last9'].astype('category').cat.as_unordered()\n",
        "data['trade_type_last10'] = data['trade_type_last10'].astype('category').cat.as_unordered()"
      ]
    },
    {
      "cell_type": "markdown",
      "metadata": {
        "id": "zLFLLpRi_grZ"
      },
      "source": [
        "## Transforming Predictors\n",
        "\n",
        "Some of the non-categorical predictors have distributions which are highly skewed. For example, take a look at the  histogram below."
      ]
    },
    {
      "cell_type": "code",
      "execution_count": 11,
      "metadata": {
        "id": "QSyHeAaI_gra",
        "outputId": "a2d7e1dc-5883-4c1e-f44a-85409e7e3770",
        "colab": {
          "base_uri": "https://localhost:8080/",
          "height": 466
        }
      },
      "outputs": [
        {
          "output_type": "execute_result",
          "data": {
            "text/plain": [
              "<Axes: >"
            ]
          },
          "metadata": {},
          "execution_count": 11
        },
        {
          "output_type": "display_data",
          "data": {
            "text/plain": [
              "<Figure size 640x480 with 1 Axes>"
            ],
            "image/png": "[encoded data removed]"
          },
          "metadata": {}
        }
      ],
      "source": [
        "data['trade_size_last1'].hist()"
      ]
    },
    {
      "cell_type": "markdown",
      "metadata": {
        "id": "cLr1Sb0p_gra"
      },
      "source": [
        "For predictors with such a distribution, it can be a very good idea to transform them prior to fitting the model. For strictly positive variables, a log transform is common, while for nonnegative variables a square root transform has a similar effect. For this reason, the following transformations are applied."
      ]
    },
    {
      "cell_type": "code",
      "execution_count": 12,
      "metadata": {
        "id": "IY95va2d_grb"
      },
      "outputs": [],
      "source": [
        "data['time_to_maturity_lt'] = np.log(data['time_to_maturity'])\n",
        "data['trade_size_lt'] = np.log(data['trade_size'])\n",
        "\n",
        "data['trade_size_last1_lt'] = np.log(data['trade_size_last1'])\n",
        "data['trade_size_last2_lt'] = np.log(data['trade_size_last2'])\n",
        "data['trade_size_last3_lt'] = np.log(data['trade_size_last3'])\n",
        "data['trade_size_last4_lt'] = np.log(data['trade_size_last4'])\n",
        "data['trade_size_last5_lt'] = np.log(data['trade_size_last5'])\n",
        "data['trade_size_last6_lt'] = np.log(data['trade_size_last6'])\n",
        "data['trade_size_last7_lt'] = np.log(data['trade_size_last7'])\n",
        "data['trade_size_last8_lt'] = np.log(data['trade_size_last8'])\n",
        "data['trade_size_last9_lt'] = np.log(data['trade_size_last9'])\n",
        "data['trade_size_last10_lt'] = np.log(data['trade_size_last10'])\n",
        "\n",
        "data['received_time_diff_last1_st'] = np.sqrt(data['received_time_diff_last1'])\n",
        "data['received_time_diff_last2_st'] = np.sqrt(data['received_time_diff_last2'])\n",
        "data['received_time_diff_last3_st'] = np.sqrt(data['received_time_diff_last3'])\n",
        "data['received_time_diff_last4_st'] = np.sqrt(data['received_time_diff_last4'])\n",
        "data['received_time_diff_last5_st'] = np.sqrt(data['received_time_diff_last5'])\n",
        "data['received_time_diff_last6_st'] = np.sqrt(data['received_time_diff_last6'])\n",
        "data['received_time_diff_last7_st'] = np.sqrt(data['received_time_diff_last7'])\n",
        "data['received_time_diff_last8_st'] = np.sqrt(data['received_time_diff_last8'])\n",
        "data['received_time_diff_last9_st'] = np.sqrt(data['received_time_diff_last9'])\n",
        "data['received_time_diff_last10_st'] = np.sqrt(data['received_time_diff_last10'])"
      ]
    },
    {
      "cell_type": "code",
      "execution_count": 13,
      "metadata": {
        "id": "wQ9K23SQ_grb"
      },
      "outputs": [],
      "source": [
        "datatransformed = data.drop(['received_time_diff_last1','received_time_diff_last2','received_time_diff_last3',\n",
        "                 'received_time_diff_last4','received_time_diff_last5','received_time_diff_last6',\n",
        "                 'received_time_diff_last7','received_time_diff_last8','received_time_diff_last9',\n",
        "                 'received_time_diff_last10','trade_size_last1','trade_size_last2','trade_size_last3',\n",
        "                 'trade_size_last4','trade_size_last5','trade_size_last6','trade_size_last7',\n",
        "                 'trade_size_last8','trade_size_last9','trade_size_last10','time_to_maturity',\n",
        "                'trade_size'], axis=1)"
      ]
    },
    {
      "cell_type": "markdown",
      "metadata": {
        "id": "y0nhp7oX_grb"
      },
      "source": [
        "## Constructing the Design Matrix\n",
        "\n",
        "This next command will appropriate construct the design matrix for this model. The first version `designmatrix` does not contain the column of ones, while the second version `desginmatrix_withones` does include that column of ones."
      ]
    },
    {
      "cell_type": "code",
      "execution_count": 14,
      "metadata": {
        "id": "PDcdgMGr_grb"
      },
      "outputs": [],
      "source": [
        "designmatrix = pd.get_dummies(datatransformed,drop_first=True)"
      ]
    },
    {
      "cell_type": "code",
      "execution_count": 15,
      "metadata": {
        "id": "UQvOlFl__grb"
      },
      "outputs": [],
      "source": [
        "designmatrix_withones = sm.add_constant(designmatrix)"
      ]
    },
    {
      "cell_type": "markdown",
      "metadata": {
        "id": "_RJ2sxrO_grc"
      },
      "source": [
        "### Parts (Q2)\n",
        "\n",
        "Now, do each of the following:\n",
        "\n",
        "1. Fit the model using including all of the predictors (i.e., using the entire design matrix you just constructed), via `sm.OLS`. Remember that `trade_price` is the response. Show the `summary` output.\n",
        "\n",
        "2. Construct the plot of residuals versus fitted values for the model fit in Part 1. Comment on the quality of the fit.\n",
        "\n",
        "3. Construct the normal probability plot of the residuals. What does this plot tell us?\n",
        "\n",
        "4. Implement a stepwise variable selection procedure using AIC to find a simpler model. Report on the resulting model.\n",
        "\n",
        "5. Repeat the above, but use PRESS instead of AIC. How does the resulting model change?"
      ]
    },
    {
      "cell_type": "markdown",
      "source": [
        "#### 1. Fit the model using including all of the predictors (i.e., using the entire design matrix you just constructed), via sm.OLS. Remember that trade_price is the response. Show the summary output."
      ],
      "metadata": {
        "id": "1IO7XJlW8M_g"
      }
    },
    {
      "cell_type": "code",
      "source": [
        "# Response Variable\n",
        "y = data['trade_price']\n",
        "\n",
        "# Predictor matrix including a constant for the intercept\n",
        "X = designmatrix_withones\n",
        "\n",
        "# Fit the OLS model\n",
        "model = sm.OLS(y, X.astype(float)).fit()\n",
        "\n",
        "# Print the summary of the model\n",
        "print(model.summary())"
      ],
      "metadata": {
        "colab": {
          "base_uri": "https://localhost:8080/"
        },
        "id": "7-dDi_F68QBc",
        "outputId": "c8ff9792-adba-4173-c2fa-8abd5c064b82"
      },
      "execution_count": 16,
      "outputs": [
        {
          "output_type": "stream",
          "name": "stdout",
          "text": [
            "                            OLS Regression Results                            \n",
            "==============================================================================\n",
            "Dep. Variable:            trade_price   R-squared:                       1.000\n",
            "Model:                            OLS   Adj. R-squared:                  1.000\n",
            "Method:                 Least Squares   F-statistic:                 9.339e+25\n",
            "Date:                Sun, 12 May 2024   Prob (F-statistic):               0.00\n",
            "Time:                        22:49:20   Log-Likelihood:                 39530.\n",
            "No. Observations:                1620   AIC:                        -7.894e+04\n",
            "Df Residuals:                    1560   BIC:                        -7.862e+04\n",
            "Df Model:                          59                                         \n",
            "Covariance Type:            nonrobust                                         \n",
            "================================================================================================\n",
            "                                   coef    std err          t      P>|t|      [0.025      0.975]\n",
            "------------------------------------------------------------------------------------------------\n",
            "const                        -4.807e-12   3.36e-12     -1.432      0.152   -1.14e-11    1.78e-12\n",
            "trade_price                      1.0000    9.1e-14    1.1e+13      0.000       1.000       1.000\n",
            "weight                        1.746e-11   5.11e-11      0.342      0.733   -8.27e-11    1.18e-10\n",
            "current_coupon                1.213e-14   1.14e-13      0.107      0.915   -2.11e-13    2.35e-13\n",
            "is_callable                  -4.641e-14   5.21e-13     -0.089      0.929   -1.07e-12    9.75e-13\n",
            "reporting_delay              -1.662e-16   4.69e-18    -35.435      0.000   -1.75e-16   -1.57e-16\n",
            "trade_type                   -1.366e-14   2.01e-13     -0.068      0.946   -4.08e-13     3.8e-13\n",
            "curve_based_price            -1.088e-14   1.57e-13     -0.069      0.945   -3.19e-13    2.97e-13\n",
            "trade_price_last1            -2.442e-15   1.26e-13     -0.019      0.985   -2.49e-13    2.44e-13\n",
            "trade_type_last1              7.661e-15   2.09e-13      0.037      0.971   -4.02e-13    4.18e-13\n",
            "curve_based_price_last1       1.776e-14   2.55e-13      0.070      0.944   -4.82e-13    5.17e-13\n",
            "trade_price_last2             4.996e-15   1.32e-13      0.038      0.970   -2.53e-13    2.63e-13\n",
            "trade_type_last2               7.55e-15   2.04e-13      0.037      0.971   -3.93e-13    4.08e-13\n",
            "curve_based_price_last2      -1.998e-14   2.65e-13     -0.075      0.940   -5.41e-13    5.01e-13\n",
            "trade_price_last3            -7.994e-15   1.28e-13     -0.062      0.950   -2.59e-13    2.43e-13\n",
            "trade_type_last3             -1.332e-14   2.07e-13     -0.064      0.949    -4.2e-13    3.93e-13\n",
            "curve_based_price_last3       3.109e-14   2.72e-13      0.114      0.909   -5.03e-13    5.65e-13\n",
            "trade_price_last4             4.774e-15   1.19e-13      0.040      0.968   -2.29e-13    2.39e-13\n",
            "trade_type_last4              1.332e-15   2.04e-13      0.007      0.995   -3.99e-13    4.01e-13\n",
            "curve_based_price_last4       -1.91e-14   2.86e-13     -0.067      0.947   -5.81e-13    5.43e-13\n",
            "trade_price_last5            -8.882e-16   1.24e-13     -0.007      0.994   -2.44e-13    2.42e-13\n",
            "trade_type_last5              2.776e-16   2.07e-13      0.001      0.999   -4.06e-13    4.07e-13\n",
            "curve_based_price_last5      -3.997e-15   2.78e-13     -0.014      0.989   -5.49e-13    5.41e-13\n",
            "trade_price_last6             3.775e-15   1.21e-13      0.031      0.975   -2.34e-13    2.42e-13\n",
            "trade_type_last6              2.942e-15   2.06e-13      0.014      0.989   -4.01e-13    4.07e-13\n",
            "curve_based_price_last6      -5.773e-15   2.72e-13     -0.021      0.983   -5.38e-13    5.27e-13\n",
            "trade_price_last7            -1.554e-15   1.21e-13     -0.013      0.990   -2.39e-13    2.36e-13\n",
            "trade_type_last7             -6.661e-15   2.06e-13     -0.032      0.974   -4.11e-13    3.97e-13\n",
            "curve_based_price_last7       6.772e-15   2.63e-13      0.026      0.979   -5.08e-13    5.22e-13\n",
            "trade_price_last8             -3.58e-15   1.15e-13     -0.031      0.975   -2.29e-13    2.22e-13\n",
            "trade_type_last8             -6.661e-16   2.04e-13     -0.003      0.997   -4.01e-13       4e-13\n",
            "curve_based_price_last8       5.773e-15    2.6e-13      0.022      0.982   -5.04e-13    5.16e-13\n",
            "trade_price_last9             2.442e-15    1.2e-13      0.020      0.984   -2.32e-13    2.37e-13\n",
            "trade_type_last9              1.177e-14   2.04e-13      0.058      0.954   -3.88e-13    4.12e-13\n",
            "curve_based_price_last9      -9.104e-15   2.46e-13     -0.037      0.970   -4.92e-13    4.73e-13\n",
            "trade_price_last10            1.277e-15   1.05e-13      0.012      0.990   -2.05e-13    2.07e-13\n",
            "trade_type_last10            -3.997e-15      2e-13     -0.020      0.984   -3.97e-13    3.89e-13\n",
            "curve_based_price_last10      4.996e-15   2.02e-13      0.025      0.980    -3.9e-13       4e-13\n",
            "time_to_maturity_lt          -3.997e-15   1.69e-13     -0.024      0.981   -3.35e-13    3.27e-13\n",
            "trade_size_lt                 -2.22e-16   9.98e-14     -0.002      0.998   -1.96e-13    1.95e-13\n",
            "trade_size_last1_lt           5.773e-15   1.18e-13      0.049      0.961   -2.25e-13    2.37e-13\n",
            "trade_size_last2_lt           7.327e-15   1.29e-13      0.057      0.955   -2.45e-13     2.6e-13\n",
            "trade_size_last3_lt          -3.553e-15   1.21e-13     -0.029      0.977   -2.41e-13    2.34e-13\n",
            "trade_size_last4_lt          -2.776e-15   1.19e-13     -0.023      0.981   -2.35e-13     2.3e-13\n",
            "trade_size_last5_lt          -4.441e-15   1.24e-13     -0.036      0.971   -2.48e-13    2.39e-13\n",
            "trade_size_last6_lt          -4.441e-16   1.32e-13     -0.003      0.997   -2.59e-13    2.58e-13\n",
            "trade_size_last7_lt           5.107e-15   1.31e-13      0.039      0.969   -2.52e-13    2.62e-13\n",
            "trade_size_last8_lt          -3.553e-15   1.27e-13     -0.028      0.978   -2.52e-13    2.45e-13\n",
            "trade_size_last9_lt           3.553e-15   1.31e-13      0.027      0.978   -2.54e-13    2.61e-13\n",
            "trade_size_last10_lt         -2.665e-15   1.15e-13     -0.023      0.982   -2.29e-13    2.24e-13\n",
            "received_time_diff_last1_st  -2.316e-13   6.63e-13     -0.349      0.727   -1.53e-12    1.07e-12\n",
            "received_time_diff_last2_st  -4.909e-16   8.42e-16     -0.583      0.560   -2.14e-15    1.16e-15\n",
            "received_time_diff_last3_st   5.226e-16   9.73e-16      0.537      0.591   -1.39e-15    2.43e-15\n",
            "received_time_diff_last4_st  -1.639e-16   1.04e-15     -0.158      0.874    -2.2e-15    1.87e-15\n",
            "received_time_diff_last5_st  -2.741e-16   1.22e-15     -0.225      0.822   -2.66e-15    2.12e-15\n",
            "received_time_diff_last6_st   2.151e-16   1.24e-15      0.173      0.863   -2.23e-15    2.66e-15\n",
            "received_time_diff_last7_st    3.99e-17   1.33e-15      0.030      0.976   -2.58e-15    2.66e-15\n",
            "received_time_diff_last8_st   1.631e-16   1.39e-15      0.117      0.907   -2.57e-15     2.9e-15\n",
            "received_time_diff_last9_st   8.847e-17   1.62e-15      0.055      0.956   -3.08e-15    3.26e-15\n",
            "received_time_diff_last10_st  1.978e-16   1.34e-15      0.148      0.883   -2.43e-15    2.82e-15\n",
            "==============================================================================\n",
            "Omnibus:                     2859.055   Durbin-Watson:                   1.892\n",
            "Prob(Omnibus):                  0.000   Jarque-Bera (JB):          2803846.072\n",
            "Skew:                          12.125   Prob(JB):                         0.00\n",
            "Kurtosis:                     205.362   Cond. No.                     1.11e+07\n",
            "==============================================================================\n",
            "\n",
            "Notes:\n",
            "[1] Standard Errors assume that the covariance matrix of the errors is correctly specified.\n",
            "[2] The condition number is large, 1.11e+07. This might indicate that there are\n",
            "strong multicollinearity or other numerical problems.\n"
          ]
        }
      ]
    },
    {
      "cell_type": "markdown",
      "source": [
        "#### 2. Construct the plot of residuals versus fitted values for the model fit in Part 1. Comment on the quality of the fit."
      ],
      "metadata": {
        "id": "KPF_Ddvf8Yu5"
      }
    },
    {
      "cell_type": "code",
      "source": [
        "# Calculate Residuals and Fitted Values\n",
        "\n",
        "# Fitted values\n",
        "fitted_values = model.fittedvalues\n",
        "\n",
        "# Residuals\n",
        "residuals = model.resid\n",
        "\n",
        "# Plot Residuals vs. Fitted Values\n",
        "plt.figure(figsize=(10, 6))\n",
        "plt.scatter(fitted_values, residuals, alpha=0.5)\n",
        "plt.axhline(0, color='red', linestyle='--')\n",
        "plt.title('Residuals vs. Fitted Values')\n",
        "plt.xlabel('Fitted Values')\n",
        "plt.ylabel('Residuals')\n",
        "plt.show()"
      ],
      "metadata": {
        "colab": {
          "base_uri": "https://localhost:8080/",
          "height": 564
        },
        "id": "o6wYxT458Yu5",
        "outputId": "fb1459f3-9eaf-458b-a6d3-0ad54cf11240"
      },
      "execution_count": 17,
      "outputs": [
        {
          "output_type": "display_data",
          "data": {
            "text/plain": [
              "<Figure size 1000x600 with 1 Axes>"
            ],
            "image/png": "[encoded data removed]"
          },
          "metadata": {}
        }
      ]
    },
    {
      "cell_type": "markdown",
      "source": [
        "The residuals mostly cluster around 0 which is a positive sign, but the presence of outliers could be a concern, justifying the use of more robust regression methods that can better handle outliers. Additionally, there may be risk of heterscedasticity shown from increasing variability in the residuals as the fitted values increase."
      ],
      "metadata": {
        "id": "WLL4BcyIA-Du"
      }
    },
    {
      "cell_type": "markdown",
      "source": [
        "#### 3. Construct the normal probability plot of the residuals. What does this plot tell us?"
      ],
      "metadata": {
        "id": "GlfS-31u8ZQ7"
      }
    },
    {
      "cell_type": "code",
      "source": [
        "# Generate the normal probability plot\n",
        "fig = sm.qqplot(residuals, line='45', fit=True)\n",
        "plt.title('Normal Q-Q plot of the residuals')\n",
        "plt.show()"
      ],
      "metadata": {
        "colab": {
          "base_uri": "https://localhost:8080/",
          "height": 472
        },
        "id": "yAgcbmGz8ZQ8",
        "outputId": "67109325-6bab-401b-83a4-3f3e8dcf437b"
      },
      "execution_count": 18,
      "outputs": [
        {
          "output_type": "display_data",
          "data": {
            "text/plain": [
              "<Figure size 640x480 with 1 Axes>"
            ],
            "image/png": "[encoded data removed]"
          },
          "metadata": {}
        }
      ]
    },
    {
      "cell_type": "markdown",
      "source": [
        "Several points are deviating substantially from the reference line, suggesting that the residuals aren't following a normal distribution. The deviation from the reference line also suggests outliers."
      ],
      "metadata": {
        "id": "8E6bouiMDorN"
      }
    },
    {
      "cell_type": "markdown",
      "source": [
        "#### 4. Implement a stepwise variable selection procedure using AIC to find a simpler model. Report on the resulting model.\n",
        "\n",
        "**Personal Notes for Later Reference:** Stepwise variable selection is a method used in regression analysis to select the best subset of predictors by iteratively considering addition or removal of predictors based on certain criteria like AIC (Akaike Information Criterion). The AIC is a measure of the relative quality of a statistical model for a given set of data. It balances the complexity of the model against how well the model fits the data. Lower AIC values indicate a potentially better model.\n",
        "\n",
        "To perform stepwise regression in Python, you can use the statsmodels library, which doesn't have direct built-in support for stepwise regression, but you can implement it manually using a combination of forward selection and backward elimination."
      ],
      "metadata": {
        "id": "Zytk7Xuj8ZXT"
      }
    },
    {
      "cell_type": "code",
      "source": [
        "def forward_selection(data, response):\n",
        "    \"\"\" Perform a forward-backward feature selection\n",
        "    based on p-value from statsmodels.api.OLS\n",
        "    Arguments:\n",
        "        data : pandas DataFrame with all possible predictors and response\n",
        "        response: string, name of response column in data\n",
        "    Returns:\n",
        "        model: an \"optimal\" fitted statsmodels linear model\n",
        "        with an intercept selected by forward selection\n",
        "        based on lowest AIC\n",
        "    \"\"\"\n",
        "    remaining = set(data.columns)\n",
        "    remaining.remove(response)\n",
        "    selected = []\n",
        "    current_score, best_new_score = float('inf'), float('inf')\n",
        "    while remaining and current_score == best_new_score:\n",
        "        scores_with_candidates = []\n",
        "        for candidate in remaining:\n",
        "            formula = \"{} ~ {}\".format(response,\n",
        "                                       ' + '.join(selected + [candidate]))\n",
        "            score = sm.OLS.from_formula(formula, data).fit().aic\n",
        "            scores_with_candidates.append((score, candidate))\n",
        "        scores_with_candidates.sort()\n",
        "        best_new_score, best_candidate = scores_with_candidates.pop(0)\n",
        "        if current_score > best_new_score:\n",
        "            remaining.remove(best_candidate)\n",
        "            selected.append(best_candidate)\n",
        "            current_score = best_new_score\n",
        "    formula = \"{} ~ {}\".format(response, ' + '.join(selected))\n",
        "    model = sm.OLS.from_formula(formula, data).fit()\n",
        "    return model"
      ],
      "metadata": {
        "id": "q_Pml5HJ8ZXU"
      },
      "execution_count": 29,
      "outputs": []
    },
    {
      "cell_type": "code",
      "source": [
        "model = forward_selection(data, 'trade_price')\n",
        "print(model.summary())"
      ],
      "metadata": {
        "colab": {
          "base_uri": "https://localhost:8080/"
        },
        "id": "5IjiJ0DNG-Q2",
        "outputId": "7e90f18a-b4e3-41d1-a3ec-df6fb13641dc"
      },
      "execution_count": 20,
      "outputs": [
        {
          "output_type": "stream",
          "name": "stdout",
          "text": [
            "                            OLS Regression Results                            \n",
            "==============================================================================\n",
            "Dep. Variable:            trade_price   R-squared:                       0.978\n",
            "Model:                            OLS   Adj. R-squared:                  0.978\n",
            "Method:                 Least Squares   F-statistic:                     3538.\n",
            "Date:                Sun, 12 May 2024   Prob (F-statistic):               0.00\n",
            "Time:                        22:50:22   Log-Likelihood:                -3166.4\n",
            "No. Observations:                1620   AIC:                             6375.\n",
            "Df Residuals:                    1599   BIC:                             6488.\n",
            "Df Model:                          20                                         \n",
            "Covariance Type:            nonrobust                                         \n",
            "============================================================================================\n",
            "                               coef    std err          t      P>|t|      [0.025      0.975]\n",
            "--------------------------------------------------------------------------------------------\n",
            "Intercept                   -0.4631      0.627     -0.739      0.460      -1.692       0.766\n",
            "trade_price_last1            0.3848      0.032     12.110      0.000       0.322       0.447\n",
            "curve_based_price            0.3745      0.035     10.631      0.000       0.305       0.444\n",
            "trade_price_last7            0.1389      0.024      5.737      0.000       0.091       0.186\n",
            "trade_type                   0.3648      0.053      6.840      0.000       0.260       0.469\n",
            "trade_size_lt                0.2058      0.034      6.017      0.000       0.139       0.273\n",
            "trade_price_last10           0.0601      0.027      2.211      0.027       0.007       0.113\n",
            "curve_based_price_last5     -0.1763      0.053     -3.343      0.001      -0.280      -0.073\n",
            "trade_price_last4            0.0581      0.029      1.991      0.047       0.001       0.115\n",
            "trade_size_last1_lt         -0.0743      0.027     -2.791      0.005      -0.126      -0.022\n",
            "received_time_diff_last1  -1.72e-07   5.08e-08     -3.385      0.001   -2.72e-07   -7.24e-08\n",
            "trade_size_last4_lt         -0.0511      0.025     -2.050      0.041      -0.100      -0.002\n",
            "trade_size               -1.521e-07   7.86e-08     -1.934      0.053   -3.06e-07    2.13e-09\n",
            "trade_price_last3            0.0511      0.034      1.492      0.136      -0.016       0.118\n",
            "trade_price_last9            0.0603      0.029      2.076      0.038       0.003       0.117\n",
            "trade_type_last9            -0.0957      0.054     -1.784      0.075      -0.201       0.010\n",
            "curve_based_price_last2     -0.0807      0.056     -1.438      0.151      -0.191       0.029\n",
            "curve_based_price_last4      0.1820      0.078      2.347      0.019       0.030       0.334\n",
            "curve_based_price_last3     -0.1173      0.073     -1.600      0.110      -0.261       0.026\n",
            "trade_price_last2            0.0537      0.035      1.529      0.126      -0.015       0.123\n",
            "is_callable                  0.1830      0.125      1.466      0.143      -0.062       0.428\n",
            "==============================================================================\n",
            "Omnibus:                     1629.677   Durbin-Watson:                   1.983\n",
            "Prob(Omnibus):                  0.000   Jarque-Bera (JB):           461681.393\n",
            "Skew:                          -4.166   Prob(JB):                         0.00\n",
            "Kurtosis:                      85.282   Cond. No.                     1.44e+07\n",
            "==============================================================================\n",
            "\n",
            "Notes:\n",
            "[1] Standard Errors assume that the covariance matrix of the errors is correctly specified.\n",
            "[2] The condition number is large, 1.44e+07. This might indicate that there are\n",
            "strong multicollinearity or other numerical problems.\n"
          ]
        }
      ]
    },
    {
      "cell_type": "markdown",
      "source": [
        "The OLS regression model demonstrates a strong fit with an R-squared value of 0.978, indicating that it explains a high proportion of the variance in the trade price. However, diagnostic tests reveal potential issues: the residuals are not normally distributed and there's a high condition number, suggesting significant multicollinearity among predictors. These findings imply that while the model is statistically significant and predictive, its reliability may be compromised by these underlying issues, necessitating further investigation and possible model adjustments."
      ],
      "metadata": {
        "id": "1lsrxTpzM0Mn"
      }
    },
    {
      "cell_type": "markdown",
      "source": [
        "#### 5. Repeat the above, but use PRESS instead of AIC. How does the resulting model change?"
      ],
      "metadata": {
        "id": "zVYW7pAP8Zdb"
      }
    },
    {
      "cell_type": "code",
      "source": [
        "def calculate_press(y_true, y_pred, X):\n",
        "    \"\"\" Calculate the PRESS statistic for model evaluation. \"\"\"\n",
        "    residuals = y_true - y_pred\n",
        "    h = X.dot(np.linalg.inv(X.T.dot(X))).dot(X.T).diagonal()  # Leverage\n",
        "    press = np.sum((residuals / (1 - h))**2)\n",
        "    return press\n",
        "\n",
        "def stepwise_selection_using_press(data, response):\n",
        "    \"\"\" Perform stepwise regression using PRESS for model selection. \"\"\"\n",
        "    remaining = set(data.columns)\n",
        "    remaining.remove(response)\n",
        "    selected = []\n",
        "    current_press = np.inf\n",
        "    improvement = True\n",
        "\n",
        "    while remaining and improvement:\n",
        "        press_with_candidates = []\n",
        "        for candidate in remaining:\n",
        "            formula = \"{} ~ {}\".format(response, ' + '.join(selected + [candidate]))\n",
        "            model = sm.OLS.from_formula(formula, data).fit()\n",
        "            y_pred = model.predict(data)\n",
        "            press = calculate_press(data[response], y_pred, model.model.exog)\n",
        "            press_with_candidates.append((press, candidate))\n",
        "\n",
        "        press_with_candidates.sort()\n",
        "        best_new_press, best_candidate = press_with_candidates[0]\n",
        "        if current_press > best_new_press:\n",
        "            remaining.remove(best_candidate)\n",
        "            selected.append(best_candidate)\n",
        "            current_press = best_new_press\n",
        "            improvement = True\n",
        "        else:\n",
        "            improvement = False\n",
        "\n",
        "    formula = \"{} ~ {}\".format(response, ' + '.join(selected))\n",
        "    model = sm.OLS.from_formula(formula, data).fit()\n",
        "    return model\n",
        "\n",
        "# Execute Model\n",
        "final_model = stepwise_selection_using_press(data, 'trade_price')\n",
        "print(final_model.summary())"
      ],
      "metadata": {
        "colab": {
          "base_uri": "https://localhost:8080/"
        },
        "id": "MHFIlRXc8Zdc",
        "outputId": "616e5950-bc3d-4cc5-81d0-1c418fe58310"
      },
      "execution_count": 21,
      "outputs": [
        {
          "output_type": "stream",
          "name": "stdout",
          "text": [
            "                            OLS Regression Results                            \n",
            "==============================================================================\n",
            "Dep. Variable:            trade_price   R-squared:                       0.978\n",
            "Model:                            OLS   Adj. R-squared:                  0.978\n",
            "Method:                 Least Squares   F-statistic:                     4146.\n",
            "Date:                Sun, 12 May 2024   Prob (F-statistic):               0.00\n",
            "Time:                        22:52:03   Log-Likelihood:                -3170.9\n",
            "No. Observations:                1620   AIC:                             6378.\n",
            "Df Residuals:                    1602   BIC:                             6475.\n",
            "Df Model:                          17                                         \n",
            "Covariance Type:            nonrobust                                         \n",
            "============================================================================================\n",
            "                               coef    std err          t      P>|t|      [0.025      0.975]\n",
            "--------------------------------------------------------------------------------------------\n",
            "Intercept                   -0.5842      0.631     -0.926      0.354      -1.821       0.653\n",
            "trade_price_last1            0.3811      0.032     11.992      0.000       0.319       0.443\n",
            "curve_based_price            0.3397      0.029     11.555      0.000       0.282       0.397\n",
            "trade_price_last7            0.1397      0.024      5.776      0.000       0.092       0.187\n",
            "trade_type                   0.3651      0.053      6.845      0.000       0.260       0.470\n",
            "trade_size_lt                0.2083      0.034      6.083      0.000       0.141       0.275\n",
            "trade_price_last10           0.0724      0.027      2.695      0.007       0.020       0.125\n",
            "curve_based_price_last5     -0.1467      0.030     -4.833      0.000      -0.206      -0.087\n",
            "trade_price_last4            0.0903      0.025      3.679      0.000       0.042       0.138\n",
            "trade_size_last1_lt         -0.0711      0.027     -2.664      0.008      -0.123      -0.019\n",
            "received_time_diff_last1 -1.591e-07   5.05e-08     -3.151      0.002   -2.58e-07      -6e-08\n",
            "trade_size_last4_lt         -0.0480      0.025     -1.906      0.057      -0.097       0.001\n",
            "trade_size               -1.539e-07   7.87e-08     -1.954      0.051   -3.08e-07    5.67e-10\n",
            "trade_price_last2            0.0605      0.032      1.915      0.056      -0.001       0.122\n",
            "is_callable                  0.1946      0.125      1.559      0.119      -0.050       0.439\n",
            "trade_size_last7         -7.414e-08   5.61e-08     -1.322      0.186   -1.84e-07    3.59e-08\n",
            "trade_type_last9            -0.1009      0.054     -1.877      0.061      -0.206       0.005\n",
            "trade_price_last9            0.0528      0.029      1.830      0.067      -0.004       0.109\n",
            "==============================================================================\n",
            "Omnibus:                     1631.597   Durbin-Watson:                   1.981\n",
            "Prob(Omnibus):                  0.000   Jarque-Bera (JB):           461665.844\n",
            "Skew:                          -4.175   Prob(JB):                         0.00\n",
            "Kurtosis:                      85.279   Cond. No.                     1.48e+07\n",
            "==============================================================================\n",
            "\n",
            "Notes:\n",
            "[1] Standard Errors assume that the covariance matrix of the errors is correctly specified.\n",
            "[2] The condition number is large, 1.48e+07. This might indicate that there are\n",
            "strong multicollinearity or other numerical problems.\n"
          ]
        }
      ]
    },
    {
      "cell_type": "markdown",
      "source": [
        "When comparing models selected using PRESS versus AIC, the PRESS-optimized model uses fewer predictors (17 instead of 20), suggesting a more parsimonious approach without sacrificing explanatory power, as both models exhibit nearly identical R-squared values of 0.978. This indicates that PRESS, by focusing on predictive accuracy, effectively streamlines the model while maintaining robustness, which can be beneficial for avoiding overfitting and enhancing model generalizability."
      ],
      "metadata": {
        "id": "9KD1dqboRi7-"
      }
    },
    {
      "cell_type": "markdown",
      "metadata": {
        "id": "oziS4kiZ_grc"
      },
      "source": [
        "## Question Two\n",
        "Refit the model of Question Two with all of the predictors, but first\n",
        "transform each predictor on the ratio scale using the Yeo-Johnson transformation. (The\n",
        "objective here is to give each predictor distribution more of a \"normal\" shape.)\n",
        "Then, refit the model, but use the Box-Cox procedure to find the optimal transformation of the\n",
        "response.\n",
        "Show the results of the resulting model fit, including the plot of residuals versus fitted values."
      ]
    },
    {
      "cell_type": "code",
      "execution_count": 28,
      "metadata": {
        "id": "SOHkdJs0_grc",
        "colab": {
          "base_uri": "https://localhost:8080/",
          "height": 1000
        },
        "outputId": "21f58c3e-e6ea-47a8-dc64-b5bc4c32481f"
      },
      "outputs": [
        {
          "output_type": "stream",
          "name": "stdout",
          "text": [
            "                            OLS Regression Results                            \n",
            "==============================================================================\n",
            "Dep. Variable:                      y   R-squared:                       0.495\n",
            "Model:                            OLS   Adj. R-squared:                  0.469\n",
            "Method:                 Least Squares   F-statistic:                     18.89\n",
            "Date:                Sun, 12 May 2024   Prob (F-statistic):          1.73e-174\n",
            "Time:                        23:33:16   Log-Likelihood:                 15729.\n",
            "No. Observations:                1620   AIC:                        -3.130e+04\n",
            "Df Residuals:                    1539   BIC:                        -3.086e+04\n",
            "Df Model:                          80                                         \n",
            "Covariance Type:            nonrobust                                         \n",
            "================================================================================================\n",
            "                                   coef    std err          t      P>|t|      [0.025      0.975]\n",
            "------------------------------------------------------------------------------------------------\n",
            "const                            0.4969      0.003    180.304      0.000       0.491       0.502\n",
            "weight                        1.215e-06   3.49e-06      0.348      0.728   -5.64e-06    8.07e-06\n",
            "current_coupon               -9.316e-07   1.79e-07     -5.211      0.000   -1.28e-06   -5.81e-07\n",
            "time_to_maturity             -2.543e-06   1.32e-05     -0.193      0.847   -2.85e-05    2.34e-05\n",
            "is_callable                   6.651e-05   8.76e-06      7.595      0.000    4.93e-05    8.37e-05\n",
            "reporting_delay               2.613e-09    6.7e-08      0.039      0.969   -1.29e-07    1.34e-07\n",
            "trade_size                      -0.0001   7.46e-05     -1.609      0.108      -0.000    2.63e-05\n",
            "trade_type                    3.998e-07   2.17e-07      1.845      0.065   -2.52e-08    8.25e-07\n",
            "curve_based_price             5.606e-08   2.24e-08      2.506      0.012    1.22e-08    9.99e-08\n",
            "received_time_diff_last1      1.911e-07   2.57e-06      0.074      0.941   -4.85e-06    5.23e-06\n",
            "trade_price_last1             2.598e-08   1.65e-08      1.578      0.115    -6.3e-09    5.83e-08\n",
            "trade_size_last1              6.361e-05      0.000      0.616      0.538      -0.000       0.000\n",
            "trade_type_last1              2.536e-07   3.45e-07      0.736      0.462   -4.23e-07     9.3e-07\n",
            "curve_based_price_last1       3.707e-09   3.33e-08      0.111      0.911   -6.16e-08     6.9e-08\n",
            "received_time_diff_last2      2.183e-06   5.18e-06      0.421      0.674   -7.99e-06    1.24e-05\n",
            "trade_price_last2             5.629e-09   1.63e-08      0.346      0.729   -2.63e-08    3.75e-08\n",
            "trade_size_last2              4.415e-05      0.000      0.344      0.731      -0.000       0.000\n",
            "trade_type_last2              -1.65e-07   1.58e-07     -1.046      0.296   -4.74e-07    1.44e-07\n",
            "curve_based_price_last2      -3.165e-08   3.04e-08     -1.042      0.298   -9.13e-08    2.79e-08\n",
            "received_time_diff_last3     -7.563e-07   1.22e-05     -0.062      0.951   -2.47e-05    2.32e-05\n",
            "trade_price_last3             2.234e-08    1.8e-08      1.242      0.215   -1.29e-08    5.76e-08\n",
            "trade_size_last3              -9.03e-05      0.000     -0.799      0.424      -0.000       0.000\n",
            "trade_type_last3             -3.423e-07   1.74e-07     -1.972      0.049   -6.83e-07   -1.84e-09\n",
            "curve_based_price_last3      -1.527e-08   3.26e-08     -0.468      0.640   -7.92e-08    4.87e-08\n",
            "received_time_diff_last4     -3.091e-06   2.31e-05     -0.134      0.894   -4.84e-05    4.23e-05\n",
            "trade_price_last4            -2.198e-09   1.35e-08     -0.163      0.870   -2.86e-08    2.42e-08\n",
            "trade_size_last4                -0.0002      0.000     -1.614      0.107      -0.000    3.97e-05\n",
            "trade_type_last4             -1.285e-07   1.21e-07     -1.060      0.289   -3.66e-07    1.09e-07\n",
            "curve_based_price_last4       -4.33e-09   3.69e-08     -0.117      0.907   -7.67e-08    6.81e-08\n",
            "received_time_diff_last5       -1.1e-06   2.95e-05     -0.037      0.970   -5.89e-05    5.67e-05\n",
            "trade_price_last5            -1.633e-09   1.98e-08     -0.082      0.934   -4.05e-08    3.72e-08\n",
            "trade_size_last5              8.486e-05      0.000      0.738      0.461      -0.000       0.000\n",
            "trade_type_last5               1.09e-07   2.05e-07      0.533      0.594   -2.93e-07    5.11e-07\n",
            "curve_based_price_last5       9.008e-09   4.34e-08      0.207      0.836   -7.62e-08    9.42e-08\n",
            "received_time_diff_last6     -1.965e-05   5.96e-05     -0.330      0.741      -0.000    9.72e-05\n",
            "trade_price_last6            -7.734e-09    1.3e-08     -0.597      0.551   -3.31e-08    1.77e-08\n",
            "trade_size_last6                -0.0001      0.000     -1.378      0.168      -0.000    6.26e-05\n",
            "trade_type_last6             -1.613e-08   1.13e-07     -0.143      0.886   -2.38e-07    2.05e-07\n",
            "curve_based_price_last6      -1.478e-08   3.94e-08     -0.375      0.708   -9.21e-08    6.25e-08\n",
            "received_time_diff_last7     -3.748e-06   8.34e-05     -0.045      0.964      -0.000       0.000\n",
            "trade_price_last7            -5.725e-09   1.25e-08     -0.459      0.646   -3.02e-08    1.87e-08\n",
            "trade_size_last7                 0.0001      0.000      0.943      0.346      -0.000       0.000\n",
            "trade_type_last7             -1.081e-07    2.2e-07     -0.491      0.624    -5.4e-07    3.24e-07\n",
            "curve_based_price_last7       2.636e-08   4.52e-08      0.583      0.560   -6.23e-08    1.15e-07\n",
            "received_time_diff_last8         0.0001   6.44e-05      1.776      0.076    -1.2e-05       0.000\n",
            "trade_price_last8             6.285e-09   1.48e-08      0.424      0.672   -2.28e-08    3.54e-08\n",
            "trade_size_last8             -1.625e-05      0.000     -0.142      0.887      -0.000       0.000\n",
            "trade_type_last8              1.261e-07   2.03e-07      0.621      0.535   -2.72e-07    5.24e-07\n",
            "curve_based_price_last8       -2.59e-08   4.86e-08     -0.533      0.594   -1.21e-07    6.94e-08\n",
            "received_time_diff_last9      7.484e-06   3.52e-05      0.212      0.832   -6.16e-05    7.66e-05\n",
            "trade_price_last9             1.186e-08   1.72e-08      0.690      0.490   -2.19e-08    4.56e-08\n",
            "trade_size_last9              4.262e-07      0.000      0.003      0.997      -0.000       0.000\n",
            "trade_type_last9             -1.473e-07   1.48e-07     -0.996      0.319   -4.37e-07    1.43e-07\n",
            "curve_based_price_last9       1.291e-08   4.74e-08      0.272      0.785   -8.01e-08    1.06e-07\n",
            "received_time_diff_last10        0.0001   5.57e-05      1.888      0.059   -4.08e-06       0.000\n",
            "trade_price_last10            1.364e-08   1.64e-08      0.833      0.405   -1.85e-08    4.58e-08\n",
            "trade_size_last10             1.743e-05      0.000      0.171      0.864      -0.000       0.000\n",
            "trade_type_last10            -7.562e-07    4.8e-07     -1.577      0.115    -1.7e-06    1.84e-07\n",
            "curve_based_price_last10      2.466e-08   3.81e-08      0.648      0.517      -5e-08    9.93e-08\n",
            "time_to_maturity_lt          -1.352e-06   6.85e-06     -0.197      0.844   -1.48e-05    1.21e-05\n",
            "trade_size_lt                    0.0021      0.001      1.624      0.105      -0.000       0.005\n",
            "trade_size_last1_lt             -0.0015      0.002     -0.649      0.516      -0.006       0.003\n",
            "trade_size_last2_lt             -0.0009      0.003     -0.323      0.747      -0.007       0.005\n",
            "trade_size_last3_lt              0.0018      0.002      0.757      0.449      -0.003       0.006\n",
            "trade_size_last4_lt              0.0040      0.002      1.602      0.109      -0.001       0.009\n",
            "trade_size_last5_lt             -0.0015      0.002     -0.724      0.469      -0.005       0.003\n",
            "trade_size_last6_lt              0.0023      0.002      1.388      0.165      -0.001       0.006\n",
            "trade_size_last7_lt             -0.0021      0.002     -0.938      0.348      -0.007       0.002\n",
            "trade_size_last8_lt              0.0006      0.004      0.164      0.870      -0.007       0.008\n",
            "trade_size_last9_lt          -2.835e-05      0.004     -0.008      0.994      -0.007       0.007\n",
            "trade_size_last10_lt            -0.0005      0.003     -0.191      0.848      -0.005       0.004\n",
            "received_time_diff_last1_st  -5.471e-07   5.17e-06     -0.106      0.916   -1.07e-05    9.59e-06\n",
            "received_time_diff_last2_st  -4.437e-06   1.06e-05     -0.419      0.675   -2.52e-05    1.63e-05\n",
            "received_time_diff_last3_st   1.557e-06   2.49e-05      0.062      0.950   -4.73e-05    5.04e-05\n",
            "received_time_diff_last4_st   6.185e-06    4.7e-05      0.132      0.895    -8.6e-05    9.84e-05\n",
            "received_time_diff_last5_st   2.208e-06   5.97e-05      0.037      0.970      -0.000       0.000\n",
            "received_time_diff_last6_st   3.968e-05      0.000      0.330      0.742      -0.000       0.000\n",
            "received_time_diff_last7_st   7.707e-06      0.000      0.046      0.963      -0.000       0.000\n",
            "received_time_diff_last8_st     -0.0002      0.000     -1.773      0.076      -0.000    2.44e-05\n",
            "received_time_diff_last9_st  -1.536e-05   7.11e-05     -0.216      0.829      -0.000       0.000\n",
            "received_time_diff_last10_st    -0.0002      0.000     -1.889      0.059      -0.000    8.18e-06\n",
            "==============================================================================\n",
            "Omnibus:                     3468.962   Durbin-Watson:                   1.971\n",
            "Prob(Omnibus):                  0.000   Jarque-Bera (JB):         13152957.095\n",
            "Skew:                         -18.114   Prob(JB):                         0.00\n",
            "Kurtosis:                     442.939   Cond. No.                     6.73e+07\n",
            "==============================================================================\n",
            "\n",
            "Notes:\n",
            "[1] Standard Errors assume that the covariance matrix of the errors is correctly specified.\n",
            "[2] The condition number is large, 6.73e+07. This might indicate that there are\n",
            "strong multicollinearity or other numerical problems.\n"
          ]
        },
        {
          "output_type": "display_data",
          "data": {
            "text/plain": [
              "<Figure size 1000x600 with 1 Axes>"
            ],
            "image/png": "[encoded data removed]"
          },
          "metadata": {}
        }
      ],
      "source": [
        "# Finding the optimal lambda for the Box-Cox transformation of the response\n",
        "def neg_log_likelihood(lambda_):\n",
        "    # Apply Box-Cox transformation with given lambda\n",
        "    transformed_response = boxcox(response + 1e-4, lmbda=lambda_)\n",
        "    model = sm.OLS(transformed_response, sm.add_constant(transformed_predictors))\n",
        "    results = model.fit()\n",
        "    return -results.llf\n",
        "\n",
        "# Using minimize_scalar to find the optimal lambda\n",
        "optimal_lambda = minimize_scalar(neg_log_likelihood, bounds=(-2, 2), method='bounded').x\n",
        "\n",
        "# Applying Box-Cox transformation with the optimal lambda found\n",
        "transformed_response = boxcox(response + 1e-4, lmbda=optimal_lambda)\n",
        "\n",
        "# Now refitting the OLS model with transformed predictors and response\n",
        "X = sm.add_constant(transformed_predictors)  # Add a constant for the intercept\n",
        "model = sm.OLS(transformed_response, X).fit()\n",
        "\n",
        "# Print the model summary\n",
        "print(model.summary())\n",
        "\n",
        "# Plot residuals vs. fitted values\n",
        "fitted_values = model.fittedvalues\n",
        "residuals = model.resid\n",
        "plt.figure(figsize=(10, 6))\n",
        "plt.scatter(fitted_values, residuals, alpha=0.5)\n",
        "plt.axhline(0, color='red', linestyle='--')\n",
        "plt.xlabel('Fitted Values')\n",
        "plt.ylabel('Residuals')\n",
        "plt.title('Plot of Residuals vs. Fitted Values')\n",
        "plt.show()"
      ]
    }
  ],
  "metadata": {
    "kernelspec": {
      "display_name": "Python 3 (ipykernel)",
      "language": "python",
      "name": "python3"
    },
    "language_info": {
      "codemirror_mode": {
        "name": "ipython",
        "version": 3
      },
      "file_extension": ".py",
      "mimetype": "text/x-python",
      "name": "python",
      "nbconvert_exporter": "python",
      "pygments_lexer": "ipython3",
      "version": "3.7.1"
    },
    "colab": {
      "provenance": [],
      "collapsed_sections": [
        "HosI5OY7uGXQ",
        "5SnTuKWluKEN",
        "FomQes1vuVB-"
      ],
      "include_colab_link": true
    }
  },
  "nbformat": 4,
  "nbformat_minor": 0
}