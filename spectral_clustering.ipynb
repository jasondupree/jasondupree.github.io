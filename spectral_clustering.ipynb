{
  "nbformat": 4,
  "nbformat_minor": 0,
  "metadata": {
    "colab": {
      "provenance": [],
      "collapsed_sections": [
        "HosI5OY7uGXQ",
        "lNdkHZLypauZ"
      ],
      "authorship_tag": "ABX9TyNsvpxoPc7G287nwrh/nOA9",
      "include_colab_link": true
    },
    "kernelspec": {
      "name": "python3",
      "display_name": "Python 3"
    },
    "language_info": {
      "name": "python"
    }
  },
  "cells": [
    {
      "cell_type": "markdown",
      "metadata": {
        "id": "view-in-github",
        "colab_type": "text"
      },
      "source": [
        "<a href=\"https://colab.research.google.com/github/jasondupree/jasondupree.github.io/blob/main/spectral_clustering.ipynb\" target=\"_parent\"><img src=\"https://colab.research.google.com/assets/colab-badge.svg\" alt=\"Open In Colab\"/></a>"
      ]
    },
    {
      "cell_type": "markdown",
      "source": [
        "# **Notebook Preparation**"
      ],
      "metadata": {
        "id": "HosI5OY7uGXQ"
      }
    },
    {
      "cell_type": "markdown",
      "source": [
        "## Import Libraries"
      ],
      "metadata": {
        "id": "6bE3R5AXuSdL"
      }
    },
    {
      "cell_type": "code",
      "source": [
        "import pandas as pd\n",
        "import matplotlib.pyplot as plt\n",
        "import numpy as np\n",
        "import os\n",
        "import pickle\n",
        "from sklearn.model_selection import train_test_split, cross_val_score, KFold, GridSearchCV\n",
        "from sklearn.linear_model import LogisticRegression, Lasso, Ridge, LassoCV, RidgeCV\n",
        "from sklearn.metrics import mean_squared_error, mean_absolute_error, r2_score, roc_auc_score, accuracy_score, auc, roc_curve\n",
        "from sklearn.preprocessing import StandardScaler, OneHotEncoder, MinMaxScaler\n",
        "from sklearn.compose import ColumnTransformer\n",
        "from sklearn.pipeline import Pipeline\n",
        "from sklearn.impute import SimpleImputer\n",
        "from sklearn.ensemble import RandomForestClassifier\n",
        "from sklearn.tree import DecisionTreeClassifier\n",
        "from sklearn.neighbors import KNeighborsClassifier\n",
        "from sklearn.decomposition import PCA\n",
        "from sklearn.cluster import KMeans, SpectralClustering\n",
        "\n",
        "import warnings\n",
        "from sklearn.exceptions import ConvergenceWarning\n",
        "\n",
        "# Suppress all warnings\n",
        "warnings.simplefilter(action='ignore', category=FutureWarning)\n",
        "warnings.simplefilter(action='ignore', category=UserWarning)\n",
        "\n",
        "# Suppress ConvergenceWarning for this context\n",
        "warnings.simplefilter('ignore', ConvergenceWarning)"
      ],
      "metadata": {
        "id": "QnltdWVdbTBW"
      },
      "execution_count": 9,
      "outputs": []
    },
    {
      "cell_type": "markdown",
      "source": [
        "## Mount Drive and Update Display"
      ],
      "metadata": {
        "id": "5SnTuKWluKEN"
      }
    },
    {
      "cell_type": "code",
      "execution_count": 10,
      "metadata": {
        "colab": {
          "base_uri": "https://localhost:8080/"
        },
        "id": "MR3mXm4nY7Ul",
        "outputId": "bfdd4444-2946-47eb-bea9-ae32bd68261e"
      },
      "outputs": [
        {
          "output_type": "stream",
          "name": "stdout",
          "text": [
            "Drive already mounted at /content/drive/; to attempt to forcibly remount, call drive.mount(\"/content/drive/\", force_remount=True).\n"
          ]
        }
      ],
      "source": [
        "from google.colab import drive\n",
        "drive.mount('/content/drive/')\n",
        "\n",
        "pd.set_option('display.max_columns', None)  # Ensures all columns are displayed\n",
        "pd.set_option('display.width', None)        # Utilizes the maximum width of your display\n",
        "\n",
        "from IPython.display import display, HTML"
      ]
    },
    {
      "cell_type": "markdown",
      "source": [
        "## Import Data"
      ],
      "metadata": {
        "id": "FomQes1vuVB-"
      }
    },
    {
      "cell_type": "code",
      "source": [
        "# Adjust the path to the location of your CSV file\n",
        "file_path = '/content/drive/My Drive/Data Science Courses/Colab Notebooks/Machine Learning/Projects/HW3/returns.csv'\n",
        "df_returns = pd.read_csv(file_path)\n",
        "\n",
        "# Display the first few rows of the DataFrame\n",
        "df_returns.head(3)"
      ],
      "metadata": {
        "colab": {
          "base_uri": "https://localhost:8080/",
          "height": 198
        },
        "id": "IVmDq8X9ubCs",
        "outputId": "51a7330f-d9a4-45ac-c51e-f5712844b5f1"
      },
      "execution_count": 17,
      "outputs": [
        {
          "output_type": "execute_result",
          "data": {
            "text/plain": [
              "  symbol                Industry  avg200603  avg200604  avg200605  avg200606  avg200607  \\\n",
              "0      A             Health Care   0.039334   0.016401  -0.094683  -0.090490  -0.103653   \n",
              "1     AA               Materials   0.040890   0.098826  -0.070155   0.017606  -0.095683   \n",
              "2   AAPL  Information Technology  -0.087448   0.107115  -0.158681  -0.042606   0.179764   \n",
              "\n",
              "   avg200608  avg200609  avg200610  avg200611  avg200612  avg200701  avg200702  avg200703  \\\n",
              "0   0.135238   0.016478   0.095077  -0.061947   0.088520  -0.086311  -0.013365   0.081864   \n",
              "1  -0.041422  -0.025758   0.031387   0.075859  -0.038484   0.080559   0.029196   0.035768   \n",
              "2   0.009372   0.124141   0.078695   0.128607  -0.075698  -0.006142  -0.018438   0.104724   \n",
              "\n",
              "   avg200704  avg200705  avg200706  avg200707  avg200708  avg200709  avg200710  avg200711  \\\n",
              "0   0.022006   0.108179   0.006549  -0.012144  -0.043362   0.006560  -0.004330   0.030815   \n",
              "1   0.042253   0.165354  -0.021739  -0.060227  -0.035714   0.074280   0.013832  -0.073706   \n",
              "2   0.059692   0.216488   0.007928   0.090186   0.034123   0.095801   0.226975  -0.034430   \n",
              "\n",
              "   avg200712  avg200801  avg200802  avg200803  avg200804  avg200805  avg200806  avg200807  \\\n",
              "0  -0.023214  -0.076629  -0.098530  -0.027424   0.008694   0.236423  -0.046545   0.028538   \n",
              "1   0.001097  -0.093525   0.107632  -0.030937  -0.035348   0.168155  -0.119320  -0.043936   \n",
              "2   0.088857  -0.323584  -0.081078   0.151578   0.189682   0.078654  -0.111057  -0.034084   \n",
              "\n",
              "   avg200808  avg200809  avg200810  avg200811  avg200812  avg200901  avg200902  avg200903  \\\n",
              "0  -0.037079  -0.147903  -0.243509  -0.149122  -0.150383   0.158973  -0.218857   0.131617   \n",
              "1  -0.045153  -0.288820  -0.487698  -0.090553   0.109047  -0.316020  -0.179823   0.209917   \n",
              "2   0.059496  -0.342467  -0.034673  -0.127790  -0.061427   0.055595   0.007745   0.192944   \n",
              "\n",
              "   avg200904  avg200905  avg200906  avg200907  avg200908  avg200909  avg200910  avg200911  \\\n",
              "0   0.209002  -0.000547   0.106092   0.141383   0.087672   0.090550  -0.070219   0.169363   \n",
              "1   0.268533   0.012889   0.081934   0.118087  -0.010811   0.090454  -0.068857   0.000775   \n",
              "2   0.206335   0.075833   0.045214   0.139518   0.018279   0.101617   0.018018   0.053218   \n",
              "\n",
              "   avg200912  avg201001  avg201002  avg201003  avg201004  avg201005  avg201006  avg201007  \\\n",
              "0   0.068043  -0.105045   0.117186   0.094177   0.049795  -0.113699  -0.115051  -0.020001   \n",
              "1   0.265891  -0.226472   0.027660   0.074718  -0.065976  -0.135718  -0.119862   0.107928   \n",
              "2   0.041937  -0.098168   0.064506   0.141931   0.100411  -0.024981  -0.032152   0.013610   \n",
              "\n",
              "   avg201008  avg201009  avg201010  avg201011  avg201012  avg201101  avg201102  avg201103  \\\n",
              "0  -0.049381   0.218692   0.038164   0.000572   0.161851   0.006257   0.000476   0.067652   \n",
              "1  -0.098101   0.163304   0.074341  -0.001523   0.153549   0.045461   0.013162   0.042527   \n",
              "2  -0.066480   0.147461   0.050945   0.028596   0.022802   0.040628   0.035101  -0.019182   \n",
              "\n",
              "   avg201104  avg201105  avg201106  avg201107  avg201108  avg201109  avg201110  avg201111  \\\n",
              "0   0.111186  -0.008558   0.026712  -0.175874  -0.137632  -0.149730   0.200645   0.063566   \n",
              "1  -0.044407  -0.026078  -0.046307  -0.076926  -0.152304  -0.245269   0.145583  -0.018696   \n",
              "2  -0.004018  -0.007091  -0.038424   0.166272  -0.033568  -0.011580   0.065567  -0.039837   \n",
              "\n",
              "   avg201112  avg201201  avg201202  avg201203  avg201204  avg201205  avg201206  avg201207  \\\n",
              "0  -0.062735   0.186386   0.005301   0.020356  -0.052350  -0.031642   0.001892  -0.027912   \n",
              "1  -0.129910   0.137737  -0.011654  -0.022456  -0.021127  -0.117476   0.041767  -0.032001   \n",
              "2   0.058967   0.115295   0.182706   0.093962  -0.029675  -0.012057   0.025359   0.044623   \n",
              "\n",
              "   avg201208  avg201209  avg201210  avg201211  avg201212  avg201301  avg201302  avg201303  \\\n",
              "0  -0.036759   0.042735  -0.064936   0.064930   0.061663   0.063316  -0.079860   0.021610   \n",
              "1   0.009412   0.033880  -0.039174  -0.023203   0.024853  -0.004503  -0.040040   0.008288   \n",
              "2   0.084584   0.002270  -0.112248  -0.017485  -0.105028  -0.176228  -0.032265   0.011278   \n",
              "\n",
              "   avg201304  avg201305  avg201306  avg201307  avg201308  avg201309  avg201310  avg201311  \\\n",
              "0  -0.009563   0.098503  -0.059370   0.038319   0.024830   0.089498   0.001183   0.052043   \n",
              "1  -0.001175   0.009332  -0.080891   0.015326  -0.033836   0.042362   0.144444   0.032223   \n",
              "2   0.001924   0.019258  -0.118691   0.123508   0.075968  -0.033158   0.092486   0.061162   \n",
              "\n",
              "   avg201312  avg201401  avg201402  avg201403  avg201404  avg201405  avg201406  avg201407  \\\n",
              "0   0.069572   0.018389  -0.020980  -0.003564  -0.038434   0.055617   0.008427  -0.028576   \n",
              "1   0.104990   0.093067   0.019097   0.114286   0.040154   0.011896   0.081336   0.097790   \n",
              "2   0.005412  -0.099122   0.047015   0.025448   0.097311   0.069257  -0.853413   0.022241   \n",
              "\n",
              "   avg201408  avg201409  avg201410  avg201411  avg201412  avg201501  avg201502  avg201503  \\\n",
              "0   0.024924  -0.004368  -0.027617   0.071178  -0.040993  -0.082807   0.113720  -0.018659   \n",
              "1   0.021525  -0.033053   0.039058   0.030393  -0.092529  -0.013863  -0.065107  -0.126437   \n",
              "2   0.080084  -0.022414   0.073665   0.098965  -0.070954   0.051800   0.088183  -0.037292   \n",
              "\n",
              "   avg201504  avg201505  avg201506  avg201507  avg201508  avg201509  avg201510  avg201511  \\\n",
              "0  -0.002171  -0.005313  -0.068791   0.052970  -0.112659  -0.027479   0.100233   0.104304   \n",
              "1   0.039504  -0.074074  -0.110845  -0.118750  -0.037678   0.055738  -0.080330   0.045810   \n",
              "2   0.002644   0.033148  -0.037228  -0.044129  -0.071934   0.001362   0.095627  -0.020695   \n",
              "\n",
              "   avg201512  avg201601  avg201602  \n",
              "0  -0.008302  -0.083049  -0.000535  \n",
              "1   0.043340  -0.234244   0.210027  \n",
              "2  -0.113600  -0.051360   0.002281  "
            ],
            "text/html": [
              "\n",
              "  <div id=\"df-344da2e6-c0c0-4764-9d8e-db290540312d\" class=\"colab-df-container\">\n",
              "    <div>\n",
              "<style scoped>\n",
              "    .dataframe tbody tr th:only-of-type {\n",
              "        vertical-align: middle;\n",
              "    }\n",
              "\n",
              "    .dataframe tbody tr th {\n",
              "        vertical-align: top;\n",
              "    }\n",
              "\n",
              "    .dataframe thead th {\n",
              "        text-align: right;\n",
              "    }\n",
              "</style>\n",
              "<table border=\"1\" class=\"dataframe\">\n",
              "  <thead>\n",
              "    <tr style=\"text-align: right;\">\n",
              "      <th></th>\n",
              "      <th>symbol</th>\n",
              "      <th>Industry</th>\n",
              "      <th>avg200603</th>\n",
              "      <th>avg200604</th>\n",
              "      <th>avg200605</th>\n",
              "      <th>avg200606</th>\n",
              "      <th>avg200607</th>\n",
              "      <th>avg200608</th>\n",
              "      <th>avg200609</th>\n",
              "      <th>avg200610</th>\n",
              "      <th>avg200611</th>\n",
              "      <th>avg200612</th>\n",
              "      <th>avg200701</th>\n",
              "      <th>avg200702</th>\n",
              "      <th>avg200703</th>\n",
              "      <th>avg200704</th>\n",
              "      <th>avg200705</th>\n",
              "      <th>avg200706</th>\n",
              "      <th>avg200707</th>\n",
              "      <th>avg200708</th>\n",
              "      <th>avg200709</th>\n",
              "      <th>avg200710</th>\n",
              "      <th>avg200711</th>\n",
              "      <th>avg200712</th>\n",
              "      <th>avg200801</th>\n",
              "      <th>avg200802</th>\n",
              "      <th>avg200803</th>\n",
              "      <th>avg200804</th>\n",
              "      <th>avg200805</th>\n",
              "      <th>avg200806</th>\n",
              "      <th>avg200807</th>\n",
              "      <th>avg200808</th>\n",
              "      <th>avg200809</th>\n",
              "      <th>avg200810</th>\n",
              "      <th>avg200811</th>\n",
              "      <th>avg200812</th>\n",
              "      <th>avg200901</th>\n",
              "      <th>avg200902</th>\n",
              "      <th>avg200903</th>\n",
              "      <th>avg200904</th>\n",
              "      <th>avg200905</th>\n",
              "      <th>avg200906</th>\n",
              "      <th>avg200907</th>\n",
              "      <th>avg200908</th>\n",
              "      <th>avg200909</th>\n",
              "      <th>avg200910</th>\n",
              "      <th>avg200911</th>\n",
              "      <th>avg200912</th>\n",
              "      <th>avg201001</th>\n",
              "      <th>avg201002</th>\n",
              "      <th>avg201003</th>\n",
              "      <th>avg201004</th>\n",
              "      <th>avg201005</th>\n",
              "      <th>avg201006</th>\n",
              "      <th>avg201007</th>\n",
              "      <th>avg201008</th>\n",
              "      <th>avg201009</th>\n",
              "      <th>avg201010</th>\n",
              "      <th>avg201011</th>\n",
              "      <th>avg201012</th>\n",
              "      <th>avg201101</th>\n",
              "      <th>avg201102</th>\n",
              "      <th>avg201103</th>\n",
              "      <th>avg201104</th>\n",
              "      <th>avg201105</th>\n",
              "      <th>avg201106</th>\n",
              "      <th>avg201107</th>\n",
              "      <th>avg201108</th>\n",
              "      <th>avg201109</th>\n",
              "      <th>avg201110</th>\n",
              "      <th>avg201111</th>\n",
              "      <th>avg201112</th>\n",
              "      <th>avg201201</th>\n",
              "      <th>avg201202</th>\n",
              "      <th>avg201203</th>\n",
              "      <th>avg201204</th>\n",
              "      <th>avg201205</th>\n",
              "      <th>avg201206</th>\n",
              "      <th>avg201207</th>\n",
              "      <th>avg201208</th>\n",
              "      <th>avg201209</th>\n",
              "      <th>avg201210</th>\n",
              "      <th>avg201211</th>\n",
              "      <th>avg201212</th>\n",
              "      <th>avg201301</th>\n",
              "      <th>avg201302</th>\n",
              "      <th>avg201303</th>\n",
              "      <th>avg201304</th>\n",
              "      <th>avg201305</th>\n",
              "      <th>avg201306</th>\n",
              "      <th>avg201307</th>\n",
              "      <th>avg201308</th>\n",
              "      <th>avg201309</th>\n",
              "      <th>avg201310</th>\n",
              "      <th>avg201311</th>\n",
              "      <th>avg201312</th>\n",
              "      <th>avg201401</th>\n",
              "      <th>avg201402</th>\n",
              "      <th>avg201403</th>\n",
              "      <th>avg201404</th>\n",
              "      <th>avg201405</th>\n",
              "      <th>avg201406</th>\n",
              "      <th>avg201407</th>\n",
              "      <th>avg201408</th>\n",
              "      <th>avg201409</th>\n",
              "      <th>avg201410</th>\n",
              "      <th>avg201411</th>\n",
              "      <th>avg201412</th>\n",
              "      <th>avg201501</th>\n",
              "      <th>avg201502</th>\n",
              "      <th>avg201503</th>\n",
              "      <th>avg201504</th>\n",
              "      <th>avg201505</th>\n",
              "      <th>avg201506</th>\n",
              "      <th>avg201507</th>\n",
              "      <th>avg201508</th>\n",
              "      <th>avg201509</th>\n",
              "      <th>avg201510</th>\n",
              "      <th>avg201511</th>\n",
              "      <th>avg201512</th>\n",
              "      <th>avg201601</th>\n",
              "      <th>avg201602</th>\n",
              "    </tr>\n",
              "  </thead>\n",
              "  <tbody>\n",
              "    <tr>\n",
              "      <th>0</th>\n",
              "      <td>A</td>\n",
              "      <td>Health Care</td>\n",
              "      <td>0.039334</td>\n",
              "      <td>0.016401</td>\n",
              "      <td>-0.094683</td>\n",
              "      <td>-0.090490</td>\n",
              "      <td>-0.103653</td>\n",
              "      <td>0.135238</td>\n",
              "      <td>0.016478</td>\n",
              "      <td>0.095077</td>\n",
              "      <td>-0.061947</td>\n",
              "      <td>0.088520</td>\n",
              "      <td>-0.086311</td>\n",
              "      <td>-0.013365</td>\n",
              "      <td>0.081864</td>\n",
              "      <td>0.022006</td>\n",
              "      <td>0.108179</td>\n",
              "      <td>0.006549</td>\n",
              "      <td>-0.012144</td>\n",
              "      <td>-0.043362</td>\n",
              "      <td>0.006560</td>\n",
              "      <td>-0.004330</td>\n",
              "      <td>0.030815</td>\n",
              "      <td>-0.023214</td>\n",
              "      <td>-0.076629</td>\n",
              "      <td>-0.098530</td>\n",
              "      <td>-0.027424</td>\n",
              "      <td>0.008694</td>\n",
              "      <td>0.236423</td>\n",
              "      <td>-0.046545</td>\n",
              "      <td>0.028538</td>\n",
              "      <td>-0.037079</td>\n",
              "      <td>-0.147903</td>\n",
              "      <td>-0.243509</td>\n",
              "      <td>-0.149122</td>\n",
              "      <td>-0.150383</td>\n",
              "      <td>0.158973</td>\n",
              "      <td>-0.218857</td>\n",
              "      <td>0.131617</td>\n",
              "      <td>0.209002</td>\n",
              "      <td>-0.000547</td>\n",
              "      <td>0.106092</td>\n",
              "      <td>0.141383</td>\n",
              "      <td>0.087672</td>\n",
              "      <td>0.090550</td>\n",
              "      <td>-0.070219</td>\n",
              "      <td>0.169363</td>\n",
              "      <td>0.068043</td>\n",
              "      <td>-0.105045</td>\n",
              "      <td>0.117186</td>\n",
              "      <td>0.094177</td>\n",
              "      <td>0.049795</td>\n",
              "      <td>-0.113699</td>\n",
              "      <td>-0.115051</td>\n",
              "      <td>-0.020001</td>\n",
              "      <td>-0.049381</td>\n",
              "      <td>0.218692</td>\n",
              "      <td>0.038164</td>\n",
              "      <td>0.000572</td>\n",
              "      <td>0.161851</td>\n",
              "      <td>0.006257</td>\n",
              "      <td>0.000476</td>\n",
              "      <td>0.067652</td>\n",
              "      <td>0.111186</td>\n",
              "      <td>-0.008558</td>\n",
              "      <td>0.026712</td>\n",
              "      <td>-0.175874</td>\n",
              "      <td>-0.137632</td>\n",
              "      <td>-0.149730</td>\n",
              "      <td>0.200645</td>\n",
              "      <td>0.063566</td>\n",
              "      <td>-0.062735</td>\n",
              "      <td>0.186386</td>\n",
              "      <td>0.005301</td>\n",
              "      <td>0.020356</td>\n",
              "      <td>-0.052350</td>\n",
              "      <td>-0.031642</td>\n",
              "      <td>0.001892</td>\n",
              "      <td>-0.027912</td>\n",
              "      <td>-0.036759</td>\n",
              "      <td>0.042735</td>\n",
              "      <td>-0.064936</td>\n",
              "      <td>0.064930</td>\n",
              "      <td>0.061663</td>\n",
              "      <td>0.063316</td>\n",
              "      <td>-0.079860</td>\n",
              "      <td>0.021610</td>\n",
              "      <td>-0.009563</td>\n",
              "      <td>0.098503</td>\n",
              "      <td>-0.059370</td>\n",
              "      <td>0.038319</td>\n",
              "      <td>0.024830</td>\n",
              "      <td>0.089498</td>\n",
              "      <td>0.001183</td>\n",
              "      <td>0.052043</td>\n",
              "      <td>0.069572</td>\n",
              "      <td>0.018389</td>\n",
              "      <td>-0.020980</td>\n",
              "      <td>-0.003564</td>\n",
              "      <td>-0.038434</td>\n",
              "      <td>0.055617</td>\n",
              "      <td>0.008427</td>\n",
              "      <td>-0.028576</td>\n",
              "      <td>0.024924</td>\n",
              "      <td>-0.004368</td>\n",
              "      <td>-0.027617</td>\n",
              "      <td>0.071178</td>\n",
              "      <td>-0.040993</td>\n",
              "      <td>-0.082807</td>\n",
              "      <td>0.113720</td>\n",
              "      <td>-0.018659</td>\n",
              "      <td>-0.002171</td>\n",
              "      <td>-0.005313</td>\n",
              "      <td>-0.068791</td>\n",
              "      <td>0.052970</td>\n",
              "      <td>-0.112659</td>\n",
              "      <td>-0.027479</td>\n",
              "      <td>0.100233</td>\n",
              "      <td>0.104304</td>\n",
              "      <td>-0.008302</td>\n",
              "      <td>-0.083049</td>\n",
              "      <td>-0.000535</td>\n",
              "    </tr>\n",
              "    <tr>\n",
              "      <th>1</th>\n",
              "      <td>AA</td>\n",
              "      <td>Materials</td>\n",
              "      <td>0.040890</td>\n",
              "      <td>0.098826</td>\n",
              "      <td>-0.070155</td>\n",
              "      <td>0.017606</td>\n",
              "      <td>-0.095683</td>\n",
              "      <td>-0.041422</td>\n",
              "      <td>-0.025758</td>\n",
              "      <td>0.031387</td>\n",
              "      <td>0.075859</td>\n",
              "      <td>-0.038484</td>\n",
              "      <td>0.080559</td>\n",
              "      <td>0.029196</td>\n",
              "      <td>0.035768</td>\n",
              "      <td>0.042253</td>\n",
              "      <td>0.165354</td>\n",
              "      <td>-0.021739</td>\n",
              "      <td>-0.060227</td>\n",
              "      <td>-0.035714</td>\n",
              "      <td>0.074280</td>\n",
              "      <td>0.013832</td>\n",
              "      <td>-0.073706</td>\n",
              "      <td>0.001097</td>\n",
              "      <td>-0.093525</td>\n",
              "      <td>0.107632</td>\n",
              "      <td>-0.030937</td>\n",
              "      <td>-0.035348</td>\n",
              "      <td>0.168155</td>\n",
              "      <td>-0.119320</td>\n",
              "      <td>-0.043936</td>\n",
              "      <td>-0.045153</td>\n",
              "      <td>-0.288820</td>\n",
              "      <td>-0.487698</td>\n",
              "      <td>-0.090553</td>\n",
              "      <td>0.109047</td>\n",
              "      <td>-0.316020</td>\n",
              "      <td>-0.179823</td>\n",
              "      <td>0.209917</td>\n",
              "      <td>0.268533</td>\n",
              "      <td>0.012889</td>\n",
              "      <td>0.081934</td>\n",
              "      <td>0.118087</td>\n",
              "      <td>-0.010811</td>\n",
              "      <td>0.090454</td>\n",
              "      <td>-0.068857</td>\n",
              "      <td>0.000775</td>\n",
              "      <td>0.265891</td>\n",
              "      <td>-0.226472</td>\n",
              "      <td>0.027660</td>\n",
              "      <td>0.074718</td>\n",
              "      <td>-0.065976</td>\n",
              "      <td>-0.135718</td>\n",
              "      <td>-0.119862</td>\n",
              "      <td>0.107928</td>\n",
              "      <td>-0.098101</td>\n",
              "      <td>0.163304</td>\n",
              "      <td>0.074341</td>\n",
              "      <td>-0.001523</td>\n",
              "      <td>0.153549</td>\n",
              "      <td>0.045461</td>\n",
              "      <td>0.013162</td>\n",
              "      <td>0.042527</td>\n",
              "      <td>-0.044407</td>\n",
              "      <td>-0.026078</td>\n",
              "      <td>-0.046307</td>\n",
              "      <td>-0.076926</td>\n",
              "      <td>-0.152304</td>\n",
              "      <td>-0.245269</td>\n",
              "      <td>0.145583</td>\n",
              "      <td>-0.018696</td>\n",
              "      <td>-0.129910</td>\n",
              "      <td>0.137737</td>\n",
              "      <td>-0.011654</td>\n",
              "      <td>-0.022456</td>\n",
              "      <td>-0.021127</td>\n",
              "      <td>-0.117476</td>\n",
              "      <td>0.041767</td>\n",
              "      <td>-0.032001</td>\n",
              "      <td>0.009412</td>\n",
              "      <td>0.033880</td>\n",
              "      <td>-0.039174</td>\n",
              "      <td>-0.023203</td>\n",
              "      <td>0.024853</td>\n",
              "      <td>-0.004503</td>\n",
              "      <td>-0.040040</td>\n",
              "      <td>0.008288</td>\n",
              "      <td>-0.001175</td>\n",
              "      <td>0.009332</td>\n",
              "      <td>-0.080891</td>\n",
              "      <td>0.015326</td>\n",
              "      <td>-0.033836</td>\n",
              "      <td>0.042362</td>\n",
              "      <td>0.144444</td>\n",
              "      <td>0.032223</td>\n",
              "      <td>0.104990</td>\n",
              "      <td>0.093067</td>\n",
              "      <td>0.019097</td>\n",
              "      <td>0.114286</td>\n",
              "      <td>0.040154</td>\n",
              "      <td>0.011896</td>\n",
              "      <td>0.081336</td>\n",
              "      <td>0.097790</td>\n",
              "      <td>0.021525</td>\n",
              "      <td>-0.033053</td>\n",
              "      <td>0.039058</td>\n",
              "      <td>0.030393</td>\n",
              "      <td>-0.092529</td>\n",
              "      <td>-0.013863</td>\n",
              "      <td>-0.065107</td>\n",
              "      <td>-0.126437</td>\n",
              "      <td>0.039504</td>\n",
              "      <td>-0.074074</td>\n",
              "      <td>-0.110845</td>\n",
              "      <td>-0.118750</td>\n",
              "      <td>-0.037678</td>\n",
              "      <td>0.055738</td>\n",
              "      <td>-0.080330</td>\n",
              "      <td>0.045810</td>\n",
              "      <td>0.043340</td>\n",
              "      <td>-0.234244</td>\n",
              "      <td>0.210027</td>\n",
              "    </tr>\n",
              "    <tr>\n",
              "      <th>2</th>\n",
              "      <td>AAPL</td>\n",
              "      <td>Information Technology</td>\n",
              "      <td>-0.087448</td>\n",
              "      <td>0.107115</td>\n",
              "      <td>-0.158681</td>\n",
              "      <td>-0.042606</td>\n",
              "      <td>0.179764</td>\n",
              "      <td>0.009372</td>\n",
              "      <td>0.124141</td>\n",
              "      <td>0.078695</td>\n",
              "      <td>0.128607</td>\n",
              "      <td>-0.075698</td>\n",
              "      <td>-0.006142</td>\n",
              "      <td>-0.018438</td>\n",
              "      <td>0.104724</td>\n",
              "      <td>0.059692</td>\n",
              "      <td>0.216488</td>\n",
              "      <td>0.007928</td>\n",
              "      <td>0.090186</td>\n",
              "      <td>0.034123</td>\n",
              "      <td>0.095801</td>\n",
              "      <td>0.226975</td>\n",
              "      <td>-0.034430</td>\n",
              "      <td>0.088857</td>\n",
              "      <td>-0.323584</td>\n",
              "      <td>-0.081078</td>\n",
              "      <td>0.151578</td>\n",
              "      <td>0.189682</td>\n",
              "      <td>0.078654</td>\n",
              "      <td>-0.111057</td>\n",
              "      <td>-0.034084</td>\n",
              "      <td>0.059496</td>\n",
              "      <td>-0.342467</td>\n",
              "      <td>-0.034673</td>\n",
              "      <td>-0.127790</td>\n",
              "      <td>-0.061427</td>\n",
              "      <td>0.055595</td>\n",
              "      <td>0.007745</td>\n",
              "      <td>0.192944</td>\n",
              "      <td>0.206335</td>\n",
              "      <td>0.075833</td>\n",
              "      <td>0.045214</td>\n",
              "      <td>0.139518</td>\n",
              "      <td>0.018279</td>\n",
              "      <td>0.101617</td>\n",
              "      <td>0.018018</td>\n",
              "      <td>0.053218</td>\n",
              "      <td>0.041937</td>\n",
              "      <td>-0.098168</td>\n",
              "      <td>0.064506</td>\n",
              "      <td>0.141931</td>\n",
              "      <td>0.100411</td>\n",
              "      <td>-0.024981</td>\n",
              "      <td>-0.032152</td>\n",
              "      <td>0.013610</td>\n",
              "      <td>-0.066480</td>\n",
              "      <td>0.147461</td>\n",
              "      <td>0.050945</td>\n",
              "      <td>0.028596</td>\n",
              "      <td>0.022802</td>\n",
              "      <td>0.040628</td>\n",
              "      <td>0.035101</td>\n",
              "      <td>-0.019182</td>\n",
              "      <td>-0.004018</td>\n",
              "      <td>-0.007091</td>\n",
              "      <td>-0.038424</td>\n",
              "      <td>0.166272</td>\n",
              "      <td>-0.033568</td>\n",
              "      <td>-0.011580</td>\n",
              "      <td>0.065567</td>\n",
              "      <td>-0.039837</td>\n",
              "      <td>0.058967</td>\n",
              "      <td>0.115295</td>\n",
              "      <td>0.182706</td>\n",
              "      <td>0.093962</td>\n",
              "      <td>-0.029675</td>\n",
              "      <td>-0.012057</td>\n",
              "      <td>0.025359</td>\n",
              "      <td>0.044623</td>\n",
              "      <td>0.084584</td>\n",
              "      <td>0.002270</td>\n",
              "      <td>-0.112248</td>\n",
              "      <td>-0.017485</td>\n",
              "      <td>-0.105028</td>\n",
              "      <td>-0.176228</td>\n",
              "      <td>-0.032265</td>\n",
              "      <td>0.011278</td>\n",
              "      <td>0.001924</td>\n",
              "      <td>0.019258</td>\n",
              "      <td>-0.118691</td>\n",
              "      <td>0.123508</td>\n",
              "      <td>0.075968</td>\n",
              "      <td>-0.033158</td>\n",
              "      <td>0.092486</td>\n",
              "      <td>0.061162</td>\n",
              "      <td>0.005412</td>\n",
              "      <td>-0.099122</td>\n",
              "      <td>0.047015</td>\n",
              "      <td>0.025448</td>\n",
              "      <td>0.097311</td>\n",
              "      <td>0.069257</td>\n",
              "      <td>-0.853413</td>\n",
              "      <td>0.022241</td>\n",
              "      <td>0.080084</td>\n",
              "      <td>-0.022414</td>\n",
              "      <td>0.073665</td>\n",
              "      <td>0.098965</td>\n",
              "      <td>-0.070954</td>\n",
              "      <td>0.051800</td>\n",
              "      <td>0.088183</td>\n",
              "      <td>-0.037292</td>\n",
              "      <td>0.002644</td>\n",
              "      <td>0.033148</td>\n",
              "      <td>-0.037228</td>\n",
              "      <td>-0.044129</td>\n",
              "      <td>-0.071934</td>\n",
              "      <td>0.001362</td>\n",
              "      <td>0.095627</td>\n",
              "      <td>-0.020695</td>\n",
              "      <td>-0.113600</td>\n",
              "      <td>-0.051360</td>\n",
              "      <td>0.002281</td>\n",
              "    </tr>\n",
              "  </tbody>\n",
              "</table>\n",
              "</div>\n",
              "    <div class=\"colab-df-buttons\">\n",
              "\n",
              "  <div class=\"colab-df-container\">\n",
              "    <button class=\"colab-df-convert\" onclick=\"convertToInteractive('df-344da2e6-c0c0-4764-9d8e-db290540312d')\"\n",
              "            title=\"Convert this dataframe to an interactive table.\"\n",
              "            style=\"display:none;\">\n",
              "\n",
              "  <svg xmlns=\"http://www.w3.org/2000/svg\" height=\"24px\" viewBox=\"0 -960 960 960\">\n",
              "    <path d=\"M120-120v-720h720v720H120Zm60-500h600v-160H180v160Zm220 220h160v-160H400v160Zm0 220h160v-160H400v160ZM180-400h160v-160H180v160Zm440 0h160v-160H620v160ZM180-180h160v-160H180v160Zm440 0h160v-160H620v160Z\"/>\n",
              "  </svg>\n",
              "    </button>\n",
              "\n",
              "  <style>\n",
              "    .colab-df-container {\n",
              "      display:flex;\n",
              "      gap: 12px;\n",
              "    }\n",
              "\n",
              "    .colab-df-convert {\n",
              "      background-color: #E8F0FE;\n",
              "      border: none;\n",
              "      border-radius: 50%;\n",
              "      cursor: pointer;\n",
              "      display: none;\n",
              "      fill: #1967D2;\n",
              "      height: 32px;\n",
              "      padding: 0 0 0 0;\n",
              "      width: 32px;\n",
              "    }\n",
              "\n",
              "    .colab-df-convert:hover {\n",
              "      background-color: #E2EBFA;\n",
              "      box-shadow: 0px 1px 2px rgba(60, 64, 67, 0.3), 0px 1px 3px 1px rgba(60, 64, 67, 0.15);\n",
              "      fill: #174EA6;\n",
              "    }\n",
              "\n",
              "    .colab-df-buttons div {\n",
              "      margin-bottom: 4px;\n",
              "    }\n",
              "\n",
              "    [theme=dark] .colab-df-convert {\n",
              "      background-color: #3B4455;\n",
              "      fill: #D2E3FC;\n",
              "    }\n",
              "\n",
              "    [theme=dark] .colab-df-convert:hover {\n",
              "      background-color: #434B5C;\n",
              "      box-shadow: 0px 1px 3px 1px rgba(0, 0, 0, 0.15);\n",
              "      filter: drop-shadow(0px 1px 2px rgba(0, 0, 0, 0.3));\n",
              "      fill: #FFFFFF;\n",
              "    }\n",
              "  </style>\n",
              "\n",
              "    <script>\n",
              "      const buttonEl =\n",
              "        document.querySelector('#df-344da2e6-c0c0-4764-9d8e-db290540312d button.colab-df-convert');\n",
              "      buttonEl.style.display =\n",
              "        google.colab.kernel.accessAllowed ? 'block' : 'none';\n",
              "\n",
              "      async function convertToInteractive(key) {\n",
              "        const element = document.querySelector('#df-344da2e6-c0c0-4764-9d8e-db290540312d');\n",
              "        const dataTable =\n",
              "          await google.colab.kernel.invokeFunction('convertToInteractive',\n",
              "                                                    [key], {});\n",
              "        if (!dataTable) return;\n",
              "\n",
              "        const docLinkHtml = 'Like what you see? Visit the ' +\n",
              "          '<a target=\"_blank\" href=https://colab.research.google.com/notebooks/data_table.ipynb>data table notebook</a>'\n",
              "          + ' to learn more about interactive tables.';\n",
              "        element.innerHTML = '';\n",
              "        dataTable['output_type'] = 'display_data';\n",
              "        await google.colab.output.renderOutput(dataTable, element);\n",
              "        const docLink = document.createElement('div');\n",
              "        docLink.innerHTML = docLinkHtml;\n",
              "        element.appendChild(docLink);\n",
              "      }\n",
              "    </script>\n",
              "  </div>\n",
              "\n",
              "\n",
              "<div id=\"df-93fe2fa7-2eb9-4c73-a4ee-f7758f64694e\">\n",
              "  <button class=\"colab-df-quickchart\" onclick=\"quickchart('df-93fe2fa7-2eb9-4c73-a4ee-f7758f64694e')\"\n",
              "            title=\"Suggest charts\"\n",
              "            style=\"display:none;\">\n",
              "\n",
              "<svg xmlns=\"http://www.w3.org/2000/svg\" height=\"24px\"viewBox=\"0 0 24 24\"\n",
              "     width=\"24px\">\n",
              "    <g>\n",
              "        <path d=\"M19 3H5c-1.1 0-2 .9-2 2v14c0 1.1.9 2 2 2h14c1.1 0 2-.9 2-2V5c0-1.1-.9-2-2-2zM9 17H7v-7h2v7zm4 0h-2V7h2v10zm4 0h-2v-4h2v4z\"/>\n",
              "    </g>\n",
              "</svg>\n",
              "  </button>\n",
              "\n",
              "<style>\n",
              "  .colab-df-quickchart {\n",
              "      --bg-color: #E8F0FE;\n",
              "      --fill-color: #1967D2;\n",
              "      --hover-bg-color: #E2EBFA;\n",
              "      --hover-fill-color: #174EA6;\n",
              "      --disabled-fill-color: #AAA;\n",
              "      --disabled-bg-color: #DDD;\n",
              "  }\n",
              "\n",
              "  [theme=dark] .colab-df-quickchart {\n",
              "      --bg-color: #3B4455;\n",
              "      --fill-color: #D2E3FC;\n",
              "      --hover-bg-color: #434B5C;\n",
              "      --hover-fill-color: #FFFFFF;\n",
              "      --disabled-bg-color: #3B4455;\n",
              "      --disabled-fill-color: #666;\n",
              "  }\n",
              "\n",
              "  .colab-df-quickchart {\n",
              "    background-color: var(--bg-color);\n",
              "    border: none;\n",
              "    border-radius: 50%;\n",
              "    cursor: pointer;\n",
              "    display: none;\n",
              "    fill: var(--fill-color);\n",
              "    height: 32px;\n",
              "    padding: 0;\n",
              "    width: 32px;\n",
              "  }\n",
              "\n",
              "  .colab-df-quickchart:hover {\n",
              "    background-color: var(--hover-bg-color);\n",
              "    box-shadow: 0 1px 2px rgba(60, 64, 67, 0.3), 0 1px 3px 1px rgba(60, 64, 67, 0.15);\n",
              "    fill: var(--button-hover-fill-color);\n",
              "  }\n",
              "\n",
              "  .colab-df-quickchart-complete:disabled,\n",
              "  .colab-df-quickchart-complete:disabled:hover {\n",
              "    background-color: var(--disabled-bg-color);\n",
              "    fill: var(--disabled-fill-color);\n",
              "    box-shadow: none;\n",
              "  }\n",
              "\n",
              "  .colab-df-spinner {\n",
              "    border: 2px solid var(--fill-color);\n",
              "    border-color: transparent;\n",
              "    border-bottom-color: var(--fill-color);\n",
              "    animation:\n",
              "      spin 1s steps(1) infinite;\n",
              "  }\n",
              "\n",
              "  @keyframes spin {\n",
              "    0% {\n",
              "      border-color: transparent;\n",
              "      border-bottom-color: var(--fill-color);\n",
              "      border-left-color: var(--fill-color);\n",
              "    }\n",
              "    20% {\n",
              "      border-color: transparent;\n",
              "      border-left-color: var(--fill-color);\n",
              "      border-top-color: var(--fill-color);\n",
              "    }\n",
              "    30% {\n",
              "      border-color: transparent;\n",
              "      border-left-color: var(--fill-color);\n",
              "      border-top-color: var(--fill-color);\n",
              "      border-right-color: var(--fill-color);\n",
              "    }\n",
              "    40% {\n",
              "      border-color: transparent;\n",
              "      border-right-color: var(--fill-color);\n",
              "      border-top-color: var(--fill-color);\n",
              "    }\n",
              "    60% {\n",
              "      border-color: transparent;\n",
              "      border-right-color: var(--fill-color);\n",
              "    }\n",
              "    80% {\n",
              "      border-color: transparent;\n",
              "      border-right-color: var(--fill-color);\n",
              "      border-bottom-color: var(--fill-color);\n",
              "    }\n",
              "    90% {\n",
              "      border-color: transparent;\n",
              "      border-bottom-color: var(--fill-color);\n",
              "    }\n",
              "  }\n",
              "</style>\n",
              "\n",
              "  <script>\n",
              "    async function quickchart(key) {\n",
              "      const quickchartButtonEl =\n",
              "        document.querySelector('#' + key + ' button');\n",
              "      quickchartButtonEl.disabled = true;  // To prevent multiple clicks.\n",
              "      quickchartButtonEl.classList.add('colab-df-spinner');\n",
              "      try {\n",
              "        const charts = await google.colab.kernel.invokeFunction(\n",
              "            'suggestCharts', [key], {});\n",
              "      } catch (error) {\n",
              "        console.error('Error during call to suggestCharts:', error);\n",
              "      }\n",
              "      quickchartButtonEl.classList.remove('colab-df-spinner');\n",
              "      quickchartButtonEl.classList.add('colab-df-quickchart-complete');\n",
              "    }\n",
              "    (() => {\n",
              "      let quickchartButtonEl =\n",
              "        document.querySelector('#df-93fe2fa7-2eb9-4c73-a4ee-f7758f64694e button');\n",
              "      quickchartButtonEl.style.display =\n",
              "        google.colab.kernel.accessAllowed ? 'block' : 'none';\n",
              "    })();\n",
              "  </script>\n",
              "</div>\n",
              "    </div>\n",
              "  </div>\n"
            ],
            "application/vnd.google.colaboratory.intrinsic+json": {
              "type": "dataframe",
              "variable_name": "df_returns"
            }
          },
          "metadata": {},
          "execution_count": 17
        }
      ]
    },
    {
      "cell_type": "code",
      "source": [
        "file_path = '/content/drive/My Drive/Data Science Courses/Colab Notebooks/Machine Learning/Projects/HW3/listens.p'\n",
        "# Load the data from the pickle file\n",
        "with open(file_path, 'rb') as file:\n",
        "    X, y = pickle.load(file)"
      ],
      "metadata": {
        "id": "Ylxg8baRvDAQ"
      },
      "execution_count": 18,
      "outputs": []
    },
    {
      "cell_type": "markdown",
      "source": [
        "# Part A: Predicting Listening Behavior on a Music Streaming Platform"
      ],
      "metadata": {
        "id": "QNeDXalNpJ0E"
      }
    },
    {
      "cell_type": "markdown",
      "source": [
        "## A.1 Data Exploration"
      ],
      "metadata": {
        "id": "WQFt7rhRpRh8"
      }
    },
    {
      "cell_type": "markdown",
      "source": [
        "### A.1(a): How many users and songs are there in the data?"
      ],
      "metadata": {
        "id": "lNdkHZLypauZ"
      }
    },
    {
      "cell_type": "code",
      "source": [
        "# No. of Users and Songs\n",
        "num_users, num_songs = X.shape\n",
        "\n",
        "# Print Users + Song Count\n",
        "print(\"Number of users:\", num_users)\n",
        "print(\"Number of songs:\", num_songs)"
      ],
      "metadata": {
        "colab": {
          "base_uri": "https://localhost:8080/"
        },
        "id": "ZDrGI0f3piL4",
        "outputId": "3b639fba-7df8-44eb-e71d-f7c0fdd2799b"
      },
      "execution_count": 42,
      "outputs": [
        {
          "output_type": "stream",
          "name": "stdout",
          "text": [
            "Number of users: 1960\n",
            "Number of songs: 990\n"
          ]
        }
      ]
    },
    {
      "cell_type": "markdown",
      "source": [
        "### A.1(b): What is the maximum number of times that a user has listened to one song?"
      ],
      "metadata": {
        "id": "casXgNzypigw"
      }
    },
    {
      "cell_type": "code",
      "source": [
        "# Max Times One Song\n",
        "max_listens = np.max(X).astype(int)\n",
        "\n",
        "print(\"The maximum number of times that a single user has listened to one song is\", max_listens, \"times.\")"
      ],
      "metadata": {
        "id": "M9nGbu7rpnHy",
        "colab": {
          "base_uri": "https://localhost:8080/"
        },
        "outputId": "10ec7f44-1fc9-4b0a-a6eb-bbbf9dfecf14"
      },
      "execution_count": 43,
      "outputs": [
        {
          "output_type": "stream",
          "name": "stdout",
          "text": [
            "The maximum number of times that a single user has listened to one song is 214 times.\n"
          ]
        }
      ]
    },
    {
      "cell_type": "markdown",
      "source": [
        "### A.1(c): What percentage of users have listened to the special song?"
      ],
      "metadata": {
        "id": "cKsW1139pnU1"
      }
    },
    {
      "cell_type": "code",
      "source": [
        "# Percentage of Users Listening to Special Song\n",
        "percentage_listened = (np.sum(y) / len(y)) * 100\n",
        "\n",
        "# Round Result to Two Decimals\n",
        "percentage_listened_rounded = \"{:.2f}%\".format(percentage_listened)\n",
        "\n",
        "#Print Results\n",
        "print(\"Percentage of users who have listened to the special song:\", percentage_listened_rounded)"
      ],
      "metadata": {
        "id": "Eg1ZaYttpq5h",
        "colab": {
          "base_uri": "https://localhost:8080/"
        },
        "outputId": "deda6051-e080-436c-e1f5-9072e86f8f3d"
      },
      "execution_count": 44,
      "outputs": [
        {
          "output_type": "stream",
          "name": "stdout",
          "text": [
            "Percentage of users who have listened to the special song: 16.33%\n"
          ]
        }
      ]
    },
    {
      "cell_type": "markdown",
      "source": [
        "### A.1(d): Count the number of times each song has been listened to. What’s the smallest number? The largest number? The average?"
      ],
      "metadata": {
        "id": "ROKGxrfmprAR"
      }
    },
    {
      "cell_type": "code",
      "source": [
        "# Individual Song Listened to Count\n",
        "song_listen_counts = np.sum(X, axis=0)\n",
        "\n",
        "# Minimum Number of Listens\n",
        "min_listens = np.min(song_listen_counts).astype(int)\n",
        "\n",
        "# Largest Number of Listens\n",
        "max_listens = np.max(song_listen_counts).astype(int)\n",
        "\n",
        "# Average No. of Listens\n",
        "average_listens = np.mean(song_listen_counts)\n",
        "# Round to Two Decimal Places\n",
        "average_listens_rounded = \"{:.2f}\".format(average_listens)\n",
        "\n",
        "print(\"The smallest number of listens:\", min_listens)\n",
        "print(\"The largest number of listens:\", max_listens)\n",
        "print(\"The average number of listens:\", average_listens_rounded)"
      ],
      "metadata": {
        "id": "mvWAB2BKpyE5",
        "colab": {
          "base_uri": "https://localhost:8080/"
        },
        "outputId": "32554fe7-7258-4b1c-d2aa-1c305f7c6e4a"
      },
      "execution_count": 45,
      "outputs": [
        {
          "output_type": "stream",
          "name": "stdout",
          "text": [
            "The smallest number of listens: 6\n",
            "The largest number of listens: 688\n",
            "The average number of listens: 61.61\n"
          ]
        }
      ]
    },
    {
      "cell_type": "markdown",
      "source": [
        "### A.1(e): Count the number of users that have listened to each song. What’s the smallest number? The largest number? The average? Hint: Running X > 0 checks whether each entry is greater than 0."
      ],
      "metadata": {
        "id": "KyfHiqHCpyN2"
      }
    },
    {
      "cell_type": "code",
      "execution_count": 46,
      "metadata": {
        "id": "XgkUgrN6g8eA",
        "colab": {
          "base_uri": "https://localhost:8080/"
        },
        "outputId": "c2684f4b-c1e4-4814-bb70-5422c7b1f306"
      },
      "outputs": [
        {
          "output_type": "stream",
          "name": "stdout",
          "text": [
            "The smallest number of users: 6\n",
            "The largest number of users: 340\n",
            "The average number of users: 32.08\n"
          ]
        }
      ],
      "source": [
        "# Research\n",
        "# https://www.geeksforgeeks.org/python-boolean-array-in-numpy/\n",
        "\n",
        "# Listening Counts to Boolean Array Conversion\n",
        "listened_to_songs = X > 0\n",
        "\n",
        "# Number of Users for Each Song\n",
        "user_listen_counts = np.sum(listened_to_songs, axis=0)\n",
        "\n",
        "# Smallest No. of Users for Each Song\n",
        "min_listeners = np.min(user_listen_counts)\n",
        "\n",
        "# Largest No. of Users for Each Song\n",
        "max_listeners = np.max(user_listen_counts)\n",
        "\n",
        "# Average No. of Users for Each Song\n",
        "average_listeners = np.mean(user_listen_counts)\n",
        "average_listeners_rounded = \"{:.2f}\".format(average_listeners)\n",
        "\n",
        "print(\"The smallest number of users:\", min_listeners)\n",
        "print(\"The largest number of users:\", max_listeners)\n",
        "print(\"The average number of users:\", average_listeners_rounded)"
      ]
    },
    {
      "cell_type": "markdown",
      "source": [
        "### A.1(f): Count the total number of listens by each user. What’s the smallest number? The largest number? The average?"
      ],
      "metadata": {
        "id": "2NPUwVWhp4Sl"
      }
    },
    {
      "cell_type": "code",
      "source": [
        "# Total No. of Listens Per User\n",
        "total_listens_per_user = np.sum(X, axis=1)\n",
        "\n",
        "# Smallest No. of Listens by Each User\n",
        "min_listens_by_user = np.min(total_listens_per_user)\n",
        "\n",
        "# Largest No. of Listens by Each User\n",
        "max_listens_by_user = np.max(total_listens_per_user)\n",
        "\n",
        "# Average No. of Listens by Each User\n",
        "average_listens_by_user = np.mean(total_listens_per_user)\n",
        "average_listens_by_user_rounded = \"{:.2f}\".format(average_listens_by_user)\n",
        "\n",
        "print(\"The smallest number of listens:\", min_listens_by_user)\n",
        "print(\"The largest number of listens:\", max_listens_by_user)\n",
        "print(\"The average number of listens:\", average_listens_by_user_rounded)\n"
      ],
      "metadata": {
        "id": "n6CZZZ8lp9Du",
        "colab": {
          "base_uri": "https://localhost:8080/"
        },
        "outputId": "d4758149-59f9-4a51-fa4c-9c4e2bebf86e"
      },
      "execution_count": 47,
      "outputs": [
        {
          "output_type": "stream",
          "name": "stdout",
          "text": [
            "The smallest number of listens: 2.0\n",
            "The largest number of listens: 293.0\n",
            "The average number of listens: 31.12\n"
          ]
        }
      ]
    },
    {
      "cell_type": "markdown",
      "source": [
        "### A.1(g): Count the number of songs listened to by each user. What’s the smallest number? The largest number? The average?"
      ],
      "metadata": {
        "id": "6DEA5Uwmp9Ko"
      }
    },
    {
      "cell_type": "code",
      "source": [
        "# Boolean Array for Songs Listened to At Least Once\n",
        "songs_listened_by_user = X > 0\n",
        "\n",
        "# Count No. of Songs\n",
        "num_songs_per_user = np.sum(songs_listened_by_user, axis=1)\n",
        "\n",
        "# Smallest No. of Songs\n",
        "min_songs_by_user = np.min(num_songs_per_user)\n",
        "\n",
        "# Largest No. of Songs\n",
        "max_songs_by_user = np.max(num_songs_per_user)\n",
        "\n",
        "# Average No. of Songs\n",
        "average_songs_by_user = np.mean(num_songs_per_user)\n",
        "average_songs_by_user_rounded = \"{:.2f}\".format(average_songs_by_user)\n",
        "\n",
        "print(\"The smallest number of songs listened:\", min_songs_by_user)\n",
        "print(\"The largest number of songs listened:\", max_songs_by_user)\n",
        "print(\"The average number of songs listened:\", average_songs_by_user_rounded)\n"
      ],
      "metadata": {
        "id": "xtT-VUylqE99",
        "colab": {
          "base_uri": "https://localhost:8080/"
        },
        "outputId": "18fe0d6d-f145-4347-d79a-d68e0b8ee09d"
      },
      "execution_count": 48,
      "outputs": [
        {
          "output_type": "stream",
          "name": "stdout",
          "text": [
            "The smallest number of songs listened: 2\n",
            "The largest number of songs listened: 138\n",
            "The average number of songs listened: 16.20\n"
          ]
        }
      ]
    },
    {
      "cell_type": "markdown",
      "source": [
        "## A.2: Baseline (No data pre-processing)\n",
        "\n",
        "We will treat the first 1400 rows as the training set, and the remaining rows as the test set. For each of the algorithms below, report the out-of-sample AUC and best hyperparameters chosen post cross-validation (if any)."
      ],
      "metadata": {
        "id": "gmPKRmMbqFWn"
      }
    },
    {
      "cell_type": "markdown",
      "source": [
        "### A.2(a): Random Forest (using default parameters)"
      ],
      "metadata": {
        "id": "PQpGwCVhqx-A"
      }
    },
    {
      "cell_type": "code",
      "source": [
        "# Research\n",
        "# https://www.datacamp.com/tutorial/random-forests-classifier-python\n",
        "# https://www.geeksforgeeks.org/random-forest-classifier-using-scikit-learn/\n",
        "# https://builtin.com/data-science/random-forest-python-deep-dive\n",
        "# https://scikit-learn.org/stable/modules/generated/sklearn.ensemble.RandomForestClassifier.html\n",
        "# https://scikit-learn.org/stable/modules/generated/sklearn.metrics.roc_auc_score.html\n",
        "# https://stackoverflow.com/questions/64590557/how-to-get-the-predict-proba-for-the-class-predicted-by-predict-in-random-fo\n",
        "\n",
        "# Split Into Training and Testing Sets\n",
        "X_train = X[:1400]\n",
        "y_train = y[:1400]\n",
        "X_test = X[1400:]\n",
        "y_test = y[1400:]\n",
        "\n",
        "# Initialize Random Forest Classifier\n",
        "rf_classifier = RandomForestClassifier()\n",
        "\n",
        "# Train RF Classifier\n",
        "rf_classifier.fit(X_train, y_train)\n",
        "\n",
        "# Predict Probabilities\n",
        "y_probs = rf_classifier.predict_proba(X_test)[:, 1]  # Get the probabilities for the positive class\n",
        "\n",
        "# Calculate the AUC\n",
        "auc_score = roc_auc_score(y_test, y_probs)\n",
        "\n",
        "print(\"Out-of-sample AUC:\", auc_score)"
      ],
      "metadata": {
        "id": "9wpbTWamq6cq",
        "colab": {
          "base_uri": "https://localhost:8080/"
        },
        "outputId": "15bdb0f2-7bca-4f05-f441-1937df52981b"
      },
      "execution_count": 49,
      "outputs": [
        {
          "output_type": "stream",
          "name": "stdout",
          "text": [
            "Out-of-sample AUC: 0.7987018770457126\n"
          ]
        }
      ]
    },
    {
      "cell_type": "markdown",
      "source": [
        "### A.2(b): k-NN with both k and the distance function (try euclidean, manhattan, and hamming) selected via 5-fold CV using AUC as the scoring rule."
      ],
      "metadata": {
        "id": "73QxXLX4q6ks"
      }
    },
    {
      "cell_type": "code",
      "source": [
        "# Research\n",
        "# https://scikit-learn.org/stable/modules/generated/sklearn.neighbors.KNeighborsClassifier.html\n",
        "# https://www.tutorialspoint.com/scikit_learn/scikit_learn_kneighbors_classifier.htm\n",
        "# https://python-course.eu/machine-learning/k-nearest-neighbor-classifier-with-sklearn.php\n",
        "# https://www.w3schools.com/python/python_ml_cross_validation.asp\n",
        "\n",
        "# Define Model\n",
        "knn = KNeighborsClassifier()\n",
        "\n",
        "# Create Parameter Grid\n",
        "param_grid = {\n",
        "    'n_neighbors': range(1, 21),  # Trying Different k Values\n",
        "    'metric': ['euclidean', 'manhattan', 'hamming']\n",
        "}\n",
        "\n",
        "# 5-Fold Cross Validation\n",
        "grid_search = GridSearchCV(estimator=knn, param_grid=param_grid, cv=5, scoring='roc_auc')\n",
        "\n",
        "# Fit Grid Search\n",
        "grid_search.fit(X_train, y_train)\n",
        "\n",
        "# Print Best Parameters and Cross-Validation AUC\n",
        "print(\"Optimal Parameters:\", grid_search.best_params_)\n",
        "print(\"Optimal Cross-Validation AUC:\", grid_search.best_score_)\n",
        "\n",
        "# Predict Probabilities Based on Grid Search Results\n",
        "y_probs = grid_search.predict_proba(X_test)[:, 1]\n",
        "\n",
        "# Calculate AUC on Test Data\n",
        "test_auc = roc_auc_score(y_test, y_probs)\n",
        "print(\"Test AUC:\", test_auc)"
      ],
      "metadata": {
        "id": "exn3mdWirCTG",
        "colab": {
          "base_uri": "https://localhost:8080/"
        },
        "outputId": "bfacc42f-3b61-4a51-b594-05ff63af9c40"
      },
      "execution_count": 50,
      "outputs": [
        {
          "output_type": "stream",
          "name": "stdout",
          "text": [
            "Optimal Parameters: {'metric': 'manhattan', 'n_neighbors': 18}\n",
            "Optimal Cross-Validation AUC: 0.7487082053859913\n",
            "Test AUC: 0.7606488388145444\n"
          ]
        }
      ]
    },
    {
      "cell_type": "markdown",
      "source": [
        "## A.3 Column Normalization: Repeat part A.2(b) (just k-NN), this time pre-processing the data beforehand by normalizing the columns."
      ],
      "metadata": {
        "id": "KHwhU0rirCeN"
      }
    },
    {
      "cell_type": "code",
      "source": [
        "# Research\n",
        "# https://machinelearningmastery.com/standardscaler-and-minmaxscaler-transforms-in-python/\n",
        "# https://scikit-learn.org/stable/modules/generated/sklearn.preprocessing.MinMaxScaler.html\n",
        "# https://www.geeksforgeeks.org/data-pre-processing-wit-sklearn-using-standard-and-minmax-scaler/\n",
        "# https://stackoverflow.com/questions/50565937/how-to-normalize-the-train-and-test-data-using-minmaxscaler-sklearn\n",
        "\n",
        "# Normalize Columns via MinMaxScaler\n",
        "scaler = MinMaxScaler()\n",
        "X_train_scaled = scaler.fit_transform(X_train)\n",
        "X_test_scaled = scaler.transform(X_test)\n",
        "\n",
        "# Define Model\n",
        "knn = KNeighborsClassifier()\n",
        "\n",
        "# Create Parameter Grid\n",
        "param_grid = {\n",
        "    'n_neighbors': range(1, 21),  # Different Values for K\n",
        "    'metric': ['euclidean', 'manhattan', 'hamming']\n",
        "}\n",
        "\n",
        "# # 5-Fold Cross Validation\n",
        "grid_search = GridSearchCV(estimator=knn, param_grid=param_grid, cv=5, scoring='roc_auc')\n",
        "\n",
        "# Fit Grid Search on Normalized Data\n",
        "grid_search.fit(X_train_scaled, y_train)\n",
        "\n",
        "# Print Best Parameters and AUC\n",
        "print(\"Optimal Parameters:\", grid_search.best_params_)\n",
        "print(\"Optimal Cross-Validation AUC:\", grid_search.best_score_)\n",
        "\n",
        "# Predict Probabilities Based on Normalized Grid Search Results\n",
        "y_probs = grid_search.predict_proba(X_test_scaled)[:, 1]\n",
        "\n",
        "# Calculate AUC on Test Data\n",
        "test_auc = roc_auc_score(y_test, y_probs)\n",
        "print(\"Test AUC:\", test_auc)"
      ],
      "metadata": {
        "id": "k0rC1HOUrHyP",
        "colab": {
          "base_uri": "https://localhost:8080/"
        },
        "outputId": "7f08f49f-ab96-46a5-a51f-329a566dcf00"
      },
      "execution_count": 51,
      "outputs": [
        {
          "output_type": "stream",
          "name": "stdout",
          "text": [
            "Optimal Parameters: {'metric': 'manhattan', 'n_neighbors': 18}\n",
            "Optimal Cross-Validation AUC: 0.7257678980573858\n",
            "Test AUC: 0.7214824875865602\n"
          ]
        }
      ]
    },
    {
      "cell_type": "markdown",
      "source": [
        "## A.4 PCA: Repeat part A.2(b) (just k-NN),\n",
        "\n",
        "This time pre-processing the data beforehand by applying PCA with the number of components (in addition to kNN-related hyperparameters) selected via 5-fold CV and AUC for scoring. Please select appropriate ranges for all hyperparameters (the ones in the example below are only present to illustrate the correct syntax for using Pipeline).\n",
        "\n",
        "Hint: Use a nifty feature in sklearn called the Pipeline. Import it (by running from sklearn.pipeline import Pipeline, and then run the following line of code:\n",
        "pipe = Pipeline([(‘pca’,PCA()),(‘knn’,KNeighborsClassifier())])\n",
        "\n",
        "As you can see, we create a Pipeline by giving Pipeline() a list of tuples. Each tuple contains a name, and then either a pre-processing algorithm (like PCA) or a prediction algorithm (like KNeighborsClassifier or RandomForestClassifier). The names can be anything you like (we’ll see why we need names at all in a moment).\n",
        "\n",
        "This Pipeline, which we have called pipe (you can call it whatever you want), acts like any other prediction algorithm. It has all the functions we usually use (fit, predict, predict proba), but it represent the combination of PCA followed by k-NN. What’s extremely nice is that you can continue to use GridSearchCV, but now you can tune all of the parameters (e.g. n components for PCA and n neighbors for k-NN) simultaneously!\n",
        "\n",
        "**Example:**\n",
        "\n",
        "**gs = GridSearchCV(pipe,\n",
        "  param grid={‘knn n neighbors’:[1,2,3,4,5],\n",
        "    ‘pca n components’:[10,20,30]},\n",
        "  cv=5,\n",
        "  scoring=‘roc auc’)**\n",
        "\n",
        "This grid searcher will tune n components for PCA and n neighbors for k-NN simultaneously. The names of the parameters (which are needed in the param grid argument) are gotten by taking whatever you named each step, followed by two underscores ( ), followed by the name of the original parameter."
      ],
      "metadata": {
        "id": "lmU0o8zQrKHy"
      }
    },
    {
      "cell_type": "code",
      "source": [
        "# Research\n",
        "# https://scikit-learn.org/stable/modules/compose.html\n",
        "# https://scikit-learn.org/stable/modules/generated/sklearn.pipeline.Pipeline.html\n",
        "# https://scikit-learn.org/stable/auto_examples/compose/plot_digits_pipe.html#sphx-glr-auto-examples-compose-plot-digits-pipe-py\n",
        "# https://scikit-learn.org/stable/modules/compose.html\n",
        "\n",
        "# PCA + KNN Pipeline\n",
        "pipe = Pipeline([\n",
        "    ('pca', PCA()),\n",
        "    ('knn', KNeighborsClassifier())\n",
        "])\n",
        "\n",
        "# Parameter Grid\n",
        "param_grid = {\n",
        "    'pca__n_components': [10, 20, 30, 40, 50],\n",
        "    'knn__n_neighbors': range(1, 21),\n",
        "    'knn__metric': ['euclidean', 'manhattan', 'hamming']\n",
        "}\n",
        "\n",
        "# 5-Fold Cross Validation\n",
        "grid_search = GridSearchCV(pipe, param_grid=param_grid, cv=5, scoring='roc_auc')\n",
        "\n",
        "# Grid Search Fit\n",
        "grid_search.fit(X_train, y_train)\n",
        "\n",
        "# Best Parameters and Score\n",
        "print(\"Optimal Parameters:\", grid_search.best_params_)\n",
        "print(\"Optimal Cross-Validation AUC:\", grid_search.best_score_)\n",
        "\n",
        "# Predict Probabilities on Test Data\n",
        "y_probs = grid_search.predict_proba(X_test)[:, 1]\n",
        "\n",
        "# Find AUC on Test Data\n",
        "test_auc = roc_auc_score(y_test, y_probs)\n",
        "print(\"Test AUC:\", test_auc)"
      ],
      "metadata": {
        "id": "LGCyPjwnrubL",
        "colab": {
          "base_uri": "https://localhost:8080/"
        },
        "outputId": "7f8aacb0-bbe1-459c-8168-6c4b41ec03a8"
      },
      "execution_count": 75,
      "outputs": [
        {
          "output_type": "stream",
          "name": "stdout",
          "text": [
            "Optimal Parameters: {'knn__metric': 'manhattan', 'knn__n_neighbors': 20, 'pca__n_components': 50}\n",
            "Optimal Cross-Validation AUC: 0.7636965589905547\n",
            "Test AUC: 0.7518647992696667\n"
          ]
        }
      ]
    },
    {
      "cell_type": "markdown",
      "source": [
        "## A.5: PCA and Column Normalization\n",
        "\n",
        "Repeat part A.2(b) (just k-NN), this time preprocessing the data beforehand by applying PCA (with the number of components selected via 5-fold CV) followed by column normalization.\n",
        "\n",
        "Hint: Pipelines can have more than two steps, and StandardScaler() is a valid step."
      ],
      "metadata": {
        "id": "XogcA2gArut6"
      }
    },
    {
      "cell_type": "code",
      "source": [
        "# Research\n",
        "# https://stackoverflow.com/questions/51459406/how-to-apply-standardscaler-in-pipeline-in-scikit-learn-sklearn\n",
        "# https://www.digitalocean.com/community/tutorials/standardscaler-function-in-python\n",
        "# https://stackoverflow.com/questions/40758562/can-anyone-explain-me-standardscaler\n",
        "# https://stackoverflow.com/questions/73390492/what-is-the-correct-code-to-use-standardscaler-on-x-train-and-x-test-in-sklear\n",
        "# https://scikit-learn.org/0.24/modules/generated/sklearn.neighbors.DistanceMetric.html\n",
        "\n",
        "# Create a pipeline with PCA, normalization (StandardScaler), and k-NN\n",
        "pipe = Pipeline([\n",
        "    ('pca', PCA()),\n",
        "    ('scaler', StandardScaler()),\n",
        "    ('knn', KNeighborsClassifier())\n",
        "])\n",
        "\n",
        "# Parameter Grid\n",
        "param_grid = {\n",
        "    'pca__n_components': [10, 20, 30, 40, 50],\n",
        "    'knn__n_neighbors': range(1, 21),\n",
        "    'knn__metric': ['euclidean', 'manhattan', 'hamming']\n",
        "}\n",
        "\n",
        "# 5-Fold Cross-Validation\n",
        "grid_search = GridSearchCV(pipe, param_grid=param_grid, cv=5, scoring='roc_auc')\n",
        "\n",
        "# Grid Search Fit\n",
        "grid_search.fit(X_train, y_train)\n",
        "\n",
        "# Best Parameters and Score\n",
        "print(\"Optimal Parameters:\", grid_search.best_params_)\n",
        "print(\"Optimal Cross-Validation AUC:\", grid_search.best_score_)\n",
        "\n",
        "# Predict Probabilities\n",
        "y_probs = grid_search.predict_proba(X_test)[:, 1]\n",
        "\n",
        "# Calculate AUC on Test Data\n",
        "test_auc = roc_auc_score(y_test, y_probs)\n",
        "print(\"Test AUC:\", test_auc)"
      ],
      "metadata": {
        "id": "4qqTHSM0r2yC",
        "colab": {
          "base_uri": "https://localhost:8080/"
        },
        "outputId": "25dae513-befd-420e-f9dc-1b34ccf5dd97"
      },
      "execution_count": 53,
      "outputs": [
        {
          "output_type": "stream",
          "name": "stdout",
          "text": [
            "Optimal Parameters: {'knn__metric': 'manhattan', 'knn__n_neighbors': 20, 'pca__n_components': 50}\n",
            "Optimal Cross-Validation AUC: 0.7495070539509776\n",
            "Test AUC: 0.7347309122486696\n"
          ]
        }
      ]
    },
    {
      "cell_type": "markdown",
      "source": [
        "# Part B: Clustering Stock Returns\n",
        "\n",
        "When building portfolios of stocks, investors seek to obtain high returns while limiting their risk (i.e. variability in returns). This can be achieved by diversification – selecting stocks that show different patterns of returns. To support these decisions, we will identify clusters of stocks that exhibit similar patters.\n",
        "\n",
        "The dataset returns.csv contains monthly returns for some S&P500 stocks from March 2006 through February 2016. Each observation (row) corresponds to a company. The variables in the dataset are described below.\n",
        "\n",
        "| Variable   | Description |\n",
        "|------------|-------------|\n",
        "| `symbol`   | The company’s ticker symbol. |\n",
        "| `Industry` | The industry sector under which the stock is classified. |\n",
        "| `avg200603` - `avg201602` | The return for the stock during the variable’s indicated month. The variable names have the format `avgYYYYMM`, where `YYYY` is the year and `MM` is the month. For instance, the variable `avg200902` refers to February 2009. The value stored is a net increase or decrease of the end of month stock price over the stock price at the beginning of the month. For instance, a value of `0.05` means the stock had a net increase on average of 5% during the month, while a value of `-0.02` means the stock had a net decrease on average of 2% during the month. There are 120 of these variables, for the 120 months in our dataset. |\n"
      ],
      "metadata": {
        "id": "VpcLh9T7r3OZ"
      }
    },
    {
      "cell_type": "markdown",
      "source": [
        "## B.1 Data Exploration"
      ],
      "metadata": {
        "id": "DROgSF-EsgaF"
      }
    },
    {
      "cell_type": "markdown",
      "source": [
        "### B.1(a): How many companies are there in the Consumer Discretionary sector? In the Energy sector?"
      ],
      "metadata": {
        "id": "Ak88rp1ltDJE"
      }
    },
    {
      "cell_type": "code",
      "source": [
        "# Count Companies in Consumer Discretionary Sector\n",
        "consumer_count = df_returns[df_returns['Industry'] == 'Consumer Discretionary'].shape[0]\n",
        "\n",
        "# Count Companies in Energy sector\n",
        "energy_count = df_returns[df_returns['Industry'] == 'Energy'].shape[0]\n",
        "\n",
        "# Print Results\n",
        "print(\"Number of companies in the Consumer Discretionary sector:\", consumer_count)\n",
        "print(\"Number of companies in the Energy sector:\", energy_count)"
      ],
      "metadata": {
        "colab": {
          "base_uri": "https://localhost:8080/"
        },
        "id": "7p2qVDw6tYj3",
        "outputId": "9e66ea98-681e-432d-b8cd-a5e6ce941a92"
      },
      "execution_count": 68,
      "outputs": [
        {
          "output_type": "stream",
          "name": "stdout",
          "text": [
            "Number of companies in the Consumer Discretionary sector: 69\n",
            "Number of companies in the Energy sector: 38\n"
          ]
        }
      ]
    },
    {
      "cell_type": "markdown",
      "source": [
        "### B.1(b): Entering the “Great Recession” of 2008-2009, most stocks lost significant value, but some sectors were hit harder than others. Select a few sectors and plot the average stock return between 01/2008 and 12/2010. In your opinion, is industry information sufficient for investors to build a portfolio diversification strategy?"
      ],
      "metadata": {
        "id": "cPYnZ3-YtYsJ"
      }
    },
    {
      "cell_type": "code",
      "source": [
        "# Print Unique Industry Sectors\n",
        "print(\"Unique Industry Sectors:\", df_returns['Industry'].unique())\n",
        "\n",
        "# Define Timeframe for Analysis\n",
        "start_date = '200801'\n",
        "end_date = '201012'\n",
        "sectors = ['Financials', 'Information Technology', 'Health Care'] # Sectors Chosen\n",
        "\n",
        "# Filter on Correct Timeframe and Calculate Results\n",
        "date_columns = [col for col in df_returns.columns if start_date <= col[-6:] <= end_date]\n",
        "df_returns['Avg_Return'] = df_returns[date_columns].mean(axis=1)\n",
        "\n",
        "# Group by Sector and Calc AVG Rate of Return\n",
        "sector_avg_returns = df_returns[df_returns['Industry'].isin(sectors)].groupby('Industry')['Avg_Return'].mean()\n",
        "\n",
        "# Plot Results\n",
        "plt.figure(figsize=(10, 6))\n",
        "sector_avg_returns.plot(kind='bar', color=['grey', 'blue', 'green'])\n",
        "plt.title('Average Stock Returns by Sector (JAN 2008 -  DEC 2010)')\n",
        "plt.xlabel('Sector')\n",
        "plt.ylabel('Average Return')\n",
        "plt.grid(True)\n",
        "plt.show()"
      ],
      "metadata": {
        "colab": {
          "base_uri": "https://localhost:8080/",
          "height": 767
        },
        "id": "K-uTm0N9tei_",
        "outputId": "8d82a87d-f0ee-4d64-e30d-0226d7dc98d4"
      },
      "execution_count": 69,
      "outputs": [
        {
          "output_type": "stream",
          "name": "stdout",
          "text": [
            "Unique Industry Sectors: ['Health Care' 'Materials' 'Information Technology' 'Consumer Staples'\n",
            " 'Utilities' 'Financials' 'Consumer Discretionary' 'Energy' 'Industrials'\n",
            " 'Telecommunications Services']\n"
          ]
        },
        {
          "output_type": "display_data",
          "data": {
            "text/plain": [
              "<Figure size 1000x600 with 1 Axes>"
            ],
            "image/png": "[encoded data removed]"
          },
          "metadata": {}
        }
      ]
    },
    {
      "cell_type": "markdown",
      "source": [
        "#### There is quite a bit of variation between industries, suggesting that it can be used to build a portfolio-diversification strategy. However, this doesn't account for correlation within industries. For example, during an industry-wide downturn in technology, this downturn could also impact health care and/or financials, and as a consequence, make diversification irrelevant."
      ],
      "metadata": {
        "id": "-3AVmihHS_1b"
      }
    },
    {
      "cell_type": "markdown",
      "source": [
        "## B.2 k-Means Clustering"
      ],
      "metadata": {
        "id": "tX6Avk3ntewy"
      }
    },
    {
      "cell_type": "markdown",
      "source": [
        "### B.2(a): Cluster the stocks into 4 clusters according to their monthly returns. Do not normalize the data beforehand. Plot the centroids of the 4 clusters (each centroid is a time series, so it can be plotted with time on the horizontal axis, and return on the vertical axis)."
      ],
      "metadata": {
        "id": "Od1zmoSDtkda"
      }
    },
    {
      "cell_type": "code",
      "source": [
        "# Research\n",
        "# https://medium.com/analytics-vidhya/implementation-of-principal-component-analysis-pca-in-k-means-clustering-b4bc0aa79cb6\n",
        "# https://scikit-learn.org/stable/modules/generated/sklearn.decomposition.PCA.html\n",
        "# https://www.kdnuggets.com/2023/05/principal-component-analysis-pca-scikitlearn.html\n",
        "# https://stackoverflow.com/questions/52290175/what-does-fit-transform-and-fit-transform-do-in-pca-available-in-sklearn-decom\n",
        "\n",
        "# Select Average Columns\n",
        "return_columns = [col for col in df_returns.columns if col.startswith('avg')]\n",
        "\n",
        "# Execute k-means Clustering\n",
        "kmeans = KMeans(n_clusters=4, random_state=42)\n",
        "df_returns['cluster'] = kmeans.fit_predict(df_returns[return_columns])\n",
        "\n",
        "# Print Companies in Each Cluster\n",
        "print(df_returns['cluster'].value_counts().sort_index())\n",
        "\n",
        "# Reduce Dimensionality to 2D Using Principal Component Analysis (PCA)\n",
        "pca = PCA(n_components=2)\n",
        "reduced_data = pca.fit_transform(df_returns[return_columns])\n",
        "\n",
        "# Create New DataFrame on Reduced Dimensionality\n",
        "df_reduced = pd.DataFrame(reduced_data, columns=['PC1', 'PC2'])\n",
        "df_reduced['cluster'] = df_returns['cluster']\n",
        "\n",
        "# Secure Centroids and Transform via PCA\n",
        "centroids_reduced = pca.transform(kmeans.cluster_centers_)\n",
        "\n",
        "# Plot Results\n",
        "plt.figure(figsize=(10, 8))\n",
        "colors = ['orange', 'blue', 'green', 'red']\n",
        "for i in range(4):\n",
        "    # Plot data points that are in the cluster i\n",
        "    plt.scatter(df_reduced[df_reduced['cluster'] == i]['PC1'],\n",
        "                df_reduced[df_reduced['cluster'] == i]['PC2'],\n",
        "                s=30, c=colors[i], label=f'Cluster {i}')\n",
        "\n",
        "    # Plot the centroid for cluster i\n",
        "    plt.scatter(centroids_reduced[i, 0], centroids_reduced[i, 1],\n",
        "                s=100, c=colors[i], marker='x')\n",
        "\n",
        "plt.title('Stock Returns Clustering')\n",
        "plt.xlabel('Principal Component 1')\n",
        "plt.ylabel('Principal Component 2')\n",
        "plt.legend()\n",
        "plt.grid(True)\n",
        "plt.show()"
      ],
      "metadata": {
        "colab": {
          "base_uri": "https://localhost:8080/",
          "height": 825
        },
        "id": "BJMUZt-gWMS5",
        "outputId": "4be63a17-9a44-4214-b75c-41aea9b8d374"
      },
      "execution_count": 70,
      "outputs": [
        {
          "output_type": "stream",
          "name": "stdout",
          "text": [
            "cluster\n",
            "0    166\n",
            "1     52\n",
            "2     45\n",
            "3    170\n",
            "Name: count, dtype: int64\n"
          ]
        },
        {
          "output_type": "display_data",
          "data": {
            "text/plain": [
              "<Figure size 1000x800 with 1 Axes>"
            ],
            "image/png": "[encoded data removed]"
          },
          "metadata": {}
        }
      ]
    },
    {
      "cell_type": "markdown",
      "source": [
        "### B.2(b): Try multiple values of k and plot a Scree plot."
      ],
      "metadata": {
        "id": "ICb5fuc7tpBT"
      }
    },
    {
      "cell_type": "code",
      "source": [
        "# Research\n",
        "# https://scikit-learn.org/stable/modules/generated/sklearn.cluster.KMeans.html\n",
        "# https://realpython.com/k-means-clustering-python/\n",
        "# https://www.datacamp.com/tutorial/k-means-clustering-python\n",
        "# https://medium.com/analytics-vidhya/implementation-of-principal-component-analysis-pca-in-k-means-clustering-b4bc0aa79cb6\n",
        "\n",
        "# Calculate Cluster Inertia Based on k Sampling 1-10\n",
        "inertia = []\n",
        "k_values = range(1, 11)\n",
        "\n",
        "# Append Results\n",
        "for k in k_values:\n",
        "    kmeans = KMeans(n_clusters=k, n_init=10, random_state=42)\n",
        "    kmeans.fit(df_returns[return_columns])\n",
        "    inertia.append(kmeans.inertia_)\n",
        "\n",
        "# Plot the Scree Plot\n",
        "plt.figure(figsize=(10, 6))\n",
        "plt.plot(k_values, inertia, marker='o')\n",
        "plt.title('Scree Plot')\n",
        "plt.xlabel('Number of Clusters')\n",
        "plt.ylabel('Inertia')\n",
        "plt.xticks(k_values)\n",
        "plt.grid(True)\n",
        "plt.show()"
      ],
      "metadata": {
        "colab": {
          "base_uri": "https://localhost:8080/",
          "height": 564
        },
        "id": "Qui8blO8tt5D",
        "outputId": "7dcb7c38-2116-4fb9-c5cd-6ab38a88244b"
      },
      "execution_count": 71,
      "outputs": [
        {
          "output_type": "display_data",
          "data": {
            "text/plain": [
              "<Figure size 1000x600 with 1 Axes>"
            ],
            "image/png": "[encoded data removed]"
          },
          "metadata": {}
        }
      ]
    },
    {
      "cell_type": "markdown",
      "source": [
        "### B.2(c): What do you think is a reasonable number of clusters?"
      ],
      "metadata": {
        "id": "QhLSmACOtuBN"
      }
    },
    {
      "cell_type": "markdown",
      "source": [
        "Based on the above, it could be argued that k=3 or k=4 are both reasonable. I would argue that a bit more precision could be useful here and side with 4 clusters."
      ],
      "metadata": {
        "id": "OmYgIzr3ZVXH"
      }
    },
    {
      "cell_type": "markdown",
      "source": [
        "### B.2(d): For your chosen number of clusters, compute the number of companies in each cluster and the number of companies per industry sector in each cluster."
      ],
      "metadata": {
        "id": "jbJEOVgctxTe"
      }
    },
    {
      "cell_type": "code",
      "source": [
        "# K-means Clustering Using 4 Clusters\n",
        "kmeans = KMeans(n_clusters=4, n_init=10, random_state=42)\n",
        "clusters = kmeans.fit_predict(df_returns[return_columns])\n",
        "\n",
        "# Add Assignments to DataFrame\n",
        "df_returns['cluster'] = clusters\n",
        "\n",
        "# Compute No. of Companies by Cluster\n",
        "co_counts_per_cluster = df_returns['cluster'].value_counts().sort_index()\n",
        "\n",
        "# No. of Companies by Industry\n",
        "ind_counts_per_cluster = df_returns.groupby(['cluster', 'Industry']).size().unstack(fill_value=0)\n",
        "\n",
        "# Print Results\n",
        "print(\"Number of companies in each cluster:\")\n",
        "print(co_counts_per_cluster)\n",
        "print(\"\\nNumber of companies per industry sector in each cluster:\")\n",
        "print(ind_counts_per_cluster)"
      ],
      "metadata": {
        "colab": {
          "base_uri": "https://localhost:8080/"
        },
        "id": "e0j-Y-Jat2IS",
        "outputId": "df0e181b-e537-472e-e176-a1d8c9003377"
      },
      "execution_count": 72,
      "outputs": [
        {
          "output_type": "stream",
          "name": "stdout",
          "text": [
            "Number of companies in each cluster:\n",
            "cluster\n",
            "0    166\n",
            "1     52\n",
            "2     45\n",
            "3    170\n",
            "Name: count, dtype: int64\n",
            "\n",
            "Number of companies per industry sector in each cluster:\n",
            "Industry  Consumer Discretionary  Consumer Staples  Energy  Financials  Health Care  Industrials  \\\n",
            "cluster                                                                                            \n",
            "0                             41                 5       2          24            8           34   \n",
            "1                             13                 0       0          31            1            3   \n",
            "2                              0                 0      33           0            0            3   \n",
            "3                             15                27       3          23           35           15   \n",
            "\n",
            "Industry  Information Technology  Materials  Telecommunications Services  Utilities  \n",
            "cluster                                                                              \n",
            "0                             43          9                            0          0  \n",
            "1                              0          4                            0          0  \n",
            "2                              0          7                            1          1  \n",
            "3                             13          8                            4         27  \n"
          ]
        }
      ]
    },
    {
      "cell_type": "markdown",
      "source": [
        "| Cluster | Consumer Discretionary | Consumer Staples | Energy | Financials | Health Care | Industrials | Information Technology | Materials | Telecommunications Services | Utilities |\n",
        "|---------|------------------------|------------------|--------|------------|-------------|-------------|------------------------|-----------|------------------------------|-----------|\n",
        "| 0       | 41                     | 5                | 2      | 24         | 8           | 34          | 43                     | 9         | 0                            | 0         |\n",
        "| 1       | 13                     | 0                | 0      | 31         | 1           | 3           | 0                      | 4         | 0                            | 0         |\n",
        "| 2       | 0                      | 0                | 33     | 0          | 0           | 3           | 0                      | 7         | 1                            | 0         |\n",
        "| 3       | 15                     | 27               | 3      | 23         | 35          | 15          | 13                     | 8         | 4                            | 27        |"
      ],
      "metadata": {
        "id": "NGynRUeK9jYg"
      }
    },
    {
      "cell_type": "markdown",
      "source": [
        "### B.2(e): What was the average return for the worst cluster (as measured by returns) in October 2008? And the average return for the best cluster in March 2009?"
      ],
      "metadata": {
        "id": "Ep0nnP82t2VQ"
      }
    },
    {
      "cell_type": "code",
      "source": [
        "# Research\n",
        "# https://www.w3schools.com/python/pandas/ref_df_idxmin.asp\n",
        "\n",
        "# Calculate October Average Return by Cluster\n",
        "october_returns = df_returns.groupby('cluster')['avg200810'].mean()\n",
        "\n",
        "# Identify Worst Cluster\n",
        "worst_cluster_oct_2008 = october_returns.idxmin()\n",
        "worst_cluster_return_oct_2008 = october_returns.min()\n",
        "\n",
        "# Calculate Average Cluster\n",
        "march_returns = df_returns.groupby('cluster')['avg200903'].mean()\n",
        "\n",
        "# Identify Best CLuster in March 2009\n",
        "best_cluster_mar_2009 = march_returns.idxmax()\n",
        "best_cluster_return_mar_2009 = march_returns.max()\n",
        "\n",
        "# Print Results\n",
        "print(f\"The worst cluster in October 2008 was Cluster {worst_cluster_oct_2008} with an average return of {worst_cluster_return_oct_2008:.2f}.\")\n",
        "print(f\"The best cluster in March 2009 was Cluster {best_cluster_mar_2009} with an average return of {best_cluster_return_mar_2009:.2f}.\")"
      ],
      "metadata": {
        "colab": {
          "base_uri": "https://localhost:8080/"
        },
        "id": "5SjPEOGit8cF",
        "outputId": "d30f2740-44b3-48b8-eaab-a3e69f10dd93"
      },
      "execution_count": 73,
      "outputs": [
        {
          "output_type": "stream",
          "name": "stdout",
          "text": [
            "The worst cluster in October 2008 was Cluster 1 with an average return of -0.32.\n",
            "The best cluster in March 2009 was Cluster 1 with an average return of 0.24.\n"
          ]
        }
      ]
    },
    {
      "cell_type": "markdown",
      "source": [
        "## B.3 Spectral Clustering"
      ],
      "metadata": {
        "id": "A4cKizjLt8k9"
      }
    },
    {
      "cell_type": "markdown",
      "source": [
        "### B.3(a): Spectral clustering will require us to input similarities for each pair of stocks. The most natural notion of similarity in this context is probably correlation (the same correlation from your statistics course). Why will correlations not work directly as the similarities for spectral clustering?"
      ],
      "metadata": {
        "id": "4dcbvbhut_d7"
      }
    },
    {
      "cell_type": "markdown",
      "source": [
        "#### Correlations cannot be used directly as similarities for spectral clustering because they can include negative values, which imply dissimilarity, and they only capture linear relationships, whereas spectral clustering is capable of identifying complex non-linear structures."
      ],
      "metadata": {
        "id": "yxssCUdqceLK"
      }
    },
    {
      "cell_type": "markdown",
      "source": [
        "### B.3(b): Propose a modification to correlation so that it can be used as the similarities for spectral clustering (there are many correct answers)."
      ],
      "metadata": {
        "id": "PHP0XMJGuUop"
      }
    },
    {
      "cell_type": "markdown",
      "source": [
        "#### I was considering exponential transformation (e.g., exp(-1 * (1 - correlation) / (2 * sigma^2)), ) but decised to go with taking the absolute value of the correlation coefficients. This approach should make all negative values positive while still ensuring the strength of the relationship remains in tact."
      ],
      "metadata": {
        "id": "6mJDJpRLeCY_"
      }
    },
    {
      "cell_type": "markdown",
      "source": [
        "### B.3(c): Run spectral clustering using your similarity from (b). Use the same number of clusters you chose in B.2c.\n",
        "\n",
        "Hint: The correlations of the columns of a pandas DataFrame df can be computed\n",
        "with df.corr(). Or if you prefer numpy arrays, the correlations of the columns of a 2-D numpy array X can be computed with np.corrcoef(X, rowvar=False). (Setting the argument rowvar to True will compute the correlations of the rows of X)."
      ],
      "metadata": {
        "id": "HVwavE30uYDe"
      }
    },
    {
      "cell_type": "code",
      "source": [
        "# Filter on Average Columns\n",
        "return_columns = [col for col in df_returns.columns if col.startswith('avg')]\n",
        "\n",
        "# Compute Corr Matrix\n",
        "correlation_matrix = df_returns[return_columns].transpose().corr()\n",
        "\n",
        "# Use ABS Value from Corr Matrix\n",
        "similarity_matrix = np.abs(correlation_matrix)\n",
        "\n",
        "# Spectral Clustering\n",
        "n_clusters = 4\n",
        "spectral_cluster = SpectralClustering(n_clusters=n_clusters, affinity='precomputed', random_state=42)\n",
        "clusters = spectral_cluster.fit_predict(similarity_matrix)\n",
        "\n",
        "# Apply PCA to Corr Matrix\n",
        "pca = PCA(n_components=2)\n",
        "reduced_data = pca.fit_transform(correlation_matrix)\n",
        "\n",
        "# Plot Results\n",
        "plt.figure(figsize=(10, 8))\n",
        "colors = ['r', 'g', 'b', 'y']\n",
        "\n",
        "for i in range(n_clusters):\n",
        "    cluster_data = reduced_data[clusters == i]\n",
        "    plt.scatter(cluster_data[:, 0], cluster_data[:, 1], s=50, c=colors[i], label=f'Cluster {i}')\n",
        "\n",
        "plt.title('Results of Spectral Clustering')\n",
        "plt.xlabel('Principal Component 1')\n",
        "plt.ylabel('Principal Component 2')\n",
        "plt.legend()\n",
        "plt.grid(True)\n",
        "plt.show()\n",
        "\n",
        "# Print No. of Companies by Cluster\n",
        "print(\"Number of companies in each cluster:\")\n",
        "for i in range(n_clusters):\n",
        "    print(f\"Cluster {i}: {sum(clusters == i)}\")"
      ],
      "metadata": {
        "colab": {
          "base_uri": "https://localhost:8080/",
          "height": 807
        },
        "id": "Oz-X9MOoudCF",
        "outputId": "dd99051c-b4de-45ec-b036-47c02a2606b6"
      },
      "execution_count": 74,
      "outputs": [
        {
          "output_type": "display_data",
          "data": {
            "text/plain": [
              "<Figure size 1000x800 with 1 Axes>"
            ],
            "image/png": "[encoded data removed]"
          },
          "metadata": {}
        },
        {
          "output_type": "stream",
          "name": "stdout",
          "text": [
            "Number of companies in each cluster:\n",
            "Cluster 0: 141\n",
            "Cluster 1: 55\n",
            "Cluster 2: 209\n",
            "Cluster 3: 28\n"
          ]
        }
      ]
    },
    {
      "cell_type": "markdown",
      "source": [
        "### B.3(d): In what ways are the clusters similar vs. different across this model and your model from B.2?"
      ],
      "metadata": {
        "id": "K-e1lqMaudcr"
      }
    },
    {
      "cell_type": "markdown",
      "source": [
        "#### **Similarities:**\n",
        "\n",
        "*   The general groupings are roughly equivalent.\n",
        "*   Spectral Cluster 1 is roughly equivalent to cluster 2 in the k-means version.\n",
        "\n",
        "**Differences:**\n",
        "\n",
        "*   K-means has distinct clusters and can easily be delineated whereas spectral clustering has significant more overlap. This is due to spectral clustering excelling at detecting clusters with complex shapes in high-dimensional spaces.\n",
        "*   K-means cluster 1 and the spectral clustering equivalent cluster 3 have different assignments where it appears spectral clustering assigned less - 52 companies vs 28."
      ],
      "metadata": {
        "id": "wYZNEDwOkKgo"
      }
    }
  ]
}