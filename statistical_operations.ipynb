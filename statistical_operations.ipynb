{
  "nbformat": 4,
  "nbformat_minor": 0,
  "metadata": {
    "colab": {
      "provenance": [],
      "authorship_tag": "ABX9TyOmpjrlOsKOIOa4tvW6GLY8",
      "include_colab_link": true
    },
    "kernelspec": {
      "name": "python3",
      "display_name": "Python 3"
    },
    "language_info": {
      "name": "python"
    }
  },
  "cells": [
    {
      "cell_type": "markdown",
      "metadata": {
        "id": "view-in-github",
        "colab_type": "text"
      },
      "source": [
        "<a href=\"https://colab.research.google.com/github/jasondupree/jasondupree.github.io/blob/main/statistical_operations.ipynb\" target=\"_parent\"><img src=\"https://colab.research.google.com/assets/colab-badge.svg\" alt=\"Open In Colab\"/></a>"
      ]
    },
    {
      "cell_type": "code",
      "execution_count": 13,
      "metadata": {
        "id": "QNuDaDegRg34"
      },
      "outputs": [],
      "source": [
        "import pandas as pd\n",
        "import numpy as np\n",
        "from fractions import Fraction"
      ]
    },
    {
      "cell_type": "markdown",
      "source": [
        "# ***Conversions***"
      ],
      "metadata": {
        "id": "v-ZHHwx7VD_r"
      }
    },
    {
      "cell_type": "markdown",
      "source": [
        "Convert Decimal to Fraction"
      ],
      "metadata": {
        "id": "Nlyx84TbTyG_"
      }
    },
    {
      "cell_type": "code",
      "source": [
        "x = 0.25\n",
        "print(Fraction(x))"
      ],
      "metadata": {
        "colab": {
          "base_uri": "https://localhost:8080/"
        },
        "id": "z6Hbl9Q5RrXZ",
        "outputId": "c82ac3fd-5c7d-46eb-8d7f-dd805cb4a715"
      },
      "execution_count": 16,
      "outputs": [
        {
          "output_type": "stream",
          "name": "stdout",
          "text": [
            "1/4\n"
          ]
        }
      ]
    },
    {
      "cell_type": "markdown",
      "source": [
        "Convert Fraction to Decimal"
      ],
      "metadata": {
        "id": "SUd8NmsyUWvG"
      }
    },
    {
      "cell_type": "code",
      "source": [
        "print(float(x))"
      ],
      "metadata": {
        "colab": {
          "base_uri": "https://localhost:8080/"
        },
        "id": "tiP20QsGUaXq",
        "outputId": "36e938d9-72cc-4ec0-cdd9-5e028ffb0182"
      },
      "execution_count": 17,
      "outputs": [
        {
          "output_type": "stream",
          "name": "stdout",
          "text": [
            "0.25\n"
          ]
        }
      ]
    },
    {
      "cell_type": "markdown",
      "source": [
        "# ***Calculations***"
      ],
      "metadata": {
        "id": "QVVzYi7TU0oo"
      }
    },
    {
      "cell_type": "code",
      "source": [],
      "metadata": {
        "id": "xJb6sxZQU3gU"
      },
      "execution_count": null,
      "outputs": []
    }
  ]
}