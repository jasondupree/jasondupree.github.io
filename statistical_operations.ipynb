{
  "nbformat": 4,
  "nbformat_minor": 0,
  "metadata": {
    "colab": {
      "provenance": [],
      "authorship_tag": "ABX9TyNEkJC8GUffRyXs4ixPKE03",
      "include_colab_link": true
    },
    "kernelspec": {
      "name": "python3",
      "display_name": "Python 3"
    },
    "language_info": {
      "name": "python"
    }
  },
  "cells": [
    {
      "cell_type": "markdown",
      "metadata": {
        "id": "view-in-github",
        "colab_type": "text"
      },
      "source": [
        "<a href=\"https://colab.research.google.com/github/jasondupree/jasondupree.github.io/blob/main/statistical_operations.ipynb\" target=\"_parent\"><img src=\"https://colab.research.google.com/assets/colab-badge.svg\" alt=\"Open In Colab\"/></a>"
      ]
    },
    {
      "cell_type": "code",
      "execution_count": 13,
      "metadata": {
        "id": "QNuDaDegRg34"
      },
      "outputs": [],
      "source": [
        "import pandas as pd\n",
        "import numpy as np\n",
        "from fractions import Fraction"
      ]
    },
    {
      "cell_type": "markdown",
      "source": [
        "# ***Conversions***"
      ],
      "metadata": {
        "id": "v-ZHHwx7VD_r"
      }
    },
    {
      "cell_type": "markdown",
      "source": [
        "Convert Decimal to Fraction"
      ],
      "metadata": {
        "id": "Nlyx84TbTyG_"
      }
    },
    {
      "cell_type": "code",
      "source": [
        "x = 0.25\n",
        "print(Fraction(x))"
      ],
      "metadata": {
        "colab": {
          "base_uri": "https://localhost:8080/"
        },
        "id": "z6Hbl9Q5RrXZ",
        "outputId": "c82ac3fd-5c7d-46eb-8d7f-dd805cb4a715"
      },
      "execution_count": 16,
      "outputs": [
        {
          "output_type": "stream",
          "name": "stdout",
          "text": [
            "1/4\n"
          ]
        }
      ]
    },
    {
      "cell_type": "markdown",
      "source": [
        "Convert Fraction to Decimal"
      ],
      "metadata": {
        "id": "SUd8NmsyUWvG"
      }
    },
    {
      "cell_type": "code",
      "source": [
        "print(float(x))"
      ],
      "metadata": {
        "colab": {
          "base_uri": "https://localhost:8080/"
        },
        "id": "tiP20QsGUaXq",
        "outputId": "36e938d9-72cc-4ec0-cdd9-5e028ffb0182"
      },
      "execution_count": 17,
      "outputs": [
        {
          "output_type": "stream",
          "name": "stdout",
          "text": [
            "0.25\n"
          ]
        }
      ]
    },
    {
      "cell_type": "markdown",
      "source": [
        "# ***Calculations***"
      ],
      "metadata": {
        "id": "QVVzYi7TU0oo"
      }
    },
    {
      "cell_type": "markdown",
      "source": [
        "Set Variables"
      ],
      "metadata": {
        "id": "pHMSVXjIVun0"
      }
    },
    {
      "cell_type": "markdown",
      "source": [
        "Conditional Probability\n",
        "#### Problem 2.1 - Education vs Salary"
      ],
      "metadata": {
        "id": "1zp77ImaVzhD"
      }
    },
    {
      "cell_type": "code",
      "source": [
        "# Probabilities\n",
        "A = .90 # HS Education\n",
        "B = .35 # 4-Year College\n",
        "C = .13 # Masters+\n",
        "D = .10 # No HS Education\n",
        "E = .30 # No 4-Year College\n",
        "\n",
        "H = .50 # 30k+\n",
        "I = .50 # < 30k\n",
        "J = .2 # Placeholder\n",
        "\n",
        "X = .15 # P(H|D) = P(H AND D) / P(D) <-- No HS + Makes 30k or Greater\n",
        "Y = .30 # P(H|E) = P(H AND E) / P(E) <-- No 4-Year + Makes 30k or Greater\n",
        "Z = .35 # Placeholder\n",
        "\n",
        "# Complements\n",
        "AC = round(1 - A,2)\n",
        "BC = round(1 - B,2)\n",
        "CC = round(1 - C,2)\n",
        "DC = round(1 - D,2)"
      ],
      "metadata": {
        "id": "xJb6sxZQU3gU"
      },
      "execution_count": 69,
      "outputs": []
    },
    {
      "cell_type": "code",
      "source": [
        "def cond_prob(X,AC):\n",
        "  sol_1 = X * AC\n",
        "  sol_2 = AC - sol_1\n",
        "  print('X =', X)\n",
        "  print('AC =', AC)\n",
        "  print('X * AC =', sol_1)\n",
        "  print('AC - (X * AC) =', sol_2)\n",
        "  print('')\n",
        "  print('Solution: ', sol_2)\n",
        "  return"
      ],
      "metadata": {
        "id": "pfkW-QNzV2mv"
      },
      "execution_count": 67,
      "outputs": []
    },
    {
      "cell_type": "code",
      "source": [
        "cond_prob(X,AC)"
      ],
      "metadata": {
        "colab": {
          "base_uri": "https://localhost:8080/"
        },
        "id": "jw0ho_woZ7-x",
        "outputId": "feb29e87-3434-4497-d47d-6280fb8f20a1"
      },
      "execution_count": 68,
      "outputs": [
        {
          "output_type": "stream",
          "name": "stdout",
          "text": [
            "X = 0.15\n",
            "AC = 0.1\n",
            "X * AC = 0.015\n",
            "AC - (X * AC) = 0.085\n",
            "\n",
            "Solution:  0.085\n"
          ]
        }
      ]
    },
    {
      "cell_type": "markdown",
      "source": [
        "Conditional Probability\n",
        "#### Problem 3.1 - SCI-FI vs RPG\n",
        "\n",
        "What is the probability that an American is interested in ***both*** sci-fi and RPGs.\n",
        "\n",
        "\n",
        "*   Both = AND <-- Multiply\n",
        "*   Watch for Subtraction to Avoid Double Counting\n",
        "\n"
      ],
      "metadata": {
        "id": "DGUDRgdgafZ7"
      }
    },
    {
      "cell_type": "code",
      "source": [
        "# Probabilities\n",
        "S = .20 # Likes Sci-Fi\n",
        "R = .10 # Likes RPG\n",
        "N = .75 # != Sci-Fi or RPG\n",
        "\n",
        "# Complements\n",
        "SC = round(1 - S,2)\n",
        "RC = round(1 - R,2)\n",
        "NC = round(1 - N,2)"
      ],
      "metadata": {
        "id": "YaTHFF7AagG7"
      },
      "execution_count": 88,
      "outputs": []
    },
    {
      "cell_type": "code",
      "source": [
        "def cond_prob(S,R,NC):\n",
        "  sol_1 = round(S + R - NC,2)\n",
        "  print('Likes Sci-Fi =', S)\n",
        "  print('Likes RPGs =', R)\n",
        "  print('Likes Sci-Fi OR RPGs =', NC)\n",
        "  print('')\n",
        "  print('Solution: ', sol_1)\n",
        "  return"
      ],
      "metadata": {
        "id": "FBpUui7UhqW9"
      },
      "execution_count": 89,
      "outputs": []
    },
    {
      "cell_type": "code",
      "source": [
        "cond_prob(S,R,NC)"
      ],
      "metadata": {
        "colab": {
          "base_uri": "https://localhost:8080/"
        },
        "id": "zbF8Hwdehq_m",
        "outputId": "f3c74716-c511-43c0-fabc-66487fcfb2ad"
      },
      "execution_count": 90,
      "outputs": [
        {
          "output_type": "stream",
          "name": "stdout",
          "text": [
            "Likes Sci-Fi = 0.2\n",
            "Rikes RPGs = 0.1\n",
            "Likes Sci-Fi OR RPGs = 0.25\n",
            "\n",
            "Solution:  0.05\n"
          ]
        }
      ]
    },
    {
      "cell_type": "markdown",
      "source": [
        "Conditional Probability\n",
        "#### Problem 3.2 - SCI-FI vs RPG\n",
        "\n",
        "What is the probability that a person is interested in science fiction ***GIVEN*** they're interested in RPGs?\n",
        "\n",
        "\n",
        "*   Given = Conditional Probability\n",
        "*   No subtraction when Independent"
      ],
      "metadata": {
        "id": "ebiFKmRTkpsp"
      }
    },
    {
      "cell_type": "code",
      "source": [
        "# Probabilities\n",
        "S = .20 # Likes Sci-Fi\n",
        "R = .10 # Likes RPG\n",
        "N = .75 # != Sci-Fi or RPG\n",
        "\n",
        "# Complements\n",
        "SC = round(1 - S,2)\n",
        "RC = round(1 - R,2)\n",
        "NC = round(1 - N,2)\n",
        "\n",
        "# Previous Section Solution\n",
        "X = 0.05 # Probability of Liking Both"
      ],
      "metadata": {
        "id": "K82rKgZjlSeh"
      },
      "execution_count": 91,
      "outputs": []
    },
    {
      "cell_type": "code",
      "source": [
        "def cond_prob(R,X):\n",
        "  sol_1 = round(X/R,2)\n",
        "  print('Likes Sci-Fi + RPGs =', X)\n",
        "  print('Likes RPGs =', R)\n",
        "  print('')\n",
        "  print('Solution: ', sol_1)\n",
        "  return"
      ],
      "metadata": {
        "id": "MdSs3AIYlUvN"
      },
      "execution_count": 93,
      "outputs": []
    },
    {
      "cell_type": "code",
      "source": [
        "cond_prob(R,X)"
      ],
      "metadata": {
        "colab": {
          "base_uri": "https://localhost:8080/"
        },
        "id": "GFsXd9uolkx6",
        "outputId": "0d370ecc-3812-4f80-d4bb-f2383e068572"
      },
      "execution_count": 94,
      "outputs": [
        {
          "output_type": "stream",
          "name": "stdout",
          "text": [
            "Likes Sci-Fi + RPGs = 0.05\n",
            "Likes RPGs = 0.1\n",
            "\n",
            "Solution:  0.5\n"
          ]
        }
      ]
    },
    {
      "cell_type": "code",
      "source": [],
      "metadata": {
        "id": "nPRS3po4neCg"
      },
      "execution_count": null,
      "outputs": []
    }
  ]
}