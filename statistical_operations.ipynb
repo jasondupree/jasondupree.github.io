{
  "nbformat": 4,
  "nbformat_minor": 0,
  "metadata": {
    "colab": {
      "provenance": [],
      "authorship_tag": "ABX9TyNeuhfRLXyUQPIquXnxLaBE",
      "include_colab_link": true
    },
    "kernelspec": {
      "name": "python3",
      "display_name": "Python 3"
    },
    "language_info": {
      "name": "python"
    }
  },
  "cells": [
    {
      "cell_type": "markdown",
      "metadata": {
        "id": "view-in-github",
        "colab_type": "text"
      },
      "source": [
        "<a href=\"https://colab.research.google.com/github/jasondupree/jasondupree.github.io/blob/main/statistical_operations.ipynb\" target=\"_parent\"><img src=\"https://colab.research.google.com/assets/colab-badge.svg\" alt=\"Open In Colab\"/></a>"
      ]
    },
    {
      "cell_type": "code",
      "execution_count": 13,
      "metadata": {
        "id": "QNuDaDegRg34"
      },
      "outputs": [],
      "source": [
        "import pandas as pd\n",
        "import numpy as np\n",
        "from fractions import Fraction"
      ]
    },
    {
      "cell_type": "markdown",
      "source": [
        "# ***Conversions***"
      ],
      "metadata": {
        "id": "v-ZHHwx7VD_r"
      }
    },
    {
      "cell_type": "markdown",
      "source": [
        "Convert Decimal to Fraction"
      ],
      "metadata": {
        "id": "Nlyx84TbTyG_"
      }
    },
    {
      "cell_type": "code",
      "source": [
        "x = 0.25\n",
        "print(Fraction(x))"
      ],
      "metadata": {
        "colab": {
          "base_uri": "https://localhost:8080/"
        },
        "id": "z6Hbl9Q5RrXZ",
        "outputId": "c82ac3fd-5c7d-46eb-8d7f-dd805cb4a715"
      },
      "execution_count": 16,
      "outputs": [
        {
          "output_type": "stream",
          "name": "stdout",
          "text": [
            "1/4\n"
          ]
        }
      ]
    },
    {
      "cell_type": "markdown",
      "source": [
        "Convert Fraction to Decimal"
      ],
      "metadata": {
        "id": "SUd8NmsyUWvG"
      }
    },
    {
      "cell_type": "code",
      "source": [
        "print(float(x))"
      ],
      "metadata": {
        "colab": {
          "base_uri": "https://localhost:8080/"
        },
        "id": "tiP20QsGUaXq",
        "outputId": "36e938d9-72cc-4ec0-cdd9-5e028ffb0182"
      },
      "execution_count": 17,
      "outputs": [
        {
          "output_type": "stream",
          "name": "stdout",
          "text": [
            "0.25\n"
          ]
        }
      ]
    },
    {
      "cell_type": "markdown",
      "source": [
        "# ***Calculations***"
      ],
      "metadata": {
        "id": "QVVzYi7TU0oo"
      }
    },
    {
      "cell_type": "markdown",
      "source": [
        "Addition Rule - Mutually Exclusive\n",
        "#### MIT Definitions\n",
        "\n",
        "P(A OR B) = P(A) + P(B)\n",
        "\n",
        "\n",
        "*   A occurs or B occurs or A and B occurs.\n",
        "*   Add when using OR; when mutually exclusive, we don't need to subtract intersection.\n",
        "\n"
      ],
      "metadata": {
        "id": "q40q9DJ1py2u"
      }
    },
    {
      "cell_type": "code",
      "source": [
        "# Probabilities\n",
        "A = .20 # Likes Sci-Fi\n",
        "B = .10 # Likes RPG\n",
        "\n",
        "# Complements\n",
        "AC = round(1 - A,2)\n",
        "BC = round(1 - B,2)"
      ],
      "metadata": {
        "id": "gS9sGW4uqhs6"
      },
      "execution_count": 100,
      "outputs": []
    },
    {
      "cell_type": "code",
      "source": [
        "def cond_prob(A,B):\n",
        "  sol_1 = round(A + B,2)\n",
        "  print('Solution: ', sol_1)\n",
        "  return"
      ],
      "metadata": {
        "id": "7ylreHXkq2L6"
      },
      "execution_count": 101,
      "outputs": []
    },
    {
      "cell_type": "code",
      "source": [
        "cond_prob(A,B)"
      ],
      "metadata": {
        "colab": {
          "base_uri": "https://localhost:8080/"
        },
        "id": "9Ba-RfwZq41T",
        "outputId": "973cfba7-a109-460f-ce11-9c276cc53aa5"
      },
      "execution_count": 102,
      "outputs": [
        {
          "output_type": "stream",
          "name": "stdout",
          "text": [
            "Solution:  0.3\n"
          ]
        }
      ]
    },
    {
      "cell_type": "markdown",
      "source": [
        "Addition Rule - Not Mutually Exclusive\n",
        "#### MIT Definitions\n",
        "\n",
        "P(A OR B) = P(A) + P(B) - P(A AND B)\n",
        "\n",
        "\n",
        "*   A occurs or B occurs or A and B occurs.\n",
        "*   Add when using OR; when not mutually exclusive, we subtract intersection.\n",
        "\n"
      ],
      "metadata": {
        "id": "K6Q8n_AQrTTg"
      }
    },
    {
      "cell_type": "code",
      "source": [
        "# Probabilities\n",
        "A = .20 # Likes Sci-Fi\n",
        "B = .10 # Likes RPG\n",
        "\n",
        "# Complements\n",
        "AC = round(1 - A,2)\n",
        "BC = round(1 - B,2)"
      ],
      "metadata": {
        "id": "dXnJOXqvrhRX"
      },
      "execution_count": 103,
      "outputs": []
    },
    {
      "cell_type": "code",
      "source": [
        "def cond_prob(A,B):\n",
        "  sol_1 = round(A + B - (A*B),2)\n",
        "  print('Solution: ', sol_1)\n",
        "  return"
      ],
      "metadata": {
        "id": "cLc-fRxorjB3"
      },
      "execution_count": 104,
      "outputs": []
    },
    {
      "cell_type": "code",
      "source": [
        "cond_prob(A,B)"
      ],
      "metadata": {
        "colab": {
          "base_uri": "https://localhost:8080/"
        },
        "id": "5dYTXBiXrkRS",
        "outputId": "29c7a252-3c1a-45e0-f135-b7d0251a7509"
      },
      "execution_count": 105,
      "outputs": [
        {
          "output_type": "stream",
          "name": "stdout",
          "text": [
            "Solution:  0.28\n"
          ]
        }
      ]
    },
    {
      "cell_type": "markdown",
      "source": [
        "Conditional Probability\n",
        "#### Problem 2.1 - Education vs Salary"
      ],
      "metadata": {
        "id": "1zp77ImaVzhD"
      }
    },
    {
      "cell_type": "code",
      "source": [
        "# Probabilities\n",
        "A = .90 # HS Education\n",
        "B = .35 # 4-Year College\n",
        "C = .13 # Masters+\n",
        "D = .10 # No HS Education\n",
        "E = .30 # No 4-Year College\n",
        "\n",
        "H = .50 # 30k+\n",
        "I = .50 # < 30k\n",
        "J = .2 # Placeholder\n",
        "\n",
        "X = .15 # P(H|D) = P(H AND D) / P(D) <-- No HS + Makes 30k or Greater\n",
        "Y = .30 # P(H|E) = P(H AND E) / P(E) <-- No 4-Year + Makes 30k or Greater\n",
        "Z = .35 # Placeholder\n",
        "\n",
        "# Complements\n",
        "AC = round(1 - A,2)\n",
        "BC = round(1 - B,2)\n",
        "CC = round(1 - C,2)\n",
        "DC = round(1 - D,2)"
      ],
      "metadata": {
        "id": "xJb6sxZQU3gU"
      },
      "execution_count": 69,
      "outputs": []
    },
    {
      "cell_type": "code",
      "source": [
        "def cond_prob(X,AC):\n",
        "  sol_1 = X * AC\n",
        "  sol_2 = AC - sol_1\n",
        "  print('X =', X)\n",
        "  print('AC =', AC)\n",
        "  print('X * AC =', sol_1)\n",
        "  print('AC - (X * AC) =', sol_2)\n",
        "  print('')\n",
        "  print('Solution: ', sol_2)\n",
        "  return"
      ],
      "metadata": {
        "id": "pfkW-QNzV2mv"
      },
      "execution_count": 67,
      "outputs": []
    },
    {
      "cell_type": "code",
      "source": [
        "cond_prob(X,AC)"
      ],
      "metadata": {
        "colab": {
          "base_uri": "https://localhost:8080/"
        },
        "id": "jw0ho_woZ7-x",
        "outputId": "feb29e87-3434-4497-d47d-6280fb8f20a1"
      },
      "execution_count": 68,
      "outputs": [
        {
          "output_type": "stream",
          "name": "stdout",
          "text": [
            "X = 0.15\n",
            "AC = 0.1\n",
            "X * AC = 0.015\n",
            "AC - (X * AC) = 0.085\n",
            "\n",
            "Solution:  0.085\n"
          ]
        }
      ]
    },
    {
      "cell_type": "markdown",
      "source": [
        "Conditional Probability\n",
        "#### Problem 3.1 - SCI-FI vs RPG\n",
        "\n",
        "What is the probability that an American is interested in ***both*** sci-fi and RPGs.\n",
        "\n",
        "\n",
        "*   Both = AND <-- Multiply\n",
        "*   Watch for Subtraction to Avoid Double Counting\n",
        "\n"
      ],
      "metadata": {
        "id": "DGUDRgdgafZ7"
      }
    },
    {
      "cell_type": "code",
      "source": [
        "# Probabilities\n",
        "S = .20 # Likes Sci-Fi\n",
        "R = .10 # Likes RPG\n",
        "N = .75 # != Sci-Fi or RPG\n",
        "\n",
        "# Complements\n",
        "SC = round(1 - S,2)\n",
        "RC = round(1 - R,2)\n",
        "NC = round(1 - N,2)"
      ],
      "metadata": {
        "id": "YaTHFF7AagG7"
      },
      "execution_count": 88,
      "outputs": []
    },
    {
      "cell_type": "code",
      "source": [
        "def cond_prob(S,R,NC):\n",
        "  sol_1 = round(S + R - NC,2)\n",
        "  print('Likes Sci-Fi =', S)\n",
        "  print('Likes RPGs =', R)\n",
        "  print('Likes Sci-Fi OR RPGs =', NC)\n",
        "  print('')\n",
        "  print('Solution: ', sol_1)\n",
        "  return"
      ],
      "metadata": {
        "id": "FBpUui7UhqW9"
      },
      "execution_count": 89,
      "outputs": []
    },
    {
      "cell_type": "code",
      "source": [
        "cond_prob(S,R,NC)"
      ],
      "metadata": {
        "colab": {
          "base_uri": "https://localhost:8080/"
        },
        "id": "zbF8Hwdehq_m",
        "outputId": "f3c74716-c511-43c0-fabc-66487fcfb2ad"
      },
      "execution_count": 90,
      "outputs": [
        {
          "output_type": "stream",
          "name": "stdout",
          "text": [
            "Likes Sci-Fi = 0.2\n",
            "Rikes RPGs = 0.1\n",
            "Likes Sci-Fi OR RPGs = 0.25\n",
            "\n",
            "Solution:  0.05\n"
          ]
        }
      ]
    },
    {
      "cell_type": "markdown",
      "source": [
        "Conditional Probability\n",
        "#### Problem 3.2 - SCI-FI vs RPG\n",
        "\n",
        "What is the probability that a person is interested in science fiction ***GIVEN*** they're interested in RPGs?\n",
        "\n",
        "\n",
        "*   Given = Conditional Probability\n",
        "*   No subtraction when Independent"
      ],
      "metadata": {
        "id": "ebiFKmRTkpsp"
      }
    },
    {
      "cell_type": "code",
      "source": [
        "# Probabilities\n",
        "S = .20 # Likes Sci-Fi\n",
        "R = .10 # Likes RPG\n",
        "N = .75 # != Sci-Fi or RPG\n",
        "\n",
        "# Complements\n",
        "SC = round(1 - S,2)\n",
        "RC = round(1 - R,2)\n",
        "NC = round(1 - N,2)\n",
        "\n",
        "# Previous Section Solution\n",
        "X = 0.05 # Probability of Liking Both"
      ],
      "metadata": {
        "id": "K82rKgZjlSeh"
      },
      "execution_count": 91,
      "outputs": []
    },
    {
      "cell_type": "code",
      "source": [
        "def cond_prob(R,X):\n",
        "  sol_1 = round(X/R,2)\n",
        "  print('Likes Sci-Fi + RPGs =', X)\n",
        "  print('Likes RPGs =', R)\n",
        "  print('')\n",
        "  print('Solution: ', sol_1)\n",
        "  return"
      ],
      "metadata": {
        "id": "MdSs3AIYlUvN"
      },
      "execution_count": 93,
      "outputs": []
    },
    {
      "cell_type": "code",
      "source": [
        "cond_prob(R,X)"
      ],
      "metadata": {
        "colab": {
          "base_uri": "https://localhost:8080/"
        },
        "id": "GFsXd9uolkx6",
        "outputId": "4848516e-b061-45ab-9d72-11b3e80867b5"
      },
      "execution_count": 96,
      "outputs": [
        {
          "output_type": "stream",
          "name": "stdout",
          "text": [
            "Likes Sci-Fi + RPGs = 0.05\n",
            "Likes RPGs = 0.1\n",
            "\n",
            "Solution:  0.5\n"
          ]
        }
      ]
    },
    {
      "cell_type": "code",
      "source": [],
      "metadata": {
        "id": "nPRS3po4neCg"
      },
      "execution_count": null,
      "outputs": []
    }
  ]
}